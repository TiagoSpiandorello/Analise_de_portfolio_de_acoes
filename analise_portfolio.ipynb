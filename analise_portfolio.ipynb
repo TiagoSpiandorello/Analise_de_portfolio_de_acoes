{
  "nbformat": 4,
  "nbformat_minor": 0,
  "metadata": {
    "language_info": {
      "codemirror_mode": {
        "name": "ipython",
        "version": 3
      },
      "file_extension": ".py",
      "mimetype": "text/x-python",
      "name": "python",
      "nbconvert_exporter": "python",
      "pygments_lexer": "ipython3",
      "version": "3.8.2-final"
    },
    "orig_nbformat": 2,
    "kernelspec": {
      "name": "python38264bit697db9e16c98461a9db76b9b03748f0d",
      "display_name": "Python 3.8.2 64-bit"
    },
    "colab": {
      "name": "analise_portfolio.ipynb",
      "provenance": [],
      "collapsed_sections": [
        "EYi7ifK8DLGB"
      ],
      "include_colab_link": true
    }
  },
  "cells": [
    {
      "cell_type": "markdown",
      "metadata": {
        "id": "view-in-github",
        "colab_type": "text"
      },
      "source": [
        "<a href=\"https://colab.research.google.com/github/TiagoSpiandorello/Analise_de_portfolio_de_acoes/blob/main/analise_portfolio.ipynb\" target=\"_parent\"><img src=\"https://colab.research.google.com/assets/colab-badge.svg\" alt=\"Open In Colab\"/></a>"
      ]
    },
    {
      "cell_type": "code",
      "metadata": {
        "id": "oTnah-bnvVhz"
      },
      "source": [
        "# Importação das bibliotecas necessárias para o projeto\n",
        "\n",
        "import numpy as np\n",
        "import pandas as pd\n",
        "import matplotlib.pyplot as plt\n",
        "from pandas_datareader import data as wb\n",
        "from scipy.stats import norm\n",
        "%matplotlib inline"
      ],
      "execution_count": 1,
      "outputs": []
    },
    {
      "cell_type": "markdown",
      "metadata": {
        "id": "jZQ2TKlO9MPS"
      },
      "source": [
        "# 1- Extração dos dados de um portfólio de ações do site Yahoo Finance"
      ]
    },
    {
      "cell_type": "code",
      "metadata": {
        "tags": [],
        "id": "RXR1l5OEvViB",
        "colab": {
          "base_uri": "https://localhost:8080/",
          "height": 394
        },
        "outputId": "8f2c3504-4b58-4a98-fe9b-3d7752e695c3"
      },
      "source": [
        "# PETR4 = Petrobras\n",
        "# BBDC4 = Bradesco\n",
        "# ABEV3 = AMBEV\n",
        "# WEGE3 = Weg\n",
        "# VALE3 - Vale\n",
        "\n",
        "tickers = ['PETR4.SA','BBDC4.SA','ABEV3.SA','WEGE3.SA','VALE3.SA']\n",
        "bolsas = pd.DataFrame()\n",
        "for t in tickers:\n",
        "    bolsas[t] = wb.DataReader(t, data_source='yahoo',start='2010-1-1')['Adj Close']\n",
        "\n",
        "bolsas.tail(10)"
      ],
      "execution_count": 2,
      "outputs": [
        {
          "output_type": "execute_result",
          "data": {
            "text/html": [
              "<div>\n",
              "<style scoped>\n",
              "    .dataframe tbody tr th:only-of-type {\n",
              "        vertical-align: middle;\n",
              "    }\n",
              "\n",
              "    .dataframe tbody tr th {\n",
              "        vertical-align: top;\n",
              "    }\n",
              "\n",
              "    .dataframe thead th {\n",
              "        text-align: right;\n",
              "    }\n",
              "</style>\n",
              "<table border=\"1\" class=\"dataframe\">\n",
              "  <thead>\n",
              "    <tr style=\"text-align: right;\">\n",
              "      <th></th>\n",
              "      <th>PETR4.SA</th>\n",
              "      <th>BBDC4.SA</th>\n",
              "      <th>ABEV3.SA</th>\n",
              "      <th>WEGE3.SA</th>\n",
              "      <th>VALE3.SA</th>\n",
              "    </tr>\n",
              "    <tr>\n",
              "      <th>Date</th>\n",
              "      <th></th>\n",
              "      <th></th>\n",
              "      <th></th>\n",
              "      <th></th>\n",
              "      <th></th>\n",
              "    </tr>\n",
              "  </thead>\n",
              "  <tbody>\n",
              "    <tr>\n",
              "      <th>2021-06-09</th>\n",
              "      <td>28.660000</td>\n",
              "      <td>28.100000</td>\n",
              "      <td>19.309999</td>\n",
              "      <td>34.250000</td>\n",
              "      <td>112.199997</td>\n",
              "    </tr>\n",
              "    <tr>\n",
              "      <th>2021-06-10</th>\n",
              "      <td>28.680000</td>\n",
              "      <td>28.150000</td>\n",
              "      <td>19.320000</td>\n",
              "      <td>33.930000</td>\n",
              "      <td>111.830002</td>\n",
              "    </tr>\n",
              "    <tr>\n",
              "      <th>2021-06-11</th>\n",
              "      <td>28.570000</td>\n",
              "      <td>28.040001</td>\n",
              "      <td>18.940001</td>\n",
              "      <td>34.209999</td>\n",
              "      <td>114.339996</td>\n",
              "    </tr>\n",
              "    <tr>\n",
              "      <th>2021-06-14</th>\n",
              "      <td>28.750000</td>\n",
              "      <td>27.920000</td>\n",
              "      <td>19.480000</td>\n",
              "      <td>34.880001</td>\n",
              "      <td>113.720001</td>\n",
              "    </tr>\n",
              "    <tr>\n",
              "      <th>2021-06-15</th>\n",
              "      <td>29.030001</td>\n",
              "      <td>27.940001</td>\n",
              "      <td>19.129999</td>\n",
              "      <td>35.459999</td>\n",
              "      <td>111.500000</td>\n",
              "    </tr>\n",
              "    <tr>\n",
              "      <th>2021-06-16</th>\n",
              "      <td>29.139999</td>\n",
              "      <td>28.080000</td>\n",
              "      <td>19.090000</td>\n",
              "      <td>34.830002</td>\n",
              "      <td>108.150002</td>\n",
              "    </tr>\n",
              "    <tr>\n",
              "      <th>2021-06-17</th>\n",
              "      <td>28.129999</td>\n",
              "      <td>27.959999</td>\n",
              "      <td>19.010000</td>\n",
              "      <td>34.419998</td>\n",
              "      <td>105.900002</td>\n",
              "    </tr>\n",
              "    <tr>\n",
              "      <th>2021-06-18</th>\n",
              "      <td>28.320000</td>\n",
              "      <td>27.600000</td>\n",
              "      <td>18.760000</td>\n",
              "      <td>35.189999</td>\n",
              "      <td>109.089996</td>\n",
              "    </tr>\n",
              "    <tr>\n",
              "      <th>2021-06-21</th>\n",
              "      <td>28.950001</td>\n",
              "      <td>27.670000</td>\n",
              "      <td>18.730000</td>\n",
              "      <td>35.250000</td>\n",
              "      <td>110.110001</td>\n",
              "    </tr>\n",
              "    <tr>\n",
              "      <th>2021-06-22</th>\n",
              "      <td>28.860001</td>\n",
              "      <td>27.049999</td>\n",
              "      <td>18.180000</td>\n",
              "      <td>34.430000</td>\n",
              "      <td>111.599998</td>\n",
              "    </tr>\n",
              "  </tbody>\n",
              "</table>\n",
              "</div>"
            ],
            "text/plain": [
              "             PETR4.SA   BBDC4.SA   ABEV3.SA   WEGE3.SA    VALE3.SA\n",
              "Date                                                              \n",
              "2021-06-09  28.660000  28.100000  19.309999  34.250000  112.199997\n",
              "2021-06-10  28.680000  28.150000  19.320000  33.930000  111.830002\n",
              "2021-06-11  28.570000  28.040001  18.940001  34.209999  114.339996\n",
              "2021-06-14  28.750000  27.920000  19.480000  34.880001  113.720001\n",
              "2021-06-15  29.030001  27.940001  19.129999  35.459999  111.500000\n",
              "2021-06-16  29.139999  28.080000  19.090000  34.830002  108.150002\n",
              "2021-06-17  28.129999  27.959999  19.010000  34.419998  105.900002\n",
              "2021-06-18  28.320000  27.600000  18.760000  35.189999  109.089996\n",
              "2021-06-21  28.950001  27.670000  18.730000  35.250000  110.110001\n",
              "2021-06-22  28.860001  27.049999  18.180000  34.430000  111.599998"
            ]
          },
          "metadata": {
            "tags": []
          },
          "execution_count": 2
        }
      ]
    },
    {
      "cell_type": "markdown",
      "metadata": {
        "id": "HHfiTDbd9pSV"
      },
      "source": [
        ""
      ]
    },
    {
      "cell_type": "markdown",
      "metadata": {
        "id": "OFVEtaQd9ilj"
      },
      "source": [
        "# 2- Cálculo da taxa de retorno histórica do portfólio."
      ]
    },
    {
      "cell_type": "markdown",
      "metadata": {
        "id": "6tbh3l0Tf-bL"
      },
      "source": [
        "## Normalização dos dados para base 100\n",
        "\n",
        "### (P1 / P0) * 100\n",
        "\n",
        "#### Essa manipulação permite comparar o comportamento das ações em uma situação hipotética em que todas iniciam com valor 100. "
      ]
    },
    {
      "cell_type": "code",
      "metadata": {
        "colab": {
          "base_uri": "https://localhost:8080/"
        },
        "id": "a9xKoN_sfljA",
        "outputId": "f145daa3-304a-4bfb-d218-d0ca35929218"
      },
      "source": [
        "bolsas.iloc[0]"
      ],
      "execution_count": 3,
      "outputs": [
        {
          "output_type": "execute_result",
          "data": {
            "text/plain": [
              "PETR4.SA    28.142263\n",
              "BBDC4.SA    10.765183\n",
              "ABEV3.SA     4.187932\n",
              "WEGE3.SA     2.144630\n",
              "VALE3.SA    32.089706\n",
              "Name: 2010-01-04 00:00:00, dtype: float64"
            ]
          },
          "metadata": {
            "tags": []
          },
          "execution_count": 3
        }
      ]
    },
    {
      "cell_type": "code",
      "metadata": {
        "colab": {
          "base_uri": "https://localhost:8080/",
          "height": 384
        },
        "id": "QhG53gfZf8Zx",
        "outputId": "e286569a-2e22-4315-f684-9324fcd09380"
      },
      "source": [
        "(bolsas / bolsas.iloc[0] * 100).plot(figsize= (15,6));\n",
        "plt.show"
      ],
      "execution_count": 4,
      "outputs": [
        {
          "output_type": "execute_result",
          "data": {
            "text/plain": [
              "<function matplotlib.pyplot.show>"
            ]
          },
          "metadata": {
            "tags": []
          },
          "execution_count": 4
        },
        {
          "output_type": "display_data",
          "data": {
            "image/png": "[encoded data removed]",
            "text/plain": [
              "<Figure size 1080x432 with 1 Axes>"
            ]
          },
          "metadata": {
            "tags": [],
            "needs_background": "light"
          }
        }
      ]
    },
    {
      "cell_type": "markdown",
      "metadata": {
        "id": "qmBuyzkF7K9j"
      },
      "source": [
        "## Taxa de retorno simples = (preço final - preço inicial) / preço inicial\n"
      ]
    },
    {
      "cell_type": "code",
      "metadata": {
        "colab": {
          "base_uri": "https://localhost:8080/",
          "height": 238
        },
        "id": "5wHyxG2Df8la",
        "outputId": "a5ca7c82-3848-4a5d-f898-96ee84c76885"
      },
      "source": [
        "retorno_simples = (bolsas / bolsas.shift(1)) - 1\n",
        "retorno_simples.head()"
      ],
      "execution_count": 5,
      "outputs": [
        {
          "output_type": "execute_result",
          "data": {
            "text/html": [
              "<div>\n",
              "<style scoped>\n",
              "    .dataframe tbody tr th:only-of-type {\n",
              "        vertical-align: middle;\n",
              "    }\n",
              "\n",
              "    .dataframe tbody tr th {\n",
              "        vertical-align: top;\n",
              "    }\n",
              "\n",
              "    .dataframe thead th {\n",
              "        text-align: right;\n",
              "    }\n",
              "</style>\n",
              "<table border=\"1\" class=\"dataframe\">\n",
              "  <thead>\n",
              "    <tr style=\"text-align: right;\">\n",
              "      <th></th>\n",
              "      <th>PETR4.SA</th>\n",
              "      <th>BBDC4.SA</th>\n",
              "      <th>ABEV3.SA</th>\n",
              "      <th>WEGE3.SA</th>\n",
              "      <th>VALE3.SA</th>\n",
              "    </tr>\n",
              "    <tr>\n",
              "      <th>Date</th>\n",
              "      <th></th>\n",
              "      <th></th>\n",
              "      <th></th>\n",
              "      <th></th>\n",
              "      <th></th>\n",
              "    </tr>\n",
              "  </thead>\n",
              "  <tbody>\n",
              "    <tr>\n",
              "      <th>2010-01-04</th>\n",
              "      <td>NaN</td>\n",
              "      <td>NaN</td>\n",
              "      <td>NaN</td>\n",
              "      <td>NaN</td>\n",
              "      <td>NaN</td>\n",
              "    </tr>\n",
              "    <tr>\n",
              "      <th>2010-01-05</th>\n",
              "      <td>-0.008574</td>\n",
              "      <td>-0.004956</td>\n",
              "      <td>0.005882</td>\n",
              "      <td>-0.002182</td>\n",
              "      <td>0.009322</td>\n",
              "    </tr>\n",
              "    <tr>\n",
              "      <th>2010-01-06</th>\n",
              "      <td>0.013513</td>\n",
              "      <td>-0.008000</td>\n",
              "      <td>0.010202</td>\n",
              "      <td>0.005468</td>\n",
              "      <td>0.021166</td>\n",
              "    </tr>\n",
              "    <tr>\n",
              "      <th>2010-01-07</th>\n",
              "      <td>-0.009333</td>\n",
              "      <td>-0.002688</td>\n",
              "      <td>0.004695</td>\n",
              "      <td>0.016857</td>\n",
              "      <td>0.004145</td>\n",
              "    </tr>\n",
              "    <tr>\n",
              "      <th>2010-01-08</th>\n",
              "      <td>-0.005384</td>\n",
              "      <td>-0.001079</td>\n",
              "      <td>-0.001921</td>\n",
              "      <td>0.036363</td>\n",
              "      <td>0.009758</td>\n",
              "    </tr>\n",
              "  </tbody>\n",
              "</table>\n",
              "</div>"
            ],
            "text/plain": [
              "            PETR4.SA  BBDC4.SA  ABEV3.SA  WEGE3.SA  VALE3.SA\n",
              "Date                                                        \n",
              "2010-01-04       NaN       NaN       NaN       NaN       NaN\n",
              "2010-01-05 -0.008574 -0.004956  0.005882 -0.002182  0.009322\n",
              "2010-01-06  0.013513 -0.008000  0.010202  0.005468  0.021166\n",
              "2010-01-07 -0.009333 -0.002688  0.004695  0.016857  0.004145\n",
              "2010-01-08 -0.005384 -0.001079 -0.001921  0.036363  0.009758"
            ]
          },
          "metadata": {
            "tags": []
          },
          "execution_count": 5
        }
      ]
    },
    {
      "cell_type": "code",
      "metadata": {
        "colab": {
          "base_uri": "https://localhost:8080/"
        },
        "id": "jK6L76AJf8vz",
        "outputId": "5e67af8c-6040-4a57-88aa-865f53600c5a"
      },
      "source": [
        "# Peso é o percentual que cada ação representa no portfólio. \n",
        "\n",
        "# No primeiro cenário, as ações estão distribuídas igualmente, cada uma representando 20% do total de ações.\n",
        "\n",
        "pesos = np.array([0.2,0.2,0.2,0.2,0.2])\n",
        "np.dot(retorno_simples, pesos)"
      ],
      "execution_count": 6,
      "outputs": [
        {
          "output_type": "execute_result",
          "data": {
            "text/plain": [
              "array([        nan, -0.0001016 ,  0.00846972, ...,  0.00664427,\n",
              "        0.0068476 , -0.01292218])"
            ]
          },
          "metadata": {
            "tags": []
          },
          "execution_count": 6
        }
      ]
    },
    {
      "cell_type": "code",
      "metadata": {
        "colab": {
          "base_uri": "https://localhost:8080/"
        },
        "id": "vKmz5lrLf85B",
        "outputId": "9e9caf29-ec9e-46b0-81f5-b2a0010a68e2"
      },
      "source": [
        "# Retorno anual médio\n",
        "\n",
        "retorno_anual = retorno_simples.mean() * 250\n",
        "retorno_anual"
      ],
      "execution_count": 7,
      "outputs": [
        {
          "output_type": "execute_result",
          "data": {
            "text/plain": [
              "PETR4.SA    0.113507\n",
              "BBDC4.SA    0.140304\n",
              "ABEV3.SA    0.164221\n",
              "WEGE3.SA    0.294446\n",
              "VALE3.SA    0.197952\n",
              "dtype: float64"
            ]
          },
          "metadata": {
            "tags": []
          },
          "execution_count": 7
        }
      ]
    },
    {
      "cell_type": "code",
      "metadata": {
        "colab": {
          "base_uri": "https://localhost:8080/"
        },
        "id": "3OrMe-VkksXA",
        "outputId": "7f1ee508-be5d-4f97-bd77-5e8c9041189e"
      },
      "source": [
        "np.dot(retorno_anual, pesos)"
      ],
      "execution_count": 8,
      "outputs": [
        {
          "output_type": "execute_result",
          "data": {
            "text/plain": [
              "0.18208616155271604"
            ]
          },
          "metadata": {
            "tags": []
          },
          "execution_count": 8
        }
      ]
    },
    {
      "cell_type": "code",
      "metadata": {
        "colab": {
          "base_uri": "https://localhost:8080/"
        },
        "id": "KA6PI8KUkxdX",
        "outputId": "4f32be01-530e-4e39-d542-49ce78848284"
      },
      "source": [
        "pfolio1 = str(round(np.dot(retorno_anual, pesos), 5) * 100) + ' %'\n",
        "print('Esta carteira de ações possui um retorno de ' + pfolio1)"
      ],
      "execution_count": 9,
      "outputs": [
        {
          "output_type": "stream",
          "text": [
            "Esta carteira de ações possui um retorno de 18.209 %\n"
          ],
          "name": "stdout"
        }
      ]
    },
    {
      "cell_type": "code",
      "metadata": {
        "colab": {
          "base_uri": "https://localhost:8080/"
        },
        "id": "4heZ5dr5mOQU",
        "outputId": "33148277-2388-4d9d-f987-7322ab6feeb1"
      },
      "source": [
        "# No segundo cenário, as ações não estão distribuídas igualmente, de forma que a WEGE3 representa 40%, a PETR4 10% e as restantes 20% cada do total de ações.\n",
        " \n",
        "pesos2 = np.array([0.1,0.2,0.2,0.4,0.2])\n",
        "pfolio2 = str(round(np.dot(retorno_anual, pesos2), 5) * 100) + ' %'\n",
        "print('Esta carteira de ações possui um retorno de ' + pfolio2)"
      ],
      "execution_count": 10,
      "outputs": [
        {
          "output_type": "stream",
          "text": [
            "Esta carteira de ações possui um retorno de 22.962 %\n"
          ],
          "name": "stdout"
        }
      ]
    },
    {
      "cell_type": "code",
      "metadata": {
        "colab": {
          "base_uri": "https://localhost:8080/"
        },
        "id": "mIwaAlPImOmn",
        "outputId": "47ea3387-459c-4a54-c693-e643ab735874"
      },
      "source": [
        "if (pfolio1 > pfolio2):\n",
        "  print('O primeiro portfólio possui rendimento superior ao segundo.')\n",
        "elif (pfolio1 < pfolio2):\n",
        "  print('O segundo portfólio possui rendimento superior ao primeiro.')\n",
        "else:\n",
        "  print('Ambos portfólios possuem o mesmo rendimento.')"
      ],
      "execution_count": 11,
      "outputs": [
        {
          "output_type": "stream",
          "text": [
            "O segundo portfólio possui rendimento superior ao primeiro.\n"
          ],
          "name": "stdout"
        }
      ]
    },
    {
      "cell_type": "code",
      "metadata": {
        "id": "77jP9NHJvViW",
        "colab": {
          "base_uri": "https://localhost:8080/",
          "height": 455
        },
        "outputId": "4e2bac80-73a1-4d09-b07f-4043754914c1"
      },
      "source": [
        "# Cálculo da taxa de retorno logarítmica das ações\n",
        "\n",
        "retorno = np.log(bolsas / bolsas.shift(1))\n",
        "retorno"
      ],
      "execution_count": 12,
      "outputs": [
        {
          "output_type": "execute_result",
          "data": {
            "text/html": [
              "<div>\n",
              "<style scoped>\n",
              "    .dataframe tbody tr th:only-of-type {\n",
              "        vertical-align: middle;\n",
              "    }\n",
              "\n",
              "    .dataframe tbody tr th {\n",
              "        vertical-align: top;\n",
              "    }\n",
              "\n",
              "    .dataframe thead th {\n",
              "        text-align: right;\n",
              "    }\n",
              "</style>\n",
              "<table border=\"1\" class=\"dataframe\">\n",
              "  <thead>\n",
              "    <tr style=\"text-align: right;\">\n",
              "      <th></th>\n",
              "      <th>PETR4.SA</th>\n",
              "      <th>BBDC4.SA</th>\n",
              "      <th>ABEV3.SA</th>\n",
              "      <th>WEGE3.SA</th>\n",
              "      <th>VALE3.SA</th>\n",
              "    </tr>\n",
              "    <tr>\n",
              "      <th>Date</th>\n",
              "      <th></th>\n",
              "      <th></th>\n",
              "      <th></th>\n",
              "      <th></th>\n",
              "      <th></th>\n",
              "    </tr>\n",
              "  </thead>\n",
              "  <tbody>\n",
              "    <tr>\n",
              "      <th>2010-01-04</th>\n",
              "      <td>NaN</td>\n",
              "      <td>NaN</td>\n",
              "      <td>NaN</td>\n",
              "      <td>NaN</td>\n",
              "      <td>NaN</td>\n",
              "    </tr>\n",
              "    <tr>\n",
              "      <th>2010-01-05</th>\n",
              "      <td>-0.008611</td>\n",
              "      <td>-0.004968</td>\n",
              "      <td>0.005865</td>\n",
              "      <td>-0.002185</td>\n",
              "      <td>0.009279</td>\n",
              "    </tr>\n",
              "    <tr>\n",
              "      <th>2010-01-06</th>\n",
              "      <td>0.013423</td>\n",
              "      <td>-0.008032</td>\n",
              "      <td>0.010150</td>\n",
              "      <td>0.005453</td>\n",
              "      <td>0.020945</td>\n",
              "    </tr>\n",
              "    <tr>\n",
              "      <th>2010-01-07</th>\n",
              "      <td>-0.009377</td>\n",
              "      <td>-0.002691</td>\n",
              "      <td>0.004684</td>\n",
              "      <td>0.016717</td>\n",
              "      <td>0.004137</td>\n",
              "    </tr>\n",
              "    <tr>\n",
              "      <th>2010-01-08</th>\n",
              "      <td>-0.005398</td>\n",
              "      <td>-0.001079</td>\n",
              "      <td>-0.001923</td>\n",
              "      <td>0.035718</td>\n",
              "      <td>0.009711</td>\n",
              "    </tr>\n",
              "    <tr>\n",
              "      <th>...</th>\n",
              "      <td>...</td>\n",
              "      <td>...</td>\n",
              "      <td>...</td>\n",
              "      <td>...</td>\n",
              "      <td>...</td>\n",
              "    </tr>\n",
              "    <tr>\n",
              "      <th>2021-06-16</th>\n",
              "      <td>0.003782</td>\n",
              "      <td>0.004998</td>\n",
              "      <td>-0.002093</td>\n",
              "      <td>-0.017926</td>\n",
              "      <td>-0.030505</td>\n",
              "    </tr>\n",
              "    <tr>\n",
              "      <th>2021-06-17</th>\n",
              "      <td>-0.035275</td>\n",
              "      <td>-0.004283</td>\n",
              "      <td>-0.004199</td>\n",
              "      <td>-0.011841</td>\n",
              "      <td>-0.021024</td>\n",
              "    </tr>\n",
              "    <tr>\n",
              "      <th>2021-06-18</th>\n",
              "      <td>0.006732</td>\n",
              "      <td>-0.012959</td>\n",
              "      <td>-0.013238</td>\n",
              "      <td>0.022124</td>\n",
              "      <td>0.029678</td>\n",
              "    </tr>\n",
              "    <tr>\n",
              "      <th>2021-06-21</th>\n",
              "      <td>0.022002</td>\n",
              "      <td>0.002533</td>\n",
              "      <td>-0.001600</td>\n",
              "      <td>0.001704</td>\n",
              "      <td>0.009307</td>\n",
              "    </tr>\n",
              "    <tr>\n",
              "      <th>2021-06-22</th>\n",
              "      <td>-0.003114</td>\n",
              "      <td>-0.022662</td>\n",
              "      <td>-0.029804</td>\n",
              "      <td>-0.023537</td>\n",
              "      <td>0.013441</td>\n",
              "    </tr>\n",
              "  </tbody>\n",
              "</table>\n",
              "<p>2840 rows × 5 columns</p>\n",
              "</div>"
            ],
            "text/plain": [
              "            PETR4.SA  BBDC4.SA  ABEV3.SA  WEGE3.SA  VALE3.SA\n",
              "Date                                                        \n",
              "2010-01-04       NaN       NaN       NaN       NaN       NaN\n",
              "2010-01-05 -0.008611 -0.004968  0.005865 -0.002185  0.009279\n",
              "2010-01-06  0.013423 -0.008032  0.010150  0.005453  0.020945\n",
              "2010-01-07 -0.009377 -0.002691  0.004684  0.016717  0.004137\n",
              "2010-01-08 -0.005398 -0.001079 -0.001923  0.035718  0.009711\n",
              "...              ...       ...       ...       ...       ...\n",
              "2021-06-16  0.003782  0.004998 -0.002093 -0.017926 -0.030505\n",
              "2021-06-17 -0.035275 -0.004283 -0.004199 -0.011841 -0.021024\n",
              "2021-06-18  0.006732 -0.012959 -0.013238  0.022124  0.029678\n",
              "2021-06-21  0.022002  0.002533 -0.001600  0.001704  0.009307\n",
              "2021-06-22 -0.003114 -0.022662 -0.029804 -0.023537  0.013441\n",
              "\n",
              "[2840 rows x 5 columns]"
            ]
          },
          "metadata": {
            "tags": []
          },
          "execution_count": 12
        }
      ]
    },
    {
      "cell_type": "markdown",
      "metadata": {
        "id": "Ov7w9aEsjMuj"
      },
      "source": [
        "## Taxa de retorno logarítmica = log preço final / log preço inicial\n"
      ]
    },
    {
      "cell_type": "code",
      "metadata": {
        "id": "Q31RHe1-YeUP"
      },
      "source": [
        "acao1 = retorno.columns[0]\n",
        "acao2 = retorno.columns[1]\n",
        "acao3 = retorno.columns[2]\n",
        "acao4 = retorno.columns[3]\n",
        "acao5 = retorno.columns[4]"
      ],
      "execution_count": 13,
      "outputs": []
    },
    {
      "cell_type": "code",
      "metadata": {
        "id": "nQrEprs0vVid",
        "colab": {
          "base_uri": "https://localhost:8080/"
        },
        "outputId": "1cbebde3-0339-4f1f-d67d-7cbc2d884d1c"
      },
      "source": [
        "media1 = retorno[acao1].mean()\n",
        "media2 = retorno[acao2].mean()\n",
        "media3 = retorno[acao3].mean()\n",
        "media4 = retorno[acao4].mean()\n",
        "media5 = retorno[acao5].mean()\n",
        "\n",
        "std1 = retorno[acao1].std()\n",
        "std2 = retorno[acao1].std()\n",
        "std3 = retorno[acao1].std()\n",
        "std4 = retorno[acao1].std()\n",
        "std5 = retorno[acao1].std()\n",
        "\n",
        "LOGN_var1 = retorno[acao1].var()\n",
        "LOGN_var2 = retorno[acao2].var()\n",
        "LOGN_var3 = retorno[acao2].var()\n",
        "LOGN_var4 = retorno[acao4].var()\n",
        "LOGN_var5 = retorno[acao5].var()\n",
        "\n",
        "print(str(acao1) + \"= Retorno Médio: \" + str(media1) + \" - Desvio Padrão: \" + str(std1) + \" - Variância: \" + str(LOGN_var1))\n",
        "print(str(acao2) + \"= Retorno Médio: \" + str(media2) + \" - Desvio Padrão: \" + str(std2) + \" - Variância: \" + str(LOGN_var2))\n",
        "print(str(acao3) + \"= Retorno Médio: \" + str(media3) + \" - Desvio Padrão: \" + str(std3) + \" - Variância: \" + str(LOGN_var3))\n",
        "print(str(acao4) + \"= Retorno Médio: \" + str(media4) + \" - Desvio Padrão: \" + str(std4) + \" - Variância: \" + str(LOGN_var4))\n",
        "print(str(acao5) + \"= Retorno Médio: \" + str(media5) + \" - Desvio Padrão: \" + str(std5) + \" - Variância: \" + str(LOGN_var5))"
      ],
      "execution_count": 14,
      "outputs": [
        {
          "output_type": "stream",
          "text": [
            "PETR4.SA= Retorno Médio: 8.87076155439423e-06 - Desvio Padrão: 0.0299686701054461 - Variância: 0.0008981211878890587\n",
            "BBDC4.SA= Retorno Médio: 0.00032454026248368345 - Desvio Padrão: 0.0299686701054461 - Variância: 0.00047374386570777586\n",
            "ABEV3.SA= Retorno Médio: 0.0005171240436534779 - Desvio Padrão: 0.0299686701054461 - Variância: 0.00047374386570777586\n",
            "WEGE3.SA= Retorno Médio: 0.0009777954433716255 - Desvio Padrão: 0.0299686701054461 - Variância: 0.00040019081613480896\n",
            "VALE3.SA= Retorno Médio: 0.0004390228002152139 - Desvio Padrão: 0.0299686701054461 - Variância: 0.0007066702030997569\n"
          ],
          "name": "stdout"
        }
      ]
    },
    {
      "cell_type": "markdown",
      "metadata": {
        "id": "Tynig1xrvKq6"
      },
      "source": [
        "## Índices de ações\n",
        "\n",
        "### São uma excelente base comparativa para entender como suas ações estão performando.\n",
        "\n",
        "### Indicam o que esperar se você investir em um portfólio diversificado"
      ]
    },
    {
      "cell_type": "code",
      "metadata": {
        "id": "inhoVlpVvsKy"
      },
      "source": [
        "# ^BVSP = IBOVESPA - Brasil\n",
        "# ^GSPC = S&P500 - EUA\n",
        "# ^IXIC = NASDAQ - EUA\n",
        "# ^GDAXI = DAX - Alemanha\n",
        "\n",
        "tickers = ['^GSPC','^IXIC','^GDAXI','^BVSP']\n",
        "ind_data = pd.DataFrame()\n",
        "for t in tickers:\n",
        "    ind_data[t] = wb.DataReader(t, data_source='yahoo',start='2015-1-1')['Adj Close']"
      ],
      "execution_count": 15,
      "outputs": []
    },
    {
      "cell_type": "code",
      "metadata": {
        "colab": {
          "base_uri": "https://localhost:8080/",
          "height": 238
        },
        "id": "hmU-Qt13vsVW",
        "outputId": "5b98a19b-3fb4-4235-f757-6896aa6a2e66"
      },
      "source": [
        "ind_data.head()"
      ],
      "execution_count": 16,
      "outputs": [
        {
          "output_type": "execute_result",
          "data": {
            "text/html": [
              "<div>\n",
              "<style scoped>\n",
              "    .dataframe tbody tr th:only-of-type {\n",
              "        vertical-align: middle;\n",
              "    }\n",
              "\n",
              "    .dataframe tbody tr th {\n",
              "        vertical-align: top;\n",
              "    }\n",
              "\n",
              "    .dataframe thead th {\n",
              "        text-align: right;\n",
              "    }\n",
              "</style>\n",
              "<table border=\"1\" class=\"dataframe\">\n",
              "  <thead>\n",
              "    <tr style=\"text-align: right;\">\n",
              "      <th></th>\n",
              "      <th>^GSPC</th>\n",
              "      <th>^IXIC</th>\n",
              "      <th>^GDAXI</th>\n",
              "      <th>^BVSP</th>\n",
              "    </tr>\n",
              "    <tr>\n",
              "      <th>Date</th>\n",
              "      <th></th>\n",
              "      <th></th>\n",
              "      <th></th>\n",
              "      <th></th>\n",
              "    </tr>\n",
              "  </thead>\n",
              "  <tbody>\n",
              "    <tr>\n",
              "      <th>2015-01-02</th>\n",
              "      <td>2058.199951</td>\n",
              "      <td>4726.810059</td>\n",
              "      <td>9764.730469</td>\n",
              "      <td>48512.0</td>\n",
              "    </tr>\n",
              "    <tr>\n",
              "      <th>2015-01-05</th>\n",
              "      <td>2020.579956</td>\n",
              "      <td>4652.569824</td>\n",
              "      <td>9473.160156</td>\n",
              "      <td>47517.0</td>\n",
              "    </tr>\n",
              "    <tr>\n",
              "      <th>2015-01-06</th>\n",
              "      <td>2002.609985</td>\n",
              "      <td>4592.740234</td>\n",
              "      <td>9469.660156</td>\n",
              "      <td>48001.0</td>\n",
              "    </tr>\n",
              "    <tr>\n",
              "      <th>2015-01-07</th>\n",
              "      <td>2025.900024</td>\n",
              "      <td>4650.470215</td>\n",
              "      <td>9518.179688</td>\n",
              "      <td>49463.0</td>\n",
              "    </tr>\n",
              "    <tr>\n",
              "      <th>2015-01-08</th>\n",
              "      <td>2062.139893</td>\n",
              "      <td>4736.189941</td>\n",
              "      <td>9837.610352</td>\n",
              "      <td>49943.0</td>\n",
              "    </tr>\n",
              "  </tbody>\n",
              "</table>\n",
              "</div>"
            ],
            "text/plain": [
              "                  ^GSPC        ^IXIC       ^GDAXI    ^BVSP\n",
              "Date                                                      \n",
              "2015-01-02  2058.199951  4726.810059  9764.730469  48512.0\n",
              "2015-01-05  2020.579956  4652.569824  9473.160156  47517.0\n",
              "2015-01-06  2002.609985  4592.740234  9469.660156  48001.0\n",
              "2015-01-07  2025.900024  4650.470215  9518.179688  49463.0\n",
              "2015-01-08  2062.139893  4736.189941  9837.610352  49943.0"
            ]
          },
          "metadata": {
            "tags": []
          },
          "execution_count": 16
        }
      ]
    },
    {
      "cell_type": "code",
      "metadata": {
        "colab": {
          "base_uri": "https://localhost:8080/",
          "height": 384
        },
        "id": "YoCgvY0QvsYh",
        "outputId": "8b860724-84c3-4b2c-d37e-f0148922f2a9"
      },
      "source": [
        "# Normalização dos índices para base 100\n",
        "\n",
        "(ind_data / ind_data.iloc[0] * 100).plot(figsize=(15,6));\n",
        "plt.show"
      ],
      "execution_count": 17,
      "outputs": [
        {
          "output_type": "execute_result",
          "data": {
            "text/plain": [
              "<function matplotlib.pyplot.show>"
            ]
          },
          "metadata": {
            "tags": []
          },
          "execution_count": 17
        },
        {
          "output_type": "display_data",
          "data": {
            "image/png": "[encoded data removed]",
            "text/plain": [
              "<Figure size 1080x432 with 1 Axes>"
            ]
          },
          "metadata": {
            "tags": [],
            "needs_background": "light"
          }
        }
      ]
    },
    {
      "cell_type": "code",
      "metadata": {
        "colab": {
          "base_uri": "https://localhost:8080/",
          "height": 238
        },
        "id": "fnpeQC7ovsbS",
        "outputId": "28a433dd-9f57-4174-ac7d-1cab4a880228"
      },
      "source": [
        "# Retorno simples dos índices\n",
        "\n",
        "retorno_indices = (ind_data / ind_data.shift(1)) - 1\n",
        "retorno_indices.tail()"
      ],
      "execution_count": 18,
      "outputs": [
        {
          "output_type": "execute_result",
          "data": {
            "text/html": [
              "<div>\n",
              "<style scoped>\n",
              "    .dataframe tbody tr th:only-of-type {\n",
              "        vertical-align: middle;\n",
              "    }\n",
              "\n",
              "    .dataframe tbody tr th {\n",
              "        vertical-align: top;\n",
              "    }\n",
              "\n",
              "    .dataframe thead th {\n",
              "        text-align: right;\n",
              "    }\n",
              "</style>\n",
              "<table border=\"1\" class=\"dataframe\">\n",
              "  <thead>\n",
              "    <tr style=\"text-align: right;\">\n",
              "      <th></th>\n",
              "      <th>^GSPC</th>\n",
              "      <th>^IXIC</th>\n",
              "      <th>^GDAXI</th>\n",
              "      <th>^BVSP</th>\n",
              "    </tr>\n",
              "    <tr>\n",
              "      <th>Date</th>\n",
              "      <th></th>\n",
              "      <th></th>\n",
              "      <th></th>\n",
              "      <th></th>\n",
              "    </tr>\n",
              "  </thead>\n",
              "  <tbody>\n",
              "    <tr>\n",
              "      <th>2021-06-16</th>\n",
              "      <td>-0.005390</td>\n",
              "      <td>-0.002358</td>\n",
              "      <td>-0.001205</td>\n",
              "      <td>-0.006396</td>\n",
              "    </tr>\n",
              "    <tr>\n",
              "      <th>2021-06-17</th>\n",
              "      <td>-0.000436</td>\n",
              "      <td>0.008666</td>\n",
              "      <td>0.001088</td>\n",
              "      <td>-0.009299</td>\n",
              "    </tr>\n",
              "    <tr>\n",
              "      <th>2021-06-18</th>\n",
              "      <td>-0.013124</td>\n",
              "      <td>-0.009248</td>\n",
              "      <td>-0.017779</td>\n",
              "      <td>0.002718</td>\n",
              "    </tr>\n",
              "    <tr>\n",
              "      <th>2021-06-21</th>\n",
              "      <td>0.014002</td>\n",
              "      <td>0.007919</td>\n",
              "      <td>0.010047</td>\n",
              "      <td>0.006698</td>\n",
              "    </tr>\n",
              "    <tr>\n",
              "      <th>2021-06-22</th>\n",
              "      <td>0.003778</td>\n",
              "      <td>0.005026</td>\n",
              "      <td>0.002121</td>\n",
              "      <td>-0.008975</td>\n",
              "    </tr>\n",
              "  </tbody>\n",
              "</table>\n",
              "</div>"
            ],
            "text/plain": [
              "               ^GSPC     ^IXIC    ^GDAXI     ^BVSP\n",
              "Date                                              \n",
              "2021-06-16 -0.005390 -0.002358 -0.001205 -0.006396\n",
              "2021-06-17 -0.000436  0.008666  0.001088 -0.009299\n",
              "2021-06-18 -0.013124 -0.009248 -0.017779  0.002718\n",
              "2021-06-21  0.014002  0.007919  0.010047  0.006698\n",
              "2021-06-22  0.003778  0.005026  0.002121 -0.008975"
            ]
          },
          "metadata": {
            "tags": []
          },
          "execution_count": 18
        }
      ]
    },
    {
      "cell_type": "code",
      "metadata": {
        "colab": {
          "base_uri": "https://localhost:8080/"
        },
        "id": "2NqqiZzqvseE",
        "outputId": "5000067a-e6db-4f60-fde0-86a8e68e4579"
      },
      "source": [
        "# Retorno anual dos índices\n",
        "\n",
        "retorno_anual_ind = retorno_indices.mean() * 250\n",
        "retorno_anual_ind"
      ],
      "execution_count": 19,
      "outputs": [
        {
          "output_type": "execute_result",
          "data": {
            "text/plain": [
              "^GSPC     0.127852\n",
              "^IXIC     0.190477\n",
              "^GDAXI    0.088915\n",
              "^BVSP     0.179644\n",
              "dtype: float64"
            ]
          },
          "metadata": {
            "tags": []
          },
          "execution_count": 19
        }
      ]
    },
    {
      "cell_type": "markdown",
      "metadata": {
        "id": "xKtnn3jV0fjE"
      },
      "source": [
        "## Compara retorno das ações com índices"
      ]
    },
    {
      "cell_type": "code",
      "metadata": {
        "id": "38ZazHJDvsg1"
      },
      "source": [
        "tickers = ['PETR4.SA','BBDC4.SA','ABEV3.SA','WEGE3.SA','VALE3.SA','^BVSP']\n",
        "bolsas = pd.DataFrame()\n",
        "for t in tickers:\n",
        "    bolsas[t] = wb.DataReader(t, data_source='yahoo',start='2010-1-1')['Adj Close']"
      ],
      "execution_count": 20,
      "outputs": []
    },
    {
      "cell_type": "code",
      "metadata": {
        "colab": {
          "base_uri": "https://localhost:8080/",
          "height": 384
        },
        "id": "wZEEXrNlvsjy",
        "outputId": "37077f35-ee90-4622-f02e-766b24e851d1"
      },
      "source": [
        "(bolsas / bolsas.iloc[0] * 100).plot(figsize=(15,6));\n",
        "plt.show"
      ],
      "execution_count": 21,
      "outputs": [
        {
          "output_type": "execute_result",
          "data": {
            "text/plain": [
              "<function matplotlib.pyplot.show>"
            ]
          },
          "metadata": {
            "tags": []
          },
          "execution_count": 21
        },
        {
          "output_type": "display_data",
          "data": {
            "image/png": "[encoded data removed]",
            "text/plain": [
              "<Figure size 1080x432 with 1 Axes>"
            ]
          },
          "metadata": {
            "tags": [],
            "needs_background": "light"
          }
        }
      ]
    },
    {
      "cell_type": "markdown",
      "metadata": {
        "id": "EmeVFrFm1S04"
      },
      "source": [
        "# 3- Medição do risco\n",
        "\n",
        "### A volatilidade identifica a variabilidade dos rendimentos. Quanto menor a varição, mais estável e menos risco de perdas."
      ]
    },
    {
      "cell_type": "code",
      "metadata": {
        "colab": {
          "base_uri": "https://localhost:8080/",
          "height": 455
        },
        "id": "43_t4kwz1Yp1",
        "outputId": "5b2cd88b-288c-4ed7-f480-307a4c818d4e"
      },
      "source": [
        "retorno_risco = np.log(bolsas / bolsas.shift(1))\n",
        "retorno_risco"
      ],
      "execution_count": 22,
      "outputs": [
        {
          "output_type": "execute_result",
          "data": {
            "text/html": [
              "<div>\n",
              "<style scoped>\n",
              "    .dataframe tbody tr th:only-of-type {\n",
              "        vertical-align: middle;\n",
              "    }\n",
              "\n",
              "    .dataframe tbody tr th {\n",
              "        vertical-align: top;\n",
              "    }\n",
              "\n",
              "    .dataframe thead th {\n",
              "        text-align: right;\n",
              "    }\n",
              "</style>\n",
              "<table border=\"1\" class=\"dataframe\">\n",
              "  <thead>\n",
              "    <tr style=\"text-align: right;\">\n",
              "      <th></th>\n",
              "      <th>PETR4.SA</th>\n",
              "      <th>BBDC4.SA</th>\n",
              "      <th>ABEV3.SA</th>\n",
              "      <th>WEGE3.SA</th>\n",
              "      <th>VALE3.SA</th>\n",
              "      <th>^BVSP</th>\n",
              "    </tr>\n",
              "    <tr>\n",
              "      <th>Date</th>\n",
              "      <th></th>\n",
              "      <th></th>\n",
              "      <th></th>\n",
              "      <th></th>\n",
              "      <th></th>\n",
              "      <th></th>\n",
              "    </tr>\n",
              "  </thead>\n",
              "  <tbody>\n",
              "    <tr>\n",
              "      <th>2010-01-04</th>\n",
              "      <td>NaN</td>\n",
              "      <td>NaN</td>\n",
              "      <td>NaN</td>\n",
              "      <td>NaN</td>\n",
              "      <td>NaN</td>\n",
              "      <td>NaN</td>\n",
              "    </tr>\n",
              "    <tr>\n",
              "      <th>2010-01-05</th>\n",
              "      <td>-0.008611</td>\n",
              "      <td>-0.004968</td>\n",
              "      <td>0.005865</td>\n",
              "      <td>-0.002185</td>\n",
              "      <td>0.009279</td>\n",
              "      <td>0.002780</td>\n",
              "    </tr>\n",
              "    <tr>\n",
              "      <th>2010-01-06</th>\n",
              "      <td>0.013423</td>\n",
              "      <td>-0.008032</td>\n",
              "      <td>0.010150</td>\n",
              "      <td>0.005453</td>\n",
              "      <td>0.020945</td>\n",
              "      <td>0.006938</td>\n",
              "    </tr>\n",
              "    <tr>\n",
              "      <th>2010-01-07</th>\n",
              "      <td>-0.009377</td>\n",
              "      <td>-0.002691</td>\n",
              "      <td>0.004684</td>\n",
              "      <td>0.016717</td>\n",
              "      <td>0.004137</td>\n",
              "      <td>-0.003938</td>\n",
              "    </tr>\n",
              "    <tr>\n",
              "      <th>2010-01-08</th>\n",
              "      <td>-0.005398</td>\n",
              "      <td>-0.001079</td>\n",
              "      <td>-0.001923</td>\n",
              "      <td>0.035718</td>\n",
              "      <td>0.009711</td>\n",
              "      <td>-0.002672</td>\n",
              "    </tr>\n",
              "    <tr>\n",
              "      <th>...</th>\n",
              "      <td>...</td>\n",
              "      <td>...</td>\n",
              "      <td>...</td>\n",
              "      <td>...</td>\n",
              "      <td>...</td>\n",
              "      <td>...</td>\n",
              "    </tr>\n",
              "    <tr>\n",
              "      <th>2021-06-16</th>\n",
              "      <td>0.003782</td>\n",
              "      <td>0.004998</td>\n",
              "      <td>-0.002093</td>\n",
              "      <td>-0.017926</td>\n",
              "      <td>-0.030505</td>\n",
              "      <td>-0.006416</td>\n",
              "    </tr>\n",
              "    <tr>\n",
              "      <th>2021-06-17</th>\n",
              "      <td>-0.035275</td>\n",
              "      <td>-0.004283</td>\n",
              "      <td>-0.004199</td>\n",
              "      <td>-0.011841</td>\n",
              "      <td>-0.021024</td>\n",
              "      <td>-0.009343</td>\n",
              "    </tr>\n",
              "    <tr>\n",
              "      <th>2021-06-18</th>\n",
              "      <td>0.006732</td>\n",
              "      <td>-0.012959</td>\n",
              "      <td>-0.013238</td>\n",
              "      <td>0.022124</td>\n",
              "      <td>0.029678</td>\n",
              "      <td>0.002714</td>\n",
              "    </tr>\n",
              "    <tr>\n",
              "      <th>2021-06-21</th>\n",
              "      <td>0.022002</td>\n",
              "      <td>0.002533</td>\n",
              "      <td>-0.001600</td>\n",
              "      <td>0.001704</td>\n",
              "      <td>0.009307</td>\n",
              "      <td>0.006675</td>\n",
              "    </tr>\n",
              "    <tr>\n",
              "      <th>2021-06-22</th>\n",
              "      <td>-0.003114</td>\n",
              "      <td>-0.022662</td>\n",
              "      <td>-0.029804</td>\n",
              "      <td>-0.022957</td>\n",
              "      <td>0.013441</td>\n",
              "      <td>-0.009015</td>\n",
              "    </tr>\n",
              "  </tbody>\n",
              "</table>\n",
              "<p>2840 rows × 6 columns</p>\n",
              "</div>"
            ],
            "text/plain": [
              "            PETR4.SA  BBDC4.SA  ABEV3.SA  WEGE3.SA  VALE3.SA     ^BVSP\n",
              "Date                                                                  \n",
              "2010-01-04       NaN       NaN       NaN       NaN       NaN       NaN\n",
              "2010-01-05 -0.008611 -0.004968  0.005865 -0.002185  0.009279  0.002780\n",
              "2010-01-06  0.013423 -0.008032  0.010150  0.005453  0.020945  0.006938\n",
              "2010-01-07 -0.009377 -0.002691  0.004684  0.016717  0.004137 -0.003938\n",
              "2010-01-08 -0.005398 -0.001079 -0.001923  0.035718  0.009711 -0.002672\n",
              "...              ...       ...       ...       ...       ...       ...\n",
              "2021-06-16  0.003782  0.004998 -0.002093 -0.017926 -0.030505 -0.006416\n",
              "2021-06-17 -0.035275 -0.004283 -0.004199 -0.011841 -0.021024 -0.009343\n",
              "2021-06-18  0.006732 -0.012959 -0.013238  0.022124  0.029678  0.002714\n",
              "2021-06-21  0.022002  0.002533 -0.001600  0.001704  0.009307  0.006675\n",
              "2021-06-22 -0.003114 -0.022662 -0.029804 -0.022957  0.013441 -0.009015\n",
              "\n",
              "[2840 rows x 6 columns]"
            ]
          },
          "metadata": {
            "tags": []
          },
          "execution_count": 22
        }
      ]
    },
    {
      "cell_type": "code",
      "metadata": {
        "id": "0wUFETkg2P3S"
      },
      "source": [
        "acao1 = retorno_risco.columns[0]\n",
        "acao2 = retorno_risco.columns[1]\n",
        "acao3 = retorno_risco.columns[2]\n",
        "acao4 = retorno_risco.columns[3]\n",
        "acao5 = retorno_risco.columns[4]"
      ],
      "execution_count": 23,
      "outputs": []
    },
    {
      "cell_type": "code",
      "metadata": {
        "colab": {
          "base_uri": "https://localhost:8080/"
        },
        "id": "k6Cb1tLW4uaB",
        "outputId": "4bfd3b39-a757-4249-aa27-289e7677775b"
      },
      "source": [
        "media = retorno_risco[[acao1,acao2,acao3,acao4,acao5]].mean() * 250\n",
        "print('Quanto maior a média de retorno anual, maior a lucratividade que a ação rendeu.')\n",
        "print('Média de retorno anual das ações:')\n",
        "media"
      ],
      "execution_count": 24,
      "outputs": [
        {
          "output_type": "stream",
          "text": [
            "Quanto maior a média de retorno anual, maior a lucratividade que a ação rendeu.\n",
            "Média de retorno anual das ações:\n"
          ],
          "name": "stdout"
        },
        {
          "output_type": "execute_result",
          "data": {
            "text/plain": [
              "PETR4.SA    0.002218\n",
              "BBDC4.SA    0.081135\n",
              "ABEV3.SA    0.129281\n",
              "WEGE3.SA    0.244500\n",
              "VALE3.SA    0.109756\n",
              "dtype: float64"
            ]
          },
          "metadata": {
            "tags": []
          },
          "execution_count": 24
        }
      ]
    },
    {
      "cell_type": "code",
      "metadata": {
        "colab": {
          "base_uri": "https://localhost:8080/"
        },
        "id": "FJWijySL4uc5",
        "outputId": "eb830f44-f446-4e02-9eec-d11c181113d1"
      },
      "source": [
        "desvio_padrao = retorno_risco[[acao1,acao2,acao3,acao4,acao5]].std() * 250 ** 0.5\n",
        "print('Quanto maior a volatilidade, maior a chance de ganhos e de perdas bruscas.')\n",
        "print('Média anual do desvio padrão (volatilidade) das ações:')\n",
        "desvio_padrao"
      ],
      "execution_count": 25,
      "outputs": [
        {
          "output_type": "stream",
          "text": [
            "Quanto maior a volatilidade, maior a chance de ganhos e de perdas bruscas.\n",
            "Média anual do desvio padrão (volatilidade) das ações:\n"
          ],
          "name": "stdout"
        },
        {
          "output_type": "execute_result",
          "data": {
            "text/plain": [
              "PETR4.SA    0.473846\n",
              "BBDC4.SA    0.344145\n",
              "ABEV3.SA    0.264479\n",
              "WEGE3.SA    0.316299\n",
              "VALE3.SA    0.420318\n",
              "dtype: float64"
            ]
          },
          "metadata": {
            "tags": []
          },
          "execution_count": 25
        }
      ]
    },
    {
      "cell_type": "markdown",
      "metadata": {
        "id": "LU23SRgeqvqv"
      },
      "source": [
        "## Diversificação - Relação entre o preço das ações de diversas empresas"
      ]
    },
    {
      "cell_type": "markdown",
      "metadata": {
        "id": "IFK29V1hvVjy"
      },
      "source": [
        "## Covariância\n",
        "\n",
        "cov > 0 => variáveis se movem na mesma direção\n",
        "\n",
        "cov < 0 => variáveis se movem em direções opostas\n",
        "\n",
        "cov = 0 => variáveis são independentes"
      ]
    },
    {
      "cell_type": "code",
      "metadata": {
        "id": "bRNhQ8LpvVj0",
        "colab": {
          "base_uri": "https://localhost:8080/",
          "height": 238
        },
        "outputId": "a0410019-042c-4e5b-9844-65b78c14f590"
      },
      "source": [
        "cov_matrix = retorno_risco.cov()\n",
        "cov_matrix.round(6)"
      ],
      "execution_count": 26,
      "outputs": [
        {
          "output_type": "execute_result",
          "data": {
            "text/html": [
              "<div>\n",
              "<style scoped>\n",
              "    .dataframe tbody tr th:only-of-type {\n",
              "        vertical-align: middle;\n",
              "    }\n",
              "\n",
              "    .dataframe tbody tr th {\n",
              "        vertical-align: top;\n",
              "    }\n",
              "\n",
              "    .dataframe thead th {\n",
              "        text-align: right;\n",
              "    }\n",
              "</style>\n",
              "<table border=\"1\" class=\"dataframe\">\n",
              "  <thead>\n",
              "    <tr style=\"text-align: right;\">\n",
              "      <th></th>\n",
              "      <th>PETR4.SA</th>\n",
              "      <th>BBDC4.SA</th>\n",
              "      <th>ABEV3.SA</th>\n",
              "      <th>WEGE3.SA</th>\n",
              "      <th>VALE3.SA</th>\n",
              "      <th>^BVSP</th>\n",
              "    </tr>\n",
              "  </thead>\n",
              "  <tbody>\n",
              "    <tr>\n",
              "      <th>PETR4.SA</th>\n",
              "      <td>0.000898</td>\n",
              "      <td>0.000380</td>\n",
              "      <td>0.000170</td>\n",
              "      <td>0.000181</td>\n",
              "      <td>0.000378</td>\n",
              "      <td>0.000360</td>\n",
              "    </tr>\n",
              "    <tr>\n",
              "      <th>BBDC4.SA</th>\n",
              "      <td>0.000380</td>\n",
              "      <td>0.000474</td>\n",
              "      <td>0.000159</td>\n",
              "      <td>0.000150</td>\n",
              "      <td>0.000226</td>\n",
              "      <td>0.000273</td>\n",
              "    </tr>\n",
              "    <tr>\n",
              "      <th>ABEV3.SA</th>\n",
              "      <td>0.000170</td>\n",
              "      <td>0.000159</td>\n",
              "      <td>0.000280</td>\n",
              "      <td>0.000112</td>\n",
              "      <td>0.000121</td>\n",
              "      <td>0.000143</td>\n",
              "    </tr>\n",
              "    <tr>\n",
              "      <th>WEGE3.SA</th>\n",
              "      <td>0.000181</td>\n",
              "      <td>0.000150</td>\n",
              "      <td>0.000112</td>\n",
              "      <td>0.000400</td>\n",
              "      <td>0.000128</td>\n",
              "      <td>0.000151</td>\n",
              "    </tr>\n",
              "    <tr>\n",
              "      <th>VALE3.SA</th>\n",
              "      <td>0.000378</td>\n",
              "      <td>0.000226</td>\n",
              "      <td>0.000121</td>\n",
              "      <td>0.000128</td>\n",
              "      <td>0.000707</td>\n",
              "      <td>0.000263</td>\n",
              "    </tr>\n",
              "    <tr>\n",
              "      <th>^BVSP</th>\n",
              "      <td>0.000360</td>\n",
              "      <td>0.000273</td>\n",
              "      <td>0.000143</td>\n",
              "      <td>0.000151</td>\n",
              "      <td>0.000263</td>\n",
              "      <td>0.000252</td>\n",
              "    </tr>\n",
              "  </tbody>\n",
              "</table>\n",
              "</div>"
            ],
            "text/plain": [
              "          PETR4.SA  BBDC4.SA  ABEV3.SA  WEGE3.SA  VALE3.SA     ^BVSP\n",
              "PETR4.SA  0.000898  0.000380  0.000170  0.000181  0.000378  0.000360\n",
              "BBDC4.SA  0.000380  0.000474  0.000159  0.000150  0.000226  0.000273\n",
              "ABEV3.SA  0.000170  0.000159  0.000280  0.000112  0.000121  0.000143\n",
              "WEGE3.SA  0.000181  0.000150  0.000112  0.000400  0.000128  0.000151\n",
              "VALE3.SA  0.000378  0.000226  0.000121  0.000128  0.000707  0.000263\n",
              "^BVSP     0.000360  0.000273  0.000143  0.000151  0.000263  0.000252"
            ]
          },
          "metadata": {
            "tags": []
          },
          "execution_count": 26
        }
      ]
    },
    {
      "cell_type": "code",
      "metadata": {
        "id": "fsh9iCwmvVj4",
        "colab": {
          "base_uri": "https://localhost:8080/",
          "height": 238
        },
        "outputId": "5fd06b24-9de5-46cd-d2ea-d82eb7863fd5"
      },
      "source": [
        "cov_matrix_anual = retorno_risco.cov() * 250\n",
        "cov_matrix_anual.round(3)"
      ],
      "execution_count": 27,
      "outputs": [
        {
          "output_type": "execute_result",
          "data": {
            "text/html": [
              "<div>\n",
              "<style scoped>\n",
              "    .dataframe tbody tr th:only-of-type {\n",
              "        vertical-align: middle;\n",
              "    }\n",
              "\n",
              "    .dataframe tbody tr th {\n",
              "        vertical-align: top;\n",
              "    }\n",
              "\n",
              "    .dataframe thead th {\n",
              "        text-align: right;\n",
              "    }\n",
              "</style>\n",
              "<table border=\"1\" class=\"dataframe\">\n",
              "  <thead>\n",
              "    <tr style=\"text-align: right;\">\n",
              "      <th></th>\n",
              "      <th>PETR4.SA</th>\n",
              "      <th>BBDC4.SA</th>\n",
              "      <th>ABEV3.SA</th>\n",
              "      <th>WEGE3.SA</th>\n",
              "      <th>VALE3.SA</th>\n",
              "      <th>^BVSP</th>\n",
              "    </tr>\n",
              "  </thead>\n",
              "  <tbody>\n",
              "    <tr>\n",
              "      <th>PETR4.SA</th>\n",
              "      <td>0.225</td>\n",
              "      <td>0.095</td>\n",
              "      <td>0.043</td>\n",
              "      <td>0.045</td>\n",
              "      <td>0.095</td>\n",
              "      <td>0.090</td>\n",
              "    </tr>\n",
              "    <tr>\n",
              "      <th>BBDC4.SA</th>\n",
              "      <td>0.095</td>\n",
              "      <td>0.118</td>\n",
              "      <td>0.040</td>\n",
              "      <td>0.037</td>\n",
              "      <td>0.057</td>\n",
              "      <td>0.068</td>\n",
              "    </tr>\n",
              "    <tr>\n",
              "      <th>ABEV3.SA</th>\n",
              "      <td>0.043</td>\n",
              "      <td>0.040</td>\n",
              "      <td>0.070</td>\n",
              "      <td>0.028</td>\n",
              "      <td>0.030</td>\n",
              "      <td>0.036</td>\n",
              "    </tr>\n",
              "    <tr>\n",
              "      <th>WEGE3.SA</th>\n",
              "      <td>0.045</td>\n",
              "      <td>0.037</td>\n",
              "      <td>0.028</td>\n",
              "      <td>0.100</td>\n",
              "      <td>0.032</td>\n",
              "      <td>0.038</td>\n",
              "    </tr>\n",
              "    <tr>\n",
              "      <th>VALE3.SA</th>\n",
              "      <td>0.095</td>\n",
              "      <td>0.057</td>\n",
              "      <td>0.030</td>\n",
              "      <td>0.032</td>\n",
              "      <td>0.177</td>\n",
              "      <td>0.066</td>\n",
              "    </tr>\n",
              "    <tr>\n",
              "      <th>^BVSP</th>\n",
              "      <td>0.090</td>\n",
              "      <td>0.068</td>\n",
              "      <td>0.036</td>\n",
              "      <td>0.038</td>\n",
              "      <td>0.066</td>\n",
              "      <td>0.063</td>\n",
              "    </tr>\n",
              "  </tbody>\n",
              "</table>\n",
              "</div>"
            ],
            "text/plain": [
              "          PETR4.SA  BBDC4.SA  ABEV3.SA  WEGE3.SA  VALE3.SA  ^BVSP\n",
              "PETR4.SA     0.225     0.095     0.043     0.045     0.095  0.090\n",
              "BBDC4.SA     0.095     0.118     0.040     0.037     0.057  0.068\n",
              "ABEV3.SA     0.043     0.040     0.070     0.028     0.030  0.036\n",
              "WEGE3.SA     0.045     0.037     0.028     0.100     0.032  0.038\n",
              "VALE3.SA     0.095     0.057     0.030     0.032     0.177  0.066\n",
              "^BVSP        0.090     0.068     0.036     0.038     0.066  0.063"
            ]
          },
          "metadata": {
            "tags": []
          },
          "execution_count": 27
        }
      ]
    },
    {
      "cell_type": "markdown",
      "metadata": {
        "id": "N9-J52EyvVj-"
      },
      "source": [
        "## Correlação\n",
        "\n",
        "corr = 1 => correlação perfeita\n",
        "\n",
        "corr > 0 => variáveis se movem na mesma direção\n",
        "\n",
        "corr = -1 => correlação perfeitamente negativa\n",
        "\n",
        "corr < 0 => variáveis se movem em direções opostas\n",
        "\n",
        "corr = 0 => variáveis absolutamente independentes"
      ]
    },
    {
      "cell_type": "code",
      "metadata": {
        "id": "FTSIhDLfvVj_",
        "colab": {
          "base_uri": "https://localhost:8080/",
          "height": 238
        },
        "outputId": "2cd02a82-61e4-4d53-ecf2-7804856fed58"
      },
      "source": [
        "# Correlação entre o retorno das ações\n",
        "\n",
        "corr_matrix = retorno_risco.corr()\n",
        "corr_matrix.round(2)"
      ],
      "execution_count": 28,
      "outputs": [
        {
          "output_type": "execute_result",
          "data": {
            "text/html": [
              "<div>\n",
              "<style scoped>\n",
              "    .dataframe tbody tr th:only-of-type {\n",
              "        vertical-align: middle;\n",
              "    }\n",
              "\n",
              "    .dataframe tbody tr th {\n",
              "        vertical-align: top;\n",
              "    }\n",
              "\n",
              "    .dataframe thead th {\n",
              "        text-align: right;\n",
              "    }\n",
              "</style>\n",
              "<table border=\"1\" class=\"dataframe\">\n",
              "  <thead>\n",
              "    <tr style=\"text-align: right;\">\n",
              "      <th></th>\n",
              "      <th>PETR4.SA</th>\n",
              "      <th>BBDC4.SA</th>\n",
              "      <th>ABEV3.SA</th>\n",
              "      <th>WEGE3.SA</th>\n",
              "      <th>VALE3.SA</th>\n",
              "      <th>^BVSP</th>\n",
              "    </tr>\n",
              "  </thead>\n",
              "  <tbody>\n",
              "    <tr>\n",
              "      <th>PETR4.SA</th>\n",
              "      <td>1.00</td>\n",
              "      <td>0.58</td>\n",
              "      <td>0.34</td>\n",
              "      <td>0.30</td>\n",
              "      <td>0.47</td>\n",
              "      <td>0.75</td>\n",
              "    </tr>\n",
              "    <tr>\n",
              "      <th>BBDC4.SA</th>\n",
              "      <td>0.58</td>\n",
              "      <td>1.00</td>\n",
              "      <td>0.44</td>\n",
              "      <td>0.34</td>\n",
              "      <td>0.39</td>\n",
              "      <td>0.79</td>\n",
              "    </tr>\n",
              "    <tr>\n",
              "      <th>ABEV3.SA</th>\n",
              "      <td>0.34</td>\n",
              "      <td>0.44</td>\n",
              "      <td>1.00</td>\n",
              "      <td>0.34</td>\n",
              "      <td>0.27</td>\n",
              "      <td>0.54</td>\n",
              "    </tr>\n",
              "    <tr>\n",
              "      <th>WEGE3.SA</th>\n",
              "      <td>0.30</td>\n",
              "      <td>0.34</td>\n",
              "      <td>0.34</td>\n",
              "      <td>1.00</td>\n",
              "      <td>0.24</td>\n",
              "      <td>0.48</td>\n",
              "    </tr>\n",
              "    <tr>\n",
              "      <th>VALE3.SA</th>\n",
              "      <td>0.47</td>\n",
              "      <td>0.39</td>\n",
              "      <td>0.27</td>\n",
              "      <td>0.24</td>\n",
              "      <td>1.00</td>\n",
              "      <td>0.62</td>\n",
              "    </tr>\n",
              "    <tr>\n",
              "      <th>^BVSP</th>\n",
              "      <td>0.75</td>\n",
              "      <td>0.79</td>\n",
              "      <td>0.54</td>\n",
              "      <td>0.48</td>\n",
              "      <td>0.62</td>\n",
              "      <td>1.00</td>\n",
              "    </tr>\n",
              "  </tbody>\n",
              "</table>\n",
              "</div>"
            ],
            "text/plain": [
              "          PETR4.SA  BBDC4.SA  ABEV3.SA  WEGE3.SA  VALE3.SA  ^BVSP\n",
              "PETR4.SA      1.00      0.58      0.34      0.30      0.47   0.75\n",
              "BBDC4.SA      0.58      1.00      0.44      0.34      0.39   0.79\n",
              "ABEV3.SA      0.34      0.44      1.00      0.34      0.27   0.54\n",
              "WEGE3.SA      0.30      0.34      0.34      1.00      0.24   0.48\n",
              "VALE3.SA      0.47      0.39      0.27      0.24      1.00   0.62\n",
              "^BVSP         0.75      0.79      0.54      0.48      0.62   1.00"
            ]
          },
          "metadata": {
            "tags": []
          },
          "execution_count": 28
        }
      ]
    },
    {
      "cell_type": "code",
      "metadata": {
        "id": "Mv7jEGSzvVkF",
        "colab": {
          "base_uri": "https://localhost:8080/",
          "height": 384
        },
        "outputId": "36131115-1c0f-4f0e-9bb4-f863bbf16ca7"
      },
      "source": [
        "retorno_risco.plot(figsize = (15, 6));\n",
        "plt.show"
      ],
      "execution_count": 29,
      "outputs": [
        {
          "output_type": "execute_result",
          "data": {
            "text/plain": [
              "<function matplotlib.pyplot.show>"
            ]
          },
          "metadata": {
            "tags": []
          },
          "execution_count": 29
        },
        {
          "output_type": "display_data",
          "data": {
            "image/png": "[encoded data removed]",
            "text/plain": [
              "<Figure size 1080x432 with 1 Axes>"
            ]
          },
          "metadata": {
            "tags": [],
            "needs_background": "light"
          }
        }
      ]
    },
    {
      "cell_type": "code",
      "metadata": {
        "id": "elcvL9qtvVkK",
        "colab": {
          "base_uri": "https://localhost:8080/",
          "height": 238
        },
        "outputId": "197e864f-a7d5-4666-f29a-f7017b17d362"
      },
      "source": [
        "# Correlação entre o preço das ações\n",
        "\n",
        "corr_matrix = bolsas.corr()\n",
        "corr_matrix.round(2)"
      ],
      "execution_count": 30,
      "outputs": [
        {
          "output_type": "execute_result",
          "data": {
            "text/html": [
              "<div>\n",
              "<style scoped>\n",
              "    .dataframe tbody tr th:only-of-type {\n",
              "        vertical-align: middle;\n",
              "    }\n",
              "\n",
              "    .dataframe tbody tr th {\n",
              "        vertical-align: top;\n",
              "    }\n",
              "\n",
              "    .dataframe thead th {\n",
              "        text-align: right;\n",
              "    }\n",
              "</style>\n",
              "<table border=\"1\" class=\"dataframe\">\n",
              "  <thead>\n",
              "    <tr style=\"text-align: right;\">\n",
              "      <th></th>\n",
              "      <th>PETR4.SA</th>\n",
              "      <th>BBDC4.SA</th>\n",
              "      <th>ABEV3.SA</th>\n",
              "      <th>WEGE3.SA</th>\n",
              "      <th>VALE3.SA</th>\n",
              "      <th>^BVSP</th>\n",
              "    </tr>\n",
              "  </thead>\n",
              "  <tbody>\n",
              "    <tr>\n",
              "      <th>PETR4.SA</th>\n",
              "      <td>1.00</td>\n",
              "      <td>0.52</td>\n",
              "      <td>-0.19</td>\n",
              "      <td>0.40</td>\n",
              "      <td>0.70</td>\n",
              "      <td>0.78</td>\n",
              "    </tr>\n",
              "    <tr>\n",
              "      <th>BBDC4.SA</th>\n",
              "      <td>0.52</td>\n",
              "      <td>1.00</td>\n",
              "      <td>0.67</td>\n",
              "      <td>0.61</td>\n",
              "      <td>0.60</td>\n",
              "      <td>0.85</td>\n",
              "    </tr>\n",
              "    <tr>\n",
              "      <th>ABEV3.SA</th>\n",
              "      <td>-0.19</td>\n",
              "      <td>0.67</td>\n",
              "      <td>1.00</td>\n",
              "      <td>0.34</td>\n",
              "      <td>0.13</td>\n",
              "      <td>0.31</td>\n",
              "    </tr>\n",
              "    <tr>\n",
              "      <th>WEGE3.SA</th>\n",
              "      <td>0.40</td>\n",
              "      <td>0.61</td>\n",
              "      <td>0.34</td>\n",
              "      <td>1.00</td>\n",
              "      <td>0.82</td>\n",
              "      <td>0.78</td>\n",
              "    </tr>\n",
              "    <tr>\n",
              "      <th>VALE3.SA</th>\n",
              "      <td>0.70</td>\n",
              "      <td>0.60</td>\n",
              "      <td>0.13</td>\n",
              "      <td>0.82</td>\n",
              "      <td>1.00</td>\n",
              "      <td>0.88</td>\n",
              "    </tr>\n",
              "    <tr>\n",
              "      <th>^BVSP</th>\n",
              "      <td>0.78</td>\n",
              "      <td>0.85</td>\n",
              "      <td>0.31</td>\n",
              "      <td>0.78</td>\n",
              "      <td>0.88</td>\n",
              "      <td>1.00</td>\n",
              "    </tr>\n",
              "  </tbody>\n",
              "</table>\n",
              "</div>"
            ],
            "text/plain": [
              "          PETR4.SA  BBDC4.SA  ABEV3.SA  WEGE3.SA  VALE3.SA  ^BVSP\n",
              "PETR4.SA      1.00      0.52     -0.19      0.40      0.70   0.78\n",
              "BBDC4.SA      0.52      1.00      0.67      0.61      0.60   0.85\n",
              "ABEV3.SA     -0.19      0.67      1.00      0.34      0.13   0.31\n",
              "WEGE3.SA      0.40      0.61      0.34      1.00      0.82   0.78\n",
              "VALE3.SA      0.70      0.60      0.13      0.82      1.00   0.88\n",
              "^BVSP         0.78      0.85      0.31      0.78      0.88   1.00"
            ]
          },
          "metadata": {
            "tags": []
          },
          "execution_count": 30
        }
      ]
    },
    {
      "cell_type": "code",
      "metadata": {
        "id": "4NC0BDYKvVkP",
        "colab": {
          "base_uri": "https://localhost:8080/",
          "height": 384
        },
        "outputId": "3d9a6c17-289e-4de1-f494-84dfde8c71e8"
      },
      "source": [
        "(bolsas / bolsas.iloc[0] * 100).plot(figsize = (15, 6));\n",
        "plt.show"
      ],
      "execution_count": 31,
      "outputs": [
        {
          "output_type": "execute_result",
          "data": {
            "text/plain": [
              "<function matplotlib.pyplot.show>"
            ]
          },
          "metadata": {
            "tags": []
          },
          "execution_count": 31
        },
        {
          "output_type": "display_data",
          "data": {
            "image/png": "[encoded data removed]",
            "text/plain": [
              "<Figure size 1080x432 with 1 Axes>"
            ]
          },
          "metadata": {
            "tags": [],
            "needs_background": "light"
          }
        }
      ]
    },
    {
      "cell_type": "markdown",
      "metadata": {
        "id": "q43BR3w-y18q"
      },
      "source": [
        "## Risco do portfólio"
      ]
    },
    {
      "cell_type": "code",
      "metadata": {
        "id": "-XonyRUcy2bC"
      },
      "source": [
        "# Portfolio com ações de 5 empresas distribuídas igualmente, cada uma representando 20% do total.\n",
        "\n",
        "bolsas = bolsas[['PETR4.SA','BBDC4.SA','ABEV3.SA','WEGE3.SA','VALE3.SA']]\n",
        "retorno_risco = retorno_risco[['PETR4.SA','BBDC4.SA','ABEV3.SA','WEGE3.SA','VALE3.SA']]\n",
        "weights = np.array([0.2,0.2,0.2,0.2,0.2])"
      ],
      "execution_count": 32,
      "outputs": []
    },
    {
      "cell_type": "code",
      "metadata": {
        "colab": {
          "base_uri": "https://localhost:8080/"
        },
        "id": "lg-9eLwqzzoW",
        "outputId": "8ccf89ad-2de7-488b-9641-af9c049fc1cb"
      },
      "source": [
        "# Variância do portfólio\n",
        "\n",
        "pfolio_var = np.dot(weights.T, np.dot(retorno_risco.cov() * 250, weights))\n",
        "print('A variância do portfólio de ações é de: ' + str(pfolio_var.round(4)))"
      ],
      "execution_count": 33,
      "outputs": [
        {
          "output_type": "stream",
          "text": [
            "A variância do portfólio de ações é de: 0.0677\n"
          ],
          "name": "stdout"
        }
      ]
    },
    {
      "cell_type": "code",
      "metadata": {
        "colab": {
          "base_uri": "https://localhost:8080/"
        },
        "id": "_nzM5K7kzzyd",
        "outputId": "8f81b5ed-dfa4-4e88-a28d-edaec5169ca0"
      },
      "source": [
        "# Volatilidade do portfólio\n",
        "\n",
        "pfolio_vol = np.dot(weights.T, np.dot(retorno_risco.cov() * 250, weights)) ** 0.5\n",
        "print('A volatilidade do portfólio de ações é de: ' + str(pfolio_vol.round(4) * 100) + '%')"
      ],
      "execution_count": 34,
      "outputs": [
        {
          "output_type": "stream",
          "text": [
            "A volatilidade do portfólio de ações é de: 26.02%\n"
          ],
          "name": "stdout"
        }
      ]
    },
    {
      "cell_type": "markdown",
      "metadata": {
        "id": "XJ2sgxR64CAi"
      },
      "source": [
        "## Risco diversificável e não diversificável do portfólio\n",
        "\n",
        "### risco diversificável = variância do portfólio - variância anual ponderada\n",
        "\n",
        "#### Risco diversificável é aquele que o investidor pode reduzir comprando diferentes ações. Quando algumas sobem, outras caem por causa das diferentes condições setoriais às quais esses papéis estão expostos.\n"
      ]
    },
    {
      "cell_type": "code",
      "metadata": {
        "id": "BjEypAJwz0tQ"
      },
      "source": [
        "# Risco diversificável\n",
        "# Portfólio com 2 ações, distribuídas igualmente em 50% de cada.\n",
        "\n",
        "bolsas = bolsas[['PETR4.SA','BBDC4.SA']]\n",
        "retorno_risco = retorno_risco[['PETR4.SA','BBDC4.SA']]\n",
        "weights = np.array([0.5,0.5])\n",
        "pfolio_var = np.dot(weights.T, np.dot(retorno_risco.cov() * 250, weights))"
      ],
      "execution_count": 41,
      "outputs": []
    },
    {
      "cell_type": "code",
      "metadata": {
        "colab": {
          "base_uri": "https://localhost:8080/"
        },
        "id": "V-B7_W9f4QhV",
        "outputId": "d87d4de4-8d4f-4898-8e2f-8fd43a861305"
      },
      "source": [
        "PETR_var_a = retorno_risco['PETR4.SA'].var() * 250\n",
        "BBDC_var_a = retorno_risco['BBDC4.SA'].var() * 250\n",
        "\n",
        "dr = pfolio_var - (weights[0] ** 2 * PETR_var_a) - (weights[1] ** 2 * BBDC_var_a)\n",
        "print('O risco diversificável do portfólio é de ' + str(round(dr * 100, 2)))"
      ],
      "execution_count": 51,
      "outputs": [
        {
          "output_type": "stream",
          "text": [
            "O risco diversificável do portfólio é de 4.75\n"
          ],
          "name": "stdout"
        }
      ]
    },
    {
      "cell_type": "code",
      "metadata": {
        "colab": {
          "base_uri": "https://localhost:8080/"
        },
        "id": "qmMZzrTL4Qqd",
        "outputId": "dcdc1909-04b4-43bf-da41-5747c151ca6f"
      },
      "source": [
        "# Risco não diversificável\n",
        "\n",
        "n_dr_1 = pfolio_var - dr\n",
        "print('O risco não diversificável do portfólio é de ' + str(round(n_dr_1 * 100, 2)))"
      ],
      "execution_count": 53,
      "outputs": [
        {
          "output_type": "stream",
          "text": [
            "O risco não diversificável do portfólio é de 8.57\n"
          ],
          "name": "stdout"
        }
      ]
    },
    {
      "cell_type": "code",
      "metadata": {
        "colab": {
          "base_uri": "https://localhost:8080/"
        },
        "id": "S2ST4DvIEBeh",
        "outputId": "5a82c157-b609-4e01-e1e0-27bcb40b21e7"
      },
      "source": [
        "if(dr < n_dr_1):\n",
        "  print('O risco diversificável do portfólio é de ' + str(round(dr * 100, 2)) + '% e o não diversificável é de ' + str(round(n_dr_1 * 100, 2)) + '%.')\n",
        "  print('Portanto, há menos risco ao optar pelo diversificável.')\n",
        "else:\n",
        "  print('O risco diversificável do portfólio é de ' + str(round(dr * 100, 2)) + '% e o não diversificável é de ' + str(round(n_dr_1 * 100, 2)) + '%.')\n",
        "  print('Portanto, há menos risco ao optar pelo não diversificável.')"
      ],
      "execution_count": 54,
      "outputs": [
        {
          "output_type": "stream",
          "text": [
            "O risco diversificável do portfólio é de 4.75% e o não diversificável é de 8.57%.\n",
            "Portanto, há menos risco ao optar pelo diversificável.\n"
          ],
          "name": "stdout"
        }
      ]
    },
    {
      "cell_type": "markdown",
      "metadata": {
        "id": "OurTVGW_AX_-"
      },
      "source": [
        "# 4- Otimização de Portfólio de Markowitz"
      ]
    },
    {
      "cell_type": "code",
      "metadata": {
        "id": "53fat4YpHzna"
      },
      "source": [
        "tickers = ['PETR4.SA','BBDC4.SA','ABEV3.SA','WEGE3.SA','VALE3.SA']\n",
        "bolsas = pd.DataFrame()\n",
        "for t in tickers:\n",
        "    bolsas[t] = wb.DataReader(t, data_source='yahoo',start='2010-1-1')['Adj Close']"
      ],
      "execution_count": 65,
      "outputs": []
    },
    {
      "cell_type": "code",
      "metadata": {
        "id": "Hxc7Qr4-vVkY",
        "colab": {
          "base_uri": "https://localhost:8080/"
        },
        "outputId": "4f897b73-2998-4095-9da8-cc195262b458"
      },
      "source": [
        "retorno.mean() * 250"
      ],
      "execution_count": 66,
      "outputs": [
        {
          "output_type": "execute_result",
          "data": {
            "text/plain": [
              "PETR4.SA    0.002218\n",
              "BBDC4.SA    0.081135\n",
              "ABEV3.SA    0.129281\n",
              "WEGE3.SA    0.244449\n",
              "VALE3.SA    0.109756\n",
              "dtype: float64"
            ]
          },
          "metadata": {
            "tags": []
          },
          "execution_count": 66
        }
      ]
    },
    {
      "cell_type": "code",
      "metadata": {
        "id": "C1PQ2tClvVkb",
        "colab": {
          "base_uri": "https://localhost:8080/",
          "height": 206
        },
        "outputId": "7f718eb1-d0f2-4d16-b8e9-41b0aa15499d"
      },
      "source": [
        "retorno.cov() * 250"
      ],
      "execution_count": 68,
      "outputs": [
        {
          "output_type": "execute_result",
          "data": {
            "text/html": [
              "<div>\n",
              "<style scoped>\n",
              "    .dataframe tbody tr th:only-of-type {\n",
              "        vertical-align: middle;\n",
              "    }\n",
              "\n",
              "    .dataframe tbody tr th {\n",
              "        vertical-align: top;\n",
              "    }\n",
              "\n",
              "    .dataframe thead th {\n",
              "        text-align: right;\n",
              "    }\n",
              "</style>\n",
              "<table border=\"1\" class=\"dataframe\">\n",
              "  <thead>\n",
              "    <tr style=\"text-align: right;\">\n",
              "      <th></th>\n",
              "      <th>PETR4.SA</th>\n",
              "      <th>BBDC4.SA</th>\n",
              "      <th>ABEV3.SA</th>\n",
              "      <th>WEGE3.SA</th>\n",
              "      <th>VALE3.SA</th>\n",
              "    </tr>\n",
              "  </thead>\n",
              "  <tbody>\n",
              "    <tr>\n",
              "      <th>PETR4.SA</th>\n",
              "      <td>0.224530</td>\n",
              "      <td>0.095034</td>\n",
              "      <td>0.042527</td>\n",
              "      <td>0.045320</td>\n",
              "      <td>0.094537</td>\n",
              "    </tr>\n",
              "    <tr>\n",
              "      <th>BBDC4.SA</th>\n",
              "      <td>0.095034</td>\n",
              "      <td>0.118436</td>\n",
              "      <td>0.039794</td>\n",
              "      <td>0.037378</td>\n",
              "      <td>0.056603</td>\n",
              "    </tr>\n",
              "    <tr>\n",
              "      <th>ABEV3.SA</th>\n",
              "      <td>0.042527</td>\n",
              "      <td>0.039794</td>\n",
              "      <td>0.069949</td>\n",
              "      <td>0.028030</td>\n",
              "      <td>0.030200</td>\n",
              "    </tr>\n",
              "    <tr>\n",
              "      <th>WEGE3.SA</th>\n",
              "      <td>0.045320</td>\n",
              "      <td>0.037378</td>\n",
              "      <td>0.028030</td>\n",
              "      <td>0.100048</td>\n",
              "      <td>0.031891</td>\n",
              "    </tr>\n",
              "    <tr>\n",
              "      <th>VALE3.SA</th>\n",
              "      <td>0.094537</td>\n",
              "      <td>0.056603</td>\n",
              "      <td>0.030200</td>\n",
              "      <td>0.031891</td>\n",
              "      <td>0.176668</td>\n",
              "    </tr>\n",
              "  </tbody>\n",
              "</table>\n",
              "</div>"
            ],
            "text/plain": [
              "          PETR4.SA  BBDC4.SA  ABEV3.SA  WEGE3.SA  VALE3.SA\n",
              "PETR4.SA  0.224530  0.095034  0.042527  0.045320  0.094537\n",
              "BBDC4.SA  0.095034  0.118436  0.039794  0.037378  0.056603\n",
              "ABEV3.SA  0.042527  0.039794  0.069949  0.028030  0.030200\n",
              "WEGE3.SA  0.045320  0.037378  0.028030  0.100048  0.031891\n",
              "VALE3.SA  0.094537  0.056603  0.030200  0.031891  0.176668"
            ]
          },
          "metadata": {
            "tags": []
          },
          "execution_count": 68
        }
      ]
    },
    {
      "cell_type": "code",
      "metadata": {
        "id": "nhTuXXywvVkf",
        "colab": {
          "base_uri": "https://localhost:8080/",
          "height": 206
        },
        "outputId": "ef81e0ad-406c-4262-a59c-4160d6ef0438"
      },
      "source": [
        "retorno.corr()"
      ],
      "execution_count": 69,
      "outputs": [
        {
          "output_type": "execute_result",
          "data": {
            "text/html": [
              "<div>\n",
              "<style scoped>\n",
              "    .dataframe tbody tr th:only-of-type {\n",
              "        vertical-align: middle;\n",
              "    }\n",
              "\n",
              "    .dataframe tbody tr th {\n",
              "        vertical-align: top;\n",
              "    }\n",
              "\n",
              "    .dataframe thead th {\n",
              "        text-align: right;\n",
              "    }\n",
              "</style>\n",
              "<table border=\"1\" class=\"dataframe\">\n",
              "  <thead>\n",
              "    <tr style=\"text-align: right;\">\n",
              "      <th></th>\n",
              "      <th>PETR4.SA</th>\n",
              "      <th>BBDC4.SA</th>\n",
              "      <th>ABEV3.SA</th>\n",
              "      <th>WEGE3.SA</th>\n",
              "      <th>VALE3.SA</th>\n",
              "    </tr>\n",
              "  </thead>\n",
              "  <tbody>\n",
              "    <tr>\n",
              "      <th>PETR4.SA</th>\n",
              "      <td>1.000000</td>\n",
              "      <td>0.582775</td>\n",
              "      <td>0.339337</td>\n",
              "      <td>0.302380</td>\n",
              "      <td>0.474662</td>\n",
              "    </tr>\n",
              "    <tr>\n",
              "      <th>BBDC4.SA</th>\n",
              "      <td>0.582775</td>\n",
              "      <td>1.000000</td>\n",
              "      <td>0.437200</td>\n",
              "      <td>0.343375</td>\n",
              "      <td>0.391310</td>\n",
              "    </tr>\n",
              "    <tr>\n",
              "      <th>ABEV3.SA</th>\n",
              "      <td>0.339337</td>\n",
              "      <td>0.437200</td>\n",
              "      <td>1.000000</td>\n",
              "      <td>0.335063</td>\n",
              "      <td>0.271663</td>\n",
              "    </tr>\n",
              "    <tr>\n",
              "      <th>WEGE3.SA</th>\n",
              "      <td>0.302380</td>\n",
              "      <td>0.343375</td>\n",
              "      <td>0.335063</td>\n",
              "      <td>1.000000</td>\n",
              "      <td>0.239878</td>\n",
              "    </tr>\n",
              "    <tr>\n",
              "      <th>VALE3.SA</th>\n",
              "      <td>0.474662</td>\n",
              "      <td>0.391310</td>\n",
              "      <td>0.271663</td>\n",
              "      <td>0.239878</td>\n",
              "      <td>1.000000</td>\n",
              "    </tr>\n",
              "  </tbody>\n",
              "</table>\n",
              "</div>"
            ],
            "text/plain": [
              "          PETR4.SA  BBDC4.SA  ABEV3.SA  WEGE3.SA  VALE3.SA\n",
              "PETR4.SA  1.000000  0.582775  0.339337  0.302380  0.474662\n",
              "BBDC4.SA  0.582775  1.000000  0.437200  0.343375  0.391310\n",
              "ABEV3.SA  0.339337  0.437200  1.000000  0.335063  0.271663\n",
              "WEGE3.SA  0.302380  0.343375  0.335063  1.000000  0.239878\n",
              "VALE3.SA  0.474662  0.391310  0.271663  0.239878  1.000000"
            ]
          },
          "metadata": {
            "tags": []
          },
          "execution_count": 69
        }
      ]
    },
    {
      "cell_type": "code",
      "metadata": {
        "id": "H47tbI_zvVki",
        "colab": {
          "base_uri": "https://localhost:8080/"
        },
        "outputId": "e3d587e4-fdeb-4c7d-c1ec-3f11d9480d0c"
      },
      "source": [
        "num_tickers = len(tickers)\n",
        "num_tickers"
      ],
      "execution_count": 70,
      "outputs": [
        {
          "output_type": "execute_result",
          "data": {
            "text/plain": [
              "5"
            ]
          },
          "metadata": {
            "tags": []
          },
          "execution_count": 70
        }
      ]
    },
    {
      "cell_type": "code",
      "metadata": {
        "id": "h0PkHqn9vVkm",
        "colab": {
          "base_uri": "https://localhost:8080/"
        },
        "outputId": "1941ae73-0c49-47fd-974d-55d9f38cf0d3"
      },
      "source": [
        "weights = np.random.random(num_tickers)\n",
        "weights /= np.sum(weights)\n",
        "weights"
      ],
      "execution_count": 73,
      "outputs": [
        {
          "output_type": "execute_result",
          "data": {
            "text/plain": [
              "array([0.07945328, 0.41672048, 0.0422457 , 0.08014923, 0.38143131])"
            ]
          },
          "metadata": {
            "tags": []
          },
          "execution_count": 73
        }
      ]
    },
    {
      "cell_type": "code",
      "metadata": {
        "id": "1HfdLq1cvVkp",
        "colab": {
          "base_uri": "https://localhost:8080/"
        },
        "outputId": "321b5bab-6078-4804-fafd-850fda2cbb09"
      },
      "source": [
        "weights[0] + weights[1] + weights[2] + weights[3] + weights[4]"
      ],
      "execution_count": 75,
      "outputs": [
        {
          "output_type": "execute_result",
          "data": {
            "text/plain": [
              "1.0"
            ]
          },
          "metadata": {
            "tags": []
          },
          "execution_count": 75
        }
      ]
    },
    {
      "cell_type": "markdown",
      "metadata": {
        "id": "6B0pB1w-AvPk"
      },
      "source": [
        "## Retorno esperado do Portfólio"
      ]
    },
    {
      "cell_type": "code",
      "metadata": {
        "id": "D3Yx5MGOvVku",
        "colab": {
          "base_uri": "https://localhost:8080/"
        },
        "outputId": "4adebd5e-f644-43b4-ad80-4d0bf33995a4"
      },
      "source": [
        "np.sum(weights * retorno.mean()) * 250"
      ],
      "execution_count": 76,
      "outputs": [
        {
          "output_type": "execute_result",
          "data": {
            "text/plain": [
              "0.10090506200589791"
            ]
          },
          "metadata": {
            "tags": []
          },
          "execution_count": 76
        }
      ]
    },
    {
      "cell_type": "markdown",
      "metadata": {
        "id": "5YCIWcXoA5Z3"
      },
      "source": [
        "## Variância esperada do Portfólio\n",
        "\n",
        "---\n",
        "\n"
      ]
    },
    {
      "cell_type": "code",
      "metadata": {
        "id": "mVDC7qCUvVkw",
        "colab": {
          "base_uri": "https://localhost:8080/"
        },
        "outputId": "0eae27be-830e-437e-fbb9-066e2d05a20c"
      },
      "source": [
        "np.dot(weights.T, np.dot(retorno.cov() *250, weights))"
      ],
      "execution_count": 77,
      "outputs": [
        {
          "output_type": "execute_result",
          "data": {
            "text/plain": [
              "0.08634642703154703"
            ]
          },
          "metadata": {
            "tags": []
          },
          "execution_count": 77
        }
      ]
    },
    {
      "cell_type": "markdown",
      "metadata": {
        "id": "c2rt4XyFBUmE"
      },
      "source": [
        "## Volatilidade esperada do Portfólio"
      ]
    },
    {
      "cell_type": "code",
      "metadata": {
        "id": "1w738b1jBC8q",
        "colab": {
          "base_uri": "https://localhost:8080/"
        },
        "outputId": "b1f59881-549b-4dfd-c3cf-772315e50a3e"
      },
      "source": [
        "np.sqrt(np.dot(weights.T, np.dot(retorno.cov() *250, weights)))"
      ],
      "execution_count": 78,
      "outputs": [
        {
          "output_type": "execute_result",
          "data": {
            "text/plain": [
              "0.2938476255332805"
            ]
          },
          "metadata": {
            "tags": []
          },
          "execution_count": 78
        }
      ]
    },
    {
      "cell_type": "markdown",
      "metadata": {
        "id": "AFJBkxwABZ2H"
      },
      "source": [
        "## 1.000 combinações diferentes dos mesmos ativos"
      ]
    },
    {
      "cell_type": "code",
      "metadata": {
        "id": "aRCltcgXBDHJ",
        "colab": {
          "base_uri": "https://localhost:8080/"
        },
        "outputId": "d7da5f33-6bdb-43f5-ffc5-7c693e401bfd"
      },
      "source": [
        "pfolio_returns = []\n",
        "pfolio_volatilities = []\n",
        "\n",
        "for x in range (10000):\n",
        "    weights = np.random.random(num_tickers)\n",
        "    weights /= np.sum(weights)\n",
        "    pfolio_returns.append(np.sum(weights * retorno.mean()) * 250)\n",
        "    pfolio_volatilities.append(np.sqrt(np.dot(weights.T, np.dot(retorno.cov() *250, weights))))\n",
        "\n",
        "pfolio_returns = np.array(pfolio_returns)\n",
        "pfolio_volatilities = np.array(pfolio_volatilities)\n",
        "\n",
        "pfolio_returns, pfolio_volatilities"
      ],
      "execution_count": 79,
      "outputs": [
        {
          "output_type": "execute_result",
          "data": {
            "text/plain": [
              "(array([0.10523859, 0.09231165, 0.12585615, ..., 0.10568824, 0.11581472,\n",
              "        0.11970613]),\n",
              " array([0.28260268, 0.29430501, 0.24965159, ..., 0.25697317, 0.24564413,\n",
              "        0.26691069]))"
            ]
          },
          "metadata": {
            "tags": []
          },
          "execution_count": 79
        }
      ]
    },
    {
      "cell_type": "code",
      "metadata": {
        "id": "FTQ0LiWXBDP7",
        "colab": {
          "base_uri": "https://localhost:8080/",
          "height": 206
        },
        "outputId": "0e2c2f91-bb8d-4caa-f327-86b3bf477649"
      },
      "source": [
        "portfolios = pd.DataFrame({'Retorno': pfolio_returns, 'Volatilidade': pfolio_volatilities})\n",
        "portfolios.head()"
      ],
      "execution_count": 80,
      "outputs": [
        {
          "output_type": "execute_result",
          "data": {
            "text/html": [
              "<div>\n",
              "<style scoped>\n",
              "    .dataframe tbody tr th:only-of-type {\n",
              "        vertical-align: middle;\n",
              "    }\n",
              "\n",
              "    .dataframe tbody tr th {\n",
              "        vertical-align: top;\n",
              "    }\n",
              "\n",
              "    .dataframe thead th {\n",
              "        text-align: right;\n",
              "    }\n",
              "</style>\n",
              "<table border=\"1\" class=\"dataframe\">\n",
              "  <thead>\n",
              "    <tr style=\"text-align: right;\">\n",
              "      <th></th>\n",
              "      <th>Retorno</th>\n",
              "      <th>Volatilidade</th>\n",
              "    </tr>\n",
              "  </thead>\n",
              "  <tbody>\n",
              "    <tr>\n",
              "      <th>0</th>\n",
              "      <td>0.105239</td>\n",
              "      <td>0.282603</td>\n",
              "    </tr>\n",
              "    <tr>\n",
              "      <th>1</th>\n",
              "      <td>0.092312</td>\n",
              "      <td>0.294305</td>\n",
              "    </tr>\n",
              "    <tr>\n",
              "      <th>2</th>\n",
              "      <td>0.125856</td>\n",
              "      <td>0.249652</td>\n",
              "    </tr>\n",
              "    <tr>\n",
              "      <th>3</th>\n",
              "      <td>0.127955</td>\n",
              "      <td>0.257566</td>\n",
              "    </tr>\n",
              "    <tr>\n",
              "      <th>4</th>\n",
              "      <td>0.147113</td>\n",
              "      <td>0.241711</td>\n",
              "    </tr>\n",
              "  </tbody>\n",
              "</table>\n",
              "</div>"
            ],
            "text/plain": [
              "    Retorno  Volatilidade\n",
              "0  0.105239      0.282603\n",
              "1  0.092312      0.294305\n",
              "2  0.125856      0.249652\n",
              "3  0.127955      0.257566\n",
              "4  0.147113      0.241711"
            ]
          },
          "metadata": {
            "tags": []
          },
          "execution_count": 80
        }
      ]
    },
    {
      "cell_type": "code",
      "metadata": {
        "id": "V2HwEubbBDYA",
        "colab": {
          "base_uri": "https://localhost:8080/",
          "height": 405
        },
        "outputId": "640fe299-2065-460f-d659-cde57039bb94"
      },
      "source": [
        "portfolios.plot(x='Volatilidade', y='Retorno', kind='scatter', figsize=(10,6))\n",
        "plt.xlabel('Volatilidade esperada')\n",
        "plt.ylabel('Retorno esperado')"
      ],
      "execution_count": 81,
      "outputs": [
        {
          "output_type": "execute_result",
          "data": {
            "text/plain": [
              "Text(0, 0.5, 'Retorno esperado')"
            ]
          },
          "metadata": {
            "tags": []
          },
          "execution_count": 81
        },
        {
          "output_type": "display_data",
          "data": {
            "image/png": "[encoded data removed]",
            "text/plain": [
              "<Figure size 720x432 with 1 Axes>"
            ]
          },
          "metadata": {
            "tags": [],
            "needs_background": "light"
          }
        }
      ]
    },
    {
      "cell_type": "code",
      "metadata": {
        "id": "pjnBO4kpBDgT",
        "colab": {
          "base_uri": "https://localhost:8080/",
          "height": 384
        },
        "outputId": "df9b4ee4-8bd4-4842-9c77-056feff1f672"
      },
      "source": [
        "(bolsas / bolsas.iloc[0] * 100).plot(figsize = (15, 6));\n",
        "plt.show"
      ],
      "execution_count": 82,
      "outputs": [
        {
          "output_type": "execute_result",
          "data": {
            "text/plain": [
              "<function matplotlib.pyplot.show>"
            ]
          },
          "metadata": {
            "tags": []
          },
          "execution_count": 82
        },
        {
          "output_type": "display_data",
          "data": {
            "image/png": "[encoded data removed]",
            "text/plain": [
              "<Figure size 1080x432 with 1 Axes>"
            ]
          },
          "metadata": {
            "tags": [],
            "needs_background": "light"
          }
        }
      ]
    },
    {
      "cell_type": "code",
      "metadata": {
        "id": "-rfvscLIBDpp",
        "colab": {
          "base_uri": "https://localhost:8080/",
          "height": 384
        },
        "outputId": "39c409b8-feb4-4b66-a297-2b9d93c1cb9c"
      },
      "source": [
        "bolsas.plot(figsize = (15, 6));\n",
        "plt.show"
      ],
      "execution_count": 83,
      "outputs": [
        {
          "output_type": "execute_result",
          "data": {
            "text/plain": [
              "<function matplotlib.pyplot.show>"
            ]
          },
          "metadata": {
            "tags": []
          },
          "execution_count": 83
        },
        {
          "output_type": "display_data",
          "data": {
            "image/png": "[encoded data removed]",
            "text/plain": [
              "<Figure size 1080x432 with 1 Axes>"
            ]
          },
          "metadata": {
            "tags": [],
            "needs_background": "light"
          }
        }
      ]
    },
    {
      "cell_type": "markdown",
      "metadata": {
        "id": "V0j0pxUxB69U"
      },
      "source": [
        "# 5- Modelo de Precificação de Ativos Financeiros (CAPM)\n",
        "\n",
        "### Medindo o Beta\n",
        "### Mede o risco de mercado que não pode ser evitado através da diversificação.\n",
        "### Quanto mais volátil uma ação, maior seu beta. O beta varia entre -1 e 2.\n",
        "### B = 0 nenhuma relação; B < 1 defensiva; B > 1 agressiva\n",
        "### Ações defensivas perdem menos quando a economia está mal e ganham menos quando estão bem; agressivas são o oposto."
      ]
    },
    {
      "cell_type": "code",
      "metadata": {
        "id": "jyX6fVDgCMUi"
      },
      "source": [
        "tickers = ['PETR4.SA','BBDC4.SA','ABEV3.SA','WEGE3.SA','VALE3.SA','^BVSP']\n",
        "data = pd.DataFrame()\n",
        "for t in tickers:\n",
        "    data[t] = wb.DataReader(t, data_source='yahoo',start='2015-1-1')['Adj Close']"
      ],
      "execution_count": 84,
      "outputs": []
    },
    {
      "cell_type": "code",
      "metadata": {
        "id": "JUQPAL2uCNiI"
      },
      "source": [
        "sec_returns = np.log( data / data.shift(1))"
      ],
      "execution_count": 85,
      "outputs": []
    },
    {
      "cell_type": "code",
      "metadata": {
        "id": "6qphYOf1CNrY",
        "colab": {
          "base_uri": "https://localhost:8080/",
          "height": 238
        },
        "outputId": "300e7363-eebc-4dfe-868a-64a796151d54"
      },
      "source": [
        "cov = sec_returns.cov() * 250\n",
        "cov"
      ],
      "execution_count": 86,
      "outputs": [
        {
          "output_type": "execute_result",
          "data": {
            "text/html": [
              "<div>\n",
              "<style scoped>\n",
              "    .dataframe tbody tr th:only-of-type {\n",
              "        vertical-align: middle;\n",
              "    }\n",
              "\n",
              "    .dataframe tbody tr th {\n",
              "        vertical-align: top;\n",
              "    }\n",
              "\n",
              "    .dataframe thead th {\n",
              "        text-align: right;\n",
              "    }\n",
              "</style>\n",
              "<table border=\"1\" class=\"dataframe\">\n",
              "  <thead>\n",
              "    <tr style=\"text-align: right;\">\n",
              "      <th></th>\n",
              "      <th>PETR4.SA</th>\n",
              "      <th>BBDC4.SA</th>\n",
              "      <th>ABEV3.SA</th>\n",
              "      <th>WEGE3.SA</th>\n",
              "      <th>VALE3.SA</th>\n",
              "      <th>^BVSP</th>\n",
              "    </tr>\n",
              "  </thead>\n",
              "  <tbody>\n",
              "    <tr>\n",
              "      <th>PETR4.SA</th>\n",
              "      <td>0.290435</td>\n",
              "      <td>0.127336</td>\n",
              "      <td>0.059335</td>\n",
              "      <td>0.069684</td>\n",
              "      <td>0.128699</td>\n",
              "      <td>0.115564</td>\n",
              "    </tr>\n",
              "    <tr>\n",
              "      <th>BBDC4.SA</th>\n",
              "      <td>0.127336</td>\n",
              "      <td>0.143975</td>\n",
              "      <td>0.052392</td>\n",
              "      <td>0.051475</td>\n",
              "      <td>0.072426</td>\n",
              "      <td>0.086294</td>\n",
              "    </tr>\n",
              "    <tr>\n",
              "      <th>ABEV3.SA</th>\n",
              "      <td>0.059335</td>\n",
              "      <td>0.052392</td>\n",
              "      <td>0.078302</td>\n",
              "      <td>0.040355</td>\n",
              "      <td>0.037260</td>\n",
              "      <td>0.045983</td>\n",
              "    </tr>\n",
              "    <tr>\n",
              "      <th>WEGE3.SA</th>\n",
              "      <td>0.069684</td>\n",
              "      <td>0.051475</td>\n",
              "      <td>0.040355</td>\n",
              "      <td>0.125182</td>\n",
              "      <td>0.042026</td>\n",
              "      <td>0.052818</td>\n",
              "    </tr>\n",
              "    <tr>\n",
              "      <th>VALE3.SA</th>\n",
              "      <td>0.128699</td>\n",
              "      <td>0.072426</td>\n",
              "      <td>0.037260</td>\n",
              "      <td>0.042026</td>\n",
              "      <td>0.241810</td>\n",
              "      <td>0.079689</td>\n",
              "    </tr>\n",
              "    <tr>\n",
              "      <th>^BVSP</th>\n",
              "      <td>0.115564</td>\n",
              "      <td>0.086294</td>\n",
              "      <td>0.045983</td>\n",
              "      <td>0.052818</td>\n",
              "      <td>0.079689</td>\n",
              "      <td>0.072815</td>\n",
              "    </tr>\n",
              "  </tbody>\n",
              "</table>\n",
              "</div>"
            ],
            "text/plain": [
              "          PETR4.SA  BBDC4.SA  ABEV3.SA  WEGE3.SA  VALE3.SA     ^BVSP\n",
              "PETR4.SA  0.290435  0.127336  0.059335  0.069684  0.128699  0.115564\n",
              "BBDC4.SA  0.127336  0.143975  0.052392  0.051475  0.072426  0.086294\n",
              "ABEV3.SA  0.059335  0.052392  0.078302  0.040355  0.037260  0.045983\n",
              "WEGE3.SA  0.069684  0.051475  0.040355  0.125182  0.042026  0.052818\n",
              "VALE3.SA  0.128699  0.072426  0.037260  0.042026  0.241810  0.079689\n",
              "^BVSP     0.115564  0.086294  0.045983  0.052818  0.079689  0.072815"
            ]
          },
          "metadata": {
            "tags": []
          },
          "execution_count": 86
        }
      ]
    },
    {
      "cell_type": "code",
      "metadata": {
        "id": "GoZNVeiqCNzD",
        "colab": {
          "base_uri": "https://localhost:8080/"
        },
        "outputId": "636833b1-74ca-4a3b-c26d-13c5e8e7c3e5"
      },
      "source": [
        "# Covariação da primeira ação com o mercado.\n",
        "\n",
        "cov_with_market = cov.iloc[0,5]\n",
        "cov_with_market"
      ],
      "execution_count": 87,
      "outputs": [
        {
          "output_type": "execute_result",
          "data": {
            "text/plain": [
              "0.11556351882786128"
            ]
          },
          "metadata": {
            "tags": []
          },
          "execution_count": 87
        }
      ]
    },
    {
      "cell_type": "code",
      "metadata": {
        "id": "E_Zf8fLPCN6F",
        "colab": {
          "base_uri": "https://localhost:8080/"
        },
        "outputId": "688f9272-4fcf-4c91-a773-f35d3498bbc8"
      },
      "source": [
        "market_var = sec_returns['^BVSP'].var() * 250\n",
        "market_var"
      ],
      "execution_count": 88,
      "outputs": [
        {
          "output_type": "execute_result",
          "data": {
            "text/plain": [
              "0.07281537764552444"
            ]
          },
          "metadata": {
            "tags": []
          },
          "execution_count": 88
        }
      ]
    },
    {
      "cell_type": "code",
      "metadata": {
        "id": "N_-klIwICOAt",
        "colab": {
          "base_uri": "https://localhost:8080/"
        },
        "outputId": "4fda2a7e-a3ef-468d-dab3-8cca392ce81d"
      },
      "source": [
        "logn_beta = cov_with_market / market_var\n",
        "logn_beta"
      ],
      "execution_count": 89,
      "outputs": [
        {
          "output_type": "execute_result",
          "data": {
            "text/plain": [
              "1.5870757326898837"
            ]
          },
          "metadata": {
            "tags": []
          },
          "execution_count": 89
        }
      ]
    },
    {
      "cell_type": "code",
      "metadata": {
        "id": "6Z6CA12MCOIc",
        "colab": {
          "base_uri": "https://localhost:8080/"
        },
        "outputId": "40b0dcc6-50e9-4157-f589-efe6961f5a94"
      },
      "source": [
        "# Covariação da seegunda ação com o mercado.\n",
        "\n",
        "cov_with_market = cov.iloc[1,5]\n",
        "cov_with_market"
      ],
      "execution_count": 90,
      "outputs": [
        {
          "output_type": "execute_result",
          "data": {
            "text/plain": [
              "0.08629439856752956"
            ]
          },
          "metadata": {
            "tags": []
          },
          "execution_count": 90
        }
      ]
    },
    {
      "cell_type": "code",
      "metadata": {
        "id": "mQTUdaetCw35",
        "colab": {
          "base_uri": "https://localhost:8080/"
        },
        "outputId": "38518287-46e6-4417-a33d-5842d2778c3d"
      },
      "source": [
        "market_var = sec_returns['^BVSP'].var() * 250\n",
        "market_var"
      ],
      "execution_count": 91,
      "outputs": [
        {
          "output_type": "execute_result",
          "data": {
            "text/plain": [
              "0.07281537764552444"
            ]
          },
          "metadata": {
            "tags": []
          },
          "execution_count": 91
        }
      ]
    },
    {
      "cell_type": "code",
      "metadata": {
        "id": "WH7wP7iRCxKe",
        "colab": {
          "base_uri": "https://localhost:8080/"
        },
        "outputId": "d751f10a-cf49-4739-b958-f5a173e4b48f"
      },
      "source": [
        "vvar_beta = cov_with_market / market_var\n",
        "vvar_beta"
      ],
      "execution_count": 92,
      "outputs": [
        {
          "output_type": "execute_result",
          "data": {
            "text/plain": [
              "1.1851122847652167"
            ]
          },
          "metadata": {
            "tags": []
          },
          "execution_count": 92
        }
      ]
    },
    {
      "cell_type": "markdown",
      "metadata": {
        "id": "-ewAEW0EC7m1"
      },
      "source": [
        "### Ação livre de risco = retorno de 2,5%.\n",
        "### Beta\n",
        "### Prêmio de risco das ações = entre 4,5% e 5,5%\n",
        "### Retorno esperado para valer a pena investir na ação\n"
      ]
    },
    {
      "cell_type": "code",
      "metadata": {
        "id": "CDHsUVuqCxSK",
        "colab": {
          "base_uri": "https://localhost:8080/"
        },
        "outputId": "06598f9d-6994-4c11-d399-8142a1cdbe52"
      },
      "source": [
        "logn_er = 0.025 + logn_beta * 0.05\n",
        "logn_er"
      ],
      "execution_count": 93,
      "outputs": [
        {
          "output_type": "execute_result",
          "data": {
            "text/plain": [
              "0.10435378663449418"
            ]
          },
          "metadata": {
            "tags": []
          },
          "execution_count": 93
        }
      ]
    },
    {
      "cell_type": "code",
      "metadata": {
        "id": "-539zpssCxWI",
        "colab": {
          "base_uri": "https://localhost:8080/"
        },
        "outputId": "493c52be-6922-489c-c65c-c6194ecff118"
      },
      "source": [
        "vvar_beta = 0.025 + vvar_beta * 0.05\n",
        "vvar_beta"
      ],
      "execution_count": 94,
      "outputs": [
        {
          "output_type": "execute_result",
          "data": {
            "text/plain": [
              "0.08425561423826083"
            ]
          },
          "metadata": {
            "tags": []
          },
          "execution_count": 94
        }
      ]
    },
    {
      "cell_type": "markdown",
      "metadata": {
        "id": "EYi7ifK8DLGB"
      },
      "source": [
        "### Se o retorno ficar abaixo do calculado, não vale a pena investir nessa ação."
      ]
    },
    {
      "cell_type": "markdown",
      "metadata": {
        "id": "mtjFXjh8DS2o"
      },
      "source": [
        "## Índice de Sharp\n",
        "### Decidir o melhor portfólio em termos de risco e retorno"
      ]
    },
    {
      "cell_type": "code",
      "metadata": {
        "id": "uipJIR7sCxb3",
        "colab": {
          "base_uri": "https://localhost:8080/"
        },
        "outputId": "0416a90a-5057-4300-8c80-40f4a9bd6112"
      },
      "source": [
        "sharpe_logn = (logn_er - 0.025) / (sec_returns['PETR4.SA'].std() * 250 ** 0.5)\n",
        "sharpe_logn"
      ],
      "execution_count": 95,
      "outputs": [
        {
          "output_type": "execute_result",
          "data": {
            "text/plain": [
              "0.14724581342135498"
            ]
          },
          "metadata": {
            "tags": []
          },
          "execution_count": 95
        }
      ]
    },
    {
      "cell_type": "code",
      "metadata": {
        "id": "Q5BKTommCxei",
        "colab": {
          "base_uri": "https://localhost:8080/"
        },
        "outputId": "036bbd02-a49d-4766-b410-9b9f0aa0e2cd"
      },
      "source": [
        "sharpe_vvar = (logn_er - 0.025) / (sec_returns['BBDC4.SA'].std() * 250 ** 0.5)\n",
        "sharpe_vvar"
      ],
      "execution_count": 96,
      "outputs": [
        {
          "output_type": "execute_result",
          "data": {
            "text/plain": [
              "0.2091337257552561"
            ]
          },
          "metadata": {
            "tags": []
          },
          "execution_count": 96
        }
      ]
    },
    {
      "cell_type": "markdown",
      "metadata": {
        "id": "4C38gj3P-zRW"
      },
      "source": [
        "# 6- Análise de Regressão Multivariada"
      ]
    },
    {
      "cell_type": "markdown",
      "metadata": {
        "id": "JVbGLywcDeBZ"
      },
      "source": [
        "# 7- Simulações de Monte Carlo\n",
        "### Observar os possíveis diferentes resultados de um evento futuro\n",
        "### 1 - Prever o preço da ação"
      ]
    },
    {
      "cell_type": "code",
      "metadata": {
        "id": "_zp9DYqyCxhV"
      },
      "source": [
        "log_returns_1 = np.log(1 + data['BBDC4.SA'].pct_change())"
      ],
      "execution_count": 97,
      "outputs": []
    },
    {
      "cell_type": "code",
      "metadata": {
        "id": "flX6Ez98CxkQ",
        "colab": {
          "base_uri": "https://localhost:8080/"
        },
        "outputId": "b9dad1be-f2f0-440a-efdf-c88b296493e4"
      },
      "source": [
        "log_returns_1.tail()"
      ],
      "execution_count": 98,
      "outputs": [
        {
          "output_type": "execute_result",
          "data": {
            "text/plain": [
              "Date\n",
              "2021-06-16    0.004998\n",
              "2021-06-17   -0.004283\n",
              "2021-06-18   -0.012959\n",
              "2021-06-21    0.002533\n",
              "2021-06-22   -0.022662\n",
              "Name: BBDC4.SA, dtype: float64"
            ]
          },
          "metadata": {
            "tags": []
          },
          "execution_count": 98
        }
      ]
    },
    {
      "cell_type": "code",
      "metadata": {
        "id": "KNymZLtOCxnF",
        "colab": {
          "base_uri": "https://localhost:8080/",
          "height": 384
        },
        "outputId": "7cee8fba-8dc2-4566-b004-4a48f911725e"
      },
      "source": [
        "data['BBDC4.SA'].plot(figsize=(10,6))"
      ],
      "execution_count": 99,
      "outputs": [
        {
          "output_type": "execute_result",
          "data": {
            "text/plain": [
              "<matplotlib.axes._subplots.AxesSubplot at 0x7f431e98c9d0>"
            ]
          },
          "metadata": {
            "tags": []
          },
          "execution_count": 99
        },
        {
          "output_type": "display_data",
          "data": {
            "image/png": "[encoded data removed]",
            "text/plain": [
              "<Figure size 720x432 with 1 Axes>"
            ]
          },
          "metadata": {
            "tags": [],
            "needs_background": "light"
          }
        }
      ]
    },
    {
      "cell_type": "code",
      "metadata": {
        "id": "zKKF9gi8Dtry",
        "colab": {
          "base_uri": "https://localhost:8080/",
          "height": 384
        },
        "outputId": "cadb89ac-a974-4a79-92ba-2cbd04a79308"
      },
      "source": [
        "log_returns_1.plot(figsize=(10,6))"
      ],
      "execution_count": 100,
      "outputs": [
        {
          "output_type": "execute_result",
          "data": {
            "text/plain": [
              "<matplotlib.axes._subplots.AxesSubplot at 0x7f431e8a3490>"
            ]
          },
          "metadata": {
            "tags": []
          },
          "execution_count": 100
        },
        {
          "output_type": "display_data",
          "data": {
            "image/png": "[encoded data removed]",
            "text/plain": [
              "<Figure size 720x432 with 1 Axes>"
            ]
          },
          "metadata": {
            "tags": [],
            "needs_background": "light"
          }
        }
      ]
    },
    {
      "cell_type": "code",
      "metadata": {
        "id": "9lAJxjhwDtuz",
        "colab": {
          "base_uri": "https://localhost:8080/"
        },
        "outputId": "acb41f8d-05ac-4dd0-f602-d84aa2a96f06"
      },
      "source": [
        "u = log_returns_1.mean()\n",
        "u"
      ],
      "execution_count": 101,
      "outputs": [
        {
          "output_type": "execute_result",
          "data": {
            "text/plain": [
              "0.00048268051526948716"
            ]
          },
          "metadata": {
            "tags": []
          },
          "execution_count": 101
        }
      ]
    },
    {
      "cell_type": "code",
      "metadata": {
        "id": "8dKiaw4ODtxJ",
        "colab": {
          "base_uri": "https://localhost:8080/"
        },
        "outputId": "bafb1d1f-36c6-478c-bdcc-9cdda7cd8dd7"
      },
      "source": [
        "var = log_returns_1.var()\n",
        "var"
      ],
      "execution_count": 102,
      "outputs": [
        {
          "output_type": "execute_result",
          "data": {
            "text/plain": [
              "0.0005759000988055493"
            ]
          },
          "metadata": {
            "tags": []
          },
          "execution_count": 102
        }
      ]
    },
    {
      "cell_type": "code",
      "metadata": {
        "id": "qwJt1th7Dtz7",
        "colab": {
          "base_uri": "https://localhost:8080/"
        },
        "outputId": "499e0ec0-eb6f-492e-c92f-854483d9e181"
      },
      "source": [
        "drift = u - (0.5 * var)\n",
        "drift"
      ],
      "execution_count": 103,
      "outputs": [
        {
          "output_type": "execute_result",
          "data": {
            "text/plain": [
              "0.0001947304658667125"
            ]
          },
          "metadata": {
            "tags": []
          },
          "execution_count": 103
        }
      ]
    },
    {
      "cell_type": "code",
      "metadata": {
        "id": "T45VbYL1Dt3B",
        "colab": {
          "base_uri": "https://localhost:8080/"
        },
        "outputId": "0bf024e1-0df5-493a-8643-d88d10d63a13"
      },
      "source": [
        "stdev = log_returns_1.std()\n",
        "stdev"
      ],
      "execution_count": 104,
      "outputs": [
        {
          "output_type": "execute_result",
          "data": {
            "text/plain": [
              "0.023997918634863925"
            ]
          },
          "metadata": {
            "tags": []
          },
          "execution_count": 104
        }
      ]
    },
    {
      "cell_type": "code",
      "metadata": {
        "id": "thJkZcP6Dt5e",
        "colab": {
          "base_uri": "https://localhost:8080/"
        },
        "outputId": "ebe69843-c103-4cbe-851b-08691ce8bdb9"
      },
      "source": [
        "type(drift)"
      ],
      "execution_count": 105,
      "outputs": [
        {
          "output_type": "execute_result",
          "data": {
            "text/plain": [
              "float"
            ]
          },
          "metadata": {
            "tags": []
          },
          "execution_count": 105
        }
      ]
    },
    {
      "cell_type": "code",
      "metadata": {
        "id": "5Bc7-riUDt8B",
        "colab": {
          "base_uri": "https://localhost:8080/"
        },
        "outputId": "4edd2f19-73d6-4b6b-b943-34e0fad8baaf"
      },
      "source": [
        "type(stdev)"
      ],
      "execution_count": 106,
      "outputs": [
        {
          "output_type": "execute_result",
          "data": {
            "text/plain": [
              "float"
            ]
          },
          "metadata": {
            "tags": []
          },
          "execution_count": 106
        }
      ]
    },
    {
      "cell_type": "code",
      "metadata": {
        "id": "tQYZb8AADt-a",
        "colab": {
          "base_uri": "https://localhost:8080/"
        },
        "outputId": "12278379-4ede-4d2e-9527-bb762e42980e"
      },
      "source": [
        "np.array(drift)"
      ],
      "execution_count": 107,
      "outputs": [
        {
          "output_type": "execute_result",
          "data": {
            "text/plain": [
              "array(0.00019473)"
            ]
          },
          "metadata": {
            "tags": []
          },
          "execution_count": 107
        }
      ]
    },
    {
      "cell_type": "code",
      "metadata": {
        "id": "a4gZAfOcDuBB",
        "colab": {
          "base_uri": "https://localhost:8080/"
        },
        "outputId": "6aaaa2ee-be4c-4d03-bd1c-9366c0596d93"
      },
      "source": [
        "np.array(stdev)"
      ],
      "execution_count": 108,
      "outputs": [
        {
          "output_type": "execute_result",
          "data": {
            "text/plain": [
              "array(0.02399792)"
            ]
          },
          "metadata": {
            "tags": []
          },
          "execution_count": 108
        }
      ]
    },
    {
      "cell_type": "code",
      "metadata": {
        "id": "2yQNHVxlDuEG",
        "colab": {
          "base_uri": "https://localhost:8080/"
        },
        "outputId": "4c58b4fb-5f27-4b6c-f929-f0ab41d66eb3"
      },
      "source": [
        "norm.ppf(0.95)"
      ],
      "execution_count": 109,
      "outputs": [
        {
          "output_type": "execute_result",
          "data": {
            "text/plain": [
              "1.6448536269514722"
            ]
          },
          "metadata": {
            "tags": []
          },
          "execution_count": 109
        }
      ]
    },
    {
      "cell_type": "code",
      "metadata": {
        "id": "evu84J8ADuGv",
        "colab": {
          "base_uri": "https://localhost:8080/"
        },
        "outputId": "a86148e0-7cf9-498c-b6af-ea12a4fbd8f6"
      },
      "source": [
        "x = np.random.rand(10,2)\n",
        "x"
      ],
      "execution_count": 110,
      "outputs": [
        {
          "output_type": "execute_result",
          "data": {
            "text/plain": [
              "array([[0.1375216 , 0.476666  ],\n",
              "       [0.88895099, 0.23867972],\n",
              "       [0.80562296, 0.27526213],\n",
              "       [0.61073832, 0.78342711],\n",
              "       [0.59390909, 0.86833715],\n",
              "       [0.60692248, 0.48058688],\n",
              "       [0.17308632, 0.98514681],\n",
              "       [0.92913828, 0.35606289],\n",
              "       [0.81974309, 0.15494687],\n",
              "       [0.34971078, 0.83489065]])"
            ]
          },
          "metadata": {
            "tags": []
          },
          "execution_count": 110
        }
      ]
    },
    {
      "cell_type": "code",
      "metadata": {
        "id": "JZ2FQvS7EF7_",
        "colab": {
          "base_uri": "https://localhost:8080/"
        },
        "outputId": "5c2f4c0d-b3e4-4655-f8f2-2bc8b12f552f"
      },
      "source": [
        "norm.ppf(x)"
      ],
      "execution_count": 111,
      "outputs": [
        {
          "output_type": "execute_result",
          "data": {
            "text/plain": [
              "array([[-1.09152213, -0.05852305],\n",
              "       [ 1.22096832, -0.71055597],\n",
              "       [ 0.86187905, -0.59697473],\n",
              "       [ 0.28124386,  0.78381991],\n",
              "       [ 0.23761229,  1.11856515],\n",
              "       [ 0.27130685, -0.04868071],\n",
              "       [-0.94203908,  2.17398355],\n",
              "       [ 1.46940324, -0.3690026 ],\n",
              "       [ 0.91438643, -1.01544503],\n",
              "       [-0.38610141,  0.97367344]])"
            ]
          },
          "metadata": {
            "tags": []
          },
          "execution_count": 111
        }
      ]
    },
    {
      "cell_type": "code",
      "metadata": {
        "id": "aAHHSuzaEF-v",
        "colab": {
          "base_uri": "https://localhost:8080/"
        },
        "outputId": "de3cca6e-f9b8-45ed-865b-2184a9a10e6e"
      },
      "source": [
        "z = norm.ppf(np.random.rand(10,2))\n",
        "z"
      ],
      "execution_count": 112,
      "outputs": [
        {
          "output_type": "execute_result",
          "data": {
            "text/plain": [
              "array([[ 0.04935355, -0.08017416],\n",
              "       [-0.54310184, -0.54576904],\n",
              "       [ 0.9091663 , -2.06664524],\n",
              "       [-0.02889723, -1.38669732],\n",
              "       [ 0.35710849, -1.57986966],\n",
              "       [-0.95940626,  0.26737952],\n",
              "       [-0.30262708, -1.68064958],\n",
              "       [-0.13367516, -0.12217572],\n",
              "       [-0.31083816, -0.46218148],\n",
              "       [-0.54058518, -0.9606841 ]])"
            ]
          },
          "metadata": {
            "tags": []
          },
          "execution_count": 112
        }
      ]
    },
    {
      "cell_type": "code",
      "metadata": {
        "id": "soTfSQOsEGFB"
      },
      "source": [
        "t_intervals = 100\n",
        "iterations = 10"
      ],
      "execution_count": 113,
      "outputs": []
    },
    {
      "cell_type": "code",
      "metadata": {
        "id": "J241choOEGK4",
        "colab": {
          "base_uri": "https://localhost:8080/"
        },
        "outputId": "ef66e193-44f6-496f-f7b1-2d6fb858e5fa"
      },
      "source": [
        "daily_returns = np.exp(np.array(drift) + np.array(stdev) * norm.ppf(np.random.rand(t_intervals, iterations)))\n",
        "daily_returns"
      ],
      "execution_count": 114,
      "outputs": [
        {
          "output_type": "execute_result",
          "data": {
            "text/plain": [
              "array([[0.99151553, 0.97899128, 0.94786244, 0.97595447, 0.98463069,\n",
              "        0.98576133, 1.01422121, 0.9653542 , 1.02556538, 0.99177212],\n",
              "       [1.02197258, 1.00976898, 0.99740602, 1.00658211, 0.98302988,\n",
              "        1.01808452, 0.97556959, 0.98183495, 0.9962146 , 1.02170264],\n",
              "       [1.01280896, 0.97992399, 0.97021274, 1.06926851, 1.0014539 ,\n",
              "        1.0352429 , 1.0068004 , 0.97834923, 1.01436718, 1.03059796],\n",
              "       [0.97229107, 0.98771182, 0.96531641, 0.97911119, 1.02062131,\n",
              "        1.01556032, 1.0115897 , 0.98968399, 0.98846339, 0.99947532],\n",
              "       [0.98662576, 0.98953041, 0.99430909, 1.00900012, 0.96747457,\n",
              "        0.97888376, 1.01609393, 0.96511422, 0.97750688, 1.01639274],\n",
              "       [0.95858922, 0.98125068, 0.98350197, 0.97907067, 0.93945519,\n",
              "        1.01607264, 1.01069609, 0.99434353, 0.98989148, 0.99421844],\n",
              "       [1.01408152, 0.97146863, 1.01857716, 0.98449567, 0.9803813 ,\n",
              "        0.96542801, 0.99841062, 1.00077985, 1.04877441, 1.05194273],\n",
              "       [1.03217829, 0.97864061, 0.99323934, 0.98093289, 1.01209789,\n",
              "        0.99817882, 0.97040126, 1.01128274, 0.97925543, 0.98891677],\n",
              "       [0.98843223, 0.98130007, 1.01043744, 0.96230746, 1.05230335,\n",
              "        0.96668678, 0.97239647, 1.00839079, 1.00978096, 0.98391227],\n",
              "       [1.01360875, 1.02024196, 0.96473298, 0.98708115, 0.99351793,\n",
              "        1.02044915, 0.99945375, 0.97704705, 1.00965468, 1.03321689],\n",
              "       [1.01076752, 0.9760557 , 1.0001713 , 1.0226182 , 0.98615713,\n",
              "        1.00163391, 1.02479947, 1.01841846, 1.01283223, 0.92302855],\n",
              "       [1.01739664, 1.01666534, 0.99508297, 1.03572211, 0.96761465,\n",
              "        0.95297308, 0.97486468, 1.03702142, 1.00753038, 1.01177933],\n",
              "       [1.0208973 , 1.04608306, 0.97419717, 0.97490846, 1.03668239,\n",
              "        0.9806324 , 0.97662014, 1.00307696, 0.98786723, 1.00302553],\n",
              "       [0.99736971, 1.05045942, 1.03635541, 0.9732853 , 0.98651231,\n",
              "        1.01883766, 0.94419654, 1.01718812, 1.03587046, 0.99832428],\n",
              "       [0.98506131, 0.98593968, 1.00401227, 1.01631742, 0.98625101,\n",
              "        0.99599989, 1.03427831, 1.00828837, 0.9827276 , 0.99429054],\n",
              "       [1.00036529, 1.03275714, 1.01888748, 0.98537752, 1.0284088 ,\n",
              "        1.01869027, 1.00509575, 0.99971687, 1.00582452, 1.01160743],\n",
              "       [1.01697241, 1.03162075, 1.02950417, 1.02228607, 0.98732992,\n",
              "        0.96251982, 1.02011439, 1.00595969, 1.04346887, 1.03475642],\n",
              "       [1.04320593, 1.03145864, 0.96918797, 0.97993066, 0.97753308,\n",
              "        1.00252834, 0.95213012, 1.04209361, 1.01814018, 1.02235398],\n",
              "       [1.01713438, 0.98227323, 1.01539041, 1.00282146, 0.99368212,\n",
              "        1.02007035, 1.00444315, 0.99317756, 1.02273909, 0.99785905],\n",
              "       [1.03741433, 0.97485177, 0.9998526 , 1.00709791, 1.00945349,\n",
              "        0.97950678, 0.99322454, 1.04618817, 0.97361005, 1.06741537],\n",
              "       [1.04639388, 0.97709656, 0.99786857, 0.98280264, 0.97926601,\n",
              "        1.00815373, 1.02918254, 0.98867995, 1.02628083, 0.98985221],\n",
              "       [0.99770906, 0.97217023, 1.01086913, 1.02562538, 1.02594039,\n",
              "        1.04300395, 0.99649874, 0.96991665, 0.98076599, 1.00340523],\n",
              "       [1.01533659, 1.02400573, 0.97761498, 0.97463136, 0.9963377 ,\n",
              "        1.007654  , 1.01364864, 1.01439111, 1.00194606, 1.00075364],\n",
              "       [1.00295919, 0.99928925, 0.98692955, 1.00701014, 1.01818183,\n",
              "        1.01090907, 0.99763341, 1.00974223, 0.99329212, 0.9527329 ],\n",
              "       [0.99457963, 0.99252295, 0.99485778, 1.00209145, 1.00146304,\n",
              "        0.98007795, 1.01780583, 1.00143541, 1.01670324, 0.97060105],\n",
              "       [0.95492338, 1.04311164, 1.00271321, 1.00462575, 0.98774477,\n",
              "        0.99893429, 0.97857816, 0.984086  , 0.97114268, 1.01653358],\n",
              "       [0.9901992 , 0.99592087, 1.00910562, 1.00857456, 0.93379115,\n",
              "        0.99606832, 1.00772576, 1.01197146, 1.01964806, 0.98418992],\n",
              "       [1.00836534, 1.01692011, 1.02406086, 0.9833323 , 0.97243293,\n",
              "        0.97279333, 0.98593225, 0.97419498, 1.01797592, 1.00282787],\n",
              "       [0.9510093 , 0.99848231, 0.98744315, 0.95148998, 0.95925466,\n",
              "        1.01126732, 1.00713383, 1.01090081, 0.96871718, 1.00861878],\n",
              "       [0.97737205, 0.98668754, 1.00081357, 0.99475688, 1.0187568 ,\n",
              "        1.01197894, 1.00390998, 1.00824233, 0.96060819, 0.99589141],\n",
              "       [1.01245743, 0.96303008, 0.95614478, 0.97273611, 0.98319397,\n",
              "        0.99994907, 0.98979875, 1.00413201, 1.02017121, 1.00336939],\n",
              "       [0.99941991, 0.98269704, 0.9713828 , 1.04573093, 1.04054155,\n",
              "        1.01439264, 0.99566331, 1.0521758 , 1.00023067, 1.01474819],\n",
              "       [1.01530378, 1.00039773, 1.01608675, 1.0178464 , 0.98934641,\n",
              "        0.94676888, 0.97728182, 0.99924235, 0.9893952 , 0.98652602],\n",
              "       [0.99934422, 0.98725726, 0.98342688, 0.93676722, 0.98082893,\n",
              "        1.00419022, 1.01162608, 1.02255014, 0.99552904, 1.03602243],\n",
              "       [1.04157978, 0.96674358, 1.01612131, 0.98951495, 0.98492734,\n",
              "        1.0076195 , 0.96847752, 1.01838849, 1.0073802 , 0.95333142],\n",
              "       [0.95760831, 1.00418956, 0.98808516, 1.02267449, 0.96764448,\n",
              "        0.99169224, 1.01783311, 1.0069638 , 1.0155967 , 0.99407378],\n",
              "       [1.0234981 , 1.00752834, 1.03011454, 0.99623807, 0.99723339,\n",
              "        1.0123703 , 1.0186873 , 0.98878449, 0.96458762, 0.97746649],\n",
              "       [1.02396707, 1.02273213, 0.97000949, 0.94095846, 0.94538403,\n",
              "        1.02824554, 0.99036646, 1.0232961 , 0.98567311, 0.98976984],\n",
              "       [1.01092024, 0.99008296, 0.99497818, 0.99736381, 1.01112974,\n",
              "        1.01397112, 0.9685322 , 1.01053205, 1.02121983, 1.03475213],\n",
              "       [1.00856111, 1.00161967, 0.98422569, 0.93987074, 1.02361522,\n",
              "        0.98973911, 0.99060712, 1.00344957, 0.96473646, 1.01235277],\n",
              "       [1.00529975, 1.00910914, 0.97618651, 0.99656008, 1.00295817,\n",
              "        0.98421394, 1.01328039, 1.00929565, 0.97475027, 1.02032151],\n",
              "       [1.03241032, 0.98918395, 1.00015014, 1.00381397, 1.02050801,\n",
              "        0.96568994, 1.00983688, 0.98314511, 0.96974543, 0.9908112 ],\n",
              "       [1.02462198, 0.98057163, 1.0325215 , 1.01047408, 1.00399687,\n",
              "        1.03437152, 0.99391603, 0.96934188, 0.97487623, 0.9569549 ],\n",
              "       [1.02095751, 0.99846113, 1.00689117, 0.98494647, 1.04716196,\n",
              "        0.99450883, 0.99515474, 1.02468915, 0.99784884, 1.01281016],\n",
              "       [0.96652847, 1.0100573 , 1.01643038, 1.0213351 , 0.9612015 ,\n",
              "        1.00585071, 1.00800476, 1.06045575, 1.01756274, 1.03221892],\n",
              "       [1.00439659, 1.0170017 , 0.98882987, 1.00195385, 1.05098091,\n",
              "        0.94555685, 1.00456726, 0.95801057, 0.99662918, 0.98312772],\n",
              "       [1.01217795, 0.98686522, 0.9685472 , 1.00087878, 0.99612384,\n",
              "        0.99360726, 1.00916523, 1.00727545, 0.9796549 , 1.02199965],\n",
              "       [1.01625691, 0.99050018, 1.01624155, 1.03303996, 1.05680134,\n",
              "        1.00023396, 0.99379873, 0.98127618, 0.97501815, 1.00059635],\n",
              "       [1.01685985, 1.03683462, 0.98136867, 1.01415982, 1.01515068,\n",
              "        0.97797199, 1.00009363, 1.03612418, 1.00791379, 0.99456734],\n",
              "       [1.00254138, 0.97866039, 0.99542371, 1.01650741, 0.98754023,\n",
              "        1.00410829, 0.95263327, 0.99614199, 0.94823866, 0.99735986],\n",
              "       [1.01452812, 1.01469793, 1.03670889, 1.02473338, 1.0010721 ,\n",
              "        0.95697589, 1.00275145, 0.99836719, 1.00877334, 1.00364318],\n",
              "       [0.98258822, 0.98249012, 0.98449224, 1.00759187, 1.01237599,\n",
              "        1.00610581, 0.98428301, 0.98049808, 0.99280259, 1.036548  ],\n",
              "       [1.02591929, 1.00885361, 0.98262511, 1.05059199, 1.05254552,\n",
              "        0.99162361, 0.97749491, 0.97727685, 0.99633566, 1.01799769],\n",
              "       [0.97810368, 1.01443631, 1.03980066, 1.01816738, 0.99921668,\n",
              "        1.00914052, 0.99242776, 0.98403225, 0.99814309, 1.00785932],\n",
              "       [1.02297733, 1.02754372, 1.02507336, 0.99859225, 1.01409007,\n",
              "        1.0029378 , 0.99923094, 0.99897133, 1.00097524, 1.01533026],\n",
              "       [1.0498103 , 1.01505838, 1.01054828, 1.04846479, 0.99238479,\n",
              "        1.02761686, 1.03157643, 1.03698283, 0.97896734, 0.99965875],\n",
              "       [0.9866289 , 1.0019187 , 0.99613159, 1.04112136, 0.98840318,\n",
              "        0.96764519, 1.00520645, 0.99156319, 1.00963879, 0.99197399],\n",
              "       [0.99852933, 0.98340779, 1.00144225, 0.98070231, 1.02100276,\n",
              "        1.00500735, 0.98026278, 1.00067557, 1.0194982 , 0.98056173],\n",
              "       [1.00508074, 1.00045024, 0.99626391, 1.0238431 , 1.03038642,\n",
              "        1.00233729, 1.00435628, 1.03211082, 1.01011923, 0.98122775],\n",
              "       [0.99142193, 0.95124558, 1.02113574, 0.97029689, 0.96295891,\n",
              "        1.00538287, 0.99903984, 1.01495651, 0.98302722, 0.97880019],\n",
              "       [1.02890306, 0.99280293, 0.985412  , 1.04530415, 1.01626264,\n",
              "        0.95720516, 1.01195644, 1.01102098, 1.01425291, 0.98877394],\n",
              "       [1.03112233, 1.00868382, 0.9914774 , 1.06513217, 0.98211316,\n",
              "        0.99651109, 1.00911839, 0.9617055 , 0.97307033, 0.97966719],\n",
              "       [0.98251382, 0.96538373, 0.97554864, 0.98874272, 0.98006614,\n",
              "        0.97236208, 0.99838975, 0.9924779 , 0.98260805, 1.00413788],\n",
              "       [0.97499357, 1.04215709, 0.97837952, 1.03139284, 1.00204443,\n",
              "        1.01309633, 0.98115016, 0.97151898, 1.02304392, 0.98188131],\n",
              "       [1.01830869, 1.03994139, 1.02426811, 1.00267066, 0.99888861,\n",
              "        0.99716471, 1.02400033, 0.99674517, 0.96225736, 1.00708574],\n",
              "       [0.98455335, 0.99764768, 1.02068253, 0.98059615, 1.0073464 ,\n",
              "        1.01046315, 0.98161574, 1.01853155, 1.00729387, 1.02114082],\n",
              "       [1.02591947, 1.01728591, 1.0148506 , 0.99670745, 0.97931309,\n",
              "        0.98537284, 0.98205861, 1.00897512, 0.99838265, 1.02702123],\n",
              "       [1.01619713, 0.97860975, 1.00165649, 1.02157403, 1.0345902 ,\n",
              "        0.99364656, 0.98032131, 0.97395046, 1.02681815, 1.00421664],\n",
              "       [1.01439346, 1.03242035, 1.01620519, 1.03383782, 0.9950937 ,\n",
              "        0.98064561, 0.9778827 , 1.06145547, 1.03514579, 1.00302134],\n",
              "       [1.00394438, 1.02646569, 1.00455038, 0.95973644, 1.02446769,\n",
              "        0.98828836, 0.97545516, 0.95735144, 0.97565255, 0.98214729],\n",
              "       [0.97901759, 1.03596058, 1.0117139 , 1.01656403, 1.01215787,\n",
              "        0.99606933, 1.04909943, 1.015939  , 1.01698424, 1.05509435],\n",
              "       [1.00726156, 0.98589335, 0.96348589, 0.9895611 , 0.9864942 ,\n",
              "        0.99699495, 1.00584427, 1.01124535, 1.04706353, 0.95261222],\n",
              "       [1.0033268 , 1.02820231, 0.98530111, 1.00880075, 1.02747589,\n",
              "        0.97133447, 1.04632753, 0.99409367, 1.03481737, 0.98909015],\n",
              "       [1.02925036, 1.0020248 , 1.02312851, 1.03076657, 1.01528694,\n",
              "        1.00210391, 0.9932109 , 1.00463341, 1.00034235, 1.01674873],\n",
              "       [0.98288318, 0.97758988, 1.01173211, 0.99573969, 1.03894967,\n",
              "        0.99938595, 1.03544076, 1.00043896, 1.00053696, 1.00983866],\n",
              "       [1.00632249, 0.9837251 , 0.99602201, 0.95547215, 0.98207528,\n",
              "        0.9437415 , 1.01698758, 0.9891452 , 1.00363854, 1.02852622],\n",
              "       [1.01033011, 1.04632775, 0.982926  , 1.00561883, 0.99778215,\n",
              "        0.97220986, 1.02674081, 1.00985314, 1.03031754, 0.98768573],\n",
              "       [0.99044059, 0.99724637, 0.99254316, 1.01731223, 1.00509714,\n",
              "        0.99545943, 0.99298131, 0.98849274, 0.9669315 , 0.99035693],\n",
              "       [0.97385244, 0.99409717, 1.02954427, 1.00770177, 0.99628628,\n",
              "        0.99130094, 0.97763357, 0.98436537, 0.98858761, 1.00975254],\n",
              "       [0.99111149, 1.00484774, 1.01032752, 0.98883013, 0.98665789,\n",
              "        1.02785985, 1.02090832, 0.9906761 , 1.00022315, 0.9828749 ],\n",
              "       [1.0033868 , 0.99764324, 0.99392232, 0.99725654, 1.00606077,\n",
              "        0.98504236, 1.03273696, 1.01100085, 1.03384768, 0.97661361],\n",
              "       [1.00407786, 1.02860071, 1.01161029, 0.9733548 , 1.02009814,\n",
              "        1.01219003, 0.98471319, 0.99922767, 1.00053997, 0.96069213],\n",
              "       [1.04615307, 1.01868207, 1.02410094, 1.02685635, 1.02923254,\n",
              "        1.01581792, 1.01108917, 1.04679304, 0.99794792, 0.99023881],\n",
              "       [1.02812229, 1.02098223, 1.01210327, 1.00408446, 0.99064299,\n",
              "        0.97275707, 0.98017734, 0.97510584, 0.98475327, 0.97222441],\n",
              "       [1.01742579, 1.00395843, 1.04483428, 1.00669459, 0.99888503,\n",
              "        0.9954098 , 1.00588805, 0.99247765, 0.95966435, 0.96036096],\n",
              "       [0.99683459, 1.005825  , 0.94595428, 1.00185477, 1.01630209,\n",
              "        1.00146485, 1.01432581, 0.99122569, 1.03190714, 1.01268963],\n",
              "       [1.01050905, 1.03319164, 1.02482991, 1.00605867, 0.95824372,\n",
              "        0.97287518, 0.96086138, 0.98988701, 0.98254301, 1.03182631],\n",
              "       [0.98907482, 0.98763228, 1.01164446, 1.01059653, 1.05387528,\n",
              "        1.02861722, 0.96037021, 1.04703644, 0.98389453, 0.99133215],\n",
              "       [0.97950492, 0.98961963, 1.00821925, 1.01305714, 1.02652506,\n",
              "        0.98163095, 0.98081058, 1.02951982, 1.02896323, 1.02257661],\n",
              "       [0.98042255, 0.98832802, 1.01859991, 1.0013526 , 0.9861288 ,\n",
              "        1.01176639, 0.97260091, 1.00030146, 0.99465082, 0.98064905],\n",
              "       [0.98613924, 1.01111575, 0.97197059, 0.97893011, 1.00600691,\n",
              "        0.96314736, 0.99233053, 1.01717536, 0.99492628, 0.98789967],\n",
              "       [1.00558612, 0.99237173, 1.00904139, 1.02551216, 1.01393703,\n",
              "        0.990214  , 0.97360613, 0.97716179, 1.00479649, 1.00743109],\n",
              "       [1.05487527, 0.99824189, 1.00306168, 1.00774251, 1.00255015,\n",
              "        1.00259261, 0.97850483, 0.98803764, 0.99669751, 0.96478896],\n",
              "       [0.99163538, 1.01761853, 1.02578757, 1.00588398, 0.96773853,\n",
              "        0.97191594, 0.99525745, 1.00458546, 0.97943053, 1.02682147],\n",
              "       [1.02795533, 0.99781236, 1.04915427, 1.01947098, 0.96784797,\n",
              "        1.01240521, 0.97757918, 1.00769404, 1.01105864, 0.95566541],\n",
              "       [0.99965565, 1.03718509, 1.00313091, 0.98709587, 1.01420856,\n",
              "        1.04450047, 1.0438687 , 0.96297869, 0.99223415, 0.97390697],\n",
              "       [0.99182114, 1.00745075, 0.98125514, 1.03049888, 0.98804299,\n",
              "        1.03417382, 0.99253549, 1.00852593, 0.99129545, 1.04352509],\n",
              "       [0.96494749, 1.0167826 , 0.96232023, 0.9961106 , 0.9861556 ,\n",
              "        1.04767877, 1.00690955, 1.02208157, 0.98391556, 0.98117422],\n",
              "       [0.99644845, 0.98300987, 1.02052108, 0.99301709, 1.01404191,\n",
              "        0.99236971, 0.96668376, 1.02263694, 1.00023394, 1.02803477],\n",
              "       [0.97965663, 1.00007972, 1.01738541, 1.01390838, 1.02588857,\n",
              "        1.04630034, 0.94265401, 1.03178427, 0.96759867, 1.00529932]])"
            ]
          },
          "metadata": {
            "tags": []
          },
          "execution_count": 114
        }
      ]
    },
    {
      "cell_type": "code",
      "metadata": {
        "id": "LtMkkBWLEGNs",
        "colab": {
          "base_uri": "https://localhost:8080/"
        },
        "outputId": "432d3262-7e36-4ecc-9074-c8064416f85c"
      },
      "source": [
        "s0 = data['BBDC4.SA'].iloc[-1]\n",
        "s0"
      ],
      "execution_count": 115,
      "outputs": [
        {
          "output_type": "execute_result",
          "data": {
            "text/plain": [
              "27.049999237060547"
            ]
          },
          "metadata": {
            "tags": []
          },
          "execution_count": 115
        }
      ]
    },
    {
      "cell_type": "code",
      "metadata": {
        "id": "SsKzWTGbEGQp",
        "colab": {
          "base_uri": "https://localhost:8080/"
        },
        "outputId": "347f3924-54ee-4bea-97da-430b392b0fbc"
      },
      "source": [
        "price_list = np.zeros_like(daily_returns)\n",
        "price_list"
      ],
      "execution_count": 116,
      "outputs": [
        {
          "output_type": "execute_result",
          "data": {
            "text/plain": [
              "array([[0., 0., 0., 0., 0., 0., 0., 0., 0., 0.],\n",
              "       [0., 0., 0., 0., 0., 0., 0., 0., 0., 0.],\n",
              "       [0., 0., 0., 0., 0., 0., 0., 0., 0., 0.],\n",
              "       [0., 0., 0., 0., 0., 0., 0., 0., 0., 0.],\n",
              "       [0., 0., 0., 0., 0., 0., 0., 0., 0., 0.],\n",
              "       [0., 0., 0., 0., 0., 0., 0., 0., 0., 0.],\n",
              "       [0., 0., 0., 0., 0., 0., 0., 0., 0., 0.],\n",
              "       [0., 0., 0., 0., 0., 0., 0., 0., 0., 0.],\n",
              "       [0., 0., 0., 0., 0., 0., 0., 0., 0., 0.],\n",
              "       [0., 0., 0., 0., 0., 0., 0., 0., 0., 0.],\n",
              "       [0., 0., 0., 0., 0., 0., 0., 0., 0., 0.],\n",
              "       [0., 0., 0., 0., 0., 0., 0., 0., 0., 0.],\n",
              "       [0., 0., 0., 0., 0., 0., 0., 0., 0., 0.],\n",
              "       [0., 0., 0., 0., 0., 0., 0., 0., 0., 0.],\n",
              "       [0., 0., 0., 0., 0., 0., 0., 0., 0., 0.],\n",
              "       [0., 0., 0., 0., 0., 0., 0., 0., 0., 0.],\n",
              "       [0., 0., 0., 0., 0., 0., 0., 0., 0., 0.],\n",
              "       [0., 0., 0., 0., 0., 0., 0., 0., 0., 0.],\n",
              "       [0., 0., 0., 0., 0., 0., 0., 0., 0., 0.],\n",
              "       [0., 0., 0., 0., 0., 0., 0., 0., 0., 0.],\n",
              "       [0., 0., 0., 0., 0., 0., 0., 0., 0., 0.],\n",
              "       [0., 0., 0., 0., 0., 0., 0., 0., 0., 0.],\n",
              "       [0., 0., 0., 0., 0., 0., 0., 0., 0., 0.],\n",
              "       [0., 0., 0., 0., 0., 0., 0., 0., 0., 0.],\n",
              "       [0., 0., 0., 0., 0., 0., 0., 0., 0., 0.],\n",
              "       [0., 0., 0., 0., 0., 0., 0., 0., 0., 0.],\n",
              "       [0., 0., 0., 0., 0., 0., 0., 0., 0., 0.],\n",
              "       [0., 0., 0., 0., 0., 0., 0., 0., 0., 0.],\n",
              "       [0., 0., 0., 0., 0., 0., 0., 0., 0., 0.],\n",
              "       [0., 0., 0., 0., 0., 0., 0., 0., 0., 0.],\n",
              "       [0., 0., 0., 0., 0., 0., 0., 0., 0., 0.],\n",
              "       [0., 0., 0., 0., 0., 0., 0., 0., 0., 0.],\n",
              "       [0., 0., 0., 0., 0., 0., 0., 0., 0., 0.],\n",
              "       [0., 0., 0., 0., 0., 0., 0., 0., 0., 0.],\n",
              "       [0., 0., 0., 0., 0., 0., 0., 0., 0., 0.],\n",
              "       [0., 0., 0., 0., 0., 0., 0., 0., 0., 0.],\n",
              "       [0., 0., 0., 0., 0., 0., 0., 0., 0., 0.],\n",
              "       [0., 0., 0., 0., 0., 0., 0., 0., 0., 0.],\n",
              "       [0., 0., 0., 0., 0., 0., 0., 0., 0., 0.],\n",
              "       [0., 0., 0., 0., 0., 0., 0., 0., 0., 0.],\n",
              "       [0., 0., 0., 0., 0., 0., 0., 0., 0., 0.],\n",
              "       [0., 0., 0., 0., 0., 0., 0., 0., 0., 0.],\n",
              "       [0., 0., 0., 0., 0., 0., 0., 0., 0., 0.],\n",
              "       [0., 0., 0., 0., 0., 0., 0., 0., 0., 0.],\n",
              "       [0., 0., 0., 0., 0., 0., 0., 0., 0., 0.],\n",
              "       [0., 0., 0., 0., 0., 0., 0., 0., 0., 0.],\n",
              "       [0., 0., 0., 0., 0., 0., 0., 0., 0., 0.],\n",
              "       [0., 0., 0., 0., 0., 0., 0., 0., 0., 0.],\n",
              "       [0., 0., 0., 0., 0., 0., 0., 0., 0., 0.],\n",
              "       [0., 0., 0., 0., 0., 0., 0., 0., 0., 0.],\n",
              "       [0., 0., 0., 0., 0., 0., 0., 0., 0., 0.],\n",
              "       [0., 0., 0., 0., 0., 0., 0., 0., 0., 0.],\n",
              "       [0., 0., 0., 0., 0., 0., 0., 0., 0., 0.],\n",
              "       [0., 0., 0., 0., 0., 0., 0., 0., 0., 0.],\n",
              "       [0., 0., 0., 0., 0., 0., 0., 0., 0., 0.],\n",
              "       [0., 0., 0., 0., 0., 0., 0., 0., 0., 0.],\n",
              "       [0., 0., 0., 0., 0., 0., 0., 0., 0., 0.],\n",
              "       [0., 0., 0., 0., 0., 0., 0., 0., 0., 0.],\n",
              "       [0., 0., 0., 0., 0., 0., 0., 0., 0., 0.],\n",
              "       [0., 0., 0., 0., 0., 0., 0., 0., 0., 0.],\n",
              "       [0., 0., 0., 0., 0., 0., 0., 0., 0., 0.],\n",
              "       [0., 0., 0., 0., 0., 0., 0., 0., 0., 0.],\n",
              "       [0., 0., 0., 0., 0., 0., 0., 0., 0., 0.],\n",
              "       [0., 0., 0., 0., 0., 0., 0., 0., 0., 0.],\n",
              "       [0., 0., 0., 0., 0., 0., 0., 0., 0., 0.],\n",
              "       [0., 0., 0., 0., 0., 0., 0., 0., 0., 0.],\n",
              "       [0., 0., 0., 0., 0., 0., 0., 0., 0., 0.],\n",
              "       [0., 0., 0., 0., 0., 0., 0., 0., 0., 0.],\n",
              "       [0., 0., 0., 0., 0., 0., 0., 0., 0., 0.],\n",
              "       [0., 0., 0., 0., 0., 0., 0., 0., 0., 0.],\n",
              "       [0., 0., 0., 0., 0., 0., 0., 0., 0., 0.],\n",
              "       [0., 0., 0., 0., 0., 0., 0., 0., 0., 0.],\n",
              "       [0., 0., 0., 0., 0., 0., 0., 0., 0., 0.],\n",
              "       [0., 0., 0., 0., 0., 0., 0., 0., 0., 0.],\n",
              "       [0., 0., 0., 0., 0., 0., 0., 0., 0., 0.],\n",
              "       [0., 0., 0., 0., 0., 0., 0., 0., 0., 0.],\n",
              "       [0., 0., 0., 0., 0., 0., 0., 0., 0., 0.],\n",
              "       [0., 0., 0., 0., 0., 0., 0., 0., 0., 0.],\n",
              "       [0., 0., 0., 0., 0., 0., 0., 0., 0., 0.],\n",
              "       [0., 0., 0., 0., 0., 0., 0., 0., 0., 0.],\n",
              "       [0., 0., 0., 0., 0., 0., 0., 0., 0., 0.],\n",
              "       [0., 0., 0., 0., 0., 0., 0., 0., 0., 0.],\n",
              "       [0., 0., 0., 0., 0., 0., 0., 0., 0., 0.],\n",
              "       [0., 0., 0., 0., 0., 0., 0., 0., 0., 0.],\n",
              "       [0., 0., 0., 0., 0., 0., 0., 0., 0., 0.],\n",
              "       [0., 0., 0., 0., 0., 0., 0., 0., 0., 0.],\n",
              "       [0., 0., 0., 0., 0., 0., 0., 0., 0., 0.],\n",
              "       [0., 0., 0., 0., 0., 0., 0., 0., 0., 0.],\n",
              "       [0., 0., 0., 0., 0., 0., 0., 0., 0., 0.],\n",
              "       [0., 0., 0., 0., 0., 0., 0., 0., 0., 0.],\n",
              "       [0., 0., 0., 0., 0., 0., 0., 0., 0., 0.],\n",
              "       [0., 0., 0., 0., 0., 0., 0., 0., 0., 0.],\n",
              "       [0., 0., 0., 0., 0., 0., 0., 0., 0., 0.],\n",
              "       [0., 0., 0., 0., 0., 0., 0., 0., 0., 0.],\n",
              "       [0., 0., 0., 0., 0., 0., 0., 0., 0., 0.],\n",
              "       [0., 0., 0., 0., 0., 0., 0., 0., 0., 0.],\n",
              "       [0., 0., 0., 0., 0., 0., 0., 0., 0., 0.],\n",
              "       [0., 0., 0., 0., 0., 0., 0., 0., 0., 0.],\n",
              "       [0., 0., 0., 0., 0., 0., 0., 0., 0., 0.],\n",
              "       [0., 0., 0., 0., 0., 0., 0., 0., 0., 0.]])"
            ]
          },
          "metadata": {
            "tags": []
          },
          "execution_count": 116
        }
      ]
    },
    {
      "cell_type": "code",
      "metadata": {
        "id": "HUUL5_gtEGTd",
        "colab": {
          "base_uri": "https://localhost:8080/"
        },
        "outputId": "85862ca0-e05a-4801-8fe7-006757c9c6fc"
      },
      "source": [
        "price_list[0] = s0\n",
        "price_list"
      ],
      "execution_count": 117,
      "outputs": [
        {
          "output_type": "execute_result",
          "data": {
            "text/plain": [
              "array([[27.04999924, 27.04999924, 27.04999924, 27.04999924, 27.04999924,\n",
              "        27.04999924, 27.04999924, 27.04999924, 27.04999924, 27.04999924],\n",
              "       [ 0.        ,  0.        ,  0.        ,  0.        ,  0.        ,\n",
              "         0.        ,  0.        ,  0.        ,  0.        ,  0.        ],\n",
              "       [ 0.        ,  0.        ,  0.        ,  0.        ,  0.        ,\n",
              "         0.        ,  0.        ,  0.        ,  0.        ,  0.        ],\n",
              "       [ 0.        ,  0.        ,  0.        ,  0.        ,  0.        ,\n",
              "         0.        ,  0.        ,  0.        ,  0.        ,  0.        ],\n",
              "       [ 0.        ,  0.        ,  0.        ,  0.        ,  0.        ,\n",
              "         0.        ,  0.        ,  0.        ,  0.        ,  0.        ],\n",
              "       [ 0.        ,  0.        ,  0.        ,  0.        ,  0.        ,\n",
              "         0.        ,  0.        ,  0.        ,  0.        ,  0.        ],\n",
              "       [ 0.        ,  0.        ,  0.        ,  0.        ,  0.        ,\n",
              "         0.        ,  0.        ,  0.        ,  0.        ,  0.        ],\n",
              "       [ 0.        ,  0.        ,  0.        ,  0.        ,  0.        ,\n",
              "         0.        ,  0.        ,  0.        ,  0.        ,  0.        ],\n",
              "       [ 0.        ,  0.        ,  0.        ,  0.        ,  0.        ,\n",
              "         0.        ,  0.        ,  0.        ,  0.        ,  0.        ],\n",
              "       [ 0.        ,  0.        ,  0.        ,  0.        ,  0.        ,\n",
              "         0.        ,  0.        ,  0.        ,  0.        ,  0.        ],\n",
              "       [ 0.        ,  0.        ,  0.        ,  0.        ,  0.        ,\n",
              "         0.        ,  0.        ,  0.        ,  0.        ,  0.        ],\n",
              "       [ 0.        ,  0.        ,  0.        ,  0.        ,  0.        ,\n",
              "         0.        ,  0.        ,  0.        ,  0.        ,  0.        ],\n",
              "       [ 0.        ,  0.        ,  0.        ,  0.        ,  0.        ,\n",
              "         0.        ,  0.        ,  0.        ,  0.        ,  0.        ],\n",
              "       [ 0.        ,  0.        ,  0.        ,  0.        ,  0.        ,\n",
              "         0.        ,  0.        ,  0.        ,  0.        ,  0.        ],\n",
              "       [ 0.        ,  0.        ,  0.        ,  0.        ,  0.        ,\n",
              "         0.        ,  0.        ,  0.        ,  0.        ,  0.        ],\n",
              "       [ 0.        ,  0.        ,  0.        ,  0.        ,  0.        ,\n",
              "         0.        ,  0.        ,  0.        ,  0.        ,  0.        ],\n",
              "       [ 0.        ,  0.        ,  0.        ,  0.        ,  0.        ,\n",
              "         0.        ,  0.        ,  0.        ,  0.        ,  0.        ],\n",
              "       [ 0.        ,  0.        ,  0.        ,  0.        ,  0.        ,\n",
              "         0.        ,  0.        ,  0.        ,  0.        ,  0.        ],\n",
              "       [ 0.        ,  0.        ,  0.        ,  0.        ,  0.        ,\n",
              "         0.        ,  0.        ,  0.        ,  0.        ,  0.        ],\n",
              "       [ 0.        ,  0.        ,  0.        ,  0.        ,  0.        ,\n",
              "         0.        ,  0.        ,  0.        ,  0.        ,  0.        ],\n",
              "       [ 0.        ,  0.        ,  0.        ,  0.        ,  0.        ,\n",
              "         0.        ,  0.        ,  0.        ,  0.        ,  0.        ],\n",
              "       [ 0.        ,  0.        ,  0.        ,  0.        ,  0.        ,\n",
              "         0.        ,  0.        ,  0.        ,  0.        ,  0.        ],\n",
              "       [ 0.        ,  0.        ,  0.        ,  0.        ,  0.        ,\n",
              "         0.        ,  0.        ,  0.        ,  0.        ,  0.        ],\n",
              "       [ 0.        ,  0.        ,  0.        ,  0.        ,  0.        ,\n",
              "         0.        ,  0.        ,  0.        ,  0.        ,  0.        ],\n",
              "       [ 0.        ,  0.        ,  0.        ,  0.        ,  0.        ,\n",
              "         0.        ,  0.        ,  0.        ,  0.        ,  0.        ],\n",
              "       [ 0.        ,  0.        ,  0.        ,  0.        ,  0.        ,\n",
              "         0.        ,  0.        ,  0.        ,  0.        ,  0.        ],\n",
              "       [ 0.        ,  0.        ,  0.        ,  0.        ,  0.        ,\n",
              "         0.        ,  0.        ,  0.        ,  0.        ,  0.        ],\n",
              "       [ 0.        ,  0.        ,  0.        ,  0.        ,  0.        ,\n",
              "         0.        ,  0.        ,  0.        ,  0.        ,  0.        ],\n",
              "       [ 0.        ,  0.        ,  0.        ,  0.        ,  0.        ,\n",
              "         0.        ,  0.        ,  0.        ,  0.        ,  0.        ],\n",
              "       [ 0.        ,  0.        ,  0.        ,  0.        ,  0.        ,\n",
              "         0.        ,  0.        ,  0.        ,  0.        ,  0.        ],\n",
              "       [ 0.        ,  0.        ,  0.        ,  0.        ,  0.        ,\n",
              "         0.        ,  0.        ,  0.        ,  0.        ,  0.        ],\n",
              "       [ 0.        ,  0.        ,  0.        ,  0.        ,  0.        ,\n",
              "         0.        ,  0.        ,  0.        ,  0.        ,  0.        ],\n",
              "       [ 0.        ,  0.        ,  0.        ,  0.        ,  0.        ,\n",
              "         0.        ,  0.        ,  0.        ,  0.        ,  0.        ],\n",
              "       [ 0.        ,  0.        ,  0.        ,  0.        ,  0.        ,\n",
              "         0.        ,  0.        ,  0.        ,  0.        ,  0.        ],\n",
              "       [ 0.        ,  0.        ,  0.        ,  0.        ,  0.        ,\n",
              "         0.        ,  0.        ,  0.        ,  0.        ,  0.        ],\n",
              "       [ 0.        ,  0.        ,  0.        ,  0.        ,  0.        ,\n",
              "         0.        ,  0.        ,  0.        ,  0.        ,  0.        ],\n",
              "       [ 0.        ,  0.        ,  0.        ,  0.        ,  0.        ,\n",
              "         0.        ,  0.        ,  0.        ,  0.        ,  0.        ],\n",
              "       [ 0.        ,  0.        ,  0.        ,  0.        ,  0.        ,\n",
              "         0.        ,  0.        ,  0.        ,  0.        ,  0.        ],\n",
              "       [ 0.        ,  0.        ,  0.        ,  0.        ,  0.        ,\n",
              "         0.        ,  0.        ,  0.        ,  0.        ,  0.        ],\n",
              "       [ 0.        ,  0.        ,  0.        ,  0.        ,  0.        ,\n",
              "         0.        ,  0.        ,  0.        ,  0.        ,  0.        ],\n",
              "       [ 0.        ,  0.        ,  0.        ,  0.        ,  0.        ,\n",
              "         0.        ,  0.        ,  0.        ,  0.        ,  0.        ],\n",
              "       [ 0.        ,  0.        ,  0.        ,  0.        ,  0.        ,\n",
              "         0.        ,  0.        ,  0.        ,  0.        ,  0.        ],\n",
              "       [ 0.        ,  0.        ,  0.        ,  0.        ,  0.        ,\n",
              "         0.        ,  0.        ,  0.        ,  0.        ,  0.        ],\n",
              "       [ 0.        ,  0.        ,  0.        ,  0.        ,  0.        ,\n",
              "         0.        ,  0.        ,  0.        ,  0.        ,  0.        ],\n",
              "       [ 0.        ,  0.        ,  0.        ,  0.        ,  0.        ,\n",
              "         0.        ,  0.        ,  0.        ,  0.        ,  0.        ],\n",
              "       [ 0.        ,  0.        ,  0.        ,  0.        ,  0.        ,\n",
              "         0.        ,  0.        ,  0.        ,  0.        ,  0.        ],\n",
              "       [ 0.        ,  0.        ,  0.        ,  0.        ,  0.        ,\n",
              "         0.        ,  0.        ,  0.        ,  0.        ,  0.        ],\n",
              "       [ 0.        ,  0.        ,  0.        ,  0.        ,  0.        ,\n",
              "         0.        ,  0.        ,  0.        ,  0.        ,  0.        ],\n",
              "       [ 0.        ,  0.        ,  0.        ,  0.        ,  0.        ,\n",
              "         0.        ,  0.        ,  0.        ,  0.        ,  0.        ],\n",
              "       [ 0.        ,  0.        ,  0.        ,  0.        ,  0.        ,\n",
              "         0.        ,  0.        ,  0.        ,  0.        ,  0.        ],\n",
              "       [ 0.        ,  0.        ,  0.        ,  0.        ,  0.        ,\n",
              "         0.        ,  0.        ,  0.        ,  0.        ,  0.        ],\n",
              "       [ 0.        ,  0.        ,  0.        ,  0.        ,  0.        ,\n",
              "         0.        ,  0.        ,  0.        ,  0.        ,  0.        ],\n",
              "       [ 0.        ,  0.        ,  0.        ,  0.        ,  0.        ,\n",
              "         0.        ,  0.        ,  0.        ,  0.        ,  0.        ],\n",
              "       [ 0.        ,  0.        ,  0.        ,  0.        ,  0.        ,\n",
              "         0.        ,  0.        ,  0.        ,  0.        ,  0.        ],\n",
              "       [ 0.        ,  0.        ,  0.        ,  0.        ,  0.        ,\n",
              "         0.        ,  0.        ,  0.        ,  0.        ,  0.        ],\n",
              "       [ 0.        ,  0.        ,  0.        ,  0.        ,  0.        ,\n",
              "         0.        ,  0.        ,  0.        ,  0.        ,  0.        ],\n",
              "       [ 0.        ,  0.        ,  0.        ,  0.        ,  0.        ,\n",
              "         0.        ,  0.        ,  0.        ,  0.        ,  0.        ],\n",
              "       [ 0.        ,  0.        ,  0.        ,  0.        ,  0.        ,\n",
              "         0.        ,  0.        ,  0.        ,  0.        ,  0.        ],\n",
              "       [ 0.        ,  0.        ,  0.        ,  0.        ,  0.        ,\n",
              "         0.        ,  0.        ,  0.        ,  0.        ,  0.        ],\n",
              "       [ 0.        ,  0.        ,  0.        ,  0.        ,  0.        ,\n",
              "         0.        ,  0.        ,  0.        ,  0.        ,  0.        ],\n",
              "       [ 0.        ,  0.        ,  0.        ,  0.        ,  0.        ,\n",
              "         0.        ,  0.        ,  0.        ,  0.        ,  0.        ],\n",
              "       [ 0.        ,  0.        ,  0.        ,  0.        ,  0.        ,\n",
              "         0.        ,  0.        ,  0.        ,  0.        ,  0.        ],\n",
              "       [ 0.        ,  0.        ,  0.        ,  0.        ,  0.        ,\n",
              "         0.        ,  0.        ,  0.        ,  0.        ,  0.        ],\n",
              "       [ 0.        ,  0.        ,  0.        ,  0.        ,  0.        ,\n",
              "         0.        ,  0.        ,  0.        ,  0.        ,  0.        ],\n",
              "       [ 0.        ,  0.        ,  0.        ,  0.        ,  0.        ,\n",
              "         0.        ,  0.        ,  0.        ,  0.        ,  0.        ],\n",
              "       [ 0.        ,  0.        ,  0.        ,  0.        ,  0.        ,\n",
              "         0.        ,  0.        ,  0.        ,  0.        ,  0.        ],\n",
              "       [ 0.        ,  0.        ,  0.        ,  0.        ,  0.        ,\n",
              "         0.        ,  0.        ,  0.        ,  0.        ,  0.        ],\n",
              "       [ 0.        ,  0.        ,  0.        ,  0.        ,  0.        ,\n",
              "         0.        ,  0.        ,  0.        ,  0.        ,  0.        ],\n",
              "       [ 0.        ,  0.        ,  0.        ,  0.        ,  0.        ,\n",
              "         0.        ,  0.        ,  0.        ,  0.        ,  0.        ],\n",
              "       [ 0.        ,  0.        ,  0.        ,  0.        ,  0.        ,\n",
              "         0.        ,  0.        ,  0.        ,  0.        ,  0.        ],\n",
              "       [ 0.        ,  0.        ,  0.        ,  0.        ,  0.        ,\n",
              "         0.        ,  0.        ,  0.        ,  0.        ,  0.        ],\n",
              "       [ 0.        ,  0.        ,  0.        ,  0.        ,  0.        ,\n",
              "         0.        ,  0.        ,  0.        ,  0.        ,  0.        ],\n",
              "       [ 0.        ,  0.        ,  0.        ,  0.        ,  0.        ,\n",
              "         0.        ,  0.        ,  0.        ,  0.        ,  0.        ],\n",
              "       [ 0.        ,  0.        ,  0.        ,  0.        ,  0.        ,\n",
              "         0.        ,  0.        ,  0.        ,  0.        ,  0.        ],\n",
              "       [ 0.        ,  0.        ,  0.        ,  0.        ,  0.        ,\n",
              "         0.        ,  0.        ,  0.        ,  0.        ,  0.        ],\n",
              "       [ 0.        ,  0.        ,  0.        ,  0.        ,  0.        ,\n",
              "         0.        ,  0.        ,  0.        ,  0.        ,  0.        ],\n",
              "       [ 0.        ,  0.        ,  0.        ,  0.        ,  0.        ,\n",
              "         0.        ,  0.        ,  0.        ,  0.        ,  0.        ],\n",
              "       [ 0.        ,  0.        ,  0.        ,  0.        ,  0.        ,\n",
              "         0.        ,  0.        ,  0.        ,  0.        ,  0.        ],\n",
              "       [ 0.        ,  0.        ,  0.        ,  0.        ,  0.        ,\n",
              "         0.        ,  0.        ,  0.        ,  0.        ,  0.        ],\n",
              "       [ 0.        ,  0.        ,  0.        ,  0.        ,  0.        ,\n",
              "         0.        ,  0.        ,  0.        ,  0.        ,  0.        ],\n",
              "       [ 0.        ,  0.        ,  0.        ,  0.        ,  0.        ,\n",
              "         0.        ,  0.        ,  0.        ,  0.        ,  0.        ],\n",
              "       [ 0.        ,  0.        ,  0.        ,  0.        ,  0.        ,\n",
              "         0.        ,  0.        ,  0.        ,  0.        ,  0.        ],\n",
              "       [ 0.        ,  0.        ,  0.        ,  0.        ,  0.        ,\n",
              "         0.        ,  0.        ,  0.        ,  0.        ,  0.        ],\n",
              "       [ 0.        ,  0.        ,  0.        ,  0.        ,  0.        ,\n",
              "         0.        ,  0.        ,  0.        ,  0.        ,  0.        ],\n",
              "       [ 0.        ,  0.        ,  0.        ,  0.        ,  0.        ,\n",
              "         0.        ,  0.        ,  0.        ,  0.        ,  0.        ],\n",
              "       [ 0.        ,  0.        ,  0.        ,  0.        ,  0.        ,\n",
              "         0.        ,  0.        ,  0.        ,  0.        ,  0.        ],\n",
              "       [ 0.        ,  0.        ,  0.        ,  0.        ,  0.        ,\n",
              "         0.        ,  0.        ,  0.        ,  0.        ,  0.        ],\n",
              "       [ 0.        ,  0.        ,  0.        ,  0.        ,  0.        ,\n",
              "         0.        ,  0.        ,  0.        ,  0.        ,  0.        ],\n",
              "       [ 0.        ,  0.        ,  0.        ,  0.        ,  0.        ,\n",
              "         0.        ,  0.        ,  0.        ,  0.        ,  0.        ],\n",
              "       [ 0.        ,  0.        ,  0.        ,  0.        ,  0.        ,\n",
              "         0.        ,  0.        ,  0.        ,  0.        ,  0.        ],\n",
              "       [ 0.        ,  0.        ,  0.        ,  0.        ,  0.        ,\n",
              "         0.        ,  0.        ,  0.        ,  0.        ,  0.        ],\n",
              "       [ 0.        ,  0.        ,  0.        ,  0.        ,  0.        ,\n",
              "         0.        ,  0.        ,  0.        ,  0.        ,  0.        ],\n",
              "       [ 0.        ,  0.        ,  0.        ,  0.        ,  0.        ,\n",
              "         0.        ,  0.        ,  0.        ,  0.        ,  0.        ],\n",
              "       [ 0.        ,  0.        ,  0.        ,  0.        ,  0.        ,\n",
              "         0.        ,  0.        ,  0.        ,  0.        ,  0.        ],\n",
              "       [ 0.        ,  0.        ,  0.        ,  0.        ,  0.        ,\n",
              "         0.        ,  0.        ,  0.        ,  0.        ,  0.        ],\n",
              "       [ 0.        ,  0.        ,  0.        ,  0.        ,  0.        ,\n",
              "         0.        ,  0.        ,  0.        ,  0.        ,  0.        ],\n",
              "       [ 0.        ,  0.        ,  0.        ,  0.        ,  0.        ,\n",
              "         0.        ,  0.        ,  0.        ,  0.        ,  0.        ],\n",
              "       [ 0.        ,  0.        ,  0.        ,  0.        ,  0.        ,\n",
              "         0.        ,  0.        ,  0.        ,  0.        ,  0.        ],\n",
              "       [ 0.        ,  0.        ,  0.        ,  0.        ,  0.        ,\n",
              "         0.        ,  0.        ,  0.        ,  0.        ,  0.        ],\n",
              "       [ 0.        ,  0.        ,  0.        ,  0.        ,  0.        ,\n",
              "         0.        ,  0.        ,  0.        ,  0.        ,  0.        ]])"
            ]
          },
          "metadata": {
            "tags": []
          },
          "execution_count": 117
        }
      ]
    },
    {
      "cell_type": "code",
      "metadata": {
        "id": "wFtnUWfmEGV4"
      },
      "source": [
        "for t in range(1, t_intervals):\n",
        "    price_list[t] = price_list[t - 1] * daily_returns[t]"
      ],
      "execution_count": 118,
      "outputs": []
    },
    {
      "cell_type": "code",
      "metadata": {
        "id": "lQnjhkUJEGYs",
        "colab": {
          "base_uri": "https://localhost:8080/"
        },
        "outputId": "e031cc69-691f-40ff-c6cf-99e6e5122965"
      },
      "source": [
        "price_list"
      ],
      "execution_count": 119,
      "outputs": [
        {
          "output_type": "execute_result",
          "data": {
            "text/plain": [
              "array([[27.04999924, 27.04999924, 27.04999924, 27.04999924, 27.04999924,\n",
              "        27.04999924, 27.04999924, 27.04999924, 27.04999924, 27.04999924],\n",
              "       [27.6443574 , 27.31425003, 26.97983196, 27.2280452 , 26.59095746,\n",
              "        27.5391854 , 26.38915662, 26.55863465, 26.94760429, 27.6370557 ],\n",
              "       [27.99845279, 26.7658889 , 26.17617657, 29.11409138, 26.62961805,\n",
              "        28.50974606, 26.56861353, 25.98361987, 27.33476533, 28.48269325],\n",
              "       [27.22264549, 26.4369849 , 25.26829286, 28.50593262, 27.17875572,\n",
              "        28.9533669 , 26.87653587, 25.71557254, 27.01941475, 28.46774898],\n",
              "       [26.85856318, 26.16020059, 25.12449321, 28.76248948, 26.29475499,\n",
              "        28.34198059, 27.30908504, 24.81846478, 26.41166368, 28.93441332],\n",
              "       [25.74632909, 25.66971467, 24.70998854, 28.16050985, 24.70274396,\n",
              "        28.79751113, 27.60118539, 24.67807988, 26.14468091, 28.76712723],\n",
              "       [26.10887655, 24.93732252, 25.16902999, 27.72390004, 24.21810827,\n",
              "        27.80192399, 27.55731674, 24.69732501, 27.41987239, 30.26137023],\n",
              "       [26.9490155 , 24.40467642, 24.99887065, 27.19528534, 24.51109622,\n",
              "        27.75129181, 26.74165498, 24.9759785 , 26.85105894, 29.92597654],\n",
              "       [26.63727545, 23.94831076, 25.25979487, 26.17022601, 25.79310878,\n",
              "        26.8268068 , 26.00349083, 25.18554681, 27.11368795, 29.44453554],\n",
              "       [26.99977542, 24.43307162, 24.36895713, 25.83213685, 25.62591611,\n",
              "        27.37539229, 25.98928655, 24.60746419, 27.37546192, 30.42259135],\n",
              "       [27.29049606, 23.84803877, 24.37313145, 26.41641333, 25.27117986,\n",
              "        27.42012116, 26.633807  , 25.06069589, 27.7267501 , 28.08092036],\n",
              "       [27.76525894, 24.24547446, 24.253288  , 27.36006339, 24.45276375,\n",
              "        26.13063741, 25.96435775, 25.98847847, 27.9355432 , 28.41169466],\n",
              "       [28.34547779, 25.36278019, 23.62748463, 26.67355727, 25.34974952,\n",
              "        25.6245496 , 25.35731469, 26.06844387, 27.59660769, 28.49765514],\n",
              "       [28.27092107, 26.64257128, 24.48647147, 25.96098121, 25.00783997,\n",
              "        26.10725605, 23.94228868, 26.51651133, 28.58651071, 28.44990109],\n",
              "       [27.84859062, 26.2679682 , 24.58471773, 26.38459748, 24.66400749,\n",
              "        26.00282425, 24.76298987, 26.73629006, 28.09275299, 28.28746759],\n",
              "       [27.85876356, 27.12843184, 25.049061  , 25.99878911, 25.36468223,\n",
              "        26.48882394, 24.88917598, 26.72872032, 28.25637987, 28.61581246],\n",
              "       [28.33159393, 27.98625314, 25.78811286, 26.57819986, 25.04330956,\n",
              "        25.496018  , 25.38980651, 26.8880152 , 29.48465281, 29.61039566],\n",
              "       [29.5556867 , 28.86666263, 24.99352881, 26.04479287, 24.48066364,\n",
              "        25.56048054, 24.17439955, 28.01982895, 30.01950975, 30.27230594],\n",
              "       [30.06210511, 28.35494993, 25.37818942, 26.11827731, 24.32599784,\n",
              "        26.07348842, 24.28181002, 27.82866533, 30.70212621, 30.20749429],\n",
              "       [31.18685855, 27.64187302, 25.37444861, 26.30366237, 24.55596343,\n",
              "        25.53915868, 24.11728958, 29.11402032, 29.89189859, 32.24394375],\n",
              "       [32.63373789, 27.00877892, 25.32036463, 25.85130884, 24.04682023,\n",
              "        25.74739801, 24.82109346, 28.78444813, 30.6774825 , 31.91673911],\n",
              "       [32.55897604, 26.2571307 , 25.595575  , 26.51375849, 24.67060422,\n",
              "        26.85463788, 24.7341883 , 27.91851561, 30.0874316 , 32.02542298],\n",
              "       [33.05831963, 26.88745237, 25.02261749, 25.84114055, 24.5802531 ,\n",
              "        27.06018332, 25.07177634, 28.32029398, 30.14598347, 32.04955854],\n",
              "       [33.15614552, 26.86834217, 24.69556064, 26.02229046, 25.02716701,\n",
              "        27.35538471, 25.01244165, 28.59619677, 29.94376769, 30.53466896],\n",
              "       [32.97642683, 26.66744611, 24.56857073, 26.07671481, 25.06378278,\n",
              "        26.81040932, 25.4578089 , 28.63724407, 30.44392572, 29.63698164],\n",
              "       [31.48996085, 27.81712349, 24.63523039, 26.19733906, 24.75662046,\n",
              "        26.78183717, 24.91245577, 28.18151103, 29.56539552, 30.12698707],\n",
              "       [31.18133406, 27.70365374, 24.85954941, 26.4219696 , 23.11751309,\n",
              "        26.67653947, 25.10492337, 28.51888484, 30.14629821, 29.65067686],\n",
              "       [31.4421766 , 28.17240271, 25.45769158, 25.98157611, 22.48023095,\n",
              "        25.95075961, 24.75175347, 27.78295447, 30.68820571, 29.73452526],\n",
              "       [29.90180243, 28.12964577, 25.13802316, 24.72120943, 21.56426624,\n",
              "        26.24315525, 24.92832823, 28.08581123, 29.72819212, 29.99080045],\n",
              "       [29.22518601, 27.75517086, 25.15847458, 24.59159306, 21.96874282,\n",
              "        26.55752035, 25.02579748, 28.31730382, 28.55714469, 29.86758059],\n",
              "       [29.58925674, 26.72906436, 24.05514404, 23.92113048, 21.5995355 ,\n",
              "        26.55616788, 24.77050305, 28.43431129, 29.13317687, 29.9682162 ],\n",
              "       [29.57209244, 26.26657247, 23.36675318, 25.01506599, 22.47521409,\n",
              "        26.93838122, 24.66308104, 29.91789422, 29.13989695, 30.41019319],\n",
              "       [30.02465712, 26.27701938, 23.74264826, 25.46149476, 22.23577233,\n",
              "        25.50442101, 24.10278081, 29.89522704, 28.83087423, 30.00044673],\n",
              "       [30.00496749, 25.94217809, 23.34915853, 23.85149366, 21.80948886,\n",
              "        25.61129016, 24.38300179, 30.56936866, 28.70197256, 31.08113565],\n",
              "       [31.25256746, 25.07943408, 23.72557748, 23.60140961, 21.48076179,\n",
              "        25.80643533, 23.6143892 , 31.13149324, 28.91379876, 29.63062313],\n",
              "       [29.92771821, 25.18450597, 23.44289113, 24.13655944, 20.78574062,\n",
              "        25.59204162, 24.03550728, 31.34828687, 29.36475861, 29.45502563],\n",
              "       [30.63096284, 25.37410351, 24.14886306, 24.04575936, 20.72823467,\n",
              "        25.90862281, 24.4846661 , 30.99669984, 28.32488273, 28.79130057],\n",
              "       [31.36509725, 25.95091105, 23.42462637, 22.62606081, 19.59614206,\n",
              "        26.64042594, 24.24879205, 31.71880197, 27.91907514, 28.49676082],\n",
              "       [31.70761155, 25.69355489, 23.30699209, 22.56641421, 19.81424204,\n",
              "        27.01262264, 23.48573587, 32.05286608, 28.51151311, 29.48708395],\n",
              "       [31.97906391, 25.73516992, 22.93934033, 21.20951237, 20.28215964,\n",
              "        26.73544918, 23.26513714, 32.16343472, 27.50609633, 29.85133111],\n",
              "       [32.14854501, 25.9695953 , 22.39307457, 21.13655327, 20.34215775,\n",
              "        26.31340188, 23.57410724, 32.46241482, 26.81157473, 30.4579551 ],\n",
              "       [33.19048972, 25.68870691, 22.39643677, 21.21716739, 20.75933492,\n",
              "        25.41058752, 23.80600298, 31.91526425, 26.00040198, 30.17808306],\n",
              "       [34.00770525, 25.18961715, 23.12480249, 21.43939764, 20.84230737,\n",
              "        26.28398798, 23.66116805, 30.93680234, 25.34717374, 28.87906441],\n",
              "       [34.72042197, 25.15085369, 23.28415946, 21.11665902, 21.82527145,\n",
              "        26.13965801, 23.54652344, 31.70060583, 25.29264794, 29.24900978],\n",
              "       [33.55827625, 25.40380341, 23.66672708, 21.56718496, 20.97848374,\n",
              "        26.29259348, 23.7350077 , 33.61708964, 25.73685618, 30.19138131],\n",
              "       [33.70581806, 25.83571134, 23.40236669, 21.60932409, 22.04798601,\n",
              "        24.86114181, 23.84341168, 32.20552719, 25.650102  , 29.68198402],\n",
              "       [34.11628576, 25.49636504, 22.66629671, 21.62831387, 21.96252452,\n",
              "        24.70221098, 24.06194198, 32.43983688, 25.12824808, 30.33497737],\n",
              "       [34.6709113 , 25.25415411, 23.03443251, 22.34291252, 23.21002534,\n",
              "        24.70799025, 23.9127273 , 31.83243936, 24.50049801, 30.35306773],\n",
              "       [35.25545751, 26.18438134, 22.60527032, 22.65928407, 23.56167306,\n",
              "        24.16372246, 23.91496633, 32.98236012, 24.69438972, 30.1881699 ],\n",
              "       [35.34505511, 25.62561682, 22.50182211, 23.03333012, 23.26810008,\n",
              "        24.26299396, 22.78219252, 32.85511373, 23.41617509, 30.10846878],\n",
              "       [35.8585522 , 26.00226047, 23.32783912, 23.60302213, 23.2930457 ,\n",
              "        23.21910023, 22.84487667, 32.80146755, 23.62161315, 30.21815942],\n",
              "       [35.23419104, 25.54696397, 22.96607658, 23.78221311, 23.58132025,\n",
              "        23.36087161, 22.485824  , 32.16177607, 23.45159877, 31.3225728 ],\n",
              "       [36.14743642, 25.7731469 , 22.56704362, 24.98540271, 24.82041299,\n",
              "        23.16519188, 21.97977841, 31.43095917, 23.36566408, 31.88630665],\n",
              "       [35.35594052, 26.14521606, 23.46522695, 25.43932198, 24.80097057,\n",
              "        23.37693368, 21.81334233, 30.9290776 , 23.3222761 , 32.13691135],\n",
              "       [36.16832571, 26.86535249, 24.05357909, 25.4035099 , 25.15041798,\n",
              "        23.44561037, 21.79656651, 30.89726163, 23.34502086, 32.62957851],\n",
              "       [37.969881  , 27.26990119, 24.3073029 , 26.63468573, 24.95889229,\n",
              "        24.09310461, 22.48482434, 32.03992995, 22.854013  , 32.61844354],\n",
              "       [37.46218186, 27.32222382, 24.21327221, 27.72994021, 24.66944857,\n",
              "        23.31357673, 22.60189054, 31.76961514, 23.07429799, 32.35664775],\n",
              "       [37.40708735, 26.86888771, 24.24819383, 27.1948164 , 25.18757517,\n",
              "        23.43031594, 22.15579215, 31.79107766, 23.52420537, 31.72769055],\n",
              "       [37.59714294, 26.88098519, 24.15760034, 27.84322504, 25.95293551,\n",
              "        23.48507933, 22.25230889, 32.81191516, 23.76225221, 31.13209034],\n",
              "       [37.27463216, 25.57041845, 24.66818909, 27.01619471, 24.99161045,\n",
              "        23.61149657, 22.23094316, 33.30266693, 23.3589408 , 30.47209584],\n",
              "       [38.35198309, 25.38638633, 24.30832955, 28.24014032, 25.39804004,\n",
              "        22.60104631, 22.49674604, 33.66969504, 23.69187363, 30.13001421],\n",
              "       [39.545586  , 25.60683719, 24.10115926, 30.07948183, 24.94374944,\n",
              "        22.52219319, 22.70188005, 32.3803309 , 23.05385918, 29.51738636],\n",
              "       [38.85408469, 24.72042404, 23.51185319, 29.74086864, 24.44652436,\n",
              "        21.89972658, 22.66532444, 32.13676279, 22.65290753, 29.63952587],\n",
              "       [37.88248271, 25.76256506, 23.00351574, 30.67451891, 24.49650364,\n",
              "        22.18653269, 22.2380868 , 31.22147484, 23.17491931, 29.10249664],\n",
              "       [38.57606132, 26.79155761, 23.56176768, 30.75644005, 24.46927838,\n",
              "        22.1236274 , 22.77180825, 31.11985429, 22.30023657, 29.30870923],\n",
              "       [37.98019058, 26.72853524, 24.04908453, 30.15964657, 24.64903943,\n",
              "        22.35511033, 22.35316532, 31.69655351, 22.46289163, 29.92831942],\n",
              "       [38.96461717, 27.19056233, 24.40622791, 30.06034438, 24.13912705,\n",
              "        22.0281185 , 21.95211839, 31.9810339 , 22.4265612 , 30.73701943],\n",
              "       [39.59573197, 26.6089494 , 24.44665668, 30.70886718, 24.97410425,\n",
              "        21.88816406, 21.52012941, 31.14794253, 23.02800003, 30.86662623],\n",
              "       [40.16565165, 27.47162089, 24.8428193 , 31.74798833, 24.85157374,\n",
              "        21.46453197, 21.04416234, 33.06215401, 23.83733737, 30.9598847 ],\n",
              "       [40.32408038, 28.1986764 , 24.95586345, 30.46970145, 25.45963445,\n",
              "        21.21314714, 20.52763675, 31.65210066, 23.256959  , 30.4071669 ],\n",
              "       [39.47798386, 29.21271713, 25.24819405, 30.9744024 , 25.76916926,\n",
              "        21.12976528, 21.53553206, 32.15660357, 23.6519608 , 32.08242984],\n",
              "       [39.76465561, 28.80062342, 24.3262786 , 30.65106371, 25.42113613,\n",
              "        21.06626936, 21.66139143, 32.51821591, 24.76510559, 30.56211476],\n",
              "       [39.89694471, 29.61286741, 23.9687092 , 30.92081603, 26.11960437,\n",
              "        20.4623935 , 22.66491015, 32.32615259, 25.62736134, 30.22868678],\n",
              "       [41.06394454, 29.67282744, 24.52306981, 31.87214334, 26.51889318,\n",
              "        20.50544455, 22.51103592, 32.47593277, 25.63613489, 30.73497894],\n",
              "       [40.36106027, 29.00785581, 24.81077718, 31.73635805, 27.55179537,\n",
              "        20.49285324, 23.30884406, 32.49018839, 25.64990044, 31.03736999],\n",
              "       [40.61624278, 28.53575592, 24.71208024, 30.3232062 , 27.05793712,\n",
              "        19.33995607, 23.70480496, 32.13751374, 25.74322875, 31.92274896],\n",
              "       [41.03581317, 29.85775339, 24.29014622, 30.49358714, 26.99792665,\n",
              "        18.80249593, 24.3386906 , 32.45416903, 26.52370022, 31.52964361],\n",
              "       [40.64353487, 29.77553632, 24.10901856, 31.02149928, 27.13553874,\n",
              "        18.71712188, 24.16786496, 32.08071032, 25.64660127, 31.22560099],\n",
              "       [39.58080577, 29.59977627, 24.82130194, 31.26041968, 27.03476494,\n",
              "        18.55430059, 23.62731614, 31.57914018, 25.35391214, 31.53012991],\n",
              "       [39.22899125, 29.74326829, 25.07764434, 30.9112447 , 26.67406401,\n",
              "        19.07122061, 24.12132373, 31.28469941, 25.35956977, 30.99017325],\n",
              "       [39.36185211, 29.67317053, 24.92523055, 30.82644107, 26.83572944,\n",
              "        18.78596015, 24.91098247, 31.62885777, 26.21793246, 30.26542487],\n",
              "       [39.52236412, 30.5218442 , 25.21461982, 30.00506431, 27.37507781,\n",
              "        19.01496158, 24.53017304, 31.6044298 , 26.23208937, 29.07575556],\n",
              "       [41.34644269, 31.09205534, 25.82231574, 30.81089085, 28.17532079,\n",
              "        19.31573864, 24.8021923 , 33.08329722, 26.1782591 , 28.79194169],\n",
              "       [42.50919914, 31.74443593, 26.13485018, 30.93673677, 27.911684  ,\n",
              "        18.78952127, 24.31054676, 32.25971634, 25.77912632, 27.9922285 ],\n",
              "       [43.24995554, 31.87009415, 27.30658727, 31.14384565, 27.88056321,\n",
              "        18.70327363, 24.45368846, 32.01704747, 24.73930862, 26.88264331],\n",
              "       [43.11305175, 32.05573734, 25.83078306, 31.20161041, 28.33507471,\n",
              "        18.73067104, 24.80400736, 31.73612007, 25.52866926, 27.22377423],\n",
              "       [43.56612898, 33.11971992, 26.47215904, 31.39065057, 27.15190738,\n",
              "        18.22260488, 23.8332128 , 31.41517312, 25.08301542, 28.09020655],\n",
              "       [43.09016119, 32.71010448, 26.78041317, 31.72328257, 28.61472405,\n",
              "        18.7440851 , 22.88870761, 32.89283091, 24.67904157, 27.84672484],\n",
              "       [42.20702497, 32.37056141, 27.00052797, 32.13749798, 29.37373142,\n",
              "        18.39977405, 22.44948667, 33.86382141, 25.39382635, 28.47540942],\n",
              "       [41.38071897, 31.9927329 , 27.50273548, 32.18096726, 28.96628261,\n",
              "        18.61627294, 21.83439118, 33.87403003, 25.25799029, 27.92438312],\n",
              "       [40.80715085, 32.34835614, 26.73184992, 31.50291772, 29.14028045,\n",
              "        17.93021407, 21.66693288, 34.45582882, 25.12983828, 27.58648894],\n",
              "       [41.03510465, 32.10159401, 26.97354304, 32.30662533, 29.54640928,\n",
              "        17.75474903, 21.09505859, 33.66891929, 25.25037327, 27.79148669],\n",
              "       [43.28691706, 32.04515583, 27.05612726, 32.55675958, 29.62175713,\n",
              "        17.80078023, 20.64161667, 33.26615947, 25.16698426, 26.81291945],\n",
              "       [42.92483856, 32.60974425, 27.75383914, 32.74832277, 28.66611576,\n",
              "        17.30086199, 20.54372284, 33.41870008, 24.64931274, 27.53208134],\n",
              "       [44.12481649, 32.53840582, 29.1180587 , 33.38596463, 27.74444195,\n",
              "        17.51548281, 20.08311567, 33.67582498, 24.92190061, 26.31145776],\n",
              "       [44.10962229, 33.74834928, 29.20922481, 32.95514789, 28.13865058,\n",
              "        18.29492997, 20.96413576, 32.42910181, 24.72836087, 25.62491209],\n",
              "       [43.74885568, 33.99979993, 28.66170188, 33.96024285, 27.80219656,\n",
              "        18.9201376 , 20.80764878, 32.70558995, 24.51311168, 26.74023859],\n",
              "       [42.21534845, 34.57040514, 27.58173542, 33.82815796, 27.41729185,\n",
              "        19.82222645, 20.95142033, 33.42778066, 24.11883197, 26.23683287],\n",
              "       [42.06541867, 33.98304932, 28.14774253, 33.59193914, 27.802283  ,\n",
              "        19.6709772 , 20.25339783, 34.18448317, 24.12447425, 26.97237651],\n",
              "       [41.20966608, 33.98575855, 28.63710246, 34.05914847, 28.52204422,\n",
              "        20.58175008, 19.0919466 , 35.27101218, 23.34280908, 27.1153118 ]])"
            ]
          },
          "metadata": {
            "tags": []
          },
          "execution_count": 119
        }
      ]
    },
    {
      "cell_type": "code",
      "metadata": {
        "id": "9B7Vj-U-EGbi",
        "colab": {
          "base_uri": "https://localhost:8080/",
          "height": 548
        },
        "outputId": "f32d82dd-7431-4cb9-ccf5-ed57dc0df72f"
      },
      "source": [
        "plt.figure(figsize=(10,6))\n",
        "plt.plot(price_list)"
      ],
      "execution_count": 120,
      "outputs": [
        {
          "output_type": "execute_result",
          "data": {
            "text/plain": [
              "[<matplotlib.lines.Line2D at 0x7f431ecb9ed0>,\n",
              " <matplotlib.lines.Line2D at 0x7f431ecb9390>,\n",
              " <matplotlib.lines.Line2D at 0x7f431ecb9710>,\n",
              " <matplotlib.lines.Line2D at 0x7f431ecb9a90>,\n",
              " <matplotlib.lines.Line2D at 0x7f431ecb9e10>,\n",
              " <matplotlib.lines.Line2D at 0x7f431ecd3110>,\n",
              " <matplotlib.lines.Line2D at 0x7f431ecd3350>,\n",
              " <matplotlib.lines.Line2D at 0x7f431ecd3510>,\n",
              " <matplotlib.lines.Line2D at 0x7f431ecb9d90>,\n",
              " <matplotlib.lines.Line2D at 0x7f431ecd3150>]"
            ]
          },
          "metadata": {
            "tags": []
          },
          "execution_count": 120
        },
        {
          "output_type": "display_data",
          "data": {
            "image/png": "[encoded data removed]",
            "text/plain": [
              "<Figure size 720x432 with 1 Axes>"
            ]
          },
          "metadata": {
            "tags": [],
            "needs_background": "light"
          }
        }
      ]
    },
    {
      "cell_type": "code",
      "metadata": {
        "id": "gPzmsvIjEGer"
      },
      "source": [
        ""
      ],
      "execution_count": 120,
      "outputs": []
    },
    {
      "cell_type": "code",
      "metadata": {
        "id": "iptWzDpXEGhc"
      },
      "source": [
        ""
      ],
      "execution_count": 120,
      "outputs": []
    },
    {
      "cell_type": "code",
      "metadata": {
        "id": "y1nxOmg0EGkI"
      },
      "source": [
        ""
      ],
      "execution_count": 120,
      "outputs": []
    }
  ]
}