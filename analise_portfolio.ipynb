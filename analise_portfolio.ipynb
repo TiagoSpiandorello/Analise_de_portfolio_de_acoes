{
  "nbformat": 4,
  "nbformat_minor": 0,
  "metadata": {
    "language_info": {
      "codemirror_mode": {
        "name": "ipython",
        "version": 3
      },
      "file_extension": ".py",
      "mimetype": "text/x-python",
      "name": "python",
      "nbconvert_exporter": "python",
      "pygments_lexer": "ipython3",
      "version": "3.8.2-final"
    },
    "orig_nbformat": 2,
    "kernelspec": {
      "name": "python38264bit697db9e16c98461a9db76b9b03748f0d",
      "display_name": "Python 3.8.2 64-bit"
    },
    "colab": {
      "name": "analise_portfolio.ipynb",
      "provenance": [],
      "include_colab_link": true
    }
  },
  "cells": [
    {
      "cell_type": "markdown",
      "metadata": {
        "id": "view-in-github",
        "colab_type": "text"
      },
      "source": [
        "<a href=\"https://colab.research.google.com/github/TiagoSpiandorello/Analise_de_portfolio_de_acoes/blob/main/analise_portfolio.ipynb\" target=\"_parent\"><img src=\"https://colab.research.google.com/assets/colab-badge.svg\" alt=\"Open In Colab\"/></a>"
      ]
    },
    {
      "cell_type": "code",
      "metadata": {
        "id": "oTnah-bnvVhz"
      },
      "source": [
        "# Importação das bibliotecas necessárias para o projeto\n",
        "\n",
        "import numpy as np\n",
        "import pandas as pd\n",
        "import matplotlib.pyplot as plt\n",
        "from pandas_datareader import data as wb\n",
        "from scipy.stats import norm\n",
        "%matplotlib inline"
      ],
      "execution_count": 95,
      "outputs": []
    },
    {
      "cell_type": "code",
      "metadata": {
        "tags": [],
        "id": "RXR1l5OEvViB",
        "colab": {
          "base_uri": "https://localhost:8080/",
          "height": 394
        },
        "outputId": "baeb508d-5a98-4836-e599-6e94bd4e0708"
      },
      "source": [
        "# Extração dos dados de um portfólio de ações do site Yahoo\n",
        "\n",
        "tickers = ['LOGN3.SA','VVAR3.SA','LOGG3.SA','MRFG3.SA','TRIS3.SA']\n",
        "bolsas = pd.DataFrame()\n",
        "for t in tickers:\n",
        "    bolsas[t] = wb.DataReader(t, data_source='yahoo',start='2010-1-1')['Adj Close']\n",
        "\n",
        "bolsas.tail(10)"
      ],
      "execution_count": 96,
      "outputs": [
        {
          "output_type": "execute_result",
          "data": {
            "text/html": [
              "<div>\n",
              "<style scoped>\n",
              "    .dataframe tbody tr th:only-of-type {\n",
              "        vertical-align: middle;\n",
              "    }\n",
              "\n",
              "    .dataframe tbody tr th {\n",
              "        vertical-align: top;\n",
              "    }\n",
              "\n",
              "    .dataframe thead th {\n",
              "        text-align: right;\n",
              "    }\n",
              "</style>\n",
              "<table border=\"1\" class=\"dataframe\">\n",
              "  <thead>\n",
              "    <tr style=\"text-align: right;\">\n",
              "      <th></th>\n",
              "      <th>LOGN3.SA</th>\n",
              "      <th>VVAR3.SA</th>\n",
              "      <th>LOGG3.SA</th>\n",
              "      <th>MRFG3.SA</th>\n",
              "      <th>TRIS3.SA</th>\n",
              "    </tr>\n",
              "    <tr>\n",
              "      <th>Date</th>\n",
              "      <th></th>\n",
              "      <th></th>\n",
              "      <th></th>\n",
              "      <th></th>\n",
              "      <th></th>\n",
              "    </tr>\n",
              "  </thead>\n",
              "  <tbody>\n",
              "    <tr>\n",
              "      <th>2021-06-08</th>\n",
              "      <td>19.450001</td>\n",
              "      <td>15.29</td>\n",
              "      <td>31.620001</td>\n",
              "      <td>18.160000</td>\n",
              "      <td>10.75</td>\n",
              "    </tr>\n",
              "    <tr>\n",
              "      <th>2021-06-09</th>\n",
              "      <td>19.420000</td>\n",
              "      <td>15.08</td>\n",
              "      <td>32.279999</td>\n",
              "      <td>18.430000</td>\n",
              "      <td>10.57</td>\n",
              "    </tr>\n",
              "    <tr>\n",
              "      <th>2021-06-10</th>\n",
              "      <td>19.459999</td>\n",
              "      <td>14.56</td>\n",
              "      <td>32.320000</td>\n",
              "      <td>18.650000</td>\n",
              "      <td>10.58</td>\n",
              "    </tr>\n",
              "    <tr>\n",
              "      <th>2021-06-11</th>\n",
              "      <td>18.990000</td>\n",
              "      <td>14.60</td>\n",
              "      <td>31.690001</td>\n",
              "      <td>18.610001</td>\n",
              "      <td>10.34</td>\n",
              "    </tr>\n",
              "    <tr>\n",
              "      <th>2021-06-14</th>\n",
              "      <td>18.780001</td>\n",
              "      <td>14.80</td>\n",
              "      <td>31.709999</td>\n",
              "      <td>19.059999</td>\n",
              "      <td>10.55</td>\n",
              "    </tr>\n",
              "    <tr>\n",
              "      <th>2021-06-15</th>\n",
              "      <td>18.400000</td>\n",
              "      <td>14.76</td>\n",
              "      <td>31.260000</td>\n",
              "      <td>19.480000</td>\n",
              "      <td>10.41</td>\n",
              "    </tr>\n",
              "    <tr>\n",
              "      <th>2021-06-16</th>\n",
              "      <td>18.639999</td>\n",
              "      <td>14.68</td>\n",
              "      <td>30.719999</td>\n",
              "      <td>19.170000</td>\n",
              "      <td>10.36</td>\n",
              "    </tr>\n",
              "    <tr>\n",
              "      <th>2021-06-17</th>\n",
              "      <td>18.469999</td>\n",
              "      <td>15.06</td>\n",
              "      <td>30.969999</td>\n",
              "      <td>18.660000</td>\n",
              "      <td>10.26</td>\n",
              "    </tr>\n",
              "    <tr>\n",
              "      <th>2021-06-18</th>\n",
              "      <td>18.690001</td>\n",
              "      <td>15.02</td>\n",
              "      <td>32.799999</td>\n",
              "      <td>18.639999</td>\n",
              "      <td>10.53</td>\n",
              "    </tr>\n",
              "    <tr>\n",
              "      <th>2021-06-21</th>\n",
              "      <td>18.549999</td>\n",
              "      <td>15.60</td>\n",
              "      <td>32.419998</td>\n",
              "      <td>18.760000</td>\n",
              "      <td>10.41</td>\n",
              "    </tr>\n",
              "  </tbody>\n",
              "</table>\n",
              "</div>"
            ],
            "text/plain": [
              "             LOGN3.SA  VVAR3.SA   LOGG3.SA   MRFG3.SA  TRIS3.SA\n",
              "Date                                                           \n",
              "2021-06-08  19.450001     15.29  31.620001  18.160000     10.75\n",
              "2021-06-09  19.420000     15.08  32.279999  18.430000     10.57\n",
              "2021-06-10  19.459999     14.56  32.320000  18.650000     10.58\n",
              "2021-06-11  18.990000     14.60  31.690001  18.610001     10.34\n",
              "2021-06-14  18.780001     14.80  31.709999  19.059999     10.55\n",
              "2021-06-15  18.400000     14.76  31.260000  19.480000     10.41\n",
              "2021-06-16  18.639999     14.68  30.719999  19.170000     10.36\n",
              "2021-06-17  18.469999     15.06  30.969999  18.660000     10.26\n",
              "2021-06-18  18.690001     15.02  32.799999  18.639999     10.53\n",
              "2021-06-21  18.549999     15.60  32.419998  18.760000     10.41"
            ]
          },
          "metadata": {
            "tags": []
          },
          "execution_count": 96
        }
      ]
    },
    {
      "cell_type": "markdown",
      "metadata": {
        "id": "qmBuyzkF7K9j"
      },
      "source": [
        "# Taxa de retorno das ações\n",
        "\n",
        "## taxa de retorno simples = (preço final - preço inicial) / preço inicial\n",
        "\n",
        "## taxa de retorno logarítmica = log preço final / log preço inicial"
      ]
    },
    {
      "cell_type": "code",
      "metadata": {
        "id": "77jP9NHJvViW",
        "colab": {
          "base_uri": "https://localhost:8080/",
          "height": 455
        },
        "outputId": "3b286d07-5d90-47ca-a97a-ce4b84823880"
      },
      "source": [
        "# Cálculo da taxa de retorno logarítmica das ações\n",
        "\n",
        "retorno = np.log(bolsas / bolsas.shift(1))\n",
        "retorno"
      ],
      "execution_count": 97,
      "outputs": [
        {
          "output_type": "execute_result",
          "data": {
            "text/html": [
              "<div>\n",
              "<style scoped>\n",
              "    .dataframe tbody tr th:only-of-type {\n",
              "        vertical-align: middle;\n",
              "    }\n",
              "\n",
              "    .dataframe tbody tr th {\n",
              "        vertical-align: top;\n",
              "    }\n",
              "\n",
              "    .dataframe thead th {\n",
              "        text-align: right;\n",
              "    }\n",
              "</style>\n",
              "<table border=\"1\" class=\"dataframe\">\n",
              "  <thead>\n",
              "    <tr style=\"text-align: right;\">\n",
              "      <th></th>\n",
              "      <th>LOGN3.SA</th>\n",
              "      <th>VVAR3.SA</th>\n",
              "      <th>LOGG3.SA</th>\n",
              "      <th>MRFG3.SA</th>\n",
              "      <th>TRIS3.SA</th>\n",
              "    </tr>\n",
              "    <tr>\n",
              "      <th>Date</th>\n",
              "      <th></th>\n",
              "      <th></th>\n",
              "      <th></th>\n",
              "      <th></th>\n",
              "      <th></th>\n",
              "    </tr>\n",
              "  </thead>\n",
              "  <tbody>\n",
              "    <tr>\n",
              "      <th>2010-01-04</th>\n",
              "      <td>NaN</td>\n",
              "      <td>NaN</td>\n",
              "      <td>NaN</td>\n",
              "      <td>NaN</td>\n",
              "      <td>NaN</td>\n",
              "    </tr>\n",
              "    <tr>\n",
              "      <th>2010-01-05</th>\n",
              "      <td>0.011976</td>\n",
              "      <td>-0.025400</td>\n",
              "      <td>NaN</td>\n",
              "      <td>0.069680</td>\n",
              "      <td>0.000000</td>\n",
              "    </tr>\n",
              "    <tr>\n",
              "      <th>2010-01-06</th>\n",
              "      <td>0.007117</td>\n",
              "      <td>-0.009944</td>\n",
              "      <td>NaN</td>\n",
              "      <td>0.026099</td>\n",
              "      <td>-0.025479</td>\n",
              "    </tr>\n",
              "    <tr>\n",
              "      <th>2010-01-07</th>\n",
              "      <td>-0.009501</td>\n",
              "      <td>0.002661</td>\n",
              "      <td>NaN</td>\n",
              "      <td>0.048009</td>\n",
              "      <td>0.022330</td>\n",
              "    </tr>\n",
              "    <tr>\n",
              "      <th>2010-01-08</th>\n",
              "      <td>0.020083</td>\n",
              "      <td>-0.000665</td>\n",
              "      <td>NaN</td>\n",
              "      <td>0.019890</td>\n",
              "      <td>0.006289</td>\n",
              "    </tr>\n",
              "    <tr>\n",
              "      <th>...</th>\n",
              "      <td>...</td>\n",
              "      <td>...</td>\n",
              "      <td>...</td>\n",
              "      <td>...</td>\n",
              "      <td>...</td>\n",
              "    </tr>\n",
              "    <tr>\n",
              "      <th>2021-06-15</th>\n",
              "      <td>-0.020442</td>\n",
              "      <td>-0.002706</td>\n",
              "      <td>-0.014293</td>\n",
              "      <td>0.021796</td>\n",
              "      <td>-0.013359</td>\n",
              "    </tr>\n",
              "    <tr>\n",
              "      <th>2021-06-16</th>\n",
              "      <td>0.012959</td>\n",
              "      <td>-0.005435</td>\n",
              "      <td>-0.017425</td>\n",
              "      <td>-0.016042</td>\n",
              "      <td>-0.004815</td>\n",
              "    </tr>\n",
              "    <tr>\n",
              "      <th>2021-06-17</th>\n",
              "      <td>-0.009162</td>\n",
              "      <td>0.025556</td>\n",
              "      <td>0.008105</td>\n",
              "      <td>-0.026964</td>\n",
              "      <td>-0.009699</td>\n",
              "    </tr>\n",
              "    <tr>\n",
              "      <th>2021-06-18</th>\n",
              "      <td>0.011841</td>\n",
              "      <td>-0.002660</td>\n",
              "      <td>0.057410</td>\n",
              "      <td>-0.001072</td>\n",
              "      <td>0.025975</td>\n",
              "    </tr>\n",
              "    <tr>\n",
              "      <th>2021-06-21</th>\n",
              "      <td>-0.007519</td>\n",
              "      <td>0.037888</td>\n",
              "      <td>-0.011653</td>\n",
              "      <td>0.006417</td>\n",
              "      <td>-0.011461</td>\n",
              "    </tr>\n",
              "  </tbody>\n",
              "</table>\n",
              "<p>2839 rows × 5 columns</p>\n",
              "</div>"
            ],
            "text/plain": [
              "            LOGN3.SA  VVAR3.SA  LOGG3.SA  MRFG3.SA  TRIS3.SA\n",
              "Date                                                        \n",
              "2010-01-04       NaN       NaN       NaN       NaN       NaN\n",
              "2010-01-05  0.011976 -0.025400       NaN  0.069680  0.000000\n",
              "2010-01-06  0.007117 -0.009944       NaN  0.026099 -0.025479\n",
              "2010-01-07 -0.009501  0.002661       NaN  0.048009  0.022330\n",
              "2010-01-08  0.020083 -0.000665       NaN  0.019890  0.006289\n",
              "...              ...       ...       ...       ...       ...\n",
              "2021-06-15 -0.020442 -0.002706 -0.014293  0.021796 -0.013359\n",
              "2021-06-16  0.012959 -0.005435 -0.017425 -0.016042 -0.004815\n",
              "2021-06-17 -0.009162  0.025556  0.008105 -0.026964 -0.009699\n",
              "2021-06-18  0.011841 -0.002660  0.057410 -0.001072  0.025975\n",
              "2021-06-21 -0.007519  0.037888 -0.011653  0.006417 -0.011461\n",
              "\n",
              "[2839 rows x 5 columns]"
            ]
          },
          "metadata": {
            "tags": []
          },
          "execution_count": 97
        }
      ]
    },
    {
      "cell_type": "code",
      "metadata": {
        "id": "nQrEprs0vVid",
        "colab": {
          "base_uri": "https://localhost:8080/"
        },
        "outputId": "792ed32d-4730-43c1-d032-0dd536e322c5"
      },
      "source": [
        "retorno['LOGN3.SA'].mean()"
      ],
      "execution_count": 98,
      "outputs": [
        {
          "output_type": "execute_result",
          "data": {
            "text/plain": [
              "-0.0002355207218311784"
            ]
          },
          "metadata": {
            "tags": []
          },
          "execution_count": 98
        }
      ]
    },
    {
      "cell_type": "code",
      "metadata": {
        "id": "WVvPx2QJvVil",
        "colab": {
          "base_uri": "https://localhost:8080/"
        },
        "outputId": "5701dd9c-b6c9-4ff7-b8ae-94f92ee1c8b3"
      },
      "source": [
        "retorno['VVAR3.SA'].mean()"
      ],
      "execution_count": 99,
      "outputs": [
        {
          "output_type": "execute_result",
          "data": {
            "text/plain": [
              "0.0005133813660468494"
            ]
          },
          "metadata": {
            "tags": []
          },
          "execution_count": 99
        }
      ]
    },
    {
      "cell_type": "code",
      "metadata": {
        "id": "cjZsHPyYvVis",
        "colab": {
          "base_uri": "https://localhost:8080/"
        },
        "outputId": "93840430-a53f-430b-cfbb-3ca06f754ba7"
      },
      "source": [
        "retorno['LOGG3.SA'].mean()"
      ],
      "execution_count": 100,
      "outputs": [
        {
          "output_type": "execute_result",
          "data": {
            "text/plain": [
              "0.0010529680102757133"
            ]
          },
          "metadata": {
            "tags": []
          },
          "execution_count": 100
        }
      ]
    },
    {
      "cell_type": "code",
      "metadata": {
        "id": "NjI6ALtbvVix",
        "colab": {
          "base_uri": "https://localhost:8080/"
        },
        "outputId": "ca01ceb9-801c-42b3-d84e-0c1abfe7c7eb"
      },
      "source": [
        "retorno['MRFG3.SA'].mean()"
      ],
      "execution_count": 101,
      "outputs": [
        {
          "output_type": "execute_result",
          "data": {
            "text/plain": [
              "-4.429092747118286e-06"
            ]
          },
          "metadata": {
            "tags": []
          },
          "execution_count": 101
        }
      ]
    },
    {
      "cell_type": "code",
      "metadata": {
        "id": "vNkpAOUdvVi3",
        "colab": {
          "base_uri": "https://localhost:8080/"
        },
        "outputId": "f32fa365-111b-4e56-8d1a-e7e8ef07e280"
      },
      "source": [
        "retorno['TRIS3.SA'].mean()"
      ],
      "execution_count": 102,
      "outputs": [
        {
          "output_type": "execute_result",
          "data": {
            "text/plain": [
              "0.0005699889932366412"
            ]
          },
          "metadata": {
            "tags": []
          },
          "execution_count": 102
        }
      ]
    },
    {
      "cell_type": "code",
      "metadata": {
        "id": "BgSMIVzyvVi9",
        "colab": {
          "base_uri": "https://localhost:8080/"
        },
        "outputId": "0130bbc5-cdf8-48d6-b722-0cf9fcca9054"
      },
      "source": [
        "retorno['LOGN3.SA'].std()"
      ],
      "execution_count": 103,
      "outputs": [
        {
          "output_type": "execute_result",
          "data": {
            "text/plain": [
              "0.0371067318662129"
            ]
          },
          "metadata": {
            "tags": []
          },
          "execution_count": 103
        }
      ]
    },
    {
      "cell_type": "code",
      "metadata": {
        "id": "T45VlnE6vVjD",
        "colab": {
          "base_uri": "https://localhost:8080/"
        },
        "outputId": "07a55161-4d68-4474-fed6-cdba1103f293"
      },
      "source": [
        "retorno['VVAR3.SA'].std()"
      ],
      "execution_count": 104,
      "outputs": [
        {
          "output_type": "execute_result",
          "data": {
            "text/plain": [
              "0.04178837149851785"
            ]
          },
          "metadata": {
            "tags": []
          },
          "execution_count": 104
        }
      ]
    },
    {
      "cell_type": "code",
      "metadata": {
        "id": "SqDcT5x-vVjJ",
        "colab": {
          "base_uri": "https://localhost:8080/"
        },
        "outputId": "339108bd-2571-45b2-d010-a8ba35fdb40d"
      },
      "source": [
        "retorno['LOGG3.SA'].std()"
      ],
      "execution_count": 105,
      "outputs": [
        {
          "output_type": "execute_result",
          "data": {
            "text/plain": [
              "0.03731005400093433"
            ]
          },
          "metadata": {
            "tags": []
          },
          "execution_count": 105
        }
      ]
    },
    {
      "cell_type": "code",
      "metadata": {
        "id": "fZbYds7YvVjP",
        "colab": {
          "base_uri": "https://localhost:8080/"
        },
        "outputId": "43cb04b1-bf28-4a55-d86b-8c5691f2b17b"
      },
      "source": [
        "retorno['MRFG3.SA'].std()"
      ],
      "execution_count": 106,
      "outputs": [
        {
          "output_type": "execute_result",
          "data": {
            "text/plain": [
              "0.03000438774212902"
            ]
          },
          "metadata": {
            "tags": []
          },
          "execution_count": 106
        }
      ]
    },
    {
      "cell_type": "code",
      "metadata": {
        "id": "K6txPiw9vVjW",
        "colab": {
          "base_uri": "https://localhost:8080/"
        },
        "outputId": "96469777-b895-4ccf-d63b-bbda529e51f4"
      },
      "source": [
        "retorno['TRIS3.SA'].std()"
      ],
      "execution_count": 107,
      "outputs": [
        {
          "output_type": "execute_result",
          "data": {
            "text/plain": [
              "0.031153598094838034"
            ]
          },
          "metadata": {
            "tags": []
          },
          "execution_count": 107
        }
      ]
    },
    {
      "cell_type": "code",
      "metadata": {
        "id": "ie-FU_SwvVjb",
        "colab": {
          "base_uri": "https://localhost:8080/"
        },
        "outputId": "3223cc10-b5fd-43d2-daf9-9489dde09d0f"
      },
      "source": [
        "LOGN_var = retorno['LOGN3.SA'].var()\n",
        "LOGN_var"
      ],
      "execution_count": 108,
      "outputs": [
        {
          "output_type": "execute_result",
          "data": {
            "text/plain": [
              "0.0013769095497910197"
            ]
          },
          "metadata": {
            "tags": []
          },
          "execution_count": 108
        }
      ]
    },
    {
      "cell_type": "code",
      "metadata": {
        "id": "hJR6DQF1vVjh",
        "colab": {
          "base_uri": "https://localhost:8080/"
        },
        "outputId": "81d9e1e2-2c51-4b5e-e4d1-70850db525df"
      },
      "source": [
        "VVAR_var = retorno['VVAR3.SA'].var()\n",
        "VVAR_var"
      ],
      "execution_count": 109,
      "outputs": [
        {
          "output_type": "execute_result",
          "data": {
            "text/plain": [
              "0.0017462679924981387"
            ]
          },
          "metadata": {
            "tags": []
          },
          "execution_count": 109
        }
      ]
    },
    {
      "cell_type": "code",
      "metadata": {
        "id": "aqB9VVupvVjm",
        "colab": {
          "base_uri": "https://localhost:8080/"
        },
        "outputId": "0dcdef78-9881-4438-b8fe-1a2ceba35f92"
      },
      "source": [
        "LOGG_var = retorno['LOGG3.SA'].var()\n",
        "LOGG_var"
      ],
      "execution_count": 110,
      "outputs": [
        {
          "output_type": "execute_result",
          "data": {
            "text/plain": [
              "0.001392040129552636"
            ]
          },
          "metadata": {
            "tags": []
          },
          "execution_count": 110
        }
      ]
    },
    {
      "cell_type": "code",
      "metadata": {
        "id": "lo_L-nYvvVjq",
        "colab": {
          "base_uri": "https://localhost:8080/"
        },
        "outputId": "b5ac6e9f-50e8-4b4c-e8f5-3583af6e0bf0"
      },
      "source": [
        "MRFG_var = retorno['MRFG3.SA'].var()\n",
        "MRFG_var"
      ],
      "execution_count": 111,
      "outputs": [
        {
          "output_type": "execute_result",
          "data": {
            "text/plain": [
              "0.000900263283780022"
            ]
          },
          "metadata": {
            "tags": []
          },
          "execution_count": 111
        }
      ]
    },
    {
      "cell_type": "code",
      "metadata": {
        "id": "topNlYN8vVjv",
        "colab": {
          "base_uri": "https://localhost:8080/"
        },
        "outputId": "31a9c7db-4ac6-4f00-ff64-b79f8b29f5c4"
      },
      "source": [
        "TRIS_var = retorno['TRIS3.SA'].var()\n",
        "TRIS_var"
      ],
      "execution_count": 112,
      "outputs": [
        {
          "output_type": "execute_result",
          "data": {
            "text/plain": [
              "0.0009705466742546961"
            ]
          },
          "metadata": {
            "tags": []
          },
          "execution_count": 112
        }
      ]
    },
    {
      "cell_type": "markdown",
      "metadata": {
        "id": "IFK29V1hvVjy"
      },
      "source": [
        "## Covariância\n",
        "\n",
        "cov > 0 => variáveis se movem na mesma direção\n",
        "\n",
        "cov < 0 => variáveis se movem em direções opostas\n",
        "\n",
        "cov = 0 => variáveis são independentes"
      ]
    },
    {
      "cell_type": "code",
      "metadata": {
        "id": "bRNhQ8LpvVj0",
        "colab": {
          "base_uri": "https://localhost:8080/",
          "height": 206
        },
        "outputId": "35419f5a-5308-4853-a477-46983625da5b"
      },
      "source": [
        "cov_matrix = bolsas.cov()\n",
        "cov_matrix"
      ],
      "execution_count": 113,
      "outputs": [
        {
          "output_type": "execute_result",
          "data": {
            "text/html": [
              "<div>\n",
              "<style scoped>\n",
              "    .dataframe tbody tr th:only-of-type {\n",
              "        vertical-align: middle;\n",
              "    }\n",
              "\n",
              "    .dataframe tbody tr th {\n",
              "        vertical-align: top;\n",
              "    }\n",
              "\n",
              "    .dataframe thead th {\n",
              "        text-align: right;\n",
              "    }\n",
              "</style>\n",
              "<table border=\"1\" class=\"dataframe\">\n",
              "  <thead>\n",
              "    <tr style=\"text-align: right;\">\n",
              "      <th></th>\n",
              "      <th>LOGN3.SA</th>\n",
              "      <th>VVAR3.SA</th>\n",
              "      <th>LOGG3.SA</th>\n",
              "      <th>MRFG3.SA</th>\n",
              "      <th>TRIS3.SA</th>\n",
              "    </tr>\n",
              "  </thead>\n",
              "  <tbody>\n",
              "    <tr>\n",
              "      <th>LOGN3.SA</th>\n",
              "      <td>190.982907</td>\n",
              "      <td>-2.219622</td>\n",
              "      <td>17.471065</td>\n",
              "      <td>23.179668</td>\n",
              "      <td>-4.828057</td>\n",
              "    </tr>\n",
              "    <tr>\n",
              "      <th>VVAR3.SA</th>\n",
              "      <td>-2.219622</td>\n",
              "      <td>13.907225</td>\n",
              "      <td>29.284552</td>\n",
              "      <td>4.757270</td>\n",
              "      <td>10.923714</td>\n",
              "    </tr>\n",
              "    <tr>\n",
              "      <th>LOGG3.SA</th>\n",
              "      <td>17.471065</td>\n",
              "      <td>29.284552</td>\n",
              "      <td>38.826781</td>\n",
              "      <td>20.369517</td>\n",
              "      <td>17.266245</td>\n",
              "    </tr>\n",
              "    <tr>\n",
              "      <th>MRFG3.SA</th>\n",
              "      <td>23.179668</td>\n",
              "      <td>4.757270</td>\n",
              "      <td>20.369517</td>\n",
              "      <td>18.947738</td>\n",
              "      <td>6.652413</td>\n",
              "    </tr>\n",
              "    <tr>\n",
              "      <th>TRIS3.SA</th>\n",
              "      <td>-4.828057</td>\n",
              "      <td>10.923714</td>\n",
              "      <td>17.266245</td>\n",
              "      <td>6.652413</td>\n",
              "      <td>13.514121</td>\n",
              "    </tr>\n",
              "  </tbody>\n",
              "</table>\n",
              "</div>"
            ],
            "text/plain": [
              "            LOGN3.SA   VVAR3.SA   LOGG3.SA   MRFG3.SA   TRIS3.SA\n",
              "LOGN3.SA  190.982907  -2.219622  17.471065  23.179668  -4.828057\n",
              "VVAR3.SA   -2.219622  13.907225  29.284552   4.757270  10.923714\n",
              "LOGG3.SA   17.471065  29.284552  38.826781  20.369517  17.266245\n",
              "MRFG3.SA   23.179668   4.757270  20.369517  18.947738   6.652413\n",
              "TRIS3.SA   -4.828057  10.923714  17.266245   6.652413  13.514121"
            ]
          },
          "metadata": {
            "tags": []
          },
          "execution_count": 113
        }
      ]
    },
    {
      "cell_type": "code",
      "metadata": {
        "id": "fsh9iCwmvVj4",
        "colab": {
          "base_uri": "https://localhost:8080/",
          "height": 206
        },
        "outputId": "dc25dfcb-f8bf-4658-c601-d95f3c685a73"
      },
      "source": [
        "cov_matrix = retorno.cov()\n",
        "cov_matrix"
      ],
      "execution_count": 114,
      "outputs": [
        {
          "output_type": "execute_result",
          "data": {
            "text/html": [
              "<div>\n",
              "<style scoped>\n",
              "    .dataframe tbody tr th:only-of-type {\n",
              "        vertical-align: middle;\n",
              "    }\n",
              "\n",
              "    .dataframe tbody tr th {\n",
              "        vertical-align: top;\n",
              "    }\n",
              "\n",
              "    .dataframe thead th {\n",
              "        text-align: right;\n",
              "    }\n",
              "</style>\n",
              "<table border=\"1\" class=\"dataframe\">\n",
              "  <thead>\n",
              "    <tr style=\"text-align: right;\">\n",
              "      <th></th>\n",
              "      <th>LOGN3.SA</th>\n",
              "      <th>VVAR3.SA</th>\n",
              "      <th>LOGG3.SA</th>\n",
              "      <th>MRFG3.SA</th>\n",
              "      <th>TRIS3.SA</th>\n",
              "    </tr>\n",
              "  </thead>\n",
              "  <tbody>\n",
              "    <tr>\n",
              "      <th>LOGN3.SA</th>\n",
              "      <td>0.001377</td>\n",
              "      <td>0.000293</td>\n",
              "      <td>0.000655</td>\n",
              "      <td>0.000196</td>\n",
              "      <td>0.000245</td>\n",
              "    </tr>\n",
              "    <tr>\n",
              "      <th>VVAR3.SA</th>\n",
              "      <td>0.000293</td>\n",
              "      <td>0.001746</td>\n",
              "      <td>0.000765</td>\n",
              "      <td>0.000184</td>\n",
              "      <td>0.000243</td>\n",
              "    </tr>\n",
              "    <tr>\n",
              "      <th>LOGG3.SA</th>\n",
              "      <td>0.000655</td>\n",
              "      <td>0.000765</td>\n",
              "      <td>0.001392</td>\n",
              "      <td>0.000449</td>\n",
              "      <td>0.000705</td>\n",
              "    </tr>\n",
              "    <tr>\n",
              "      <th>MRFG3.SA</th>\n",
              "      <td>0.000196</td>\n",
              "      <td>0.000184</td>\n",
              "      <td>0.000449</td>\n",
              "      <td>0.000900</td>\n",
              "      <td>0.000191</td>\n",
              "    </tr>\n",
              "    <tr>\n",
              "      <th>TRIS3.SA</th>\n",
              "      <td>0.000245</td>\n",
              "      <td>0.000243</td>\n",
              "      <td>0.000705</td>\n",
              "      <td>0.000191</td>\n",
              "      <td>0.000971</td>\n",
              "    </tr>\n",
              "  </tbody>\n",
              "</table>\n",
              "</div>"
            ],
            "text/plain": [
              "          LOGN3.SA  VVAR3.SA  LOGG3.SA  MRFG3.SA  TRIS3.SA\n",
              "LOGN3.SA  0.001377  0.000293  0.000655  0.000196  0.000245\n",
              "VVAR3.SA  0.000293  0.001746  0.000765  0.000184  0.000243\n",
              "LOGG3.SA  0.000655  0.000765  0.001392  0.000449  0.000705\n",
              "MRFG3.SA  0.000196  0.000184  0.000449  0.000900  0.000191\n",
              "TRIS3.SA  0.000245  0.000243  0.000705  0.000191  0.000971"
            ]
          },
          "metadata": {
            "tags": []
          },
          "execution_count": 114
        }
      ]
    },
    {
      "cell_type": "markdown",
      "metadata": {
        "id": "N9-J52EyvVj-"
      },
      "source": [
        "## Correlação\n",
        "\n",
        "corr = 1 => correlação perfeita\n",
        "\n",
        "corr > 0 => variáveis se movem na mesma direção\n",
        "\n",
        "corr = -1 => correlação perfeitamente negativa\n",
        "\n",
        "corr < 0 => variáveis se movem em direções opostas\n",
        "\n",
        "corr = 0 => variáveis absolutamente independentes"
      ]
    },
    {
      "cell_type": "code",
      "metadata": {
        "id": "FTSIhDLfvVj_",
        "colab": {
          "base_uri": "https://localhost:8080/",
          "height": 206
        },
        "outputId": "02fec189-db2a-4436-d243-bb7a84fdae7c"
      },
      "source": [
        "corr_matrix = retorno.corr()\n",
        "corr_matrix"
      ],
      "execution_count": 115,
      "outputs": [
        {
          "output_type": "execute_result",
          "data": {
            "text/html": [
              "<div>\n",
              "<style scoped>\n",
              "    .dataframe tbody tr th:only-of-type {\n",
              "        vertical-align: middle;\n",
              "    }\n",
              "\n",
              "    .dataframe tbody tr th {\n",
              "        vertical-align: top;\n",
              "    }\n",
              "\n",
              "    .dataframe thead th {\n",
              "        text-align: right;\n",
              "    }\n",
              "</style>\n",
              "<table border=\"1\" class=\"dataframe\">\n",
              "  <thead>\n",
              "    <tr style=\"text-align: right;\">\n",
              "      <th></th>\n",
              "      <th>LOGN3.SA</th>\n",
              "      <th>VVAR3.SA</th>\n",
              "      <th>LOGG3.SA</th>\n",
              "      <th>MRFG3.SA</th>\n",
              "      <th>TRIS3.SA</th>\n",
              "    </tr>\n",
              "  </thead>\n",
              "  <tbody>\n",
              "    <tr>\n",
              "      <th>LOGN3.SA</th>\n",
              "      <td>1.000000</td>\n",
              "      <td>0.189235</td>\n",
              "      <td>0.423503</td>\n",
              "      <td>0.176008</td>\n",
              "      <td>0.211954</td>\n",
              "    </tr>\n",
              "    <tr>\n",
              "      <th>VVAR3.SA</th>\n",
              "      <td>0.189235</td>\n",
              "      <td>1.000000</td>\n",
              "      <td>0.452305</td>\n",
              "      <td>0.146887</td>\n",
              "      <td>0.186449</td>\n",
              "    </tr>\n",
              "    <tr>\n",
              "      <th>LOGG3.SA</th>\n",
              "      <td>0.423503</td>\n",
              "      <td>0.452305</td>\n",
              "      <td>1.000000</td>\n",
              "      <td>0.343589</td>\n",
              "      <td>0.497061</td>\n",
              "    </tr>\n",
              "    <tr>\n",
              "      <th>MRFG3.SA</th>\n",
              "      <td>0.176008</td>\n",
              "      <td>0.146887</td>\n",
              "      <td>0.343589</td>\n",
              "      <td>1.000000</td>\n",
              "      <td>0.204030</td>\n",
              "    </tr>\n",
              "    <tr>\n",
              "      <th>TRIS3.SA</th>\n",
              "      <td>0.211954</td>\n",
              "      <td>0.186449</td>\n",
              "      <td>0.497061</td>\n",
              "      <td>0.204030</td>\n",
              "      <td>1.000000</td>\n",
              "    </tr>\n",
              "  </tbody>\n",
              "</table>\n",
              "</div>"
            ],
            "text/plain": [
              "          LOGN3.SA  VVAR3.SA  LOGG3.SA  MRFG3.SA  TRIS3.SA\n",
              "LOGN3.SA  1.000000  0.189235  0.423503  0.176008  0.211954\n",
              "VVAR3.SA  0.189235  1.000000  0.452305  0.146887  0.186449\n",
              "LOGG3.SA  0.423503  0.452305  1.000000  0.343589  0.497061\n",
              "MRFG3.SA  0.176008  0.146887  0.343589  1.000000  0.204030\n",
              "TRIS3.SA  0.211954  0.186449  0.497061  0.204030  1.000000"
            ]
          },
          "metadata": {
            "tags": []
          },
          "execution_count": 115
        }
      ]
    },
    {
      "cell_type": "code",
      "metadata": {
        "id": "Mv7jEGSzvVkF",
        "colab": {
          "base_uri": "https://localhost:8080/",
          "height": 384
        },
        "outputId": "0ab2c99d-8bb9-488a-b4d3-13ecbbcdc55c"
      },
      "source": [
        "retorno.plot(figsize = (15, 6));\n",
        "plt.show"
      ],
      "execution_count": 116,
      "outputs": [
        {
          "output_type": "execute_result",
          "data": {
            "text/plain": [
              "<function matplotlib.pyplot.show>"
            ]
          },
          "metadata": {
            "tags": []
          },
          "execution_count": 116
        },
        {
          "output_type": "display_data",
          "data": {
            "image/png": "[encoded data removed]",
            "text/plain": [
              "<Figure size 1080x432 with 1 Axes>"
            ]
          },
          "metadata": {
            "tags": [],
            "needs_background": "light"
          }
        }
      ]
    },
    {
      "cell_type": "code",
      "metadata": {
        "id": "elcvL9qtvVkK",
        "colab": {
          "base_uri": "https://localhost:8080/",
          "height": 206
        },
        "outputId": "0b5e1216-226e-422f-91ee-ad738d77b96a"
      },
      "source": [
        "corr_matrix = bolsas.corr()\n",
        "corr_matrix"
      ],
      "execution_count": 117,
      "outputs": [
        {
          "output_type": "execute_result",
          "data": {
            "text/html": [
              "<div>\n",
              "<style scoped>\n",
              "    .dataframe tbody tr th:only-of-type {\n",
              "        vertical-align: middle;\n",
              "    }\n",
              "\n",
              "    .dataframe tbody tr th {\n",
              "        vertical-align: top;\n",
              "    }\n",
              "\n",
              "    .dataframe thead th {\n",
              "        text-align: right;\n",
              "    }\n",
              "</style>\n",
              "<table border=\"1\" class=\"dataframe\">\n",
              "  <thead>\n",
              "    <tr style=\"text-align: right;\">\n",
              "      <th></th>\n",
              "      <th>LOGN3.SA</th>\n",
              "      <th>VVAR3.SA</th>\n",
              "      <th>LOGG3.SA</th>\n",
              "      <th>MRFG3.SA</th>\n",
              "      <th>TRIS3.SA</th>\n",
              "    </tr>\n",
              "  </thead>\n",
              "  <tbody>\n",
              "    <tr>\n",
              "      <th>LOGN3.SA</th>\n",
              "      <td>1.000000</td>\n",
              "      <td>-0.043069</td>\n",
              "      <td>0.638876</td>\n",
              "      <td>0.385329</td>\n",
              "      <td>-0.095034</td>\n",
              "    </tr>\n",
              "    <tr>\n",
              "      <th>VVAR3.SA</th>\n",
              "      <td>-0.043069</td>\n",
              "      <td>1.000000</td>\n",
              "      <td>0.921539</td>\n",
              "      <td>0.293062</td>\n",
              "      <td>0.796813</td>\n",
              "    </tr>\n",
              "    <tr>\n",
              "      <th>LOGG3.SA</th>\n",
              "      <td>0.638876</td>\n",
              "      <td>0.921539</td>\n",
              "      <td>1.000000</td>\n",
              "      <td>0.798077</td>\n",
              "      <td>0.847009</td>\n",
              "    </tr>\n",
              "    <tr>\n",
              "      <th>MRFG3.SA</th>\n",
              "      <td>0.385329</td>\n",
              "      <td>0.293062</td>\n",
              "      <td>0.798077</td>\n",
              "      <td>1.000000</td>\n",
              "      <td>0.415725</td>\n",
              "    </tr>\n",
              "    <tr>\n",
              "      <th>TRIS3.SA</th>\n",
              "      <td>-0.095034</td>\n",
              "      <td>0.796813</td>\n",
              "      <td>0.847009</td>\n",
              "      <td>0.415725</td>\n",
              "      <td>1.000000</td>\n",
              "    </tr>\n",
              "  </tbody>\n",
              "</table>\n",
              "</div>"
            ],
            "text/plain": [
              "          LOGN3.SA  VVAR3.SA  LOGG3.SA  MRFG3.SA  TRIS3.SA\n",
              "LOGN3.SA  1.000000 -0.043069  0.638876  0.385329 -0.095034\n",
              "VVAR3.SA -0.043069  1.000000  0.921539  0.293062  0.796813\n",
              "LOGG3.SA  0.638876  0.921539  1.000000  0.798077  0.847009\n",
              "MRFG3.SA  0.385329  0.293062  0.798077  1.000000  0.415725\n",
              "TRIS3.SA -0.095034  0.796813  0.847009  0.415725  1.000000"
            ]
          },
          "metadata": {
            "tags": []
          },
          "execution_count": 117
        }
      ]
    },
    {
      "cell_type": "code",
      "metadata": {
        "id": "4NC0BDYKvVkP",
        "colab": {
          "base_uri": "https://localhost:8080/",
          "height": 384
        },
        "outputId": "4b22f73f-bbde-44b8-e6cd-4647b2085cd8"
      },
      "source": [
        "(bolsas / bolsas.iloc[0] * 100).plot(figsize = (15, 6));\n",
        "plt.show"
      ],
      "execution_count": 118,
      "outputs": [
        {
          "output_type": "execute_result",
          "data": {
            "text/plain": [
              "<function matplotlib.pyplot.show>"
            ]
          },
          "metadata": {
            "tags": []
          },
          "execution_count": 118
        },
        {
          "output_type": "display_data",
          "data": {
            "image/png": "[encoded data removed]",
            "text/plain": [
              "<Figure size 1080x432 with 1 Axes>"
            ]
          },
          "metadata": {
            "tags": [],
            "needs_background": "light"
          }
        }
      ]
    },
    {
      "cell_type": "markdown",
      "metadata": {
        "id": "OurTVGW_AX_-"
      },
      "source": [
        "# Otimização de Portfólio de Markowitz"
      ]
    },
    {
      "cell_type": "code",
      "metadata": {
        "id": "Hxc7Qr4-vVkY",
        "colab": {
          "base_uri": "https://localhost:8080/"
        },
        "outputId": "d878c017-804d-4d86-8aba-7f49986187bf"
      },
      "source": [
        "retorno.mean() * 250"
      ],
      "execution_count": 119,
      "outputs": [
        {
          "output_type": "execute_result",
          "data": {
            "text/plain": [
              "LOGN3.SA   -0.058880\n",
              "VVAR3.SA    0.128345\n",
              "LOGG3.SA    0.263242\n",
              "MRFG3.SA   -0.001107\n",
              "TRIS3.SA    0.142497\n",
              "dtype: float64"
            ]
          },
          "metadata": {
            "tags": []
          },
          "execution_count": 119
        }
      ]
    },
    {
      "cell_type": "code",
      "metadata": {
        "id": "C1PQ2tClvVkb",
        "colab": {
          "base_uri": "https://localhost:8080/",
          "height": 206
        },
        "outputId": "249cbb6d-ff10-439c-d098-00ef823be2ec"
      },
      "source": [
        "retorno.cov() * 250"
      ],
      "execution_count": 120,
      "outputs": [
        {
          "output_type": "execute_result",
          "data": {
            "text/html": [
              "<div>\n",
              "<style scoped>\n",
              "    .dataframe tbody tr th:only-of-type {\n",
              "        vertical-align: middle;\n",
              "    }\n",
              "\n",
              "    .dataframe tbody tr th {\n",
              "        vertical-align: top;\n",
              "    }\n",
              "\n",
              "    .dataframe thead th {\n",
              "        text-align: right;\n",
              "    }\n",
              "</style>\n",
              "<table border=\"1\" class=\"dataframe\">\n",
              "  <thead>\n",
              "    <tr style=\"text-align: right;\">\n",
              "      <th></th>\n",
              "      <th>LOGN3.SA</th>\n",
              "      <th>VVAR3.SA</th>\n",
              "      <th>LOGG3.SA</th>\n",
              "      <th>MRFG3.SA</th>\n",
              "      <th>TRIS3.SA</th>\n",
              "    </tr>\n",
              "  </thead>\n",
              "  <tbody>\n",
              "    <tr>\n",
              "      <th>LOGN3.SA</th>\n",
              "      <td>0.344227</td>\n",
              "      <td>0.073359</td>\n",
              "      <td>0.163803</td>\n",
              "      <td>0.048990</td>\n",
              "      <td>0.061255</td>\n",
              "    </tr>\n",
              "    <tr>\n",
              "      <th>VVAR3.SA</th>\n",
              "      <td>0.073359</td>\n",
              "      <td>0.436567</td>\n",
              "      <td>0.191146</td>\n",
              "      <td>0.046043</td>\n",
              "      <td>0.060682</td>\n",
              "    </tr>\n",
              "    <tr>\n",
              "      <th>LOGG3.SA</th>\n",
              "      <td>0.163803</td>\n",
              "      <td>0.191146</td>\n",
              "      <td>0.348010</td>\n",
              "      <td>0.112131</td>\n",
              "      <td>0.176184</td>\n",
              "    </tr>\n",
              "    <tr>\n",
              "      <th>MRFG3.SA</th>\n",
              "      <td>0.048990</td>\n",
              "      <td>0.046043</td>\n",
              "      <td>0.112131</td>\n",
              "      <td>0.225066</td>\n",
              "      <td>0.047679</td>\n",
              "    </tr>\n",
              "    <tr>\n",
              "      <th>TRIS3.SA</th>\n",
              "      <td>0.061255</td>\n",
              "      <td>0.060682</td>\n",
              "      <td>0.176184</td>\n",
              "      <td>0.047679</td>\n",
              "      <td>0.242637</td>\n",
              "    </tr>\n",
              "  </tbody>\n",
              "</table>\n",
              "</div>"
            ],
            "text/plain": [
              "          LOGN3.SA  VVAR3.SA  LOGG3.SA  MRFG3.SA  TRIS3.SA\n",
              "LOGN3.SA  0.344227  0.073359  0.163803  0.048990  0.061255\n",
              "VVAR3.SA  0.073359  0.436567  0.191146  0.046043  0.060682\n",
              "LOGG3.SA  0.163803  0.191146  0.348010  0.112131  0.176184\n",
              "MRFG3.SA  0.048990  0.046043  0.112131  0.225066  0.047679\n",
              "TRIS3.SA  0.061255  0.060682  0.176184  0.047679  0.242637"
            ]
          },
          "metadata": {
            "tags": []
          },
          "execution_count": 120
        }
      ]
    },
    {
      "cell_type": "code",
      "metadata": {
        "id": "nhTuXXywvVkf",
        "colab": {
          "base_uri": "https://localhost:8080/",
          "height": 206
        },
        "outputId": "0eee371e-da07-47d2-a18d-8c4ccf79a991"
      },
      "source": [
        "retorno.corr()"
      ],
      "execution_count": 121,
      "outputs": [
        {
          "output_type": "execute_result",
          "data": {
            "text/html": [
              "<div>\n",
              "<style scoped>\n",
              "    .dataframe tbody tr th:only-of-type {\n",
              "        vertical-align: middle;\n",
              "    }\n",
              "\n",
              "    .dataframe tbody tr th {\n",
              "        vertical-align: top;\n",
              "    }\n",
              "\n",
              "    .dataframe thead th {\n",
              "        text-align: right;\n",
              "    }\n",
              "</style>\n",
              "<table border=\"1\" class=\"dataframe\">\n",
              "  <thead>\n",
              "    <tr style=\"text-align: right;\">\n",
              "      <th></th>\n",
              "      <th>LOGN3.SA</th>\n",
              "      <th>VVAR3.SA</th>\n",
              "      <th>LOGG3.SA</th>\n",
              "      <th>MRFG3.SA</th>\n",
              "      <th>TRIS3.SA</th>\n",
              "    </tr>\n",
              "  </thead>\n",
              "  <tbody>\n",
              "    <tr>\n",
              "      <th>LOGN3.SA</th>\n",
              "      <td>1.000000</td>\n",
              "      <td>0.189235</td>\n",
              "      <td>0.423503</td>\n",
              "      <td>0.176008</td>\n",
              "      <td>0.211954</td>\n",
              "    </tr>\n",
              "    <tr>\n",
              "      <th>VVAR3.SA</th>\n",
              "      <td>0.189235</td>\n",
              "      <td>1.000000</td>\n",
              "      <td>0.452305</td>\n",
              "      <td>0.146887</td>\n",
              "      <td>0.186449</td>\n",
              "    </tr>\n",
              "    <tr>\n",
              "      <th>LOGG3.SA</th>\n",
              "      <td>0.423503</td>\n",
              "      <td>0.452305</td>\n",
              "      <td>1.000000</td>\n",
              "      <td>0.343589</td>\n",
              "      <td>0.497061</td>\n",
              "    </tr>\n",
              "    <tr>\n",
              "      <th>MRFG3.SA</th>\n",
              "      <td>0.176008</td>\n",
              "      <td>0.146887</td>\n",
              "      <td>0.343589</td>\n",
              "      <td>1.000000</td>\n",
              "      <td>0.204030</td>\n",
              "    </tr>\n",
              "    <tr>\n",
              "      <th>TRIS3.SA</th>\n",
              "      <td>0.211954</td>\n",
              "      <td>0.186449</td>\n",
              "      <td>0.497061</td>\n",
              "      <td>0.204030</td>\n",
              "      <td>1.000000</td>\n",
              "    </tr>\n",
              "  </tbody>\n",
              "</table>\n",
              "</div>"
            ],
            "text/plain": [
              "          LOGN3.SA  VVAR3.SA  LOGG3.SA  MRFG3.SA  TRIS3.SA\n",
              "LOGN3.SA  1.000000  0.189235  0.423503  0.176008  0.211954\n",
              "VVAR3.SA  0.189235  1.000000  0.452305  0.146887  0.186449\n",
              "LOGG3.SA  0.423503  0.452305  1.000000  0.343589  0.497061\n",
              "MRFG3.SA  0.176008  0.146887  0.343589  1.000000  0.204030\n",
              "TRIS3.SA  0.211954  0.186449  0.497061  0.204030  1.000000"
            ]
          },
          "metadata": {
            "tags": []
          },
          "execution_count": 121
        }
      ]
    },
    {
      "cell_type": "code",
      "metadata": {
        "id": "H47tbI_zvVki",
        "colab": {
          "base_uri": "https://localhost:8080/"
        },
        "outputId": "974d2809-23a9-4c6a-ecf3-bb32b37f89c5"
      },
      "source": [
        "num_tickers = len(tickers)\n",
        "num_tickers"
      ],
      "execution_count": 122,
      "outputs": [
        {
          "output_type": "execute_result",
          "data": {
            "text/plain": [
              "5"
            ]
          },
          "metadata": {
            "tags": []
          },
          "execution_count": 122
        }
      ]
    },
    {
      "cell_type": "code",
      "metadata": {
        "id": "h0PkHqn9vVkm",
        "colab": {
          "base_uri": "https://localhost:8080/"
        },
        "outputId": "74d7963d-6a76-45aa-87fe-82c1520ec014"
      },
      "source": [
        "weights = np.random.random(num_tickers)\n",
        "weights /= np.sum(weights)\n",
        "weights"
      ],
      "execution_count": 123,
      "outputs": [
        {
          "output_type": "execute_result",
          "data": {
            "text/plain": [
              "array([0.21890913, 0.00082258, 0.15422047, 0.48399487, 0.14205295])"
            ]
          },
          "metadata": {
            "tags": []
          },
          "execution_count": 123
        }
      ]
    },
    {
      "cell_type": "code",
      "metadata": {
        "id": "1HfdLq1cvVkp",
        "colab": {
          "base_uri": "https://localhost:8080/"
        },
        "outputId": "b44070c4-11e1-422f-bf96-94b83d20c859"
      },
      "source": [
        "weights[0] + weights[1] + weights[2] + weights[3] + weights[4]"
      ],
      "execution_count": 124,
      "outputs": [
        {
          "output_type": "execute_result",
          "data": {
            "text/plain": [
              "1.0"
            ]
          },
          "metadata": {
            "tags": []
          },
          "execution_count": 124
        }
      ]
    },
    {
      "cell_type": "markdown",
      "metadata": {
        "id": "6B0pB1w-AvPk"
      },
      "source": [
        "# Retorno esperado do Portfólio"
      ]
    },
    {
      "cell_type": "code",
      "metadata": {
        "id": "D3Yx5MGOvVku",
        "colab": {
          "base_uri": "https://localhost:8080/"
        },
        "outputId": "071ee2c4-8594-47bf-c4fa-fba33bf58d90"
      },
      "source": [
        "np.sum(weights * retorno.mean()) * 250"
      ],
      "execution_count": 125,
      "outputs": [
        {
          "output_type": "execute_result",
          "data": {
            "text/plain": [
              "0.04751971136911448"
            ]
          },
          "metadata": {
            "tags": []
          },
          "execution_count": 125
        }
      ]
    },
    {
      "cell_type": "markdown",
      "metadata": {
        "id": "5YCIWcXoA5Z3"
      },
      "source": [
        "# Variância esperada do Portfólio"
      ]
    },
    {
      "cell_type": "code",
      "metadata": {
        "id": "mVDC7qCUvVkw",
        "colab": {
          "base_uri": "https://localhost:8080/"
        },
        "outputId": "523e7c98-68cc-486a-de74-5420d8e0a36e"
      },
      "source": [
        "np.dot(weights.T, np.dot(retorno.cov() *250, weights))"
      ],
      "execution_count": 126,
      "outputs": [
        {
          "output_type": "execute_result",
          "data": {
            "text/plain": [
              "0.13878282294163008"
            ]
          },
          "metadata": {
            "tags": []
          },
          "execution_count": 126
        }
      ]
    },
    {
      "cell_type": "markdown",
      "metadata": {
        "id": "c2rt4XyFBUmE"
      },
      "source": [
        "# Volatilidade esperada do Portfólio"
      ]
    },
    {
      "cell_type": "code",
      "metadata": {
        "colab": {
          "base_uri": "https://localhost:8080/"
        },
        "id": "1w738b1jBC8q",
        "outputId": "adda1fea-bd2a-43b2-dd02-b0eeb3427b51"
      },
      "source": [
        "np.sqrt(np.dot(weights.T, np.dot(retorno.cov() *250, weights)))"
      ],
      "execution_count": 127,
      "outputs": [
        {
          "output_type": "execute_result",
          "data": {
            "text/plain": [
              "0.37253566667049487"
            ]
          },
          "metadata": {
            "tags": []
          },
          "execution_count": 127
        }
      ]
    },
    {
      "cell_type": "markdown",
      "metadata": {
        "id": "AFJBkxwABZ2H"
      },
      "source": [
        "# 1.000 combinações diferentes dos mesmos ativos"
      ]
    },
    {
      "cell_type": "code",
      "metadata": {
        "colab": {
          "base_uri": "https://localhost:8080/"
        },
        "id": "aRCltcgXBDHJ",
        "outputId": "f6ae66ed-ef9f-4b6d-c68a-06d259d2194b"
      },
      "source": [
        "pfolio_returns = []\n",
        "pfolio_volatilities = []\n",
        "\n",
        "for x in range (10000):\n",
        "    weights = np.random.random(num_tickers)\n",
        "    weights /= np.sum(weights)\n",
        "    pfolio_returns.append(np.sum(weights * retorno.mean()) * 250)\n",
        "    pfolio_volatilities.append(np.sqrt(np.dot(weights.T, np.dot(retorno.cov() *250, weights))))\n",
        "\n",
        "pfolio_returns = np.array(pfolio_returns)\n",
        "pfolio_volatilities = np.array(pfolio_volatilities)\n",
        "\n",
        "pfolio_returns, pfolio_volatilities"
      ],
      "execution_count": 128,
      "outputs": [
        {
          "output_type": "execute_result",
          "data": {
            "text/plain": [
              "(array([0.04341002, 0.14184751, 0.13328654, ..., 0.09795685, 0.09873186,\n",
              "        0.0776471 ]),\n",
              " array([0.3625101 , 0.41082973, 0.42650398, ..., 0.39426337, 0.36741926,\n",
              "        0.36331999]))"
            ]
          },
          "metadata": {
            "tags": []
          },
          "execution_count": 128
        }
      ]
    },
    {
      "cell_type": "code",
      "metadata": {
        "colab": {
          "base_uri": "https://localhost:8080/",
          "height": 206
        },
        "id": "FTQ0LiWXBDP7",
        "outputId": "5de632ac-8df8-4132-9c8a-2bc301451b84"
      },
      "source": [
        "portfolios = pd.DataFrame({'Retorno': pfolio_returns, 'Volatilidade': pfolio_volatilities})\n",
        "portfolios.head()"
      ],
      "execution_count": 129,
      "outputs": [
        {
          "output_type": "execute_result",
          "data": {
            "text/html": [
              "<div>\n",
              "<style scoped>\n",
              "    .dataframe tbody tr th:only-of-type {\n",
              "        vertical-align: middle;\n",
              "    }\n",
              "\n",
              "    .dataframe tbody tr th {\n",
              "        vertical-align: top;\n",
              "    }\n",
              "\n",
              "    .dataframe thead th {\n",
              "        text-align: right;\n",
              "    }\n",
              "</style>\n",
              "<table border=\"1\" class=\"dataframe\">\n",
              "  <thead>\n",
              "    <tr style=\"text-align: right;\">\n",
              "      <th></th>\n",
              "      <th>Retorno</th>\n",
              "      <th>Volatilidade</th>\n",
              "    </tr>\n",
              "  </thead>\n",
              "  <tbody>\n",
              "    <tr>\n",
              "      <th>0</th>\n",
              "      <td>0.043410</td>\n",
              "      <td>0.362510</td>\n",
              "    </tr>\n",
              "    <tr>\n",
              "      <th>1</th>\n",
              "      <td>0.141848</td>\n",
              "      <td>0.410830</td>\n",
              "    </tr>\n",
              "    <tr>\n",
              "      <th>2</th>\n",
              "      <td>0.133287</td>\n",
              "      <td>0.426504</td>\n",
              "    </tr>\n",
              "    <tr>\n",
              "      <th>3</th>\n",
              "      <td>0.071748</td>\n",
              "      <td>0.385466</td>\n",
              "    </tr>\n",
              "    <tr>\n",
              "      <th>4</th>\n",
              "      <td>0.140486</td>\n",
              "      <td>0.421871</td>\n",
              "    </tr>\n",
              "  </tbody>\n",
              "</table>\n",
              "</div>"
            ],
            "text/plain": [
              "    Retorno  Volatilidade\n",
              "0  0.043410      0.362510\n",
              "1  0.141848      0.410830\n",
              "2  0.133287      0.426504\n",
              "3  0.071748      0.385466\n",
              "4  0.140486      0.421871"
            ]
          },
          "metadata": {
            "tags": []
          },
          "execution_count": 129
        }
      ]
    },
    {
      "cell_type": "code",
      "metadata": {
        "colab": {
          "base_uri": "https://localhost:8080/",
          "height": 405
        },
        "id": "V2HwEubbBDYA",
        "outputId": "5fdcdfd4-c818-4e11-9c4d-fa7339dc610c"
      },
      "source": [
        "portfolios.plot(x='Volatilidade', y='Retorno', kind='scatter', figsize=(10,6))\n",
        "plt.xlabel('Volatilidade esperada')\n",
        "plt.ylabel('Retorno esperado')"
      ],
      "execution_count": 130,
      "outputs": [
        {
          "output_type": "execute_result",
          "data": {
            "text/plain": [
              "Text(0, 0.5, 'Retorno esperado')"
            ]
          },
          "metadata": {
            "tags": []
          },
          "execution_count": 130
        },
        {
          "output_type": "display_data",
          "data": {
            "image/png": "[encoded data removed]",
            "text/plain": [
              "<Figure size 720x432 with 1 Axes>"
            ]
          },
          "metadata": {
            "tags": [],
            "needs_background": "light"
          }
        }
      ]
    },
    {
      "cell_type": "code",
      "metadata": {
        "colab": {
          "base_uri": "https://localhost:8080/",
          "height": 384
        },
        "id": "pjnBO4kpBDgT",
        "outputId": "1280f47c-d652-4dc7-86e5-c64febdb6e97"
      },
      "source": [
        "(bolsas / bolsas.iloc[0] * 100).plot(figsize = (15, 6));\n",
        "plt.show"
      ],
      "execution_count": 131,
      "outputs": [
        {
          "output_type": "execute_result",
          "data": {
            "text/plain": [
              "<function matplotlib.pyplot.show>"
            ]
          },
          "metadata": {
            "tags": []
          },
          "execution_count": 131
        },
        {
          "output_type": "display_data",
          "data": {
            "image/png": "[encoded data removed]",
            "text/plain": [
              "<Figure size 1080x432 with 1 Axes>"
            ]
          },
          "metadata": {
            "tags": [],
            "needs_background": "light"
          }
        }
      ]
    },
    {
      "cell_type": "code",
      "metadata": {
        "colab": {
          "base_uri": "https://localhost:8080/",
          "height": 384
        },
        "id": "-rfvscLIBDpp",
        "outputId": "8c9d27c1-0135-4eb0-b648-8005651b6f2f"
      },
      "source": [
        "bolsas.plot(figsize = (15, 6));\n",
        "plt.show"
      ],
      "execution_count": 132,
      "outputs": [
        {
          "output_type": "execute_result",
          "data": {
            "text/plain": [
              "<function matplotlib.pyplot.show>"
            ]
          },
          "metadata": {
            "tags": []
          },
          "execution_count": 132
        },
        {
          "output_type": "display_data",
          "data": {
            "image/png": "[encoded data removed]",
            "text/plain": [
              "<Figure size 1080x432 with 1 Axes>"
            ]
          },
          "metadata": {
            "tags": [],
            "needs_background": "light"
          }
        }
      ]
    },
    {
      "cell_type": "markdown",
      "metadata": {
        "id": "V0j0pxUxB69U"
      },
      "source": [
        "# CAPM\n",
        "\n",
        "### Medindo o Beta\n",
        "### Mede o risco de mercado que não pode ser evitado através da diversificação.\n",
        "### Quanto mais volátil uma ação, maior seu beta. O beta varia entre -1 e 2.\n",
        "### B = 0 nenhuma relação; B < 1 defensiva; B > 1 agressiva\n",
        "### Ações defensivas perdem menos quando a economia está mal e ganham menos quando estão bem; agressivas são o oposto."
      ]
    },
    {
      "cell_type": "code",
      "metadata": {
        "id": "jyX6fVDgCMUi"
      },
      "source": [
        "tickers = ['LOGN3.SA','VVAR3.SA','LOGG3.SA','MRFG3.SA','TRIS3.SA','^BVSP']\n",
        "data = pd.DataFrame()\n",
        "for t in tickers:\n",
        "    data[t] = wb.DataReader(t, data_source='yahoo',start='2015-1-1')['Adj Close']"
      ],
      "execution_count": 134,
      "outputs": []
    },
    {
      "cell_type": "code",
      "metadata": {
        "id": "JUQPAL2uCNiI"
      },
      "source": [
        "sec_returns = np.log( data / data.shift(1))"
      ],
      "execution_count": 135,
      "outputs": []
    },
    {
      "cell_type": "code",
      "metadata": {
        "colab": {
          "base_uri": "https://localhost:8080/",
          "height": 238
        },
        "id": "6qphYOf1CNrY",
        "outputId": "91437567-0257-46d1-a252-96d20ab80d5f"
      },
      "source": [
        "cov = sec_returns.cov() * 250\n",
        "cov"
      ],
      "execution_count": 136,
      "outputs": [
        {
          "output_type": "execute_result",
          "data": {
            "text/html": [
              "<div>\n",
              "<style scoped>\n",
              "    .dataframe tbody tr th:only-of-type {\n",
              "        vertical-align: middle;\n",
              "    }\n",
              "\n",
              "    .dataframe tbody tr th {\n",
              "        vertical-align: top;\n",
              "    }\n",
              "\n",
              "    .dataframe thead th {\n",
              "        text-align: right;\n",
              "    }\n",
              "</style>\n",
              "<table border=\"1\" class=\"dataframe\">\n",
              "  <thead>\n",
              "    <tr style=\"text-align: right;\">\n",
              "      <th></th>\n",
              "      <th>LOGN3.SA</th>\n",
              "      <th>VVAR3.SA</th>\n",
              "      <th>LOGG3.SA</th>\n",
              "      <th>MRFG3.SA</th>\n",
              "      <th>TRIS3.SA</th>\n",
              "      <th>^BVSP</th>\n",
              "    </tr>\n",
              "  </thead>\n",
              "  <tbody>\n",
              "    <tr>\n",
              "      <th>LOGN3.SA</th>\n",
              "      <td>0.512615</td>\n",
              "      <td>0.124948</td>\n",
              "      <td>0.163797</td>\n",
              "      <td>0.060777</td>\n",
              "      <td>0.091608</td>\n",
              "      <td>0.073057</td>\n",
              "    </tr>\n",
              "    <tr>\n",
              "      <th>VVAR3.SA</th>\n",
              "      <td>0.124948</td>\n",
              "      <td>0.553231</td>\n",
              "      <td>0.191129</td>\n",
              "      <td>0.077309</td>\n",
              "      <td>0.113097</td>\n",
              "      <td>0.084334</td>\n",
              "    </tr>\n",
              "    <tr>\n",
              "      <th>LOGG3.SA</th>\n",
              "      <td>0.163797</td>\n",
              "      <td>0.191129</td>\n",
              "      <td>0.348020</td>\n",
              "      <td>0.112129</td>\n",
              "      <td>0.176183</td>\n",
              "      <td>0.104398</td>\n",
              "    </tr>\n",
              "    <tr>\n",
              "      <th>MRFG3.SA</th>\n",
              "      <td>0.060777</td>\n",
              "      <td>0.077309</td>\n",
              "      <td>0.112129</td>\n",
              "      <td>0.218676</td>\n",
              "      <td>0.060950</td>\n",
              "      <td>0.060414</td>\n",
              "    </tr>\n",
              "    <tr>\n",
              "      <th>TRIS3.SA</th>\n",
              "      <td>0.091608</td>\n",
              "      <td>0.113097</td>\n",
              "      <td>0.176183</td>\n",
              "      <td>0.060950</td>\n",
              "      <td>0.262987</td>\n",
              "      <td>0.064365</td>\n",
              "    </tr>\n",
              "    <tr>\n",
              "      <th>^BVSP</th>\n",
              "      <td>0.073057</td>\n",
              "      <td>0.084334</td>\n",
              "      <td>0.104398</td>\n",
              "      <td>0.060414</td>\n",
              "      <td>0.064365</td>\n",
              "      <td>0.072848</td>\n",
              "    </tr>\n",
              "  </tbody>\n",
              "</table>\n",
              "</div>"
            ],
            "text/plain": [
              "          LOGN3.SA  VVAR3.SA  LOGG3.SA  MRFG3.SA  TRIS3.SA     ^BVSP\n",
              "LOGN3.SA  0.512615  0.124948  0.163797  0.060777  0.091608  0.073057\n",
              "VVAR3.SA  0.124948  0.553231  0.191129  0.077309  0.113097  0.084334\n",
              "LOGG3.SA  0.163797  0.191129  0.348020  0.112129  0.176183  0.104398\n",
              "MRFG3.SA  0.060777  0.077309  0.112129  0.218676  0.060950  0.060414\n",
              "TRIS3.SA  0.091608  0.113097  0.176183  0.060950  0.262987  0.064365\n",
              "^BVSP     0.073057  0.084334  0.104398  0.060414  0.064365  0.072848"
            ]
          },
          "metadata": {
            "tags": []
          },
          "execution_count": 136
        }
      ]
    },
    {
      "cell_type": "code",
      "metadata": {
        "colab": {
          "base_uri": "https://localhost:8080/"
        },
        "id": "GoZNVeiqCNzD",
        "outputId": "4a2a31f8-ff25-4e9d-cb1d-21956218919c"
      },
      "source": [
        "# Covariação da primeira ação com o mercado.\n",
        "\n",
        "cov_with_market = cov.iloc[0,5]\n",
        "cov_with_market"
      ],
      "execution_count": 137,
      "outputs": [
        {
          "output_type": "execute_result",
          "data": {
            "text/plain": [
              "0.0730568014924171"
            ]
          },
          "metadata": {
            "tags": []
          },
          "execution_count": 137
        }
      ]
    },
    {
      "cell_type": "code",
      "metadata": {
        "colab": {
          "base_uri": "https://localhost:8080/"
        },
        "id": "E_Zf8fLPCN6F",
        "outputId": "89c41d74-1cd9-4b0f-fec2-f6a3d671e38e"
      },
      "source": [
        "market_var = sec_returns['^BVSP'].var() * 250\n",
        "market_var"
      ],
      "execution_count": 138,
      "outputs": [
        {
          "output_type": "execute_result",
          "data": {
            "text/plain": [
              "0.07284846421168403"
            ]
          },
          "metadata": {
            "tags": []
          },
          "execution_count": 138
        }
      ]
    },
    {
      "cell_type": "code",
      "metadata": {
        "colab": {
          "base_uri": "https://localhost:8080/"
        },
        "id": "N_-klIwICOAt",
        "outputId": "ec666bf9-c41e-49f0-fc13-094d5024cb42"
      },
      "source": [
        "logn_beta = cov_with_market / market_var\n",
        "logn_beta"
      ],
      "execution_count": 139,
      "outputs": [
        {
          "output_type": "execute_result",
          "data": {
            "text/plain": [
              "1.002859871968305"
            ]
          },
          "metadata": {
            "tags": []
          },
          "execution_count": 139
        }
      ]
    },
    {
      "cell_type": "code",
      "metadata": {
        "colab": {
          "base_uri": "https://localhost:8080/"
        },
        "id": "6Z6CA12MCOIc",
        "outputId": "985f19ad-e347-4f81-95e3-d20feeffa09b"
      },
      "source": [
        "# Covariação da seegunda ação com o mercado.\n",
        "\n",
        "cov_with_market = cov.iloc[1,5]\n",
        "cov_with_market"
      ],
      "execution_count": 140,
      "outputs": [
        {
          "output_type": "execute_result",
          "data": {
            "text/plain": [
              "0.08433402392332835"
            ]
          },
          "metadata": {
            "tags": []
          },
          "execution_count": 140
        }
      ]
    },
    {
      "cell_type": "code",
      "metadata": {
        "colab": {
          "base_uri": "https://localhost:8080/"
        },
        "id": "mQTUdaetCw35",
        "outputId": "d930352f-bf32-4783-bf1d-b3e5bc88db30"
      },
      "source": [
        "market_var = sec_returns['^BVSP'].var() * 250\n",
        "market_var"
      ],
      "execution_count": 141,
      "outputs": [
        {
          "output_type": "execute_result",
          "data": {
            "text/plain": [
              "0.07284846421168403"
            ]
          },
          "metadata": {
            "tags": []
          },
          "execution_count": 141
        }
      ]
    },
    {
      "cell_type": "code",
      "metadata": {
        "colab": {
          "base_uri": "https://localhost:8080/"
        },
        "id": "WH7wP7iRCxKe",
        "outputId": "afb48c8e-f7ad-4450-b582-43d991923900"
      },
      "source": [
        "vvar_beta = cov_with_market / market_var\n",
        "vvar_beta"
      ],
      "execution_count": 142,
      "outputs": [
        {
          "output_type": "execute_result",
          "data": {
            "text/plain": [
              "1.1576637179099538"
            ]
          },
          "metadata": {
            "tags": []
          },
          "execution_count": 142
        }
      ]
    },
    {
      "cell_type": "markdown",
      "metadata": {
        "id": "-ewAEW0EC7m1"
      },
      "source": [
        "# Modelo de Precificação de Ativos Financeiros (CAPM)\n",
        "\n",
        "### Ação livre de risco = retorno de 2,5%.\n",
        "### Beta\n",
        "### Prêmio de risco das ações = entre 4,5% e 5,5%\n",
        "### Retorno esperado para valer a pena investir na ação\n"
      ]
    },
    {
      "cell_type": "code",
      "metadata": {
        "colab": {
          "base_uri": "https://localhost:8080/"
        },
        "id": "CDHsUVuqCxSK",
        "outputId": "ecbb0d25-81fe-4ad6-998d-107c0c65ddba"
      },
      "source": [
        "logn_er = 0.025 + logn_beta * 0.05\n",
        "logn_er"
      ],
      "execution_count": 143,
      "outputs": [
        {
          "output_type": "execute_result",
          "data": {
            "text/plain": [
              "0.07514299359841525"
            ]
          },
          "metadata": {
            "tags": []
          },
          "execution_count": 143
        }
      ]
    },
    {
      "cell_type": "code",
      "metadata": {
        "colab": {
          "base_uri": "https://localhost:8080/"
        },
        "id": "-539zpssCxWI",
        "outputId": "ceea9e78-0e3a-4e31-8c78-883868f0b157"
      },
      "source": [
        "vvar_beta = 0.025 + vvar_beta * 0.05\n",
        "vvar_beta"
      ],
      "execution_count": 144,
      "outputs": [
        {
          "output_type": "execute_result",
          "data": {
            "text/plain": [
              "0.0828831858954977"
            ]
          },
          "metadata": {
            "tags": []
          },
          "execution_count": 144
        }
      ]
    },
    {
      "cell_type": "markdown",
      "metadata": {
        "id": "EYi7ifK8DLGB"
      },
      "source": [
        "### Se o retorno ficar abaixo do calculado, não vale a pena investir nessa ação."
      ]
    },
    {
      "cell_type": "markdown",
      "metadata": {
        "id": "mtjFXjh8DS2o"
      },
      "source": [
        "# Índice de Sharp\n",
        "## Decidir o melhor portfólio em termos de risco e retorno"
      ]
    },
    {
      "cell_type": "code",
      "metadata": {
        "colab": {
          "base_uri": "https://localhost:8080/"
        },
        "id": "uipJIR7sCxb3",
        "outputId": "6c8db34f-199a-4e7b-bf45-fb92a9f4d235"
      },
      "source": [
        "sharpe_logn = (logn_er - 0.025) / (sec_returns['LOGN3.SA'].std() * 250 ** 0.5)\n",
        "sharpe_logn"
      ],
      "execution_count": 145,
      "outputs": [
        {
          "output_type": "execute_result",
          "data": {
            "text/plain": [
              "0.07003490595575462"
            ]
          },
          "metadata": {
            "tags": []
          },
          "execution_count": 145
        }
      ]
    },
    {
      "cell_type": "code",
      "metadata": {
        "colab": {
          "base_uri": "https://localhost:8080/"
        },
        "id": "Q5BKTommCxei",
        "outputId": "fd9765bc-636f-4c12-a4ca-abe12b6393d7"
      },
      "source": [
        "sharpe_vvar = (logn_er - 0.025) / (sec_returns['VVAR3.SA'].std() * 250 ** 0.5)\n",
        "sharpe_vvar"
      ],
      "execution_count": 146,
      "outputs": [
        {
          "output_type": "execute_result",
          "data": {
            "text/plain": [
              "0.06741507331164436"
            ]
          },
          "metadata": {
            "tags": []
          },
          "execution_count": 146
        }
      ]
    },
    {
      "cell_type": "markdown",
      "metadata": {
        "id": "JVbGLywcDeBZ"
      },
      "source": [
        "# Simulações de Monte Carlo\n",
        "### Observar os possíveis diferentes resultados de um evento futuro\n",
        "### 1 - Prever o preço da ação"
      ]
    },
    {
      "cell_type": "code",
      "metadata": {
        "id": "_zp9DYqyCxhV"
      },
      "source": [
        "log_returns_1 = np.log(1 + data['LOGN3.SA'].pct_change())"
      ],
      "execution_count": 147,
      "outputs": []
    },
    {
      "cell_type": "code",
      "metadata": {
        "colab": {
          "base_uri": "https://localhost:8080/"
        },
        "id": "flX6Ez98CxkQ",
        "outputId": "d2b0eea1-260f-4785-df80-16e857849f85"
      },
      "source": [
        "log_returns_1.tail()"
      ],
      "execution_count": 148,
      "outputs": [
        {
          "output_type": "execute_result",
          "data": {
            "text/plain": [
              "Date\n",
              "2021-06-15   -0.020442\n",
              "2021-06-16    0.012959\n",
              "2021-06-17   -0.009162\n",
              "2021-06-18    0.011841\n",
              "2021-06-21   -0.005903\n",
              "Name: LOGN3.SA, dtype: float64"
            ]
          },
          "metadata": {
            "tags": []
          },
          "execution_count": 148
        }
      ]
    },
    {
      "cell_type": "code",
      "metadata": {
        "colab": {
          "base_uri": "https://localhost:8080/",
          "height": 384
        },
        "id": "KNymZLtOCxnF",
        "outputId": "bac7291d-f987-4487-bd84-5de33a8a3297"
      },
      "source": [
        "data['LOGN3.SA'].plot(figsize=(10,6))"
      ],
      "execution_count": 149,
      "outputs": [
        {
          "output_type": "execute_result",
          "data": {
            "text/plain": [
              "<matplotlib.axes._subplots.AxesSubplot at 0x7f85581ea850>"
            ]
          },
          "metadata": {
            "tags": []
          },
          "execution_count": 0
        },
        {
          "output_type": "display_data",
          "data": {
            "image/png": "[encoded data removed]",
            "text/plain": [
              "<Figure size 720x432 with 1 Axes>"
            ]
          },
          "metadata": {
            "tags": []
          }
        }
      ]
    },
    {
      "cell_type": "code",
      "metadata": {
        "colab": {
          "base_uri": "https://localhost:8080/",
          "height": 384
        },
        "id": "zKKF9gi8Dtry",
        "outputId": "b178e5a4-5547-4289-f633-3e679a25748a"
      },
      "source": [
        "log_returns_1.plot(figsize=(10,6))"
      ],
      "execution_count": 150,
      "outputs": [
        {
          "output_type": "execute_result",
          "data": {
            "text/plain": [
              "<matplotlib.axes._subplots.AxesSubplot at 0x7f8558327950>"
            ]
          },
          "metadata": {
            "tags": []
          },
          "execution_count": 150
        },
        {
          "output_type": "display_data",
          "data": {
            "image/png": "[encoded data removed]",
            "text/plain": [
              "<Figure size 720x432 with 1 Axes>"
            ]
          },
          "metadata": {
            "tags": [],
            "needs_background": "light"
          }
        }
      ]
    },
    {
      "cell_type": "code",
      "metadata": {
        "colab": {
          "base_uri": "https://localhost:8080/"
        },
        "id": "9lAJxjhwDtuz",
        "outputId": "f111f428-bd8a-45f0-9e48-d112bb4c61b7"
      },
      "source": [
        "u = log_returns_1.mean()\n",
        "u"
      ],
      "execution_count": 151,
      "outputs": [
        {
          "output_type": "execute_result",
          "data": {
            "text/plain": [
              "0.00019866432146116978"
            ]
          },
          "metadata": {
            "tags": []
          },
          "execution_count": 151
        }
      ]
    },
    {
      "cell_type": "code",
      "metadata": {
        "colab": {
          "base_uri": "https://localhost:8080/"
        },
        "id": "8dKiaw4ODtxJ",
        "outputId": "d679c84d-26a6-42fb-e106-a41ec4cae4f1"
      },
      "source": [
        "var = log_returns_1.var()\n",
        "var"
      ],
      "execution_count": 152,
      "outputs": [
        {
          "output_type": "execute_result",
          "data": {
            "text/plain": [
              "0.0020504605040817326"
            ]
          },
          "metadata": {
            "tags": []
          },
          "execution_count": 152
        }
      ]
    },
    {
      "cell_type": "code",
      "metadata": {
        "colab": {
          "base_uri": "https://localhost:8080/"
        },
        "id": "qwJt1th7Dtz7",
        "outputId": "00a1f20b-e072-4c4f-86e2-61f24e6941f6"
      },
      "source": [
        "drift = u - (0.5 * var)\n",
        "drift"
      ],
      "execution_count": 153,
      "outputs": [
        {
          "output_type": "execute_result",
          "data": {
            "text/plain": [
              "-0.0008265659305796964"
            ]
          },
          "metadata": {
            "tags": []
          },
          "execution_count": 153
        }
      ]
    },
    {
      "cell_type": "code",
      "metadata": {
        "colab": {
          "base_uri": "https://localhost:8080/"
        },
        "id": "T45VbYL1Dt3B",
        "outputId": "374d413d-415c-43b0-f59e-cc0bc013badb"
      },
      "source": [
        "stdev = log_returns_1.std()\n",
        "stdev"
      ],
      "execution_count": 154,
      "outputs": [
        {
          "output_type": "execute_result",
          "data": {
            "text/plain": [
              "0.045282010821978"
            ]
          },
          "metadata": {
            "tags": []
          },
          "execution_count": 154
        }
      ]
    },
    {
      "cell_type": "code",
      "metadata": {
        "colab": {
          "base_uri": "https://localhost:8080/"
        },
        "id": "thJkZcP6Dt5e",
        "outputId": "57e96733-c871-4374-c446-765e809730ca"
      },
      "source": [
        "type(drift)"
      ],
      "execution_count": 155,
      "outputs": [
        {
          "output_type": "execute_result",
          "data": {
            "text/plain": [
              "float"
            ]
          },
          "metadata": {
            "tags": []
          },
          "execution_count": 155
        }
      ]
    },
    {
      "cell_type": "code",
      "metadata": {
        "colab": {
          "base_uri": "https://localhost:8080/"
        },
        "id": "5Bc7-riUDt8B",
        "outputId": "2dd9138f-82fb-4e3a-ca97-6ad2348e7025"
      },
      "source": [
        "type(stdev)"
      ],
      "execution_count": 156,
      "outputs": [
        {
          "output_type": "execute_result",
          "data": {
            "text/plain": [
              "float"
            ]
          },
          "metadata": {
            "tags": []
          },
          "execution_count": 156
        }
      ]
    },
    {
      "cell_type": "code",
      "metadata": {
        "colab": {
          "base_uri": "https://localhost:8080/"
        },
        "id": "tQYZb8AADt-a",
        "outputId": "5e199c9c-0d29-40f0-df63-7a5272566c0d"
      },
      "source": [
        "np.array(drift)"
      ],
      "execution_count": 157,
      "outputs": [
        {
          "output_type": "execute_result",
          "data": {
            "text/plain": [
              "array(-0.00082657)"
            ]
          },
          "metadata": {
            "tags": []
          },
          "execution_count": 157
        }
      ]
    },
    {
      "cell_type": "code",
      "metadata": {
        "colab": {
          "base_uri": "https://localhost:8080/"
        },
        "id": "a4gZAfOcDuBB",
        "outputId": "ac28394a-05c7-4059-f3ec-81a9713c60db"
      },
      "source": [
        "np.array(stdev)"
      ],
      "execution_count": 158,
      "outputs": [
        {
          "output_type": "execute_result",
          "data": {
            "text/plain": [
              "array(0.04528201)"
            ]
          },
          "metadata": {
            "tags": []
          },
          "execution_count": 158
        }
      ]
    },
    {
      "cell_type": "code",
      "metadata": {
        "colab": {
          "base_uri": "https://localhost:8080/"
        },
        "id": "2yQNHVxlDuEG",
        "outputId": "efeb7a43-252d-4faa-dbff-d9c8f01ecb1c"
      },
      "source": [
        "norm.ppf(0.95)"
      ],
      "execution_count": 159,
      "outputs": [
        {
          "output_type": "execute_result",
          "data": {
            "text/plain": [
              "1.6448536269514722"
            ]
          },
          "metadata": {
            "tags": []
          },
          "execution_count": 159
        }
      ]
    },
    {
      "cell_type": "code",
      "metadata": {
        "colab": {
          "base_uri": "https://localhost:8080/"
        },
        "id": "evu84J8ADuGv",
        "outputId": "c0809ea2-df3c-4139-f00c-0313a32bfaff"
      },
      "source": [
        "x = np.random.rand(10,2)\n",
        "x"
      ],
      "execution_count": 160,
      "outputs": [
        {
          "output_type": "execute_result",
          "data": {
            "text/plain": [
              "array([[0.60464751, 0.36838004],\n",
              "       [0.2839498 , 0.39573795],\n",
              "       [0.61940737, 0.03138815],\n",
              "       [0.8621595 , 0.75539433],\n",
              "       [0.44527355, 0.14164615],\n",
              "       [0.54949509, 0.39700854],\n",
              "       [0.35955673, 0.27096383],\n",
              "       [0.62241887, 0.43683101],\n",
              "       [0.10197342, 0.54207147],\n",
              "       [0.20048355, 0.65110999]])"
            ]
          },
          "metadata": {
            "tags": []
          },
          "execution_count": 160
        }
      ]
    },
    {
      "cell_type": "code",
      "metadata": {
        "colab": {
          "base_uri": "https://localhost:8080/"
        },
        "id": "JZ2FQvS7EF7_",
        "outputId": "f97543bb-fd2c-40ac-8d88-6b085d22defb"
      },
      "source": [
        "norm.ppf(x)"
      ],
      "execution_count": 161,
      "outputs": [
        {
          "output_type": "execute_result",
          "data": {
            "text/plain": [
              "array([[ 0.26539528, -0.33614691],\n",
              "       [-0.57114759, -0.26439457],\n",
              "       [ 0.30392471, -1.86077263],\n",
              "       [ 1.09007299,  0.69156375],\n",
              "       [-0.13761197, -1.07295277],\n",
              "       [ 0.12438579, -0.26109782],\n",
              "       [-0.35964388, -0.6099006 ],\n",
              "       [ 0.31183983, -0.1590087 ],\n",
              "       [-1.27038692,  0.10565376],\n",
              "       [-0.83989529,  0.38831895]])"
            ]
          },
          "metadata": {
            "tags": []
          },
          "execution_count": 161
        }
      ]
    },
    {
      "cell_type": "code",
      "metadata": {
        "colab": {
          "base_uri": "https://localhost:8080/"
        },
        "id": "aAHHSuzaEF-v",
        "outputId": "f4f5bf8a-5e29-43da-d306-d9020979a004"
      },
      "source": [
        "z = norm.ppf(np.random.rand(10,2))\n",
        "z"
      ],
      "execution_count": 162,
      "outputs": [
        {
          "output_type": "execute_result",
          "data": {
            "text/plain": [
              "array([[-3.13716119, -0.35331688],\n",
              "       [-1.90368926, -0.68488249],\n",
              "       [-0.84315796,  1.03333591],\n",
              "       [-0.37487555, -0.49132261],\n",
              "       [-0.29475534, -0.43693453],\n",
              "       [-0.76966922, -0.61652136],\n",
              "       [-1.90565057,  0.3639218 ],\n",
              "       [-0.92287163, -2.73570769],\n",
              "       [-0.60475959,  0.94315018],\n",
              "       [-0.25658348, -0.9497369 ]])"
            ]
          },
          "metadata": {
            "tags": []
          },
          "execution_count": 162
        }
      ]
    },
    {
      "cell_type": "code",
      "metadata": {
        "id": "soTfSQOsEGFB"
      },
      "source": [
        "t_intervals = 100\n",
        "iterations = 10"
      ],
      "execution_count": 163,
      "outputs": []
    },
    {
      "cell_type": "code",
      "metadata": {
        "colab": {
          "base_uri": "https://localhost:8080/"
        },
        "id": "J241choOEGK4",
        "outputId": "752d7fcb-ce7e-45ee-e498-7ec57b22b3f3"
      },
      "source": [
        "daily_returns = np.exp(np.array(drift) + np.array(stdev) * norm.ppf(np.random.rand(t_intervals, iterations)))\n",
        "daily_returns"
      ],
      "execution_count": 164,
      "outputs": [
        {
          "output_type": "execute_result",
          "data": {
            "text/plain": [
              "array([[1.03268137, 0.97419349, 0.96007587, 0.9635236 , 1.04065555,\n",
              "        0.97564827, 1.06765309, 0.97139365, 0.97393136, 0.92282542],\n",
              "       [1.02782057, 1.05113021, 0.96431765, 0.92918259, 1.00735106,\n",
              "        0.87329841, 1.02584741, 0.9628266 , 0.9915164 , 1.01308658],\n",
              "       [0.92859264, 1.02168767, 1.02906307, 0.94229574, 0.99245579,\n",
              "        1.04846602, 0.99515425, 1.01402853, 0.97527732, 1.04095182],\n",
              "       [0.97453623, 0.96168806, 0.95875356, 1.01358804, 0.98193498,\n",
              "        1.00517342, 1.00503422, 0.99210776, 1.06910576, 0.9879564 ],\n",
              "       [1.04946876, 1.00502672, 1.04200973, 0.91031256, 1.06193624,\n",
              "        1.04228684, 0.98001302, 1.0701463 , 0.98686831, 1.05222012],\n",
              "       [1.00671918, 1.03738902, 1.00874984, 0.99282328, 0.98760724,\n",
              "        0.99682339, 0.94247963, 1.04079038, 0.97693615, 0.9847987 ],\n",
              "       [1.04312605, 0.99076013, 0.98854187, 1.00537243, 1.01772455,\n",
              "        0.96290076, 1.03337513, 0.89053499, 0.9633322 , 1.00853574],\n",
              "       [0.97675932, 1.03007583, 1.00387856, 1.08550147, 1.03421372,\n",
              "        0.96720868, 0.91732524, 0.97320009, 1.06115477, 1.03663043],\n",
              "       [0.98844707, 0.98779699, 0.95745227, 1.02993826, 1.04727474,\n",
              "        1.02084043, 0.97893971, 1.0404557 , 1.07797282, 0.91122084],\n",
              "       [1.02647674, 1.04680115, 1.01381349, 0.95810678, 0.98522988,\n",
              "        1.05013803, 0.97191137, 1.00365869, 0.94745138, 1.03497552],\n",
              "       [0.99349323, 1.03304175, 1.04948397, 1.02432806, 1.14671402,\n",
              "        0.94422031, 0.89047527, 0.92206307, 1.04104136, 0.99988812],\n",
              "       [0.90955064, 0.99689319, 1.07127604, 1.02240705, 1.18333333,\n",
              "        1.02483179, 1.02031533, 1.02579585, 1.0216073 , 0.96275161],\n",
              "       [0.96636868, 1.02772653, 1.01946868, 1.02746498, 1.01975115,\n",
              "        1.05042553, 0.99030315, 1.02359517, 0.97997274, 0.97207451],\n",
              "       [0.97871246, 0.98327972, 1.0184302 , 1.04111601, 0.97870386,\n",
              "        0.9991689 , 1.01893822, 1.00189954, 0.96946336, 1.00707063],\n",
              "       [1.10202596, 1.0453468 , 0.98670827, 1.03546894, 0.95309878,\n",
              "        0.96917664, 1.00730988, 0.9853913 , 0.97204708, 0.97134437],\n",
              "       [0.96040178, 1.12823365, 0.9901489 , 1.05125031, 1.00814495,\n",
              "        0.95431658, 1.02386931, 0.99217159, 0.95244437, 0.98435737],\n",
              "       [0.96333438, 0.97803918, 1.01064388, 0.98760219, 0.97957999,\n",
              "        0.97793764, 1.00558851, 0.95303224, 1.06998553, 0.92047152],\n",
              "       [1.02767608, 1.00550364, 0.90721987, 0.98580979, 0.91155054,\n",
              "        0.99427639, 0.94605391, 0.97992907, 1.0599662 , 1.00969306],\n",
              "       [1.03916947, 0.99838559, 1.0959064 , 1.01022488, 0.97407069,\n",
              "        0.90811932, 0.99969748, 1.13645876, 1.02224481, 1.04108153],\n",
              "       [0.98991039, 0.96968695, 0.95217039, 1.06932112, 0.99096861,\n",
              "        0.97550325, 0.97499011, 0.98967333, 1.00234029, 0.96583913],\n",
              "       [1.00299735, 1.00801334, 1.01480746, 0.98065809, 0.92582596,\n",
              "        1.05103454, 1.00631701, 0.93747412, 0.99762394, 0.96015445],\n",
              "       [0.90401808, 1.01427728, 0.954273  , 1.02118875, 0.98764008,\n",
              "        1.01054829, 0.91244285, 0.97693267, 0.99861285, 0.97585628],\n",
              "       [1.06763171, 0.99499153, 0.93227567, 0.9127287 , 1.01542976,\n",
              "        1.04924875, 1.01306691, 1.02929439, 0.93567059, 0.94632324],\n",
              "       [0.99464762, 1.05381677, 0.99928285, 1.01855217, 1.04228638,\n",
              "        0.98185507, 1.07875013, 1.0205618 , 1.0296603 , 0.9295777 ],\n",
              "       [0.9708494 , 0.98780654, 0.97421414, 1.03984222, 0.98776777,\n",
              "        0.95023672, 1.03176563, 0.98403154, 0.97002018, 1.04172025],\n",
              "       [0.86862059, 0.97514605, 1.07635385, 0.98079849, 1.0093426 ,\n",
              "        1.03589344, 1.03146563, 0.96022527, 1.05106312, 1.02250673],\n",
              "       [0.99364692, 1.00452816, 1.09102483, 1.10668144, 1.03014427,\n",
              "        0.97100136, 0.98615672, 1.00936868, 0.95173538, 0.95023258],\n",
              "       [0.93751777, 0.9894233 , 0.9708337 , 0.95274594, 1.03418378,\n",
              "        1.01764819, 1.01476216, 1.02220594, 1.04184751, 0.94830438],\n",
              "       [1.02186365, 0.87665202, 0.99974179, 0.97900181, 0.9616436 ,\n",
              "        0.98198398, 0.97549171, 1.04775081, 1.03548817, 0.94619033],\n",
              "       [1.01245653, 1.00169393, 1.01321824, 0.99850414, 0.98878156,\n",
              "        1.02747443, 0.95501865, 1.04559483, 0.94416207, 0.91637347],\n",
              "       [1.01383885, 1.02957785, 1.06179219, 0.9856077 , 1.09223085,\n",
              "        0.99339604, 1.04829326, 1.03682798, 1.01452827, 0.98167838],\n",
              "       [0.96387893, 1.14206202, 0.97531768, 1.01499217, 1.00838417,\n",
              "        1.0149059 , 1.10378857, 1.04645101, 1.04674106, 1.04339875],\n",
              "       [0.99245398, 0.96902287, 1.08838775, 0.97469305, 0.95066813,\n",
              "        1.0101617 , 1.01693568, 0.93131873, 1.0451142 , 0.97149704],\n",
              "       [1.10991183, 0.91322871, 0.90027105, 0.92710968, 0.93005018,\n",
              "        1.02509091, 1.05658724, 0.95651806, 1.05397544, 1.04061369],\n",
              "       [1.04520502, 1.07657498, 1.02649648, 0.94991875, 1.08156037,\n",
              "        0.93161756, 0.98868856, 0.93126776, 0.97370437, 1.01906546],\n",
              "       [0.97926773, 0.97762095, 0.96422646, 1.06912811, 0.99931499,\n",
              "        0.92611355, 1.02191034, 1.04565511, 1.01550661, 1.02570663],\n",
              "       [0.98975732, 1.01195487, 0.97210094, 1.05534001, 1.029338  ,\n",
              "        1.00072214, 1.01937368, 0.99330701, 0.95528774, 1.0972156 ],\n",
              "       [1.00551499, 1.07306869, 0.9635908 , 1.05858206, 0.99753235,\n",
              "        0.94855281, 1.08570989, 1.07499925, 0.94993483, 0.9138581 ],\n",
              "       [0.97457966, 0.94477243, 1.03336997, 0.96890094, 1.00279649,\n",
              "        0.86478922, 0.95913334, 0.95380793, 0.97562268, 1.0414829 ],\n",
              "       [1.0190786 , 1.09907986, 0.9080427 , 0.98720106, 1.0051703 ,\n",
              "        1.07897373, 1.09611131, 0.92605025, 1.02159018, 0.91461737],\n",
              "       [0.99444839, 0.95261893, 1.09179253, 0.97564823, 1.05869413,\n",
              "        1.00506301, 0.99379829, 1.00182384, 0.99114271, 0.98789749],\n",
              "       [0.99205313, 0.98163371, 0.98822406, 0.92845943, 1.04118145,\n",
              "        1.02800416, 1.03884322, 1.09210618, 0.97378288, 1.08936987],\n",
              "       [1.04007931, 0.98949545, 0.97926169, 0.94972666, 1.01190248,\n",
              "        0.95620367, 1.0723279 , 1.08904786, 0.95904629, 0.98584728],\n",
              "       [1.05500516, 1.01042397, 0.97136507, 1.02415646, 1.04578467,\n",
              "        0.99858943, 0.99873072, 1.04983896, 0.97854699, 0.95216415],\n",
              "       [1.08007724, 0.99632249, 1.12410376, 1.05533615, 1.05987765,\n",
              "        1.01355416, 0.97613192, 1.01556199, 0.99987701, 1.01094664],\n",
              "       [0.99333448, 0.98788948, 1.01616626, 0.90343885, 1.01895761,\n",
              "        0.95446336, 1.02487046, 1.02854617, 1.16872203, 0.98462403],\n",
              "       [1.01246919, 0.97306259, 1.09094818, 1.00071634, 0.9411495 ,\n",
              "        0.98678989, 1.00570374, 1.00873669, 1.07209344, 0.97762964],\n",
              "       [0.92726563, 0.99081677, 0.98398964, 0.99996272, 1.01605768,\n",
              "        1.00257432, 1.00190768, 0.982389  , 0.957411  , 1.00197938],\n",
              "       [1.01712204, 1.02102681, 0.98177712, 0.92995426, 1.00896993,\n",
              "        0.99527627, 0.98507949, 1.00827758, 1.06873613, 0.98697017],\n",
              "       [0.99964505, 1.00482447, 1.03449253, 1.02769149, 0.97712262,\n",
              "        1.00476134, 0.95601957, 0.90930256, 0.96269727, 0.93071135],\n",
              "       [0.95993168, 0.96710917, 1.00677705, 0.95208702, 0.96194253,\n",
              "        0.94773532, 1.04394758, 1.00626172, 0.98895694, 1.04948936],\n",
              "       [1.06292821, 0.93021105, 1.03560404, 0.94960154, 0.98917297,\n",
              "        1.07569034, 0.95949414, 0.97282624, 0.96393977, 1.02015211],\n",
              "       [1.05680383, 1.00126633, 1.02771247, 0.93992515, 1.01041069,\n",
              "        1.00047575, 1.10479253, 1.03919228, 0.98672109, 0.9803561 ],\n",
              "       [1.03937656, 0.97209195, 1.0497059 , 0.93846063, 0.99416864,\n",
              "        0.97283279, 0.96186547, 1.01921082, 0.96921404, 0.92647552],\n",
              "       [0.96545168, 0.99505837, 0.93721983, 1.01796574, 1.01678262,\n",
              "        0.93845678, 0.94707592, 1.06564873, 0.99366284, 0.9137285 ],\n",
              "       [0.95703489, 0.9164665 , 0.97633705, 0.95993563, 1.01408464,\n",
              "        1.02943387, 0.97689502, 0.95719328, 1.01163983, 0.99496209],\n",
              "       [0.97602682, 0.99295112, 1.00081174, 0.99113075, 0.96862109,\n",
              "        1.06222112, 1.0150293 , 1.06535614, 1.11047299, 0.98852831],\n",
              "       [1.05089331, 0.92568884, 0.93416129, 0.9918707 , 1.07707804,\n",
              "        0.98479188, 0.97597258, 0.97218175, 0.9967893 , 1.04017887],\n",
              "       [0.98770948, 1.06102446, 0.97264692, 1.12559976, 0.97611663,\n",
              "        1.01675952, 1.01191493, 0.96165758, 1.055843  , 1.04386306],\n",
              "       [1.08618031, 0.89570622, 0.97237554, 1.09632973, 1.06799991,\n",
              "        0.96363915, 0.92644207, 0.99314956, 0.97873681, 0.9770506 ],\n",
              "       [1.04295446, 1.05639868, 0.93473537, 1.00176952, 0.93284304,\n",
              "        1.02884011, 0.94256769, 1.02246074, 0.99621956, 1.02130593],\n",
              "       [0.95310291, 1.0158672 , 1.05411604, 0.9863547 , 1.02746941,\n",
              "        1.0110954 , 0.92592447, 0.95478421, 1.08050438, 1.13968877],\n",
              "       [0.93490852, 0.93568031, 0.95946951, 1.02675209, 1.0276101 ,\n",
              "        1.00417187, 0.99564398, 0.9822799 , 0.97000571, 0.99618945],\n",
              "       [0.99954737, 0.95088248, 0.9843329 , 1.10463073, 1.01636201,\n",
              "        1.03150138, 1.00712766, 1.0322546 , 1.04957233, 0.96582152],\n",
              "       [0.968876  , 0.96721106, 1.05683601, 0.9901268 , 0.99281904,\n",
              "        0.97145795, 1.01328549, 1.02278189, 1.02264906, 1.05535524],\n",
              "       [0.9957382 , 1.0182364 , 1.0806108 , 0.96781611, 0.96401099,\n",
              "        1.03567615, 0.94832084, 1.00703132, 1.01255365, 0.98077472],\n",
              "       [0.9721243 , 0.95312787, 0.99679164, 1.01609449, 1.02341425,\n",
              "        1.04724066, 0.9916859 , 1.04525997, 0.91520174, 1.0203259 ],\n",
              "       [0.93447462, 0.966342  , 0.95902656, 1.00545464, 0.96940628,\n",
              "        0.97415762, 0.97830272, 1.00516532, 1.01660681, 0.95199914],\n",
              "       [1.12226138, 1.05990196, 0.93118102, 0.99916841, 1.03418828,\n",
              "        0.99699415, 1.01850558, 0.96396315, 1.01873263, 1.0195827 ],\n",
              "       [0.97245303, 1.02220446, 1.05312827, 0.9584738 , 1.04450845,\n",
              "        0.94226149, 1.0343061 , 0.99987467, 1.01488354, 1.03373335],\n",
              "       [1.03031689, 0.9844365 , 0.97896569, 0.98962884, 1.05427131,\n",
              "        0.96245549, 1.01302236, 1.00539971, 0.94719056, 0.97954384],\n",
              "       [1.0060076 , 1.02250075, 0.97253211, 1.07685426, 0.94192141,\n",
              "        0.91423116, 1.01210355, 1.01975945, 1.01816068, 1.07415377],\n",
              "       [0.9731325 , 0.96566162, 1.04290744, 0.98709842, 1.00219292,\n",
              "        0.98310408, 1.03716657, 1.04274744, 1.01778367, 0.99167763],\n",
              "       [1.04215402, 1.03844235, 0.96180309, 1.04833185, 1.00113759,\n",
              "        1.00499372, 0.98073602, 1.09045181, 0.9913704 , 1.00025448],\n",
              "       [0.98302699, 0.97934938, 0.95101669, 0.91773117, 1.09246448,\n",
              "        0.9970833 , 1.0305278 , 0.96900521, 0.95694027, 1.01064833],\n",
              "       [0.98606135, 1.01688413, 0.95178672, 0.97007825, 1.04607737,\n",
              "        1.01233426, 1.07674856, 0.91773249, 1.05514908, 0.98281801],\n",
              "       [0.93160262, 1.02042066, 0.99176371, 0.98424257, 0.96681271,\n",
              "        0.9578459 , 0.98032656, 1.07001338, 1.02946877, 0.97551   ],\n",
              "       [1.02695648, 1.0163728 , 1.00246502, 1.03896594, 1.0396168 ,\n",
              "        0.9247267 , 0.99580002, 1.00883685, 1.03866714, 1.02239576],\n",
              "       [0.944741  , 0.99287611, 1.03826817, 0.9930352 , 0.9468242 ,\n",
              "        1.05007558, 1.03544422, 1.0104283 , 1.02398298, 1.04182878],\n",
              "       [1.03042065, 0.97234625, 1.03798456, 0.96288076, 1.01490499,\n",
              "        0.92905385, 1.04561242, 0.94686442, 1.0342313 , 1.01264587],\n",
              "       [1.01822954, 1.03652631, 1.07430519, 0.99223593, 1.02204505,\n",
              "        0.96770937, 0.97579284, 0.97943192, 0.91938841, 0.99618948],\n",
              "       [0.94413276, 0.99971861, 1.02486536, 0.99296122, 0.99812537,\n",
              "        1.04717637, 0.99413366, 0.93127147, 1.0000668 , 1.0040442 ],\n",
              "       [0.96304005, 0.94417057, 0.94552145, 1.0352501 , 0.98472423,\n",
              "        1.00713019, 0.94968133, 0.98755475, 1.01296282, 1.07268552],\n",
              "       [0.97684147, 0.9577758 , 1.01677705, 0.96009717, 0.99283331,\n",
              "        1.06266047, 0.96869299, 0.97627633, 0.95852343, 1.0151456 ],\n",
              "       [1.05244722, 0.99205146, 0.97113242, 1.00011558, 1.06050712,\n",
              "        0.9724274 , 1.05381126, 0.96772108, 1.04700868, 0.98979893],\n",
              "       [1.02295161, 0.99900762, 0.92606762, 1.05954815, 0.98044193,\n",
              "        0.98074704, 1.02264175, 1.02868643, 0.9745283 , 1.03635153],\n",
              "       [0.97284976, 0.93749022, 1.01219675, 1.06308911, 0.92251528,\n",
              "        0.96303648, 1.04563005, 1.01819473, 1.01994999, 0.99557466],\n",
              "       [0.92608646, 1.07306086, 0.98153804, 1.15150945, 0.94031207,\n",
              "        0.99218275, 1.05228841, 1.01081447, 1.01211036, 0.98738026],\n",
              "       [1.01129664, 0.9515388 , 0.99301943, 0.98666782, 1.00725635,\n",
              "        1.00209657, 0.97444438, 0.95381761, 0.97879254, 1.16427722],\n",
              "       [0.96562674, 0.98730157, 0.94163335, 1.02560177, 1.03575604,\n",
              "        0.96428476, 0.93026341, 1.0751106 , 1.03807185, 1.08498421],\n",
              "       [1.06015371, 0.96254507, 0.95031011, 1.03136082, 1.00612135,\n",
              "        0.96879174, 0.97532335, 1.00814493, 0.98501509, 0.97689366],\n",
              "       [0.91244807, 0.96110821, 0.9754915 , 0.99877142, 0.99201025,\n",
              "        0.96182481, 0.96093708, 1.04021698, 1.03781901, 0.97456648],\n",
              "       [0.9930179 , 1.05016999, 0.95957921, 1.12096838, 0.95152928,\n",
              "        1.02518066, 1.04329931, 0.98016715, 1.06904401, 1.05003123],\n",
              "       [0.96081644, 1.0907866 , 1.07352533, 0.94901683, 0.92823968,\n",
              "        0.98784489, 1.05688843, 0.97705137, 1.00794588, 1.08611122],\n",
              "       [1.04602601, 1.00996766, 1.00885581, 1.00497339, 1.10093951,\n",
              "        0.96015055, 0.9139658 , 0.99869425, 1.02764036, 1.09446274],\n",
              "       [0.97692828, 0.9769883 , 1.03424211, 1.12875633, 0.96180977,\n",
              "        1.05114768, 0.94845961, 1.0607607 , 0.94820035, 0.96027859],\n",
              "       [1.03076521, 0.98930615, 1.02721596, 1.01192567, 1.00117741,\n",
              "        0.97684537, 1.18365693, 0.96591473, 1.02703417, 0.97301377],\n",
              "       [1.02656243, 1.0118338 , 0.98795028, 0.98744346, 0.9845937 ,\n",
              "        0.99060763, 1.00771473, 0.97566091, 0.95093387, 1.01892252],\n",
              "       [1.0322367 , 1.00816102, 0.93011457, 0.9643659 , 1.01733722,\n",
              "        1.01456443, 1.00799283, 1.04966382, 0.97311736, 0.98410486],\n",
              "       [0.98893549, 0.948576  , 1.01179841, 1.06653935, 1.02890902,\n",
              "        1.00014325, 0.96749224, 0.95891886, 1.01394347, 0.98919263]])"
            ]
          },
          "metadata": {
            "tags": []
          },
          "execution_count": 164
        }
      ]
    },
    {
      "cell_type": "code",
      "metadata": {
        "colab": {
          "base_uri": "https://localhost:8080/"
        },
        "id": "LtMkkBWLEGNs",
        "outputId": "b820ac8f-5031-453c-9efc-94f4244fffed"
      },
      "source": [
        "s0 = data['LOGN3.SA'].iloc[-1]\n",
        "s0"
      ],
      "execution_count": 165,
      "outputs": [
        {
          "output_type": "execute_result",
          "data": {
            "text/plain": [
              "18.579999923706055"
            ]
          },
          "metadata": {
            "tags": []
          },
          "execution_count": 165
        }
      ]
    },
    {
      "cell_type": "code",
      "metadata": {
        "colab": {
          "base_uri": "https://localhost:8080/"
        },
        "id": "SsKzWTGbEGQp",
        "outputId": "f4f63042-efde-4ee7-8af7-10826d7843d9"
      },
      "source": [
        "price_list = np.zeros_like(daily_returns)\n",
        "price_list"
      ],
      "execution_count": 166,
      "outputs": [
        {
          "output_type": "execute_result",
          "data": {
            "text/plain": [
              "array([[0., 0., 0., 0., 0., 0., 0., 0., 0., 0.],\n",
              "       [0., 0., 0., 0., 0., 0., 0., 0., 0., 0.],\n",
              "       [0., 0., 0., 0., 0., 0., 0., 0., 0., 0.],\n",
              "       [0., 0., 0., 0., 0., 0., 0., 0., 0., 0.],\n",
              "       [0., 0., 0., 0., 0., 0., 0., 0., 0., 0.],\n",
              "       [0., 0., 0., 0., 0., 0., 0., 0., 0., 0.],\n",
              "       [0., 0., 0., 0., 0., 0., 0., 0., 0., 0.],\n",
              "       [0., 0., 0., 0., 0., 0., 0., 0., 0., 0.],\n",
              "       [0., 0., 0., 0., 0., 0., 0., 0., 0., 0.],\n",
              "       [0., 0., 0., 0., 0., 0., 0., 0., 0., 0.],\n",
              "       [0., 0., 0., 0., 0., 0., 0., 0., 0., 0.],\n",
              "       [0., 0., 0., 0., 0., 0., 0., 0., 0., 0.],\n",
              "       [0., 0., 0., 0., 0., 0., 0., 0., 0., 0.],\n",
              "       [0., 0., 0., 0., 0., 0., 0., 0., 0., 0.],\n",
              "       [0., 0., 0., 0., 0., 0., 0., 0., 0., 0.],\n",
              "       [0., 0., 0., 0., 0., 0., 0., 0., 0., 0.],\n",
              "       [0., 0., 0., 0., 0., 0., 0., 0., 0., 0.],\n",
              "       [0., 0., 0., 0., 0., 0., 0., 0., 0., 0.],\n",
              "       [0., 0., 0., 0., 0., 0., 0., 0., 0., 0.],\n",
              "       [0., 0., 0., 0., 0., 0., 0., 0., 0., 0.],\n",
              "       [0., 0., 0., 0., 0., 0., 0., 0., 0., 0.],\n",
              "       [0., 0., 0., 0., 0., 0., 0., 0., 0., 0.],\n",
              "       [0., 0., 0., 0., 0., 0., 0., 0., 0., 0.],\n",
              "       [0., 0., 0., 0., 0., 0., 0., 0., 0., 0.],\n",
              "       [0., 0., 0., 0., 0., 0., 0., 0., 0., 0.],\n",
              "       [0., 0., 0., 0., 0., 0., 0., 0., 0., 0.],\n",
              "       [0., 0., 0., 0., 0., 0., 0., 0., 0., 0.],\n",
              "       [0., 0., 0., 0., 0., 0., 0., 0., 0., 0.],\n",
              "       [0., 0., 0., 0., 0., 0., 0., 0., 0., 0.],\n",
              "       [0., 0., 0., 0., 0., 0., 0., 0., 0., 0.],\n",
              "       [0., 0., 0., 0., 0., 0., 0., 0., 0., 0.],\n",
              "       [0., 0., 0., 0., 0., 0., 0., 0., 0., 0.],\n",
              "       [0., 0., 0., 0., 0., 0., 0., 0., 0., 0.],\n",
              "       [0., 0., 0., 0., 0., 0., 0., 0., 0., 0.],\n",
              "       [0., 0., 0., 0., 0., 0., 0., 0., 0., 0.],\n",
              "       [0., 0., 0., 0., 0., 0., 0., 0., 0., 0.],\n",
              "       [0., 0., 0., 0., 0., 0., 0., 0., 0., 0.],\n",
              "       [0., 0., 0., 0., 0., 0., 0., 0., 0., 0.],\n",
              "       [0., 0., 0., 0., 0., 0., 0., 0., 0., 0.],\n",
              "       [0., 0., 0., 0., 0., 0., 0., 0., 0., 0.],\n",
              "       [0., 0., 0., 0., 0., 0., 0., 0., 0., 0.],\n",
              "       [0., 0., 0., 0., 0., 0., 0., 0., 0., 0.],\n",
              "       [0., 0., 0., 0., 0., 0., 0., 0., 0., 0.],\n",
              "       [0., 0., 0., 0., 0., 0., 0., 0., 0., 0.],\n",
              "       [0., 0., 0., 0., 0., 0., 0., 0., 0., 0.],\n",
              "       [0., 0., 0., 0., 0., 0., 0., 0., 0., 0.],\n",
              "       [0., 0., 0., 0., 0., 0., 0., 0., 0., 0.],\n",
              "       [0., 0., 0., 0., 0., 0., 0., 0., 0., 0.],\n",
              "       [0., 0., 0., 0., 0., 0., 0., 0., 0., 0.],\n",
              "       [0., 0., 0., 0., 0., 0., 0., 0., 0., 0.],\n",
              "       [0., 0., 0., 0., 0., 0., 0., 0., 0., 0.],\n",
              "       [0., 0., 0., 0., 0., 0., 0., 0., 0., 0.],\n",
              "       [0., 0., 0., 0., 0., 0., 0., 0., 0., 0.],\n",
              "       [0., 0., 0., 0., 0., 0., 0., 0., 0., 0.],\n",
              "       [0., 0., 0., 0., 0., 0., 0., 0., 0., 0.],\n",
              "       [0., 0., 0., 0., 0., 0., 0., 0., 0., 0.],\n",
              "       [0., 0., 0., 0., 0., 0., 0., 0., 0., 0.],\n",
              "       [0., 0., 0., 0., 0., 0., 0., 0., 0., 0.],\n",
              "       [0., 0., 0., 0., 0., 0., 0., 0., 0., 0.],\n",
              "       [0., 0., 0., 0., 0., 0., 0., 0., 0., 0.],\n",
              "       [0., 0., 0., 0., 0., 0., 0., 0., 0., 0.],\n",
              "       [0., 0., 0., 0., 0., 0., 0., 0., 0., 0.],\n",
              "       [0., 0., 0., 0., 0., 0., 0., 0., 0., 0.],\n",
              "       [0., 0., 0., 0., 0., 0., 0., 0., 0., 0.],\n",
              "       [0., 0., 0., 0., 0., 0., 0., 0., 0., 0.],\n",
              "       [0., 0., 0., 0., 0., 0., 0., 0., 0., 0.],\n",
              "       [0., 0., 0., 0., 0., 0., 0., 0., 0., 0.],\n",
              "       [0., 0., 0., 0., 0., 0., 0., 0., 0., 0.],\n",
              "       [0., 0., 0., 0., 0., 0., 0., 0., 0., 0.],\n",
              "       [0., 0., 0., 0., 0., 0., 0., 0., 0., 0.],\n",
              "       [0., 0., 0., 0., 0., 0., 0., 0., 0., 0.],\n",
              "       [0., 0., 0., 0., 0., 0., 0., 0., 0., 0.],\n",
              "       [0., 0., 0., 0., 0., 0., 0., 0., 0., 0.],\n",
              "       [0., 0., 0., 0., 0., 0., 0., 0., 0., 0.],\n",
              "       [0., 0., 0., 0., 0., 0., 0., 0., 0., 0.],\n",
              "       [0., 0., 0., 0., 0., 0., 0., 0., 0., 0.],\n",
              "       [0., 0., 0., 0., 0., 0., 0., 0., 0., 0.],\n",
              "       [0., 0., 0., 0., 0., 0., 0., 0., 0., 0.],\n",
              "       [0., 0., 0., 0., 0., 0., 0., 0., 0., 0.],\n",
              "       [0., 0., 0., 0., 0., 0., 0., 0., 0., 0.],\n",
              "       [0., 0., 0., 0., 0., 0., 0., 0., 0., 0.],\n",
              "       [0., 0., 0., 0., 0., 0., 0., 0., 0., 0.],\n",
              "       [0., 0., 0., 0., 0., 0., 0., 0., 0., 0.],\n",
              "       [0., 0., 0., 0., 0., 0., 0., 0., 0., 0.],\n",
              "       [0., 0., 0., 0., 0., 0., 0., 0., 0., 0.],\n",
              "       [0., 0., 0., 0., 0., 0., 0., 0., 0., 0.],\n",
              "       [0., 0., 0., 0., 0., 0., 0., 0., 0., 0.],\n",
              "       [0., 0., 0., 0., 0., 0., 0., 0., 0., 0.],\n",
              "       [0., 0., 0., 0., 0., 0., 0., 0., 0., 0.],\n",
              "       [0., 0., 0., 0., 0., 0., 0., 0., 0., 0.],\n",
              "       [0., 0., 0., 0., 0., 0., 0., 0., 0., 0.],\n",
              "       [0., 0., 0., 0., 0., 0., 0., 0., 0., 0.],\n",
              "       [0., 0., 0., 0., 0., 0., 0., 0., 0., 0.],\n",
              "       [0., 0., 0., 0., 0., 0., 0., 0., 0., 0.],\n",
              "       [0., 0., 0., 0., 0., 0., 0., 0., 0., 0.],\n",
              "       [0., 0., 0., 0., 0., 0., 0., 0., 0., 0.],\n",
              "       [0., 0., 0., 0., 0., 0., 0., 0., 0., 0.],\n",
              "       [0., 0., 0., 0., 0., 0., 0., 0., 0., 0.],\n",
              "       [0., 0., 0., 0., 0., 0., 0., 0., 0., 0.],\n",
              "       [0., 0., 0., 0., 0., 0., 0., 0., 0., 0.]])"
            ]
          },
          "metadata": {
            "tags": []
          },
          "execution_count": 166
        }
      ]
    },
    {
      "cell_type": "code",
      "metadata": {
        "colab": {
          "base_uri": "https://localhost:8080/"
        },
        "id": "HUUL5_gtEGTd",
        "outputId": "98679543-6b7a-4cf5-f1a1-7f13508f4c68"
      },
      "source": [
        "price_list[0] = s0\n",
        "price_list"
      ],
      "execution_count": 167,
      "outputs": [
        {
          "output_type": "execute_result",
          "data": {
            "text/plain": [
              "array([[18.57999992, 18.57999992, 18.57999992, 18.57999992, 18.57999992,\n",
              "        18.57999992, 18.57999992, 18.57999992, 18.57999992, 18.57999992],\n",
              "       [ 0.        ,  0.        ,  0.        ,  0.        ,  0.        ,\n",
              "         0.        ,  0.        ,  0.        ,  0.        ,  0.        ],\n",
              "       [ 0.        ,  0.        ,  0.        ,  0.        ,  0.        ,\n",
              "         0.        ,  0.        ,  0.        ,  0.        ,  0.        ],\n",
              "       [ 0.        ,  0.        ,  0.        ,  0.        ,  0.        ,\n",
              "         0.        ,  0.        ,  0.        ,  0.        ,  0.        ],\n",
              "       [ 0.        ,  0.        ,  0.        ,  0.        ,  0.        ,\n",
              "         0.        ,  0.        ,  0.        ,  0.        ,  0.        ],\n",
              "       [ 0.        ,  0.        ,  0.        ,  0.        ,  0.        ,\n",
              "         0.        ,  0.        ,  0.        ,  0.        ,  0.        ],\n",
              "       [ 0.        ,  0.        ,  0.        ,  0.        ,  0.        ,\n",
              "         0.        ,  0.        ,  0.        ,  0.        ,  0.        ],\n",
              "       [ 0.        ,  0.        ,  0.        ,  0.        ,  0.        ,\n",
              "         0.        ,  0.        ,  0.        ,  0.        ,  0.        ],\n",
              "       [ 0.        ,  0.        ,  0.        ,  0.        ,  0.        ,\n",
              "         0.        ,  0.        ,  0.        ,  0.        ,  0.        ],\n",
              "       [ 0.        ,  0.        ,  0.        ,  0.        ,  0.        ,\n",
              "         0.        ,  0.        ,  0.        ,  0.        ,  0.        ],\n",
              "       [ 0.        ,  0.        ,  0.        ,  0.        ,  0.        ,\n",
              "         0.        ,  0.        ,  0.        ,  0.        ,  0.        ],\n",
              "       [ 0.        ,  0.        ,  0.        ,  0.        ,  0.        ,\n",
              "         0.        ,  0.        ,  0.        ,  0.        ,  0.        ],\n",
              "       [ 0.        ,  0.        ,  0.        ,  0.        ,  0.        ,\n",
              "         0.        ,  0.        ,  0.        ,  0.        ,  0.        ],\n",
              "       [ 0.        ,  0.        ,  0.        ,  0.        ,  0.        ,\n",
              "         0.        ,  0.        ,  0.        ,  0.        ,  0.        ],\n",
              "       [ 0.        ,  0.        ,  0.        ,  0.        ,  0.        ,\n",
              "         0.        ,  0.        ,  0.        ,  0.        ,  0.        ],\n",
              "       [ 0.        ,  0.        ,  0.        ,  0.        ,  0.        ,\n",
              "         0.        ,  0.        ,  0.        ,  0.        ,  0.        ],\n",
              "       [ 0.        ,  0.        ,  0.        ,  0.        ,  0.        ,\n",
              "         0.        ,  0.        ,  0.        ,  0.        ,  0.        ],\n",
              "       [ 0.        ,  0.        ,  0.        ,  0.        ,  0.        ,\n",
              "         0.        ,  0.        ,  0.        ,  0.        ,  0.        ],\n",
              "       [ 0.        ,  0.        ,  0.        ,  0.        ,  0.        ,\n",
              "         0.        ,  0.        ,  0.        ,  0.        ,  0.        ],\n",
              "       [ 0.        ,  0.        ,  0.        ,  0.        ,  0.        ,\n",
              "         0.        ,  0.        ,  0.        ,  0.        ,  0.        ],\n",
              "       [ 0.        ,  0.        ,  0.        ,  0.        ,  0.        ,\n",
              "         0.        ,  0.        ,  0.        ,  0.        ,  0.        ],\n",
              "       [ 0.        ,  0.        ,  0.        ,  0.        ,  0.        ,\n",
              "         0.        ,  0.        ,  0.        ,  0.        ,  0.        ],\n",
              "       [ 0.        ,  0.        ,  0.        ,  0.        ,  0.        ,\n",
              "         0.        ,  0.        ,  0.        ,  0.        ,  0.        ],\n",
              "       [ 0.        ,  0.        ,  0.        ,  0.        ,  0.        ,\n",
              "         0.        ,  0.        ,  0.        ,  0.        ,  0.        ],\n",
              "       [ 0.        ,  0.        ,  0.        ,  0.        ,  0.        ,\n",
              "         0.        ,  0.        ,  0.        ,  0.        ,  0.        ],\n",
              "       [ 0.        ,  0.        ,  0.        ,  0.        ,  0.        ,\n",
              "         0.        ,  0.        ,  0.        ,  0.        ,  0.        ],\n",
              "       [ 0.        ,  0.        ,  0.        ,  0.        ,  0.        ,\n",
              "         0.        ,  0.        ,  0.        ,  0.        ,  0.        ],\n",
              "       [ 0.        ,  0.        ,  0.        ,  0.        ,  0.        ,\n",
              "         0.        ,  0.        ,  0.        ,  0.        ,  0.        ],\n",
              "       [ 0.        ,  0.        ,  0.        ,  0.        ,  0.        ,\n",
              "         0.        ,  0.        ,  0.        ,  0.        ,  0.        ],\n",
              "       [ 0.        ,  0.        ,  0.        ,  0.        ,  0.        ,\n",
              "         0.        ,  0.        ,  0.        ,  0.        ,  0.        ],\n",
              "       [ 0.        ,  0.        ,  0.        ,  0.        ,  0.        ,\n",
              "         0.        ,  0.        ,  0.        ,  0.        ,  0.        ],\n",
              "       [ 0.        ,  0.        ,  0.        ,  0.        ,  0.        ,\n",
              "         0.        ,  0.        ,  0.        ,  0.        ,  0.        ],\n",
              "       [ 0.        ,  0.        ,  0.        ,  0.        ,  0.        ,\n",
              "         0.        ,  0.        ,  0.        ,  0.        ,  0.        ],\n",
              "       [ 0.        ,  0.        ,  0.        ,  0.        ,  0.        ,\n",
              "         0.        ,  0.        ,  0.        ,  0.        ,  0.        ],\n",
              "       [ 0.        ,  0.        ,  0.        ,  0.        ,  0.        ,\n",
              "         0.        ,  0.        ,  0.        ,  0.        ,  0.        ],\n",
              "       [ 0.        ,  0.        ,  0.        ,  0.        ,  0.        ,\n",
              "         0.        ,  0.        ,  0.        ,  0.        ,  0.        ],\n",
              "       [ 0.        ,  0.        ,  0.        ,  0.        ,  0.        ,\n",
              "         0.        ,  0.        ,  0.        ,  0.        ,  0.        ],\n",
              "       [ 0.        ,  0.        ,  0.        ,  0.        ,  0.        ,\n",
              "         0.        ,  0.        ,  0.        ,  0.        ,  0.        ],\n",
              "       [ 0.        ,  0.        ,  0.        ,  0.        ,  0.        ,\n",
              "         0.        ,  0.        ,  0.        ,  0.        ,  0.        ],\n",
              "       [ 0.        ,  0.        ,  0.        ,  0.        ,  0.        ,\n",
              "         0.        ,  0.        ,  0.        ,  0.        ,  0.        ],\n",
              "       [ 0.        ,  0.        ,  0.        ,  0.        ,  0.        ,\n",
              "         0.        ,  0.        ,  0.        ,  0.        ,  0.        ],\n",
              "       [ 0.        ,  0.        ,  0.        ,  0.        ,  0.        ,\n",
              "         0.        ,  0.        ,  0.        ,  0.        ,  0.        ],\n",
              "       [ 0.        ,  0.        ,  0.        ,  0.        ,  0.        ,\n",
              "         0.        ,  0.        ,  0.        ,  0.        ,  0.        ],\n",
              "       [ 0.        ,  0.        ,  0.        ,  0.        ,  0.        ,\n",
              "         0.        ,  0.        ,  0.        ,  0.        ,  0.        ],\n",
              "       [ 0.        ,  0.        ,  0.        ,  0.        ,  0.        ,\n",
              "         0.        ,  0.        ,  0.        ,  0.        ,  0.        ],\n",
              "       [ 0.        ,  0.        ,  0.        ,  0.        ,  0.        ,\n",
              "         0.        ,  0.        ,  0.        ,  0.        ,  0.        ],\n",
              "       [ 0.        ,  0.        ,  0.        ,  0.        ,  0.        ,\n",
              "         0.        ,  0.        ,  0.        ,  0.        ,  0.        ],\n",
              "       [ 0.        ,  0.        ,  0.        ,  0.        ,  0.        ,\n",
              "         0.        ,  0.        ,  0.        ,  0.        ,  0.        ],\n",
              "       [ 0.        ,  0.        ,  0.        ,  0.        ,  0.        ,\n",
              "         0.        ,  0.        ,  0.        ,  0.        ,  0.        ],\n",
              "       [ 0.        ,  0.        ,  0.        ,  0.        ,  0.        ,\n",
              "         0.        ,  0.        ,  0.        ,  0.        ,  0.        ],\n",
              "       [ 0.        ,  0.        ,  0.        ,  0.        ,  0.        ,\n",
              "         0.        ,  0.        ,  0.        ,  0.        ,  0.        ],\n",
              "       [ 0.        ,  0.        ,  0.        ,  0.        ,  0.        ,\n",
              "         0.        ,  0.        ,  0.        ,  0.        ,  0.        ],\n",
              "       [ 0.        ,  0.        ,  0.        ,  0.        ,  0.        ,\n",
              "         0.        ,  0.        ,  0.        ,  0.        ,  0.        ],\n",
              "       [ 0.        ,  0.        ,  0.        ,  0.        ,  0.        ,\n",
              "         0.        ,  0.        ,  0.        ,  0.        ,  0.        ],\n",
              "       [ 0.        ,  0.        ,  0.        ,  0.        ,  0.        ,\n",
              "         0.        ,  0.        ,  0.        ,  0.        ,  0.        ],\n",
              "       [ 0.        ,  0.        ,  0.        ,  0.        ,  0.        ,\n",
              "         0.        ,  0.        ,  0.        ,  0.        ,  0.        ],\n",
              "       [ 0.        ,  0.        ,  0.        ,  0.        ,  0.        ,\n",
              "         0.        ,  0.        ,  0.        ,  0.        ,  0.        ],\n",
              "       [ 0.        ,  0.        ,  0.        ,  0.        ,  0.        ,\n",
              "         0.        ,  0.        ,  0.        ,  0.        ,  0.        ],\n",
              "       [ 0.        ,  0.        ,  0.        ,  0.        ,  0.        ,\n",
              "         0.        ,  0.        ,  0.        ,  0.        ,  0.        ],\n",
              "       [ 0.        ,  0.        ,  0.        ,  0.        ,  0.        ,\n",
              "         0.        ,  0.        ,  0.        ,  0.        ,  0.        ],\n",
              "       [ 0.        ,  0.        ,  0.        ,  0.        ,  0.        ,\n",
              "         0.        ,  0.        ,  0.        ,  0.        ,  0.        ],\n",
              "       [ 0.        ,  0.        ,  0.        ,  0.        ,  0.        ,\n",
              "         0.        ,  0.        ,  0.        ,  0.        ,  0.        ],\n",
              "       [ 0.        ,  0.        ,  0.        ,  0.        ,  0.        ,\n",
              "         0.        ,  0.        ,  0.        ,  0.        ,  0.        ],\n",
              "       [ 0.        ,  0.        ,  0.        ,  0.        ,  0.        ,\n",
              "         0.        ,  0.        ,  0.        ,  0.        ,  0.        ],\n",
              "       [ 0.        ,  0.        ,  0.        ,  0.        ,  0.        ,\n",
              "         0.        ,  0.        ,  0.        ,  0.        ,  0.        ],\n",
              "       [ 0.        ,  0.        ,  0.        ,  0.        ,  0.        ,\n",
              "         0.        ,  0.        ,  0.        ,  0.        ,  0.        ],\n",
              "       [ 0.        ,  0.        ,  0.        ,  0.        ,  0.        ,\n",
              "         0.        ,  0.        ,  0.        ,  0.        ,  0.        ],\n",
              "       [ 0.        ,  0.        ,  0.        ,  0.        ,  0.        ,\n",
              "         0.        ,  0.        ,  0.        ,  0.        ,  0.        ],\n",
              "       [ 0.        ,  0.        ,  0.        ,  0.        ,  0.        ,\n",
              "         0.        ,  0.        ,  0.        ,  0.        ,  0.        ],\n",
              "       [ 0.        ,  0.        ,  0.        ,  0.        ,  0.        ,\n",
              "         0.        ,  0.        ,  0.        ,  0.        ,  0.        ],\n",
              "       [ 0.        ,  0.        ,  0.        ,  0.        ,  0.        ,\n",
              "         0.        ,  0.        ,  0.        ,  0.        ,  0.        ],\n",
              "       [ 0.        ,  0.        ,  0.        ,  0.        ,  0.        ,\n",
              "         0.        ,  0.        ,  0.        ,  0.        ,  0.        ],\n",
              "       [ 0.        ,  0.        ,  0.        ,  0.        ,  0.        ,\n",
              "         0.        ,  0.        ,  0.        ,  0.        ,  0.        ],\n",
              "       [ 0.        ,  0.        ,  0.        ,  0.        ,  0.        ,\n",
              "         0.        ,  0.        ,  0.        ,  0.        ,  0.        ],\n",
              "       [ 0.        ,  0.        ,  0.        ,  0.        ,  0.        ,\n",
              "         0.        ,  0.        ,  0.        ,  0.        ,  0.        ],\n",
              "       [ 0.        ,  0.        ,  0.        ,  0.        ,  0.        ,\n",
              "         0.        ,  0.        ,  0.        ,  0.        ,  0.        ],\n",
              "       [ 0.        ,  0.        ,  0.        ,  0.        ,  0.        ,\n",
              "         0.        ,  0.        ,  0.        ,  0.        ,  0.        ],\n",
              "       [ 0.        ,  0.        ,  0.        ,  0.        ,  0.        ,\n",
              "         0.        ,  0.        ,  0.        ,  0.        ,  0.        ],\n",
              "       [ 0.        ,  0.        ,  0.        ,  0.        ,  0.        ,\n",
              "         0.        ,  0.        ,  0.        ,  0.        ,  0.        ],\n",
              "       [ 0.        ,  0.        ,  0.        ,  0.        ,  0.        ,\n",
              "         0.        ,  0.        ,  0.        ,  0.        ,  0.        ],\n",
              "       [ 0.        ,  0.        ,  0.        ,  0.        ,  0.        ,\n",
              "         0.        ,  0.        ,  0.        ,  0.        ,  0.        ],\n",
              "       [ 0.        ,  0.        ,  0.        ,  0.        ,  0.        ,\n",
              "         0.        ,  0.        ,  0.        ,  0.        ,  0.        ],\n",
              "       [ 0.        ,  0.        ,  0.        ,  0.        ,  0.        ,\n",
              "         0.        ,  0.        ,  0.        ,  0.        ,  0.        ],\n",
              "       [ 0.        ,  0.        ,  0.        ,  0.        ,  0.        ,\n",
              "         0.        ,  0.        ,  0.        ,  0.        ,  0.        ],\n",
              "       [ 0.        ,  0.        ,  0.        ,  0.        ,  0.        ,\n",
              "         0.        ,  0.        ,  0.        ,  0.        ,  0.        ],\n",
              "       [ 0.        ,  0.        ,  0.        ,  0.        ,  0.        ,\n",
              "         0.        ,  0.        ,  0.        ,  0.        ,  0.        ],\n",
              "       [ 0.        ,  0.        ,  0.        ,  0.        ,  0.        ,\n",
              "         0.        ,  0.        ,  0.        ,  0.        ,  0.        ],\n",
              "       [ 0.        ,  0.        ,  0.        ,  0.        ,  0.        ,\n",
              "         0.        ,  0.        ,  0.        ,  0.        ,  0.        ],\n",
              "       [ 0.        ,  0.        ,  0.        ,  0.        ,  0.        ,\n",
              "         0.        ,  0.        ,  0.        ,  0.        ,  0.        ],\n",
              "       [ 0.        ,  0.        ,  0.        ,  0.        ,  0.        ,\n",
              "         0.        ,  0.        ,  0.        ,  0.        ,  0.        ],\n",
              "       [ 0.        ,  0.        ,  0.        ,  0.        ,  0.        ,\n",
              "         0.        ,  0.        ,  0.        ,  0.        ,  0.        ],\n",
              "       [ 0.        ,  0.        ,  0.        ,  0.        ,  0.        ,\n",
              "         0.        ,  0.        ,  0.        ,  0.        ,  0.        ],\n",
              "       [ 0.        ,  0.        ,  0.        ,  0.        ,  0.        ,\n",
              "         0.        ,  0.        ,  0.        ,  0.        ,  0.        ],\n",
              "       [ 0.        ,  0.        ,  0.        ,  0.        ,  0.        ,\n",
              "         0.        ,  0.        ,  0.        ,  0.        ,  0.        ],\n",
              "       [ 0.        ,  0.        ,  0.        ,  0.        ,  0.        ,\n",
              "         0.        ,  0.        ,  0.        ,  0.        ,  0.        ],\n",
              "       [ 0.        ,  0.        ,  0.        ,  0.        ,  0.        ,\n",
              "         0.        ,  0.        ,  0.        ,  0.        ,  0.        ],\n",
              "       [ 0.        ,  0.        ,  0.        ,  0.        ,  0.        ,\n",
              "         0.        ,  0.        ,  0.        ,  0.        ,  0.        ],\n",
              "       [ 0.        ,  0.        ,  0.        ,  0.        ,  0.        ,\n",
              "         0.        ,  0.        ,  0.        ,  0.        ,  0.        ],\n",
              "       [ 0.        ,  0.        ,  0.        ,  0.        ,  0.        ,\n",
              "         0.        ,  0.        ,  0.        ,  0.        ,  0.        ],\n",
              "       [ 0.        ,  0.        ,  0.        ,  0.        ,  0.        ,\n",
              "         0.        ,  0.        ,  0.        ,  0.        ,  0.        ]])"
            ]
          },
          "metadata": {
            "tags": []
          },
          "execution_count": 167
        }
      ]
    },
    {
      "cell_type": "code",
      "metadata": {
        "id": "wFtnUWfmEGV4"
      },
      "source": [
        "for t in range(1, t_intervals):\n",
        "    price_list[t] = price_list[t - 1] * daily_returns[t]"
      ],
      "execution_count": 168,
      "outputs": []
    },
    {
      "cell_type": "code",
      "metadata": {
        "colab": {
          "base_uri": "https://localhost:8080/"
        },
        "id": "lQnjhkUJEGYs",
        "outputId": "7dbfd271-5d30-49b7-a672-3a07fa184ccf"
      },
      "source": [
        "price_list"
      ],
      "execution_count": 169,
      "outputs": [
        {
          "output_type": "execute_result",
          "data": {
            "text/plain": [
              "array([[18.57999992, 18.57999992, 18.57999992, 18.57999992, 18.57999992,\n",
              "        18.57999992, 18.57999992, 18.57999992, 18.57999992, 18.57999992],\n",
              "       [19.09690616, 19.52999914, 17.91702189, 17.2642124 , 18.71658262,\n",
              "        16.22588446, 19.06024487, 17.88931822, 18.42237457, 18.82314849],\n",
              "       [17.73324658, 19.95355923, 18.43774562, 16.26799378, 18.57538071,\n",
              "        17.01228846, 18.96788362, 18.14027913, 17.96692411, 19.59399066],\n",
              "       [17.28169128, 19.18909962, 17.67725416, 16.48904389, 18.23981606,\n",
              "        17.10030017, 19.06337214, 17.99711171, 19.20854205, 19.35800846],\n",
              "       [18.13659508, 19.28555793, 18.4198709 , 15.01018375, 19.36952174,\n",
              "        17.82341786, 18.68235291, 19.25954252, 18.95630148, 20.36888593],\n",
              "       [18.25845814, 20.00662602, 18.58104182, 14.90245989, 19.12947994,\n",
              "        17.76679983, 17.60773704, 20.04514657, 18.51909614, 20.05925235],\n",
              "       [19.04587336, 19.82176734, 18.36813786, 14.98252228, 19.46854141,\n",
              "        17.10766514, 18.19539759, 17.85090443, 17.84004157, 20.23047286],\n",
              "       [18.60323426, 20.41792338, 18.43937982, 16.26354989, 20.13463273,\n",
              "        16.54668227, 16.69109749, 17.37250179, 18.93104529, 20.97152386],\n",
              "       [18.38831233, 20.1687632 , 17.65482597, 16.75045227, 21.08649222,\n",
              "        16.89152228, 16.33957807, 18.07531852, 20.40715229, 19.10968955],\n",
              "       [18.87517483, 21.11268453, 17.89870067, 16.04872188, 20.7750423 ,\n",
              "        17.73842995, 15.88062174, 18.14145056, 19.33478452, 19.77806093],\n",
              "       [18.75235842, 21.81028451, 18.78439947, 16.43915618, 23.82303235,\n",
              "        16.74898577, 14.14130099, 16.72756154, 20.12831037, 19.77584824],\n",
              "       [17.05621954, 21.7425242 , 20.12327701, 16.80750913, 28.19058824,\n",
              "        17.16489305, 14.42858619, 17.15906316, 20.56322872, 19.03922977],\n",
              "       [16.48259638, 22.34536899, 20.51505068, 17.26912698, 28.74738478,\n",
              "        18.03044181, 14.2886744 , 17.56393419, 20.15140352, 18.50754993],\n",
              "       [16.13172244, 21.97174821, 20.89314727, 17.97916461, 28.13517643,\n",
              "        18.01545664, 14.55927641, 17.59729766, 19.53604735, 18.63840991],\n",
              "       [17.77757694, 22.96809672, 20.61544127, 18.61686658, 26.81560223,\n",
              "        17.46015971, 14.66570294, 17.34022398, 18.98995784, 18.10431462],\n",
              "       [17.07361661, 25.91337956, 20.41235659, 19.57098675, 27.03401398,\n",
              "        16.6625199 , 15.01576322, 17.20447751, 18.08687846, 17.82111549],\n",
              "       [16.44760185, 25.34430049, 20.6296233 , 19.32834929, 26.48197911,\n",
              "        16.29490532, 15.09967901, 16.3964218 , 19.35269819, 16.40382926],\n",
              "       [16.90280692, 25.48378643, 18.71560427, 19.05407587, 24.13966234,\n",
              "        16.20163964, 14.28511038, 16.06733033, 20.51320592, 16.56283263],\n",
              "       [17.56488095, 25.44264509, 20.51055051, 19.24890148, 23.51373748,\n",
              "        14.71302189, 14.28078889, 18.25985837, 20.96951831, 17.24325917],\n",
              "       [17.38765822, 24.67140085, 19.52953889, 20.58325696, 23.30137574,\n",
              "        14.35260068, 13.92362791, 18.07129478, 21.01859307, 16.6542144 ],\n",
              "       [17.4397751 , 24.86910112, 19.81872169, 20.18513739, 21.57301847,\n",
              "        15.08507901, 14.01158366, 16.94137109, 20.9686517 , 15.99061811],\n",
              "       [15.76587204, 25.22416427, 18.91247099, 20.61283526, 21.30637769,\n",
              "        15.24420081, 12.78476931, 16.5505789 , 20.93956498, 15.60454513],\n",
              "       [16.832145  , 25.09782972, 17.63163649, 18.81392638, 21.63512996,\n",
              "        15.99495872, 12.95182669, 17.03541795, 19.59253507, 14.76694366],\n",
              "       [16.7420529 , 26.44851381, 17.61899202, 19.16296545, 22.5500012 ,\n",
              "        15.7047313 , 13.9717847 , 17.38569675, 20.17365546, 13.72702153],\n",
              "       [16.25401202, 26.12601485, 17.16467111, 19.92646053, 22.2741644 ,\n",
              "        14.92321236, 14.41560723, 17.10807399, 19.56885285, 14.29971636],\n",
              "       [14.11856944, 25.4766802 , 18.47525982, 19.54384249, 22.48226303,\n",
              "        15.45885776, 14.86920337, 16.42760492, 20.56809958, 14.62155615],\n",
              "       [14.02887311, 25.5920428 , 20.15696719, 21.62880779, 23.15997453,\n",
              "        15.0105719 , 14.66336477, 16.58150993, 19.57538805, 13.89387909],\n",
              "       [13.15231782, 25.32136339, 19.56906298, 20.6067587 , 23.95166993,\n",
              "        15.27548127, 14.87982777, 16.94971793, 20.39456937, 13.17562642],\n",
              "       [13.43987553, 22.1980243 , 19.56401002, 20.17405408, 23.03297014,\n",
              "        15.00027785, 14.5151486 , 17.75908069, 21.11833524, 12.4666503 ],\n",
              "       [13.60728974, 22.23562617, 19.82261172, 20.14387659, 22.77457625,\n",
              "        15.41240189, 13.86223768, 18.5688029 , 19.93913114, 11.42410762],\n",
              "       [13.79559901, 22.89330828, 21.04749421, 19.85395995, 24.87509482,\n",
              "        15.31061906, 14.53169029, 19.25265447, 20.22881223, 11.21479948],\n",
              "       [13.29728716, 26.14557785, 20.52799318, 20.15161395, 25.08365185,\n",
              "        15.53883766, 16.03991364, 20.14695978, 21.17432842, 11.70150778],\n",
              "       [13.1969456 , 25.33566293, 22.34241626, 19.64163811, 23.84622851,\n",
              "        15.69673864, 16.31156048, 18.76324103, 22.12959132, 11.36798022],\n",
              "       [14.64744604, 23.13725489, 20.11423053, 18.2099528 , 22.17818923,\n",
              "        16.09058417, 17.23458673, 17.94737882, 23.32404565, 11.82967586],\n",
              "       [15.3095841 , 24.90898972, 20.64718686, 17.29797556, 23.98705065,\n",
              "        14.99027082, 17.03963868, 16.71381534, 22.71072527, 12.05521405],\n",
              "       [14.99218168, 24.35155009, 19.90856387, 18.49375193, 23.97061936,\n",
              "        13.88269294, 17.41298297, 17.47688635, 23.06289157, 12.36511294],\n",
              "       [14.83862157, 24.64266982, 19.35313372, 19.51719631, 24.67386949,\n",
              "        13.89271825, 17.7503366 , 17.35991366, 22.03169756, 13.56719484],\n",
              "       [14.92045635, 26.44327753, 18.64850153, 20.66055385, 24.61298305,\n",
              "        13.17797692, 19.27171603, 18.66189415, 20.92867685, 12.39849084],\n",
              "       [14.54117334, 24.98287947, 19.27080141, 20.01803013, 24.68181311,\n",
              "        11.39617238, 18.48414542, 17.79986271, 20.41849174, 12.91281624],\n",
              "       [14.81859855, 27.45817964, 17.49871052, 19.76182064, 24.80942547,\n",
              "        12.29617058, 20.26068089, 16.48356725, 20.85933063, 11.810286  ],\n",
              "       [14.73633146, 26.15718178, 19.10496141, 19.2805853 , 26.26559318,\n",
              "        12.35842616, 20.13502995, 16.5136307 , 20.67457344, 11.66735194],\n",
              "       [14.61922376, 25.67677149, 18.87998249, 17.9012413 , 27.34724852,\n",
              "        12.70451355, 20.9171393 , 18.0346381 , 20.13254567, 12.71006164],\n",
              "       [15.20515219, 25.40704846, 18.48844364, 17.00128616, 27.67274847,\n",
              "        12.14810248, 22.43003204, 19.640584  , 19.30804329, 12.53017966],\n",
              "       [16.04151397, 25.6718908 , 17.95902836, 17.41197701, 28.93973603,\n",
              "        12.13096671, 22.4015621 , 20.61945035, 18.89382758, 11.93078784],\n",
              "       [17.32607408, 25.57748219, 20.18781135, 18.37548883, 30.67257954,\n",
              "        12.29539173, 21.86687991, 20.94032993, 18.89150377, 12.0613899 ],\n",
              "       [17.21058683, 25.26772554, 20.51417281, 16.60113052, 31.25405843,\n",
              "        11.73550095, 22.41071919, 21.53809608, 22.07891665, 11.87593435],\n",
              "       [17.42518898, 24.58707845, 22.37989951, 16.61302262, 29.41474139,\n",
              "        11.58047367, 22.53854416, 21.72626781, 23.67066177, 11.61026542],\n",
              "       [16.15777876, 24.3612897 , 22.02158929, 16.6124033 , 29.88707395,\n",
              "        11.61028553, 22.58154047, 21.34364644, 22.66255191, 11.63324649],\n",
              "       [16.4344329 , 24.8735298 , 21.62029262, 15.44877525, 30.15515894,\n",
              "        11.55544165, 22.2446124 , 21.52032028, 24.22028792, 11.48166731],\n",
              "       [16.42859949, 24.9935315 , 22.36603117, 15.87657482, 29.46528778,\n",
              "        11.61046102, 21.26628476, 19.56848227, 23.31680495, 10.68611808],\n",
              "       [15.7703331 , 24.17147345, 22.51760686, 15.1158808 , 28.34391345,\n",
              "        11.00364396, 22.2008866 , 19.69101462, 23.05931598, 11.21496726],\n",
              "       [16.76273193, 22.48457181, 23.31932474, 14.35406363, 28.03703315,\n",
              "        11.83651346, 21.30162053, 19.1559357 , 22.2277917 , 11.44097255],\n",
              "       [17.71491927, 22.51304467, 23.96556082, 13.49174546, 28.32891814,\n",
              "        11.84214469, 23.53387134, 19.90670041, 21.93263092, 11.21622729],\n",
              "       [18.41247184, 21.88474952, 25.15679056, 12.66147194, 28.16372199,\n",
              "        11.5204267 , 22.63641826, 20.28912455, 21.25741378, 10.39155998],\n",
              "       [17.77635194, 21.77660326, 23.57744299, 12.88894462, 28.63638291,\n",
              "        10.81142259, 21.4384067 , 21.62107971, 21.12270212,  9.49506452],\n",
              "       [17.0125891 , 19.9575273 , 23.01953115, 12.37255711, 29.03971593,\n",
              "        11.12964464, 20.94307264, 20.69555218, 21.36856688,  9.44722923],\n",
              "       [16.60474316, 19.81684905, 23.03821692, 12.26282178, 28.12848127,\n",
              "        11.82214364, 21.25783246, 22.04813356, 23.72921639,  9.33885352],\n",
              "       [17.44981348, 18.34423603, 21.52141041, 12.16313356, 30.2965695 ,\n",
              "        11.64235109, 20.74706167, 21.43479302, 23.65302901,  9.71407809],\n",
              "       [17.23534619, 19.46368305, 20.93273353, 13.69082021, 29.57298524,\n",
              "        11.83747136, 20.99426135, 20.61293117, 24.97388514, 10.14016728],\n",
              "       [18.72069371, 17.43374194, 20.35447816, 15.00965327, 31.58394562,\n",
              "        11.40705084, 19.44996697, 20.47172362, 24.44286058,  9.90745656],\n",
              "       [19.52483105, 18.41698195, 19.02605064, 15.03621309, 29.4628639 ,\n",
              "        11.73603144, 18.33291044, 20.93153358, 24.3504557 , 10.11854411],\n",
              "       [18.60917323, 18.70920795, 20.05566525, 14.83103942, 30.27219126,\n",
              "        11.86624745, 16.97489035, 19.98509785, 26.31077403, 11.53199106],\n",
              "       [17.3978746 , 17.5058375 , 19.24279926, 15.22780065, 31.10800959,\n",
              "        11.91575194, 16.90094739, 19.63096001, 25.52160109, 11.48804787],\n",
              "       [17.3899998 , 16.64599412, 18.9413204 , 16.8210965 , 31.61699909,\n",
              "        12.29111459, 17.02141155, 20.26414884, 26.78676625, 11.09540383],\n",
              "       [16.84875337, 16.10018962, 20.01786941, 16.65501842, 31.38995872,\n",
              "        11.94030102, 17.24754933, 20.72580438, 27.39346124, 11.70959259],\n",
              "       [16.77694739, 16.39379919, 21.6315258 , 16.1189952 , 30.26026518,\n",
              "        12.36628495, 16.35621039, 20.87153414, 27.73734911, 11.48447242],\n",
              "       [16.30927821, 15.62538685, 21.56212412, 16.37842217, 30.96878673,\n",
              "        12.95047645, 16.22022327, 21.8161792 , 25.38527013, 11.71790465],\n",
              "       [15.24060652, 15.09946754, 20.67864965, 16.46776059, 30.02133644,\n",
              "        12.6158053 , 15.86828847, 21.92886677, 25.80683849, 11.15543518],\n",
              "       [17.10394418, 16.00395518, 19.25556602, 16.45406623, 31.0477143 ,\n",
              "        12.5778841 , 16.16194036, 21.13861956, 26.29026846, 11.37388869],\n",
              "       [16.6327824 , 16.35931441, 20.27858089, 15.77079144, 32.42959995,\n",
              "        11.85165578, 16.71639356, 21.13597017, 26.68156068, 11.75756806],\n",
              "       [17.13703656, 16.10470622, 19.85203488, 15.60723005, 34.18959683,\n",
              "        11.40669112, 16.93408043, 21.25009818, 25.2725223 , 11.51705343],\n",
              "       [17.23998896, 16.46707415, 19.30674137, 16.80671222, 32.2039133 ,\n",
              "        10.42835246, 17.13904289, 21.66998839, 25.73148859, 12.37108641],\n",
              "       [16.77679352, 15.90162148, 20.13514414, 16.58987906, 32.27453377,\n",
              "        10.25215583, 17.77604238, 22.59632486, 26.18908883, 12.26812962],\n",
              "       [17.48400275, 16.51291716, 19.3660438 , 17.39169853, 32.31124902,\n",
              "        10.3033522 , 17.43360504, 24.64020339, 25.96308735, 12.27125156],\n",
              "       [17.18724661, 16.17191511, 18.41743095, 15.96090388, 35.29889176,\n",
              "        10.2733004 , 17.96581462, 23.87648547, 24.84512393, 12.40191994],\n",
              "       [16.94767959, 16.44496389, 17.52946622, 15.48332578, 36.92537188,\n",
              "        10.400014  , 19.34466496, 21.91222651, 26.2153097 , 12.18883032],\n",
              "       [15.78850266, 16.78078084, 17.38508851, 15.23934843, 35.69991889,\n",
              "         9.96161077, 18.96408884, 23.44637548, 26.98784265, 11.89032586],\n",
              "       [16.21410512, 17.05552925, 17.42794309, 15.833164  , 37.11423535,\n",
              "         9.21176742, 18.88444009, 23.65356752, 28.03138534, 12.15661872],\n",
              "       [15.31812991, 16.93402758, 18.09487857, 15.72288924, 35.14065625,\n",
              "         9.673052  , 19.55378441, 23.90023411, 28.70366147, 12.66511528],\n",
              "       [15.78411741, 16.4657382 , 18.78220454, 15.13926758, 35.66442731,\n",
              "         8.98678623, 20.44567986, 22.63028131, 29.68622509, 12.82527669],\n",
              "       [16.07185466, 17.06717084, 20.17781987, 15.0217253 , 36.45065134,\n",
              "         8.69659726, 19.95074798, 22.16481998, 27.29317132, 12.77640575],\n",
              "       [15.17396446, 17.06236827, 20.67954865, 14.91599075, 36.38231971,\n",
              "         9.1068711 , 19.83371019, 20.64146446, 27.29499444, 12.82807605],\n",
              "       [14.61313544, 16.10978598, 19.55295675, 15.44178099, 35.82655191,\n",
              "         9.1718048 , 18.83570435, 20.38457637, 27.64881459, 13.76049145],\n",
              "       [14.27471671, 15.42956316, 19.88099775, 14.82561025, 35.569794  ,\n",
              "         9.74651437, 18.24601477, 19.90097944, 26.50203669, 13.96890237],\n",
              "       [15.02338595, 15.30692073, 19.30708146, 14.82732374, 37.72201966,\n",
              "         9.47777764, 19.22785588, 19.25859724, 27.74786245, 13.8264046 ],\n",
              "       [15.36819679, 15.29173045, 17.87966307, 15.71026345, 36.98424975,\n",
              "         9.2953024 , 19.66320818, 19.8110577 , 27.04107711, 14.32901551],\n",
              "       [14.95094649, 14.3358478 , 18.09773681, 16.70140998, 34.11853557,\n",
              "         8.9517153 , 20.56044135, 20.17151463, 27.58054629, 14.26560472],\n",
              "       [13.84586918, 15.38323717, 17.76361708, 19.23183147, 32.08207078,\n",
              "         8.8817375 , 21.63551405, 20.38965883, 27.91455655, 14.08557645],\n",
              "       [14.00228101, 14.63774707, 17.63961697, 18.97542918, 32.3148695 ,\n",
              "         8.90035873, 21.0826051 , 19.4480156 , 27.32255979, 16.39951585],\n",
              "       [13.520977  , 14.45187065, 16.61005167, 19.46123372, 33.47032139,\n",
              "         8.58248024, 19.61237617, 20.90876778, 28.36278005, 17.79321568],\n",
              "       [14.3343139 , 13.91057687, 15.78470001, 20.07155388, 33.67520493,\n",
              "         8.31463593, 19.12840838, 21.07906822, 27.93776639, 17.38207964],\n",
              "       [13.07931709, 13.36956967, 15.39784067, 20.04689437, 33.40614846,\n",
              "         7.99722309, 18.38119685, 21.92680464, 28.99434502, 16.93999224],\n",
              "       [12.98799598, 14.04032079, 14.7754478 , 22.47193463, 31.78692846,\n",
              "         8.19859845, 19.17709001, 21.49193356, 30.996231  , 17.78752082],\n",
              "       [12.47908011, 15.31499379, 15.8618175 , 21.32624411, 29.50588831,\n",
              "         8.0989436 , 20.2680445 , 20.99872305, 31.24252339, 19.31922589],\n",
              "       [13.05344243, 15.46764844, 16.0022867 , 21.4323078 , 32.4841983 ,\n",
              "         7.77620513, 18.5242996 , 20.97130394, 32.10607783, 21.14417288],\n",
              "       [12.7522771 , 15.11171159, 16.55023881, 24.19185315, 31.24361914,\n",
              "         8.17393998, 17.56955005, 22.24553505, 30.44299411, 20.30429642],\n",
              "       [13.14460352, 14.95010921, 17.0006694 , 24.48035714, 31.2804056 ,\n",
              "         7.98467539, 20.79631964, 21.48728998, 31.26599518, 19.75635999],\n",
              "       [13.49375612, 15.12702585, 16.79581604, 24.17296853, 30.79849031,\n",
              "         7.90968039, 20.95675753, 20.96430881, 29.7318937 , 20.13020016],\n",
              "       [13.92875023, 15.2504778 , 15.62203321, 23.31158652, 31.33245042,\n",
              "         8.02488038, 21.12426141, 22.00547641, 28.932622  , 19.81022782],\n",
              "       [13.77463547, 14.46623729, 15.80634837, 24.86272444, 32.23824096,\n",
              "         8.02602991, 20.43755892, 21.10146642, 29.33604308, 19.59613137]])"
            ]
          },
          "metadata": {
            "tags": []
          },
          "execution_count": 169
        }
      ]
    },
    {
      "cell_type": "code",
      "metadata": {
        "colab": {
          "base_uri": "https://localhost:8080/",
          "height": 548
        },
        "id": "9B7Vj-U-EGbi",
        "outputId": "5b0d988c-bc83-40c1-b91d-31e88864b293"
      },
      "source": [
        "plt.figure(figsize=(10,6))\n",
        "plt.plot(price_list)"
      ],
      "execution_count": 170,
      "outputs": [
        {
          "output_type": "execute_result",
          "data": {
            "text/plain": [
              "[<matplotlib.lines.Line2D at 0x7f85582b3e50>,\n",
              " <matplotlib.lines.Line2D at 0x7f8558456f90>,\n",
              " <matplotlib.lines.Line2D at 0x7f8558456fd0>,\n",
              " <matplotlib.lines.Line2D at 0x7f8558456f10>,\n",
              " <matplotlib.lines.Line2D at 0x7f8558456b10>,\n",
              " <matplotlib.lines.Line2D at 0x7f8558456cd0>,\n",
              " <matplotlib.lines.Line2D at 0x7f8558456d10>,\n",
              " <matplotlib.lines.Line2D at 0x7f8558456e10>,\n",
              " <matplotlib.lines.Line2D at 0x7f8558456490>,\n",
              " <matplotlib.lines.Line2D at 0x7f85584561d0>]"
            ]
          },
          "metadata": {
            "tags": []
          },
          "execution_count": 170
        },
        {
          "output_type": "display_data",
          "data": {
            "image/png": "[encoded data removed]",
            "text/plain": [
              "<Figure size 720x432 with 1 Axes>"
            ]
          },
          "metadata": {
            "tags": [],
            "needs_background": "light"
          }
        }
      ]
    },
    {
      "cell_type": "code",
      "metadata": {
        "id": "gPzmsvIjEGer"
      },
      "source": [
        ""
      ],
      "execution_count": null,
      "outputs": []
    },
    {
      "cell_type": "code",
      "metadata": {
        "id": "iptWzDpXEGhc"
      },
      "source": [
        ""
      ],
      "execution_count": null,
      "outputs": []
    },
    {
      "cell_type": "code",
      "metadata": {
        "id": "y1nxOmg0EGkI"
      },
      "source": [
        ""
      ],
      "execution_count": null,
      "outputs": []
    }
  ]
}