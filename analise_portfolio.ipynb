{
  "nbformat": 4,
  "nbformat_minor": 0,
  "metadata": {
    "language_info": {
      "codemirror_mode": {
        "name": "ipython",
        "version": 3
      },
      "file_extension": ".py",
      "mimetype": "text/x-python",
      "name": "python",
      "nbconvert_exporter": "python",
      "pygments_lexer": "ipython3",
      "version": "3.8.2-final"
    },
    "orig_nbformat": 2,
    "kernelspec": {
      "name": "python38264bit697db9e16c98461a9db76b9b03748f0d",
      "display_name": "Python 3.8.2 64-bit"
    },
    "colab": {
      "name": "analise_portfolio.ipynb",
      "provenance": [],
      "collapsed_sections": [
        "EYi7ifK8DLGB"
      ],
      "include_colab_link": true
    }
  },
  "cells": [
    {
      "cell_type": "markdown",
      "metadata": {
        "id": "view-in-github",
        "colab_type": "text"
      },
      "source": [
        "<a href=\"https://colab.research.google.com/github/TiagoSpiandorello/Analise_de_portfolio_de_acoes/blob/main/analise_portfolio.ipynb\" target=\"_parent\"><img src=\"https://colab.research.google.com/assets/colab-badge.svg\" alt=\"Open In Colab\"/></a>"
      ]
    },
    {
      "cell_type": "code",
      "metadata": {
        "id": "oTnah-bnvVhz"
      },
      "source": [
        "# Importação das bibliotecas necessárias para o projeto\n",
        "\n",
        "import numpy as np\n",
        "import pandas as pd\n",
        "import matplotlib.pyplot as plt\n",
        "from pandas_datareader import data as wb\n",
        "from scipy.stats import norm\n",
        "%matplotlib inline"
      ],
      "execution_count": 1,
      "outputs": []
    },
    {
      "cell_type": "code",
      "metadata": {
        "tags": [],
        "id": "RXR1l5OEvViB",
        "colab": {
          "base_uri": "https://localhost:8080/",
          "height": 394
        },
        "outputId": "b29b93ca-a7de-4d33-f6ea-cfe60304cb35"
      },
      "source": [
        "# Extração dos dados de um portfólio de ações do site Yahoo Finance\n",
        "\n",
        "# PETR4 = Petrobras\n",
        "# BBDC4 = Bradesco\n",
        "# ABEV3 = AMBEV\n",
        "# WEGE3 = Weg\n",
        "# VALE3 - Vale\n",
        "\n",
        "tickers = ['PETR4.SA','BBDC4.SA','ABEV3.SA','WEGE3.SA','VALE3.SA']\n",
        "bolsas = pd.DataFrame()\n",
        "for t in tickers:\n",
        "    bolsas[t] = wb.DataReader(t, data_source='yahoo',start='2010-1-1')['Adj Close']\n",
        "\n",
        "bolsas.tail(10)"
      ],
      "execution_count": 2,
      "outputs": [
        {
          "output_type": "execute_result",
          "data": {
            "text/html": [
              "<div>\n",
              "<style scoped>\n",
              "    .dataframe tbody tr th:only-of-type {\n",
              "        vertical-align: middle;\n",
              "    }\n",
              "\n",
              "    .dataframe tbody tr th {\n",
              "        vertical-align: top;\n",
              "    }\n",
              "\n",
              "    .dataframe thead th {\n",
              "        text-align: right;\n",
              "    }\n",
              "</style>\n",
              "<table border=\"1\" class=\"dataframe\">\n",
              "  <thead>\n",
              "    <tr style=\"text-align: right;\">\n",
              "      <th></th>\n",
              "      <th>PETR4.SA</th>\n",
              "      <th>BBDC4.SA</th>\n",
              "      <th>ABEV3.SA</th>\n",
              "      <th>WEGE3.SA</th>\n",
              "      <th>VALE3.SA</th>\n",
              "    </tr>\n",
              "    <tr>\n",
              "      <th>Date</th>\n",
              "      <th></th>\n",
              "      <th></th>\n",
              "      <th></th>\n",
              "      <th></th>\n",
              "      <th></th>\n",
              "    </tr>\n",
              "  </thead>\n",
              "  <tbody>\n",
              "    <tr>\n",
              "      <th>2021-06-08</th>\n",
              "      <td>28.660000</td>\n",
              "      <td>28.240000</td>\n",
              "      <td>19.590000</td>\n",
              "      <td>34.020000</td>\n",
              "      <td>109.919998</td>\n",
              "    </tr>\n",
              "    <tr>\n",
              "      <th>2021-06-09</th>\n",
              "      <td>28.660000</td>\n",
              "      <td>28.100000</td>\n",
              "      <td>19.309999</td>\n",
              "      <td>34.250000</td>\n",
              "      <td>112.199997</td>\n",
              "    </tr>\n",
              "    <tr>\n",
              "      <th>2021-06-10</th>\n",
              "      <td>28.680000</td>\n",
              "      <td>28.150000</td>\n",
              "      <td>19.320000</td>\n",
              "      <td>33.930000</td>\n",
              "      <td>111.830002</td>\n",
              "    </tr>\n",
              "    <tr>\n",
              "      <th>2021-06-11</th>\n",
              "      <td>28.570000</td>\n",
              "      <td>28.040001</td>\n",
              "      <td>18.940001</td>\n",
              "      <td>34.209999</td>\n",
              "      <td>114.339996</td>\n",
              "    </tr>\n",
              "    <tr>\n",
              "      <th>2021-06-14</th>\n",
              "      <td>28.750000</td>\n",
              "      <td>27.920000</td>\n",
              "      <td>19.480000</td>\n",
              "      <td>34.880001</td>\n",
              "      <td>113.720001</td>\n",
              "    </tr>\n",
              "    <tr>\n",
              "      <th>2021-06-15</th>\n",
              "      <td>29.030001</td>\n",
              "      <td>27.940001</td>\n",
              "      <td>19.129999</td>\n",
              "      <td>35.459999</td>\n",
              "      <td>111.500000</td>\n",
              "    </tr>\n",
              "    <tr>\n",
              "      <th>2021-06-16</th>\n",
              "      <td>29.139999</td>\n",
              "      <td>28.080000</td>\n",
              "      <td>19.090000</td>\n",
              "      <td>34.830002</td>\n",
              "      <td>108.150002</td>\n",
              "    </tr>\n",
              "    <tr>\n",
              "      <th>2021-06-17</th>\n",
              "      <td>28.129999</td>\n",
              "      <td>27.959999</td>\n",
              "      <td>19.010000</td>\n",
              "      <td>34.419998</td>\n",
              "      <td>105.900002</td>\n",
              "    </tr>\n",
              "    <tr>\n",
              "      <th>2021-06-18</th>\n",
              "      <td>28.320000</td>\n",
              "      <td>27.600000</td>\n",
              "      <td>18.760000</td>\n",
              "      <td>35.189999</td>\n",
              "      <td>109.089996</td>\n",
              "    </tr>\n",
              "    <tr>\n",
              "      <th>2021-06-21</th>\n",
              "      <td>28.950001</td>\n",
              "      <td>27.670000</td>\n",
              "      <td>18.730000</td>\n",
              "      <td>35.250000</td>\n",
              "      <td>110.110001</td>\n",
              "    </tr>\n",
              "  </tbody>\n",
              "</table>\n",
              "</div>"
            ],
            "text/plain": [
              "             PETR4.SA   BBDC4.SA   ABEV3.SA   WEGE3.SA    VALE3.SA\n",
              "Date                                                              \n",
              "2021-06-08  28.660000  28.240000  19.590000  34.020000  109.919998\n",
              "2021-06-09  28.660000  28.100000  19.309999  34.250000  112.199997\n",
              "2021-06-10  28.680000  28.150000  19.320000  33.930000  111.830002\n",
              "2021-06-11  28.570000  28.040001  18.940001  34.209999  114.339996\n",
              "2021-06-14  28.750000  27.920000  19.480000  34.880001  113.720001\n",
              "2021-06-15  29.030001  27.940001  19.129999  35.459999  111.500000\n",
              "2021-06-16  29.139999  28.080000  19.090000  34.830002  108.150002\n",
              "2021-06-17  28.129999  27.959999  19.010000  34.419998  105.900002\n",
              "2021-06-18  28.320000  27.600000  18.760000  35.189999  109.089996\n",
              "2021-06-21  28.950001  27.670000  18.730000  35.250000  110.110001"
            ]
          },
          "metadata": {
            "tags": []
          },
          "execution_count": 2
        }
      ]
    },
    {
      "cell_type": "markdown",
      "metadata": {
        "id": "6tbh3l0Tf-bL"
      },
      "source": [
        "## Normalização dos dados para base 100\n",
        "\n",
        "### (P1 / P0) * 100\n",
        "\n",
        "#### Essa manipulação permite comparar o comportamento das ações em uma situação hipotética em que todas iniciam com valor 100. "
      ]
    },
    {
      "cell_type": "code",
      "metadata": {
        "colab": {
          "base_uri": "https://localhost:8080/"
        },
        "id": "a9xKoN_sfljA",
        "outputId": "12694007-37db-4cdf-8c80-341bb50317c8"
      },
      "source": [
        "bolsas.iloc[0]"
      ],
      "execution_count": 3,
      "outputs": [
        {
          "output_type": "execute_result",
          "data": {
            "text/plain": [
              "PETR4.SA    28.142263\n",
              "BBDC4.SA    10.765183\n",
              "ABEV3.SA     4.187932\n",
              "WEGE3.SA     2.144630\n",
              "VALE3.SA    32.089706\n",
              "Name: 2010-01-04 00:00:00, dtype: float64"
            ]
          },
          "metadata": {
            "tags": []
          },
          "execution_count": 3
        }
      ]
    },
    {
      "cell_type": "code",
      "metadata": {
        "colab": {
          "base_uri": "https://localhost:8080/",
          "height": 384
        },
        "id": "QhG53gfZf8Zx",
        "outputId": "7b188a24-d437-4253-b29d-3bc5ac65a897"
      },
      "source": [
        "(bolsas / bolsas.iloc[0] * 100).plot(figsize= (15,6));\n",
        "plt.show"
      ],
      "execution_count": 4,
      "outputs": [
        {
          "output_type": "execute_result",
          "data": {
            "text/plain": [
              "<function matplotlib.pyplot.show>"
            ]
          },
          "metadata": {
            "tags": []
          },
          "execution_count": 4
        },
        {
          "output_type": "display_data",
          "data": {
            "image/png": "[encoded data removed]",
            "text/plain": [
              "<Figure size 1080x432 with 1 Axes>"
            ]
          },
          "metadata": {
            "tags": [],
            "needs_background": "light"
          }
        }
      ]
    },
    {
      "cell_type": "markdown",
      "metadata": {
        "id": "qmBuyzkF7K9j"
      },
      "source": [
        "# Taxa de retorno das ações\n",
        "\n",
        "## Taxa de retorno simples = (preço final - preço inicial) / preço inicial\n"
      ]
    },
    {
      "cell_type": "code",
      "metadata": {
        "colab": {
          "base_uri": "https://localhost:8080/",
          "height": 238
        },
        "id": "5wHyxG2Df8la",
        "outputId": "cfa84b67-34ff-4be9-b3fc-70c301ed0663"
      },
      "source": [
        "retorno_simples = (bolsas / bolsas.shift(1)) - 1\n",
        "retorno_simples.head()"
      ],
      "execution_count": 5,
      "outputs": [
        {
          "output_type": "execute_result",
          "data": {
            "text/html": [
              "<div>\n",
              "<style scoped>\n",
              "    .dataframe tbody tr th:only-of-type {\n",
              "        vertical-align: middle;\n",
              "    }\n",
              "\n",
              "    .dataframe tbody tr th {\n",
              "        vertical-align: top;\n",
              "    }\n",
              "\n",
              "    .dataframe thead th {\n",
              "        text-align: right;\n",
              "    }\n",
              "</style>\n",
              "<table border=\"1\" class=\"dataframe\">\n",
              "  <thead>\n",
              "    <tr style=\"text-align: right;\">\n",
              "      <th></th>\n",
              "      <th>PETR4.SA</th>\n",
              "      <th>BBDC4.SA</th>\n",
              "      <th>ABEV3.SA</th>\n",
              "      <th>WEGE3.SA</th>\n",
              "      <th>VALE3.SA</th>\n",
              "    </tr>\n",
              "    <tr>\n",
              "      <th>Date</th>\n",
              "      <th></th>\n",
              "      <th></th>\n",
              "      <th></th>\n",
              "      <th></th>\n",
              "      <th></th>\n",
              "    </tr>\n",
              "  </thead>\n",
              "  <tbody>\n",
              "    <tr>\n",
              "      <th>2010-01-04</th>\n",
              "      <td>NaN</td>\n",
              "      <td>NaN</td>\n",
              "      <td>NaN</td>\n",
              "      <td>NaN</td>\n",
              "      <td>NaN</td>\n",
              "    </tr>\n",
              "    <tr>\n",
              "      <th>2010-01-05</th>\n",
              "      <td>-0.008574</td>\n",
              "      <td>-0.004956</td>\n",
              "      <td>0.005882</td>\n",
              "      <td>-0.002182</td>\n",
              "      <td>0.009322</td>\n",
              "    </tr>\n",
              "    <tr>\n",
              "      <th>2010-01-06</th>\n",
              "      <td>0.013513</td>\n",
              "      <td>-0.008000</td>\n",
              "      <td>0.010202</td>\n",
              "      <td>0.005468</td>\n",
              "      <td>0.021166</td>\n",
              "    </tr>\n",
              "    <tr>\n",
              "      <th>2010-01-07</th>\n",
              "      <td>-0.009333</td>\n",
              "      <td>-0.002688</td>\n",
              "      <td>0.004695</td>\n",
              "      <td>0.016857</td>\n",
              "      <td>0.004145</td>\n",
              "    </tr>\n",
              "    <tr>\n",
              "      <th>2010-01-08</th>\n",
              "      <td>-0.005384</td>\n",
              "      <td>-0.001079</td>\n",
              "      <td>-0.001921</td>\n",
              "      <td>0.036363</td>\n",
              "      <td>0.009758</td>\n",
              "    </tr>\n",
              "  </tbody>\n",
              "</table>\n",
              "</div>"
            ],
            "text/plain": [
              "            PETR4.SA  BBDC4.SA  ABEV3.SA  WEGE3.SA  VALE3.SA\n",
              "Date                                                        \n",
              "2010-01-04       NaN       NaN       NaN       NaN       NaN\n",
              "2010-01-05 -0.008574 -0.004956  0.005882 -0.002182  0.009322\n",
              "2010-01-06  0.013513 -0.008000  0.010202  0.005468  0.021166\n",
              "2010-01-07 -0.009333 -0.002688  0.004695  0.016857  0.004145\n",
              "2010-01-08 -0.005384 -0.001079 -0.001921  0.036363  0.009758"
            ]
          },
          "metadata": {
            "tags": []
          },
          "execution_count": 5
        }
      ]
    },
    {
      "cell_type": "code",
      "metadata": {
        "colab": {
          "base_uri": "https://localhost:8080/"
        },
        "id": "jK6L76AJf8vz",
        "outputId": "2e0ff37b-6e64-4610-c045-2658036e0e23"
      },
      "source": [
        "# Peso é o percentual que cada ação representa no portfólio. \n",
        "\n",
        "# No primeiro cenário, as ações estão distribuídas igualmente, cada uma representando 20% do total de ações.\n",
        "\n",
        "pesos = np.array([0.2,0.2,0.2,0.2,0.2])\n",
        "np.dot(retorno_simples, pesos)"
      ],
      "execution_count": 6,
      "outputs": [
        {
          "output_type": "execute_result",
          "data": {
            "text/plain": [
              "array([        nan, -0.0001016 ,  0.00846972, ..., -0.0151401 ,\n",
              "        0.00664427,  0.0068476 ])"
            ]
          },
          "metadata": {
            "tags": []
          },
          "execution_count": 6
        }
      ]
    },
    {
      "cell_type": "code",
      "metadata": {
        "colab": {
          "base_uri": "https://localhost:8080/"
        },
        "id": "vKmz5lrLf85B",
        "outputId": "e97bbca4-452f-4d6b-f097-6f91f6e166de"
      },
      "source": [
        "# Retorno anual médio\n",
        "\n",
        "retorno_anual = retorno_simples.mean() * 250\n",
        "retorno_anual"
      ],
      "execution_count": 7,
      "outputs": [
        {
          "output_type": "execute_result",
          "data": {
            "text/plain": [
              "PETR4.SA    0.113821\n",
              "BBDC4.SA    0.142327\n",
              "ABEV3.SA    0.166866\n",
              "WEGE3.SA    0.296599\n",
              "VALE3.SA    0.196830\n",
              "dtype: float64"
            ]
          },
          "metadata": {
            "tags": []
          },
          "execution_count": 7
        }
      ]
    },
    {
      "cell_type": "code",
      "metadata": {
        "colab": {
          "base_uri": "https://localhost:8080/"
        },
        "id": "3OrMe-VkksXA",
        "outputId": "a8fae419-df27-4872-88ad-affff0ae5f13"
      },
      "source": [
        "np.dot(retorno_anual, pesos)"
      ],
      "execution_count": 8,
      "outputs": [
        {
          "output_type": "execute_result",
          "data": {
            "text/plain": [
              "0.1832886390203207"
            ]
          },
          "metadata": {
            "tags": []
          },
          "execution_count": 8
        }
      ]
    },
    {
      "cell_type": "code",
      "metadata": {
        "colab": {
          "base_uri": "https://localhost:8080/"
        },
        "id": "KA6PI8KUkxdX",
        "outputId": "93a1fa4e-485a-466c-e6bb-5f5d3c080685"
      },
      "source": [
        "pfolio1 = str(round(np.dot(retorno_anual, pesos), 5) * 100) + ' %'\n",
        "print('Esta carteira de ações possui um retorno de ' + pfolio1)"
      ],
      "execution_count": 9,
      "outputs": [
        {
          "output_type": "stream",
          "text": [
            "Esta carteira de ações possui um retorno de 18.329 %\n"
          ],
          "name": "stdout"
        }
      ]
    },
    {
      "cell_type": "code",
      "metadata": {
        "colab": {
          "base_uri": "https://localhost:8080/"
        },
        "id": "4heZ5dr5mOQU",
        "outputId": "6dbf8215-7947-4a7d-f1a4-df2260fa955c"
      },
      "source": [
        "# No segundo cenário, as ações não estão distribuídas igualmente, de forma que a WEGE3 representa 40%, a PETR4 10% e as restantes 20% cada do total de ações.\n",
        " \n",
        "pesos2 = np.array([0.1,0.2,0.2,0.4,0.2])\n",
        "pfolio2 = str(round(np.dot(retorno_anual, pesos2), 5) * 100) + ' %'\n",
        "print('Esta carteira de ações possui um retorno de ' + pfolio2)"
      ],
      "execution_count": 10,
      "outputs": [
        {
          "output_type": "stream",
          "text": [
            "Esta carteira de ações possui um retorno de 23.122999999999998 %\n"
          ],
          "name": "stdout"
        }
      ]
    },
    {
      "cell_type": "code",
      "metadata": {
        "colab": {
          "base_uri": "https://localhost:8080/"
        },
        "id": "mIwaAlPImOmn",
        "outputId": "90cb2ac2-5fc9-4fab-df41-b319d3d2abaf"
      },
      "source": [
        "if (pfolio1 > pfolio2):\n",
        "  print('O primeiro portfólio possui rendimento superior ao segundo.')\n",
        "elif (pfolio1 < pfolio2):\n",
        "  print('O segundo portfólio possui rendimento superior ao primeiro.')\n",
        "else:\n",
        "  print('Ambos portfólios possuem o mesmo rendimento.')"
      ],
      "execution_count": 11,
      "outputs": [
        {
          "output_type": "stream",
          "text": [
            "O segundo portfólio possui rendimento superior ao primeiro.\n"
          ],
          "name": "stdout"
        }
      ]
    },
    {
      "cell_type": "code",
      "metadata": {
        "id": "77jP9NHJvViW",
        "colab": {
          "base_uri": "https://localhost:8080/",
          "height": 455
        },
        "outputId": "3c598a18-0653-4a8e-e4ce-2197d551cb41"
      },
      "source": [
        "# Cálculo da taxa de retorno logarítmica das ações\n",
        "\n",
        "retorno = np.log(bolsas / bolsas.shift(1))\n",
        "retorno"
      ],
      "execution_count": 12,
      "outputs": [
        {
          "output_type": "execute_result",
          "data": {
            "text/html": [
              "<div>\n",
              "<style scoped>\n",
              "    .dataframe tbody tr th:only-of-type {\n",
              "        vertical-align: middle;\n",
              "    }\n",
              "\n",
              "    .dataframe tbody tr th {\n",
              "        vertical-align: top;\n",
              "    }\n",
              "\n",
              "    .dataframe thead th {\n",
              "        text-align: right;\n",
              "    }\n",
              "</style>\n",
              "<table border=\"1\" class=\"dataframe\">\n",
              "  <thead>\n",
              "    <tr style=\"text-align: right;\">\n",
              "      <th></th>\n",
              "      <th>PETR4.SA</th>\n",
              "      <th>BBDC4.SA</th>\n",
              "      <th>ABEV3.SA</th>\n",
              "      <th>WEGE3.SA</th>\n",
              "      <th>VALE3.SA</th>\n",
              "    </tr>\n",
              "    <tr>\n",
              "      <th>Date</th>\n",
              "      <th></th>\n",
              "      <th></th>\n",
              "      <th></th>\n",
              "      <th></th>\n",
              "      <th></th>\n",
              "    </tr>\n",
              "  </thead>\n",
              "  <tbody>\n",
              "    <tr>\n",
              "      <th>2010-01-04</th>\n",
              "      <td>NaN</td>\n",
              "      <td>NaN</td>\n",
              "      <td>NaN</td>\n",
              "      <td>NaN</td>\n",
              "      <td>NaN</td>\n",
              "    </tr>\n",
              "    <tr>\n",
              "      <th>2010-01-05</th>\n",
              "      <td>-0.008611</td>\n",
              "      <td>-0.004968</td>\n",
              "      <td>0.005865</td>\n",
              "      <td>-0.002185</td>\n",
              "      <td>0.009279</td>\n",
              "    </tr>\n",
              "    <tr>\n",
              "      <th>2010-01-06</th>\n",
              "      <td>0.013423</td>\n",
              "      <td>-0.008032</td>\n",
              "      <td>0.010150</td>\n",
              "      <td>0.005453</td>\n",
              "      <td>0.020945</td>\n",
              "    </tr>\n",
              "    <tr>\n",
              "      <th>2010-01-07</th>\n",
              "      <td>-0.009377</td>\n",
              "      <td>-0.002691</td>\n",
              "      <td>0.004684</td>\n",
              "      <td>0.016717</td>\n",
              "      <td>0.004137</td>\n",
              "    </tr>\n",
              "    <tr>\n",
              "      <th>2010-01-08</th>\n",
              "      <td>-0.005398</td>\n",
              "      <td>-0.001079</td>\n",
              "      <td>-0.001923</td>\n",
              "      <td>0.035718</td>\n",
              "      <td>0.009711</td>\n",
              "    </tr>\n",
              "    <tr>\n",
              "      <th>...</th>\n",
              "      <td>...</td>\n",
              "      <td>...</td>\n",
              "      <td>...</td>\n",
              "      <td>...</td>\n",
              "      <td>...</td>\n",
              "    </tr>\n",
              "    <tr>\n",
              "      <th>2021-06-15</th>\n",
              "      <td>0.009692</td>\n",
              "      <td>0.000716</td>\n",
              "      <td>-0.018131</td>\n",
              "      <td>0.016492</td>\n",
              "      <td>-0.019715</td>\n",
              "    </tr>\n",
              "    <tr>\n",
              "      <th>2021-06-16</th>\n",
              "      <td>0.003782</td>\n",
              "      <td>0.004998</td>\n",
              "      <td>-0.002093</td>\n",
              "      <td>-0.017926</td>\n",
              "      <td>-0.030505</td>\n",
              "    </tr>\n",
              "    <tr>\n",
              "      <th>2021-06-17</th>\n",
              "      <td>-0.035275</td>\n",
              "      <td>-0.004283</td>\n",
              "      <td>-0.004199</td>\n",
              "      <td>-0.011841</td>\n",
              "      <td>-0.021024</td>\n",
              "    </tr>\n",
              "    <tr>\n",
              "      <th>2021-06-18</th>\n",
              "      <td>0.006732</td>\n",
              "      <td>-0.012959</td>\n",
              "      <td>-0.013238</td>\n",
              "      <td>0.022124</td>\n",
              "      <td>0.029678</td>\n",
              "    </tr>\n",
              "    <tr>\n",
              "      <th>2021-06-21</th>\n",
              "      <td>0.022002</td>\n",
              "      <td>0.002533</td>\n",
              "      <td>-0.001600</td>\n",
              "      <td>0.001704</td>\n",
              "      <td>0.009307</td>\n",
              "    </tr>\n",
              "  </tbody>\n",
              "</table>\n",
              "<p>2839 rows × 5 columns</p>\n",
              "</div>"
            ],
            "text/plain": [
              "            PETR4.SA  BBDC4.SA  ABEV3.SA  WEGE3.SA  VALE3.SA\n",
              "Date                                                        \n",
              "2010-01-04       NaN       NaN       NaN       NaN       NaN\n",
              "2010-01-05 -0.008611 -0.004968  0.005865 -0.002185  0.009279\n",
              "2010-01-06  0.013423 -0.008032  0.010150  0.005453  0.020945\n",
              "2010-01-07 -0.009377 -0.002691  0.004684  0.016717  0.004137\n",
              "2010-01-08 -0.005398 -0.001079 -0.001923  0.035718  0.009711\n",
              "...              ...       ...       ...       ...       ...\n",
              "2021-06-15  0.009692  0.000716 -0.018131  0.016492 -0.019715\n",
              "2021-06-16  0.003782  0.004998 -0.002093 -0.017926 -0.030505\n",
              "2021-06-17 -0.035275 -0.004283 -0.004199 -0.011841 -0.021024\n",
              "2021-06-18  0.006732 -0.012959 -0.013238  0.022124  0.029678\n",
              "2021-06-21  0.022002  0.002533 -0.001600  0.001704  0.009307\n",
              "\n",
              "[2839 rows x 5 columns]"
            ]
          },
          "metadata": {
            "tags": []
          },
          "execution_count": 12
        }
      ]
    },
    {
      "cell_type": "markdown",
      "metadata": {
        "id": "Ov7w9aEsjMuj"
      },
      "source": [
        "## Taxa de retorno logarítmica = log preço final / log preço inicial\n"
      ]
    },
    {
      "cell_type": "code",
      "metadata": {
        "id": "Q31RHe1-YeUP"
      },
      "source": [
        "acao1 = retorno.columns[0]\n",
        "acao2 = retorno.columns[1]\n",
        "acao3 = retorno.columns[2]\n",
        "acao4 = retorno.columns[3]\n",
        "acao5 = retorno.columns[4]"
      ],
      "execution_count": 13,
      "outputs": []
    },
    {
      "cell_type": "code",
      "metadata": {
        "id": "nQrEprs0vVid",
        "colab": {
          "base_uri": "https://localhost:8080/"
        },
        "outputId": "a97863eb-9295-4c4d-a5b3-7747958d0497"
      },
      "source": [
        "media1 = retorno[acao1].mean()\n",
        "media2 = retorno[acao2].mean()\n",
        "media3 = retorno[acao3].mean()\n",
        "media4 = retorno[acao4].mean()\n",
        "media5 = retorno[acao5].mean()\n",
        "\n",
        "std1 = retorno[acao1].std()\n",
        "std2 = retorno[acao1].std()\n",
        "std3 = retorno[acao1].std()\n",
        "std4 = retorno[acao1].std()\n",
        "std5 = retorno[acao1].std()\n",
        "\n",
        "LOGN_var1 = retorno[acao1].var()\n",
        "LOGN_var2 = retorno[acao2].var()\n",
        "LOGN_var3 = retorno[acao2].var()\n",
        "LOGN_var4 = retorno[acao4].var()\n",
        "LOGN_var5 = retorno[acao5].var()\n",
        "\n",
        "print(str(acao1) + \"= Retorno Médio: \" + str(media1) + \" - Desvio Padrão: \" + str(std1) + \" - Variância: \" + str(LOGN_var1))\n",
        "print(str(acao2) + \"= Retorno Médio: \" + str(media2) + \" - Desvio Padrão: \" + str(std2) + \" - Variância: \" + str(LOGN_var2))\n",
        "print(str(acao3) + \"= Retorno Médio: \" + str(media3) + \" - Desvio Padrão: \" + str(std3) + \" - Variância: \" + str(LOGN_var3))\n",
        "print(str(acao4) + \"= Retorno Médio: \" + str(media4) + \" - Desvio Padrão: \" + str(std4) + \" - Variância: \" + str(LOGN_var4))\n",
        "print(str(acao5) + \"= Retorno Médio: \" + str(media5) + \" - Desvio Padrão: \" + str(std5) + \" - Variância: \" + str(LOGN_var5))"
      ],
      "execution_count": 14,
      "outputs": [
        {
          "output_type": "stream",
          "text": [
            "PETR4.SA= Retorno Médio: 9.971017593797104e-06 - Desvio Padrão: 0.02997389404386108 - Variância: 0.0008984343241526106\n",
            "BBDC4.SA= Retorno Médio: 0.0003326397549892839 - Desvio Padrão: 0.02997389404386108 - Variância: 0.00047372454422528714\n",
            "ABEV3.SA= Retorno Médio: 0.0005278081558887982 - Desvio Padrão: 0.02997389404386108 - Variância: 0.00047372454422528714\n",
            "WEGE3.SA= Retorno Médio: 0.000986433582373584 - Desvio Padrão: 0.02997389404386108 - Variância: 0.00040011996380480544\n",
            "VALE3.SA= Retorno Médio: 0.0004344413548996261 - Desvio Padrão: 0.02997389404386108 - Variância: 0.0007068596831642495\n"
          ],
          "name": "stdout"
        }
      ]
    },
    {
      "cell_type": "markdown",
      "metadata": {
        "id": "Tynig1xrvKq6"
      },
      "source": [
        "# Índices de ações\n",
        "\n",
        "### São uma excelente base comparativa para entender como suas ações estão performando.\n",
        "\n",
        "### Indicam o que esperar se você investir em um portfólio diversificado"
      ]
    },
    {
      "cell_type": "code",
      "metadata": {
        "id": "inhoVlpVvsKy"
      },
      "source": [
        "# ^BVSP = IBOVESPA - Brasil\n",
        "# ^GSPC = S&P500 - EUA\n",
        "# ^IXIC = NASDAQ - EUA\n",
        "# ^GDAXI = DAX - Alemanha\n",
        "\n",
        "tickers = ['^GSPC','^IXIC','^GDAXI','^BVSP']\n",
        "ind_data = pd.DataFrame()\n",
        "for t in tickers:\n",
        "    ind_data[t] = wb.DataReader(t, data_source='yahoo',start='2015-1-1')['Adj Close']"
      ],
      "execution_count": 15,
      "outputs": []
    },
    {
      "cell_type": "code",
      "metadata": {
        "colab": {
          "base_uri": "https://localhost:8080/",
          "height": 238
        },
        "id": "hmU-Qt13vsVW",
        "outputId": "6c24fbc9-b67e-4089-d051-a2c7999a527e"
      },
      "source": [
        "ind_data.head()"
      ],
      "execution_count": 16,
      "outputs": [
        {
          "output_type": "execute_result",
          "data": {
            "text/html": [
              "<div>\n",
              "<style scoped>\n",
              "    .dataframe tbody tr th:only-of-type {\n",
              "        vertical-align: middle;\n",
              "    }\n",
              "\n",
              "    .dataframe tbody tr th {\n",
              "        vertical-align: top;\n",
              "    }\n",
              "\n",
              "    .dataframe thead th {\n",
              "        text-align: right;\n",
              "    }\n",
              "</style>\n",
              "<table border=\"1\" class=\"dataframe\">\n",
              "  <thead>\n",
              "    <tr style=\"text-align: right;\">\n",
              "      <th></th>\n",
              "      <th>^GSPC</th>\n",
              "      <th>^IXIC</th>\n",
              "      <th>^GDAXI</th>\n",
              "      <th>^BVSP</th>\n",
              "    </tr>\n",
              "    <tr>\n",
              "      <th>Date</th>\n",
              "      <th></th>\n",
              "      <th></th>\n",
              "      <th></th>\n",
              "      <th></th>\n",
              "    </tr>\n",
              "  </thead>\n",
              "  <tbody>\n",
              "    <tr>\n",
              "      <th>2015-01-02</th>\n",
              "      <td>2058.199951</td>\n",
              "      <td>4726.810059</td>\n",
              "      <td>9764.730469</td>\n",
              "      <td>48512.0</td>\n",
              "    </tr>\n",
              "    <tr>\n",
              "      <th>2015-01-05</th>\n",
              "      <td>2020.579956</td>\n",
              "      <td>4652.569824</td>\n",
              "      <td>9473.160156</td>\n",
              "      <td>47517.0</td>\n",
              "    </tr>\n",
              "    <tr>\n",
              "      <th>2015-01-06</th>\n",
              "      <td>2002.609985</td>\n",
              "      <td>4592.740234</td>\n",
              "      <td>9469.660156</td>\n",
              "      <td>48001.0</td>\n",
              "    </tr>\n",
              "    <tr>\n",
              "      <th>2015-01-07</th>\n",
              "      <td>2025.900024</td>\n",
              "      <td>4650.470215</td>\n",
              "      <td>9518.179688</td>\n",
              "      <td>49463.0</td>\n",
              "    </tr>\n",
              "    <tr>\n",
              "      <th>2015-01-08</th>\n",
              "      <td>2062.139893</td>\n",
              "      <td>4736.189941</td>\n",
              "      <td>9837.610352</td>\n",
              "      <td>49943.0</td>\n",
              "    </tr>\n",
              "  </tbody>\n",
              "</table>\n",
              "</div>"
            ],
            "text/plain": [
              "                  ^GSPC        ^IXIC       ^GDAXI    ^BVSP\n",
              "Date                                                      \n",
              "2015-01-02  2058.199951  4726.810059  9764.730469  48512.0\n",
              "2015-01-05  2020.579956  4652.569824  9473.160156  47517.0\n",
              "2015-01-06  2002.609985  4592.740234  9469.660156  48001.0\n",
              "2015-01-07  2025.900024  4650.470215  9518.179688  49463.0\n",
              "2015-01-08  2062.139893  4736.189941  9837.610352  49943.0"
            ]
          },
          "metadata": {
            "tags": []
          },
          "execution_count": 16
        }
      ]
    },
    {
      "cell_type": "code",
      "metadata": {
        "colab": {
          "base_uri": "https://localhost:8080/",
          "height": 384
        },
        "id": "YoCgvY0QvsYh",
        "outputId": "41bc54b8-19ef-4908-84e4-f81191ea148a"
      },
      "source": [
        "# Normalização dos índices para base 100\n",
        "\n",
        "(ind_data / ind_data.iloc[0] * 100).plot(figsize=(15,6));\n",
        "plt.show"
      ],
      "execution_count": 17,
      "outputs": [
        {
          "output_type": "execute_result",
          "data": {
            "text/plain": [
              "<function matplotlib.pyplot.show>"
            ]
          },
          "metadata": {
            "tags": []
          },
          "execution_count": 17
        },
        {
          "output_type": "display_data",
          "data": {
            "image/png": "[encoded data removed]",
            "text/plain": [
              "<Figure size 1080x432 with 1 Axes>"
            ]
          },
          "metadata": {
            "tags": [],
            "needs_background": "light"
          }
        }
      ]
    },
    {
      "cell_type": "code",
      "metadata": {
        "colab": {
          "base_uri": "https://localhost:8080/",
          "height": 238
        },
        "id": "fnpeQC7ovsbS",
        "outputId": "728808ba-87d1-4de8-b196-57589ca55d49"
      },
      "source": [
        "# Retorno simples dos índices\n",
        "\n",
        "retorno_indices = (ind_data / ind_data.shift(1)) - 1\n",
        "retorno_indices.tail()"
      ],
      "execution_count": 18,
      "outputs": [
        {
          "output_type": "execute_result",
          "data": {
            "text/html": [
              "<div>\n",
              "<style scoped>\n",
              "    .dataframe tbody tr th:only-of-type {\n",
              "        vertical-align: middle;\n",
              "    }\n",
              "\n",
              "    .dataframe tbody tr th {\n",
              "        vertical-align: top;\n",
              "    }\n",
              "\n",
              "    .dataframe thead th {\n",
              "        text-align: right;\n",
              "    }\n",
              "</style>\n",
              "<table border=\"1\" class=\"dataframe\">\n",
              "  <thead>\n",
              "    <tr style=\"text-align: right;\">\n",
              "      <th></th>\n",
              "      <th>^GSPC</th>\n",
              "      <th>^IXIC</th>\n",
              "      <th>^GDAXI</th>\n",
              "      <th>^BVSP</th>\n",
              "    </tr>\n",
              "    <tr>\n",
              "      <th>Date</th>\n",
              "      <th></th>\n",
              "      <th></th>\n",
              "      <th></th>\n",
              "      <th></th>\n",
              "    </tr>\n",
              "  </thead>\n",
              "  <tbody>\n",
              "    <tr>\n",
              "      <th>2021-06-15</th>\n",
              "      <td>-0.002012</td>\n",
              "      <td>-0.007145</td>\n",
              "      <td>0.003565</td>\n",
              "      <td>-0.000899</td>\n",
              "    </tr>\n",
              "    <tr>\n",
              "      <th>2021-06-16</th>\n",
              "      <td>-0.005390</td>\n",
              "      <td>-0.002358</td>\n",
              "      <td>-0.001205</td>\n",
              "      <td>-0.006396</td>\n",
              "    </tr>\n",
              "    <tr>\n",
              "      <th>2021-06-17</th>\n",
              "      <td>-0.000436</td>\n",
              "      <td>0.008666</td>\n",
              "      <td>0.001088</td>\n",
              "      <td>-0.009299</td>\n",
              "    </tr>\n",
              "    <tr>\n",
              "      <th>2021-06-18</th>\n",
              "      <td>-0.013124</td>\n",
              "      <td>-0.009248</td>\n",
              "      <td>-0.017779</td>\n",
              "      <td>0.002718</td>\n",
              "    </tr>\n",
              "    <tr>\n",
              "      <th>2021-06-21</th>\n",
              "      <td>0.014002</td>\n",
              "      <td>0.007919</td>\n",
              "      <td>0.010047</td>\n",
              "      <td>0.006698</td>\n",
              "    </tr>\n",
              "  </tbody>\n",
              "</table>\n",
              "</div>"
            ],
            "text/plain": [
              "               ^GSPC     ^IXIC    ^GDAXI     ^BVSP\n",
              "Date                                              \n",
              "2021-06-15 -0.002012 -0.007145  0.003565 -0.000899\n",
              "2021-06-16 -0.005390 -0.002358 -0.001205 -0.006396\n",
              "2021-06-17 -0.000436  0.008666  0.001088 -0.009299\n",
              "2021-06-18 -0.013124 -0.009248 -0.017779  0.002718\n",
              "2021-06-21  0.014002  0.007919  0.010047  0.006698"
            ]
          },
          "metadata": {
            "tags": []
          },
          "execution_count": 18
        }
      ]
    },
    {
      "cell_type": "code",
      "metadata": {
        "colab": {
          "base_uri": "https://localhost:8080/"
        },
        "id": "2NqqiZzqvseE",
        "outputId": "756098cb-40f2-41a2-a254-ea9cc4f041b9"
      },
      "source": [
        "# Retorno anual dos índices\n",
        "\n",
        "retorno_anual_ind = retorno_indices.mean() * 250\n",
        "retorno_anual_ind"
      ],
      "execution_count": 19,
      "outputs": [
        {
          "output_type": "execute_result",
          "data": {
            "text/plain": [
              "^GSPC     0.127350\n",
              "^IXIC     0.189822\n",
              "^GDAXI    0.088633\n",
              "^BVSP     0.181264\n",
              "dtype: float64"
            ]
          },
          "metadata": {
            "tags": []
          },
          "execution_count": 19
        }
      ]
    },
    {
      "cell_type": "markdown",
      "metadata": {
        "id": "xKtnn3jV0fjE"
      },
      "source": [
        "# Compara retorno das ações com índices"
      ]
    },
    {
      "cell_type": "code",
      "metadata": {
        "id": "38ZazHJDvsg1"
      },
      "source": [
        "tickers = ['PETR4.SA','BBDC4.SA','ABEV3.SA','WEGE3.SA','VALE3.SA','^BVSP']\n",
        "bolsas = pd.DataFrame()\n",
        "for t in tickers:\n",
        "    bolsas[t] = wb.DataReader(t, data_source='yahoo',start='2010-1-1')['Adj Close']"
      ],
      "execution_count": 20,
      "outputs": []
    },
    {
      "cell_type": "code",
      "metadata": {
        "colab": {
          "base_uri": "https://localhost:8080/",
          "height": 384
        },
        "id": "wZEEXrNlvsjy",
        "outputId": "fa0e4235-1586-42ab-edd9-ed72fdfdcb54"
      },
      "source": [
        "(bolsas / bolsas.iloc[0] * 100).plot(figsize=(15,6));\n",
        "plt.show"
      ],
      "execution_count": 21,
      "outputs": [
        {
          "output_type": "execute_result",
          "data": {
            "text/plain": [
              "<function matplotlib.pyplot.show>"
            ]
          },
          "metadata": {
            "tags": []
          },
          "execution_count": 21
        },
        {
          "output_type": "display_data",
          "data": {
            "image/png": "[encoded data removed]",
            "text/plain": [
              "<Figure size 1080x432 with 1 Axes>"
            ]
          },
          "metadata": {
            "tags": [],
            "needs_background": "light"
          }
        }
      ]
    },
    {
      "cell_type": "markdown",
      "metadata": {
        "id": "EmeVFrFm1S04"
      },
      "source": [
        "# Cálculo do risco de um ativo\n",
        "\n",
        "### A volatilidade identifica a variabilidade dos rendimentos. Quanto menor a varição, mais estável e menos risco de perdas."
      ]
    },
    {
      "cell_type": "code",
      "metadata": {
        "colab": {
          "base_uri": "https://localhost:8080/",
          "height": 455
        },
        "id": "43_t4kwz1Yp1",
        "outputId": "9c448163-2cae-4aaf-8371-d8ac87f3c824"
      },
      "source": [
        "retorno_risco = np.log(bolsas / bolsas.shift(1))\n",
        "retorno_risco"
      ],
      "execution_count": 22,
      "outputs": [
        {
          "output_type": "execute_result",
          "data": {
            "text/html": [
              "<div>\n",
              "<style scoped>\n",
              "    .dataframe tbody tr th:only-of-type {\n",
              "        vertical-align: middle;\n",
              "    }\n",
              "\n",
              "    .dataframe tbody tr th {\n",
              "        vertical-align: top;\n",
              "    }\n",
              "\n",
              "    .dataframe thead th {\n",
              "        text-align: right;\n",
              "    }\n",
              "</style>\n",
              "<table border=\"1\" class=\"dataframe\">\n",
              "  <thead>\n",
              "    <tr style=\"text-align: right;\">\n",
              "      <th></th>\n",
              "      <th>PETR4.SA</th>\n",
              "      <th>BBDC4.SA</th>\n",
              "      <th>ABEV3.SA</th>\n",
              "      <th>WEGE3.SA</th>\n",
              "      <th>VALE3.SA</th>\n",
              "      <th>^BVSP</th>\n",
              "    </tr>\n",
              "    <tr>\n",
              "      <th>Date</th>\n",
              "      <th></th>\n",
              "      <th></th>\n",
              "      <th></th>\n",
              "      <th></th>\n",
              "      <th></th>\n",
              "      <th></th>\n",
              "    </tr>\n",
              "  </thead>\n",
              "  <tbody>\n",
              "    <tr>\n",
              "      <th>2010-01-04</th>\n",
              "      <td>NaN</td>\n",
              "      <td>NaN</td>\n",
              "      <td>NaN</td>\n",
              "      <td>NaN</td>\n",
              "      <td>NaN</td>\n",
              "      <td>NaN</td>\n",
              "    </tr>\n",
              "    <tr>\n",
              "      <th>2010-01-05</th>\n",
              "      <td>-0.008611</td>\n",
              "      <td>-0.004968</td>\n",
              "      <td>0.005865</td>\n",
              "      <td>-0.002185</td>\n",
              "      <td>0.009279</td>\n",
              "      <td>0.002780</td>\n",
              "    </tr>\n",
              "    <tr>\n",
              "      <th>2010-01-06</th>\n",
              "      <td>0.013423</td>\n",
              "      <td>-0.008032</td>\n",
              "      <td>0.010150</td>\n",
              "      <td>0.005453</td>\n",
              "      <td>0.020945</td>\n",
              "      <td>0.006938</td>\n",
              "    </tr>\n",
              "    <tr>\n",
              "      <th>2010-01-07</th>\n",
              "      <td>-0.009377</td>\n",
              "      <td>-0.002691</td>\n",
              "      <td>0.004684</td>\n",
              "      <td>0.016717</td>\n",
              "      <td>0.004137</td>\n",
              "      <td>-0.003938</td>\n",
              "    </tr>\n",
              "    <tr>\n",
              "      <th>2010-01-08</th>\n",
              "      <td>-0.005398</td>\n",
              "      <td>-0.001079</td>\n",
              "      <td>-0.001923</td>\n",
              "      <td>0.035718</td>\n",
              "      <td>0.009711</td>\n",
              "      <td>-0.002672</td>\n",
              "    </tr>\n",
              "    <tr>\n",
              "      <th>...</th>\n",
              "      <td>...</td>\n",
              "      <td>...</td>\n",
              "      <td>...</td>\n",
              "      <td>...</td>\n",
              "      <td>...</td>\n",
              "      <td>...</td>\n",
              "    </tr>\n",
              "    <tr>\n",
              "      <th>2021-06-15</th>\n",
              "      <td>0.009692</td>\n",
              "      <td>0.000716</td>\n",
              "      <td>-0.018131</td>\n",
              "      <td>0.016492</td>\n",
              "      <td>-0.019715</td>\n",
              "      <td>-0.000899</td>\n",
              "    </tr>\n",
              "    <tr>\n",
              "      <th>2021-06-16</th>\n",
              "      <td>0.003782</td>\n",
              "      <td>0.004998</td>\n",
              "      <td>-0.002093</td>\n",
              "      <td>-0.017926</td>\n",
              "      <td>-0.030505</td>\n",
              "      <td>-0.006416</td>\n",
              "    </tr>\n",
              "    <tr>\n",
              "      <th>2021-06-17</th>\n",
              "      <td>-0.035275</td>\n",
              "      <td>-0.004283</td>\n",
              "      <td>-0.004199</td>\n",
              "      <td>-0.011841</td>\n",
              "      <td>-0.021024</td>\n",
              "      <td>-0.009343</td>\n",
              "    </tr>\n",
              "    <tr>\n",
              "      <th>2021-06-18</th>\n",
              "      <td>0.006732</td>\n",
              "      <td>-0.012959</td>\n",
              "      <td>-0.013238</td>\n",
              "      <td>0.022124</td>\n",
              "      <td>0.029678</td>\n",
              "      <td>0.002714</td>\n",
              "    </tr>\n",
              "    <tr>\n",
              "      <th>2021-06-21</th>\n",
              "      <td>0.022002</td>\n",
              "      <td>0.002533</td>\n",
              "      <td>-0.001600</td>\n",
              "      <td>0.001704</td>\n",
              "      <td>0.009307</td>\n",
              "      <td>0.006675</td>\n",
              "    </tr>\n",
              "  </tbody>\n",
              "</table>\n",
              "<p>2839 rows × 6 columns</p>\n",
              "</div>"
            ],
            "text/plain": [
              "            PETR4.SA  BBDC4.SA  ABEV3.SA  WEGE3.SA  VALE3.SA     ^BVSP\n",
              "Date                                                                  \n",
              "2010-01-04       NaN       NaN       NaN       NaN       NaN       NaN\n",
              "2010-01-05 -0.008611 -0.004968  0.005865 -0.002185  0.009279  0.002780\n",
              "2010-01-06  0.013423 -0.008032  0.010150  0.005453  0.020945  0.006938\n",
              "2010-01-07 -0.009377 -0.002691  0.004684  0.016717  0.004137 -0.003938\n",
              "2010-01-08 -0.005398 -0.001079 -0.001923  0.035718  0.009711 -0.002672\n",
              "...              ...       ...       ...       ...       ...       ...\n",
              "2021-06-15  0.009692  0.000716 -0.018131  0.016492 -0.019715 -0.000899\n",
              "2021-06-16  0.003782  0.004998 -0.002093 -0.017926 -0.030505 -0.006416\n",
              "2021-06-17 -0.035275 -0.004283 -0.004199 -0.011841 -0.021024 -0.009343\n",
              "2021-06-18  0.006732 -0.012959 -0.013238  0.022124  0.029678  0.002714\n",
              "2021-06-21  0.022002  0.002533 -0.001600  0.001704  0.009307  0.006675\n",
              "\n",
              "[2839 rows x 6 columns]"
            ]
          },
          "metadata": {
            "tags": []
          },
          "execution_count": 22
        }
      ]
    },
    {
      "cell_type": "code",
      "metadata": {
        "id": "0wUFETkg2P3S"
      },
      "source": [
        "acao1 = retorno_risco.columns[0]\n",
        "acao2 = retorno_risco.columns[1]\n",
        "acao3 = retorno_risco.columns[2]\n",
        "acao4 = retorno_risco.columns[3]\n",
        "acao5 = retorno_risco.columns[4]"
      ],
      "execution_count": 40,
      "outputs": []
    },
    {
      "cell_type": "code",
      "metadata": {
        "colab": {
          "base_uri": "https://localhost:8080/"
        },
        "id": "k6Cb1tLW4uaB",
        "outputId": "d4b693c6-7be3-4fac-95e3-613de0cdf5d0"
      },
      "source": [
        "media = retorno_risco[[acao1,acao2,acao3,acao4,acao5]].mean() * 250\n",
        "print('Quanto maior a média de retorno anual, maior a lucratividade que a ação rendeu.')\n",
        "print('Média de retorno anual das ações:')\n",
        "media"
      ],
      "execution_count": 48,
      "outputs": [
        {
          "output_type": "stream",
          "text": [
            "Quanto maior a média de retorno anual, maior a lucratividade que a ação rendeu.\n",
            "Média de retorno anual das ações:\n"
          ],
          "name": "stdout"
        },
        {
          "output_type": "execute_result",
          "data": {
            "text/plain": [
              "PETR4.SA    0.002493\n",
              "BBDC4.SA    0.083160\n",
              "ABEV3.SA    0.131952\n",
              "WEGE3.SA    0.246608\n",
              "VALE3.SA    0.108610\n",
              "dtype: float64"
            ]
          },
          "metadata": {
            "tags": []
          },
          "execution_count": 48
        }
      ]
    },
    {
      "cell_type": "code",
      "metadata": {
        "colab": {
          "base_uri": "https://localhost:8080/"
        },
        "id": "FJWijySL4uc5",
        "outputId": "c839e5c8-ac6f-4d8e-c9c7-dc103d4b91a3"
      },
      "source": [
        "desvio_padrao = retorno_risco[[acao1,acao2,acao3,acao4,acao5]].std() * 250 ** 0.5\n",
        "print('Quanto maior a volatilidade, maior a chance de ganhos e de perdas bruscas.')\n",
        "print('Média anual do desvio padrão (volatilidade) das ações:')\n",
        "desvio_padrao"
      ],
      "execution_count": 50,
      "outputs": [
        {
          "output_type": "stream",
          "text": [
            "Quanto maior a volatilidade, maior a chance de ganhos e de perdas bruscas.\n",
            "Média anual do desvio padrão (volatilidade) das ações:\n"
          ],
          "name": "stdout"
        },
        {
          "output_type": "execute_result",
          "data": {
            "text/plain": [
              "PETR4.SA    0.473929\n",
              "BBDC4.SA    0.344138\n",
              "ABEV3.SA    0.264373\n",
              "WEGE3.SA    0.316275\n",
              "VALE3.SA    0.420375\n",
              "dtype: float64"
            ]
          },
          "metadata": {
            "tags": []
          },
          "execution_count": 50
        }
      ]
    },
    {
      "cell_type": "markdown",
      "metadata": {
        "id": "LU23SRgeqvqv"
      },
      "source": [
        "# Diversificação - Relação entre o preço das ações de diversas empresas"
      ]
    },
    {
      "cell_type": "markdown",
      "metadata": {
        "id": "IFK29V1hvVjy"
      },
      "source": [
        "## Covariância\n",
        "\n",
        "cov > 0 => variáveis se movem na mesma direção\n",
        "\n",
        "cov < 0 => variáveis se movem em direções opostas\n",
        "\n",
        "cov = 0 => variáveis são independentes"
      ]
    },
    {
      "cell_type": "code",
      "metadata": {
        "id": "bRNhQ8LpvVj0",
        "colab": {
          "base_uri": "https://localhost:8080/",
          "height": 238
        },
        "outputId": "75b73945-cdbd-4582-9929-e754961ce214"
      },
      "source": [
        "cov_matrix = retorno_risco.cov()\n",
        "cov_matrix.round(6)"
      ],
      "execution_count": 56,
      "outputs": [
        {
          "output_type": "execute_result",
          "data": {
            "text/html": [
              "<div>\n",
              "<style scoped>\n",
              "    .dataframe tbody tr th:only-of-type {\n",
              "        vertical-align: middle;\n",
              "    }\n",
              "\n",
              "    .dataframe tbody tr th {\n",
              "        vertical-align: top;\n",
              "    }\n",
              "\n",
              "    .dataframe thead th {\n",
              "        text-align: right;\n",
              "    }\n",
              "</style>\n",
              "<table border=\"1\" class=\"dataframe\">\n",
              "  <thead>\n",
              "    <tr style=\"text-align: right;\">\n",
              "      <th></th>\n",
              "      <th>PETR4.SA</th>\n",
              "      <th>BBDC4.SA</th>\n",
              "      <th>ABEV3.SA</th>\n",
              "      <th>WEGE3.SA</th>\n",
              "      <th>VALE3.SA</th>\n",
              "      <th>^BVSP</th>\n",
              "    </tr>\n",
              "  </thead>\n",
              "  <tbody>\n",
              "    <tr>\n",
              "      <th>PETR4.SA</th>\n",
              "      <td>0.000898</td>\n",
              "      <td>0.000380</td>\n",
              "      <td>0.000170</td>\n",
              "      <td>0.000181</td>\n",
              "      <td>0.000378</td>\n",
              "      <td>0.000360</td>\n",
              "    </tr>\n",
              "    <tr>\n",
              "      <th>BBDC4.SA</th>\n",
              "      <td>0.000380</td>\n",
              "      <td>0.000474</td>\n",
              "      <td>0.000159</td>\n",
              "      <td>0.000149</td>\n",
              "      <td>0.000227</td>\n",
              "      <td>0.000273</td>\n",
              "    </tr>\n",
              "    <tr>\n",
              "      <th>ABEV3.SA</th>\n",
              "      <td>0.000170</td>\n",
              "      <td>0.000159</td>\n",
              "      <td>0.000280</td>\n",
              "      <td>0.000112</td>\n",
              "      <td>0.000121</td>\n",
              "      <td>0.000143</td>\n",
              "    </tr>\n",
              "    <tr>\n",
              "      <th>WEGE3.SA</th>\n",
              "      <td>0.000181</td>\n",
              "      <td>0.000149</td>\n",
              "      <td>0.000112</td>\n",
              "      <td>0.000400</td>\n",
              "      <td>0.000128</td>\n",
              "      <td>0.000151</td>\n",
              "    </tr>\n",
              "    <tr>\n",
              "      <th>VALE3.SA</th>\n",
              "      <td>0.000378</td>\n",
              "      <td>0.000227</td>\n",
              "      <td>0.000121</td>\n",
              "      <td>0.000128</td>\n",
              "      <td>0.000707</td>\n",
              "      <td>0.000263</td>\n",
              "    </tr>\n",
              "    <tr>\n",
              "      <th>^BVSP</th>\n",
              "      <td>0.000360</td>\n",
              "      <td>0.000273</td>\n",
              "      <td>0.000143</td>\n",
              "      <td>0.000151</td>\n",
              "      <td>0.000263</td>\n",
              "      <td>0.000252</td>\n",
              "    </tr>\n",
              "  </tbody>\n",
              "</table>\n",
              "</div>"
            ],
            "text/plain": [
              "          PETR4.SA  BBDC4.SA  ABEV3.SA  WEGE3.SA  VALE3.SA     ^BVSP\n",
              "PETR4.SA  0.000898  0.000380  0.000170  0.000181  0.000378  0.000360\n",
              "BBDC4.SA  0.000380  0.000474  0.000159  0.000149  0.000227  0.000273\n",
              "ABEV3.SA  0.000170  0.000159  0.000280  0.000112  0.000121  0.000143\n",
              "WEGE3.SA  0.000181  0.000149  0.000112  0.000400  0.000128  0.000151\n",
              "VALE3.SA  0.000378  0.000227  0.000121  0.000128  0.000707  0.000263\n",
              "^BVSP     0.000360  0.000273  0.000143  0.000151  0.000263  0.000252"
            ]
          },
          "metadata": {
            "tags": []
          },
          "execution_count": 56
        }
      ]
    },
    {
      "cell_type": "code",
      "metadata": {
        "id": "fsh9iCwmvVj4",
        "colab": {
          "base_uri": "https://localhost:8080/",
          "height": 238
        },
        "outputId": "80bac27d-ef9d-41da-bfdc-43efa509e95e"
      },
      "source": [
        "cov_matrix_anual = retorno_risco.cov() * 250\n",
        "cov_matrix_anual.round(3)"
      ],
      "execution_count": 58,
      "outputs": [
        {
          "output_type": "execute_result",
          "data": {
            "text/html": [
              "<div>\n",
              "<style scoped>\n",
              "    .dataframe tbody tr th:only-of-type {\n",
              "        vertical-align: middle;\n",
              "    }\n",
              "\n",
              "    .dataframe tbody tr th {\n",
              "        vertical-align: top;\n",
              "    }\n",
              "\n",
              "    .dataframe thead th {\n",
              "        text-align: right;\n",
              "    }\n",
              "</style>\n",
              "<table border=\"1\" class=\"dataframe\">\n",
              "  <thead>\n",
              "    <tr style=\"text-align: right;\">\n",
              "      <th></th>\n",
              "      <th>PETR4.SA</th>\n",
              "      <th>BBDC4.SA</th>\n",
              "      <th>ABEV3.SA</th>\n",
              "      <th>WEGE3.SA</th>\n",
              "      <th>VALE3.SA</th>\n",
              "      <th>^BVSP</th>\n",
              "    </tr>\n",
              "  </thead>\n",
              "  <tbody>\n",
              "    <tr>\n",
              "      <th>PETR4.SA</th>\n",
              "      <td>0.225</td>\n",
              "      <td>0.095</td>\n",
              "      <td>0.043</td>\n",
              "      <td>0.045</td>\n",
              "      <td>0.095</td>\n",
              "      <td>0.090</td>\n",
              "    </tr>\n",
              "    <tr>\n",
              "      <th>BBDC4.SA</th>\n",
              "      <td>0.095</td>\n",
              "      <td>0.118</td>\n",
              "      <td>0.040</td>\n",
              "      <td>0.037</td>\n",
              "      <td>0.057</td>\n",
              "      <td>0.068</td>\n",
              "    </tr>\n",
              "    <tr>\n",
              "      <th>ABEV3.SA</th>\n",
              "      <td>0.043</td>\n",
              "      <td>0.040</td>\n",
              "      <td>0.070</td>\n",
              "      <td>0.028</td>\n",
              "      <td>0.030</td>\n",
              "      <td>0.036</td>\n",
              "    </tr>\n",
              "    <tr>\n",
              "      <th>WEGE3.SA</th>\n",
              "      <td>0.045</td>\n",
              "      <td>0.037</td>\n",
              "      <td>0.028</td>\n",
              "      <td>0.100</td>\n",
              "      <td>0.032</td>\n",
              "      <td>0.038</td>\n",
              "    </tr>\n",
              "    <tr>\n",
              "      <th>VALE3.SA</th>\n",
              "      <td>0.095</td>\n",
              "      <td>0.057</td>\n",
              "      <td>0.030</td>\n",
              "      <td>0.032</td>\n",
              "      <td>0.177</td>\n",
              "      <td>0.066</td>\n",
              "    </tr>\n",
              "    <tr>\n",
              "      <th>^BVSP</th>\n",
              "      <td>0.090</td>\n",
              "      <td>0.068</td>\n",
              "      <td>0.036</td>\n",
              "      <td>0.038</td>\n",
              "      <td>0.066</td>\n",
              "      <td>0.063</td>\n",
              "    </tr>\n",
              "  </tbody>\n",
              "</table>\n",
              "</div>"
            ],
            "text/plain": [
              "          PETR4.SA  BBDC4.SA  ABEV3.SA  WEGE3.SA  VALE3.SA  ^BVSP\n",
              "PETR4.SA     0.225     0.095     0.043     0.045     0.095  0.090\n",
              "BBDC4.SA     0.095     0.118     0.040     0.037     0.057  0.068\n",
              "ABEV3.SA     0.043     0.040     0.070     0.028     0.030  0.036\n",
              "WEGE3.SA     0.045     0.037     0.028     0.100     0.032  0.038\n",
              "VALE3.SA     0.095     0.057     0.030     0.032     0.177  0.066\n",
              "^BVSP        0.090     0.068     0.036     0.038     0.066  0.063"
            ]
          },
          "metadata": {
            "tags": []
          },
          "execution_count": 58
        }
      ]
    },
    {
      "cell_type": "markdown",
      "metadata": {
        "id": "N9-J52EyvVj-"
      },
      "source": [
        "# Correlação\n",
        "\n",
        "corr = 1 => correlação perfeita\n",
        "\n",
        "corr > 0 => variáveis se movem na mesma direção\n",
        "\n",
        "corr = -1 => correlação perfeitamente negativa\n",
        "\n",
        "corr < 0 => variáveis se movem em direções opostas\n",
        "\n",
        "corr = 0 => variáveis absolutamente independentes"
      ]
    },
    {
      "cell_type": "code",
      "metadata": {
        "id": "FTSIhDLfvVj_",
        "colab": {
          "base_uri": "https://localhost:8080/",
          "height": 238
        },
        "outputId": "5d1e74fa-a10a-47f6-d3e7-b991e7eb1d5d"
      },
      "source": [
        "# Correlação entre o retorno das ações\n",
        "\n",
        "corr_matrix = retorno_risco.corr()\n",
        "corr_matrix.round(2)"
      ],
      "execution_count": 61,
      "outputs": [
        {
          "output_type": "execute_result",
          "data": {
            "text/html": [
              "<div>\n",
              "<style scoped>\n",
              "    .dataframe tbody tr th:only-of-type {\n",
              "        vertical-align: middle;\n",
              "    }\n",
              "\n",
              "    .dataframe tbody tr th {\n",
              "        vertical-align: top;\n",
              "    }\n",
              "\n",
              "    .dataframe thead th {\n",
              "        text-align: right;\n",
              "    }\n",
              "</style>\n",
              "<table border=\"1\" class=\"dataframe\">\n",
              "  <thead>\n",
              "    <tr style=\"text-align: right;\">\n",
              "      <th></th>\n",
              "      <th>PETR4.SA</th>\n",
              "      <th>BBDC4.SA</th>\n",
              "      <th>ABEV3.SA</th>\n",
              "      <th>WEGE3.SA</th>\n",
              "      <th>VALE3.SA</th>\n",
              "      <th>^BVSP</th>\n",
              "    </tr>\n",
              "  </thead>\n",
              "  <tbody>\n",
              "    <tr>\n",
              "      <th>PETR4.SA</th>\n",
              "      <td>1.00</td>\n",
              "      <td>0.58</td>\n",
              "      <td>0.34</td>\n",
              "      <td>0.30</td>\n",
              "      <td>0.47</td>\n",
              "      <td>0.75</td>\n",
              "    </tr>\n",
              "    <tr>\n",
              "      <th>BBDC4.SA</th>\n",
              "      <td>0.58</td>\n",
              "      <td>1.00</td>\n",
              "      <td>0.44</td>\n",
              "      <td>0.34</td>\n",
              "      <td>0.39</td>\n",
              "      <td>0.79</td>\n",
              "    </tr>\n",
              "    <tr>\n",
              "      <th>ABEV3.SA</th>\n",
              "      <td>0.34</td>\n",
              "      <td>0.44</td>\n",
              "      <td>1.00</td>\n",
              "      <td>0.33</td>\n",
              "      <td>0.27</td>\n",
              "      <td>0.54</td>\n",
              "    </tr>\n",
              "    <tr>\n",
              "      <th>WEGE3.SA</th>\n",
              "      <td>0.30</td>\n",
              "      <td>0.34</td>\n",
              "      <td>0.33</td>\n",
              "      <td>1.00</td>\n",
              "      <td>0.24</td>\n",
              "      <td>0.48</td>\n",
              "    </tr>\n",
              "    <tr>\n",
              "      <th>VALE3.SA</th>\n",
              "      <td>0.47</td>\n",
              "      <td>0.39</td>\n",
              "      <td>0.27</td>\n",
              "      <td>0.24</td>\n",
              "      <td>1.00</td>\n",
              "      <td>0.62</td>\n",
              "    </tr>\n",
              "    <tr>\n",
              "      <th>^BVSP</th>\n",
              "      <td>0.75</td>\n",
              "      <td>0.79</td>\n",
              "      <td>0.54</td>\n",
              "      <td>0.48</td>\n",
              "      <td>0.62</td>\n",
              "      <td>1.00</td>\n",
              "    </tr>\n",
              "  </tbody>\n",
              "</table>\n",
              "</div>"
            ],
            "text/plain": [
              "          PETR4.SA  BBDC4.SA  ABEV3.SA  WEGE3.SA  VALE3.SA  ^BVSP\n",
              "PETR4.SA      1.00      0.58      0.34      0.30      0.47   0.75\n",
              "BBDC4.SA      0.58      1.00      0.44      0.34      0.39   0.79\n",
              "ABEV3.SA      0.34      0.44      1.00      0.33      0.27   0.54\n",
              "WEGE3.SA      0.30      0.34      0.33      1.00      0.24   0.48\n",
              "VALE3.SA      0.47      0.39      0.27      0.24      1.00   0.62\n",
              "^BVSP         0.75      0.79      0.54      0.48      0.62   1.00"
            ]
          },
          "metadata": {
            "tags": []
          },
          "execution_count": 61
        }
      ]
    },
    {
      "cell_type": "code",
      "metadata": {
        "id": "Mv7jEGSzvVkF",
        "colab": {
          "base_uri": "https://localhost:8080/",
          "height": 384
        },
        "outputId": "686b10f8-3abc-42b8-fbc9-d67444547abf"
      },
      "source": [
        "retorno_risco.plot(figsize = (15, 6));\n",
        "plt.show"
      ],
      "execution_count": 60,
      "outputs": [
        {
          "output_type": "execute_result",
          "data": {
            "text/plain": [
              "<function matplotlib.pyplot.show>"
            ]
          },
          "metadata": {
            "tags": []
          },
          "execution_count": 60
        },
        {
          "output_type": "display_data",
          "data": {
            "image/png": "[encoded data removed]",
            "text/plain": [
              "<Figure size 1080x432 with 1 Axes>"
            ]
          },
          "metadata": {
            "tags": [],
            "needs_background": "light"
          }
        }
      ]
    },
    {
      "cell_type": "code",
      "metadata": {
        "id": "elcvL9qtvVkK",
        "colab": {
          "base_uri": "https://localhost:8080/",
          "height": 238
        },
        "outputId": "8778d989-4e24-4cc0-9e1e-1f57dee43ed1"
      },
      "source": [
        "# Correlação entre o preço das ações\n",
        "\n",
        "corr_matrix = bolsas.corr()\n",
        "corr_matrix.round(2)"
      ],
      "execution_count": 63,
      "outputs": [
        {
          "output_type": "execute_result",
          "data": {
            "text/html": [
              "<div>\n",
              "<style scoped>\n",
              "    .dataframe tbody tr th:only-of-type {\n",
              "        vertical-align: middle;\n",
              "    }\n",
              "\n",
              "    .dataframe tbody tr th {\n",
              "        vertical-align: top;\n",
              "    }\n",
              "\n",
              "    .dataframe thead th {\n",
              "        text-align: right;\n",
              "    }\n",
              "</style>\n",
              "<table border=\"1\" class=\"dataframe\">\n",
              "  <thead>\n",
              "    <tr style=\"text-align: right;\">\n",
              "      <th></th>\n",
              "      <th>PETR4.SA</th>\n",
              "      <th>BBDC4.SA</th>\n",
              "      <th>ABEV3.SA</th>\n",
              "      <th>WEGE3.SA</th>\n",
              "      <th>VALE3.SA</th>\n",
              "      <th>^BVSP</th>\n",
              "    </tr>\n",
              "  </thead>\n",
              "  <tbody>\n",
              "    <tr>\n",
              "      <th>PETR4.SA</th>\n",
              "      <td>1.00</td>\n",
              "      <td>0.52</td>\n",
              "      <td>-0.19</td>\n",
              "      <td>0.40</td>\n",
              "      <td>0.70</td>\n",
              "      <td>0.78</td>\n",
              "    </tr>\n",
              "    <tr>\n",
              "      <th>BBDC4.SA</th>\n",
              "      <td>0.52</td>\n",
              "      <td>1.00</td>\n",
              "      <td>0.67</td>\n",
              "      <td>0.61</td>\n",
              "      <td>0.60</td>\n",
              "      <td>0.85</td>\n",
              "    </tr>\n",
              "    <tr>\n",
              "      <th>ABEV3.SA</th>\n",
              "      <td>-0.19</td>\n",
              "      <td>0.67</td>\n",
              "      <td>1.00</td>\n",
              "      <td>0.34</td>\n",
              "      <td>0.13</td>\n",
              "      <td>0.31</td>\n",
              "    </tr>\n",
              "    <tr>\n",
              "      <th>WEGE3.SA</th>\n",
              "      <td>0.40</td>\n",
              "      <td>0.61</td>\n",
              "      <td>0.34</td>\n",
              "      <td>1.00</td>\n",
              "      <td>0.82</td>\n",
              "      <td>0.78</td>\n",
              "    </tr>\n",
              "    <tr>\n",
              "      <th>VALE3.SA</th>\n",
              "      <td>0.70</td>\n",
              "      <td>0.60</td>\n",
              "      <td>0.13</td>\n",
              "      <td>0.82</td>\n",
              "      <td>1.00</td>\n",
              "      <td>0.88</td>\n",
              "    </tr>\n",
              "    <tr>\n",
              "      <th>^BVSP</th>\n",
              "      <td>0.78</td>\n",
              "      <td>0.85</td>\n",
              "      <td>0.31</td>\n",
              "      <td>0.78</td>\n",
              "      <td>0.88</td>\n",
              "      <td>1.00</td>\n",
              "    </tr>\n",
              "  </tbody>\n",
              "</table>\n",
              "</div>"
            ],
            "text/plain": [
              "          PETR4.SA  BBDC4.SA  ABEV3.SA  WEGE3.SA  VALE3.SA  ^BVSP\n",
              "PETR4.SA      1.00      0.52     -0.19      0.40      0.70   0.78\n",
              "BBDC4.SA      0.52      1.00      0.67      0.61      0.60   0.85\n",
              "ABEV3.SA     -0.19      0.67      1.00      0.34      0.13   0.31\n",
              "WEGE3.SA      0.40      0.61      0.34      1.00      0.82   0.78\n",
              "VALE3.SA      0.70      0.60      0.13      0.82      1.00   0.88\n",
              "^BVSP         0.78      0.85      0.31      0.78      0.88   1.00"
            ]
          },
          "metadata": {
            "tags": []
          },
          "execution_count": 63
        }
      ]
    },
    {
      "cell_type": "code",
      "metadata": {
        "id": "4NC0BDYKvVkP",
        "colab": {
          "base_uri": "https://localhost:8080/",
          "height": 384
        },
        "outputId": "c651f4bd-1cba-4268-dcd9-9e61939c76f9"
      },
      "source": [
        "(bolsas / bolsas.iloc[0] * 100).plot(figsize = (15, 6));\n",
        "plt.show"
      ],
      "execution_count": 64,
      "outputs": [
        {
          "output_type": "execute_result",
          "data": {
            "text/plain": [
              "<function matplotlib.pyplot.show>"
            ]
          },
          "metadata": {
            "tags": []
          },
          "execution_count": 64
        },
        {
          "output_type": "display_data",
          "data": {
            "image/png": "[encoded data removed]",
            "text/plain": [
              "<Figure size 1080x432 with 1 Axes>"
            ]
          },
          "metadata": {
            "tags": [],
            "needs_background": "light"
          }
        }
      ]
    },
    {
      "cell_type": "markdown",
      "metadata": {
        "id": "q43BR3w-y18q"
      },
      "source": [
        "# Risco do portfólio"
      ]
    },
    {
      "cell_type": "code",
      "metadata": {
        "id": "-XonyRUcy2bC"
      },
      "source": [
        "# Portfolio com ações de 5 empresas distribuídas igualmente, cada uma representando 20% do total.\n",
        "\n",
        "bolsas = bolsas[['PETR4.SA','BBDC4.SA','ABEV3.SA','WEGE3.SA','VALE3.SA']]\n",
        "retorno_risco = retorno_risco[['PETR4.SA','BBDC4.SA','ABEV3.SA','WEGE3.SA','VALE3.SA']]\n",
        "weights = np.array([0.2,0.2,0.2,0.2,0.2])"
      ],
      "execution_count": 69,
      "outputs": []
    },
    {
      "cell_type": "code",
      "metadata": {
        "colab": {
          "base_uri": "https://localhost:8080/"
        },
        "id": "lg-9eLwqzzoW",
        "outputId": "95ca358b-7ddd-4a3c-a30c-29fc353416e3"
      },
      "source": [
        "# Variância do portfólio\n",
        "\n",
        "pfolio_var = np.dot(weights.T, np.dot(retorno_risco.cov() * 250, weights))\n",
        "print('A variância do portfólio de ações é de: ' + str(pfolio_var.round(4)))"
      ],
      "execution_count": 73,
      "outputs": [
        {
          "output_type": "stream",
          "text": [
            "A variância do portfólio de ações é de: 0.0677\n"
          ],
          "name": "stdout"
        }
      ]
    },
    {
      "cell_type": "code",
      "metadata": {
        "colab": {
          "base_uri": "https://localhost:8080/"
        },
        "id": "_nzM5K7kzzyd",
        "outputId": "fd6b48a2-59d8-41c5-d2a7-3499fe65840b"
      },
      "source": [
        "# Volatilidade do portfólio\n",
        "\n",
        "pfolio_vol = np.dot(weights.T, np.dot(retorno_risco.cov() * 250, weights)) ** 0.5\n",
        "print('A volatilidade do portfólio de ações é de: ' + str(pfolio_vol.round(4) * 100) + '%')"
      ],
      "execution_count": 76,
      "outputs": [
        {
          "output_type": "stream",
          "text": [
            "A volatilidade do portfólio de ações é de: 26.02%\n"
          ],
          "name": "stdout"
        }
      ]
    },
    {
      "cell_type": "markdown",
      "metadata": {
        "id": "XJ2sgxR64CAi"
      },
      "source": [
        "## Risco diversificável e não diversificável do portfólio\n",
        "\n",
        "### risco diversificável = variância do portfólio - variância anual ponderada\n"
      ]
    },
    {
      "cell_type": "code",
      "metadata": {
        "id": "BjEypAJwz0tQ"
      },
      "source": [
        "# Risco diversificável\n",
        "# Portfólio com 2 ações, distribuídas igualmente em 50% de cada.\n",
        "\n",
        "bolsas2 = bolsas[['PETR4.SA','BBDC4.SA']]\n",
        "wheights = np.array([0.5,0.5])"
      ],
      "execution_count": 78,
      "outputs": []
    },
    {
      "cell_type": "code",
      "metadata": {
        "id": "V-B7_W9f4QhV"
      },
      "source": [
        ""
      ],
      "execution_count": null,
      "outputs": []
    },
    {
      "cell_type": "code",
      "metadata": {
        "id": "qmMZzrTL4Qqd"
      },
      "source": [
        ""
      ],
      "execution_count": null,
      "outputs": []
    },
    {
      "cell_type": "code",
      "metadata": {
        "id": "Y9RP6kFn4Qyv"
      },
      "source": [
        ""
      ],
      "execution_count": null,
      "outputs": []
    },
    {
      "cell_type": "code",
      "metadata": {
        "id": "5rDmEnhq4RQ7"
      },
      "source": [
        ""
      ],
      "execution_count": null,
      "outputs": []
    },
    {
      "cell_type": "code",
      "metadata": {
        "id": "FtuntI0X4Rap"
      },
      "source": [
        ""
      ],
      "execution_count": null,
      "outputs": []
    },
    {
      "cell_type": "markdown",
      "metadata": {
        "id": "OurTVGW_AX_-"
      },
      "source": [
        "# Otimização de Portfólio de Markowitz"
      ]
    },
    {
      "cell_type": "code",
      "metadata": {
        "id": "Hxc7Qr4-vVkY",
        "colab": {
          "base_uri": "https://localhost:8080/"
        },
        "outputId": "37291c8c-9bef-4493-9a7e-a427a3777105"
      },
      "source": [
        "retorno.mean() * 250"
      ],
      "execution_count": 33,
      "outputs": [
        {
          "output_type": "execute_result",
          "data": {
            "text/plain": [
              "PETR4.SA    0.002493\n",
              "BBDC4.SA    0.083160\n",
              "ABEV3.SA    0.131952\n",
              "WEGE3.SA    0.246608\n",
              "VALE3.SA    0.108610\n",
              "dtype: float64"
            ]
          },
          "metadata": {
            "tags": []
          },
          "execution_count": 33
        }
      ]
    },
    {
      "cell_type": "code",
      "metadata": {
        "id": "C1PQ2tClvVkb",
        "colab": {
          "base_uri": "https://localhost:8080/",
          "height": 206
        },
        "outputId": "a7211b99-e3ab-4978-edca-e77a89cc3285"
      },
      "source": [
        "retorno.cov() * 250"
      ],
      "execution_count": 34,
      "outputs": [
        {
          "output_type": "execute_result",
          "data": {
            "text/html": [
              "<div>\n",
              "<style scoped>\n",
              "    .dataframe tbody tr th:only-of-type {\n",
              "        vertical-align: middle;\n",
              "    }\n",
              "\n",
              "    .dataframe tbody tr th {\n",
              "        vertical-align: top;\n",
              "    }\n",
              "\n",
              "    .dataframe thead th {\n",
              "        text-align: right;\n",
              "    }\n",
              "</style>\n",
              "<table border=\"1\" class=\"dataframe\">\n",
              "  <thead>\n",
              "    <tr style=\"text-align: right;\">\n",
              "      <th></th>\n",
              "      <th>PETR4.SA</th>\n",
              "      <th>BBDC4.SA</th>\n",
              "      <th>ABEV3.SA</th>\n",
              "      <th>WEGE3.SA</th>\n",
              "      <th>VALE3.SA</th>\n",
              "    </tr>\n",
              "  </thead>\n",
              "  <tbody>\n",
              "    <tr>\n",
              "      <th>PETR4.SA</th>\n",
              "      <td>0.224609</td>\n",
              "      <td>0.095061</td>\n",
              "      <td>0.042533</td>\n",
              "      <td>0.045330</td>\n",
              "      <td>0.094574</td>\n",
              "    </tr>\n",
              "    <tr>\n",
              "      <th>BBDC4.SA</th>\n",
              "      <td>0.095061</td>\n",
              "      <td>0.118431</td>\n",
              "      <td>0.039746</td>\n",
              "      <td>0.037341</td>\n",
              "      <td>0.056650</td>\n",
              "    </tr>\n",
              "    <tr>\n",
              "      <th>ABEV3.SA</th>\n",
              "      <td>0.042533</td>\n",
              "      <td>0.039746</td>\n",
              "      <td>0.069893</td>\n",
              "      <td>0.027974</td>\n",
              "      <td>0.030245</td>\n",
              "    </tr>\n",
              "    <tr>\n",
              "      <th>WEGE3.SA</th>\n",
              "      <td>0.045330</td>\n",
              "      <td>0.037341</td>\n",
              "      <td>0.027974</td>\n",
              "      <td>0.100030</td>\n",
              "      <td>0.031931</td>\n",
              "    </tr>\n",
              "    <tr>\n",
              "      <th>VALE3.SA</th>\n",
              "      <td>0.094574</td>\n",
              "      <td>0.056650</td>\n",
              "      <td>0.030245</td>\n",
              "      <td>0.031931</td>\n",
              "      <td>0.176715</td>\n",
              "    </tr>\n",
              "  </tbody>\n",
              "</table>\n",
              "</div>"
            ],
            "text/plain": [
              "          PETR4.SA  BBDC4.SA  ABEV3.SA  WEGE3.SA  VALE3.SA\n",
              "PETR4.SA  0.224609  0.095061  0.042533  0.045330  0.094574\n",
              "BBDC4.SA  0.095061  0.118431  0.039746  0.037341  0.056650\n",
              "ABEV3.SA  0.042533  0.039746  0.069893  0.027974  0.030245\n",
              "WEGE3.SA  0.045330  0.037341  0.027974  0.100030  0.031931\n",
              "VALE3.SA  0.094574  0.056650  0.030245  0.031931  0.176715"
            ]
          },
          "metadata": {
            "tags": []
          },
          "execution_count": 34
        }
      ]
    },
    {
      "cell_type": "code",
      "metadata": {
        "id": "nhTuXXywvVkf",
        "colab": {
          "base_uri": "https://localhost:8080/",
          "height": 206
        },
        "outputId": "d3fe2c61-e5da-4ed0-aace-32d1831a0e89"
      },
      "source": [
        "retorno.corr()"
      ],
      "execution_count": 35,
      "outputs": [
        {
          "output_type": "execute_result",
          "data": {
            "text/html": [
              "<div>\n",
              "<style scoped>\n",
              "    .dataframe tbody tr th:only-of-type {\n",
              "        vertical-align: middle;\n",
              "    }\n",
              "\n",
              "    .dataframe tbody tr th {\n",
              "        vertical-align: top;\n",
              "    }\n",
              "\n",
              "    .dataframe thead th {\n",
              "        text-align: right;\n",
              "    }\n",
              "</style>\n",
              "<table border=\"1\" class=\"dataframe\">\n",
              "  <thead>\n",
              "    <tr style=\"text-align: right;\">\n",
              "      <th></th>\n",
              "      <th>PETR4.SA</th>\n",
              "      <th>BBDC4.SA</th>\n",
              "      <th>ABEV3.SA</th>\n",
              "      <th>WEGE3.SA</th>\n",
              "      <th>VALE3.SA</th>\n",
              "    </tr>\n",
              "  </thead>\n",
              "  <tbody>\n",
              "    <tr>\n",
              "      <th>PETR4.SA</th>\n",
              "      <td>1.000000</td>\n",
              "      <td>0.582852</td>\n",
              "      <td>0.339468</td>\n",
              "      <td>0.302416</td>\n",
              "      <td>0.474701</td>\n",
              "    </tr>\n",
              "    <tr>\n",
              "      <th>BBDC4.SA</th>\n",
              "      <td>0.582852</td>\n",
              "      <td>1.000000</td>\n",
              "      <td>0.436864</td>\n",
              "      <td>0.343078</td>\n",
              "      <td>0.391586</td>\n",
              "    </tr>\n",
              "    <tr>\n",
              "      <th>ABEV3.SA</th>\n",
              "      <td>0.339468</td>\n",
              "      <td>0.436864</td>\n",
              "      <td>1.000000</td>\n",
              "      <td>0.334562</td>\n",
              "      <td>0.272145</td>\n",
              "    </tr>\n",
              "    <tr>\n",
              "      <th>WEGE3.SA</th>\n",
              "      <td>0.302416</td>\n",
              "      <td>0.343078</td>\n",
              "      <td>0.334562</td>\n",
              "      <td>1.000000</td>\n",
              "      <td>0.240162</td>\n",
              "    </tr>\n",
              "    <tr>\n",
              "      <th>VALE3.SA</th>\n",
              "      <td>0.474701</td>\n",
              "      <td>0.391586</td>\n",
              "      <td>0.272145</td>\n",
              "      <td>0.240162</td>\n",
              "      <td>1.000000</td>\n",
              "    </tr>\n",
              "  </tbody>\n",
              "</table>\n",
              "</div>"
            ],
            "text/plain": [
              "          PETR4.SA  BBDC4.SA  ABEV3.SA  WEGE3.SA  VALE3.SA\n",
              "PETR4.SA  1.000000  0.582852  0.339468  0.302416  0.474701\n",
              "BBDC4.SA  0.582852  1.000000  0.436864  0.343078  0.391586\n",
              "ABEV3.SA  0.339468  0.436864  1.000000  0.334562  0.272145\n",
              "WEGE3.SA  0.302416  0.343078  0.334562  1.000000  0.240162\n",
              "VALE3.SA  0.474701  0.391586  0.272145  0.240162  1.000000"
            ]
          },
          "metadata": {
            "tags": []
          },
          "execution_count": 35
        }
      ]
    },
    {
      "cell_type": "code",
      "metadata": {
        "id": "H47tbI_zvVki",
        "colab": {
          "base_uri": "https://localhost:8080/"
        },
        "outputId": "598429b7-e39d-4c19-e336-5127fd6564c2"
      },
      "source": [
        "num_tickers = len(tickers)\n",
        "num_tickers"
      ],
      "execution_count": 36,
      "outputs": [
        {
          "output_type": "execute_result",
          "data": {
            "text/plain": [
              "6"
            ]
          },
          "metadata": {
            "tags": []
          },
          "execution_count": 36
        }
      ]
    },
    {
      "cell_type": "code",
      "metadata": {
        "id": "h0PkHqn9vVkm",
        "colab": {
          "base_uri": "https://localhost:8080/"
        },
        "outputId": "bae452f1-986c-4ff0-ab36-0870bde616d8"
      },
      "source": [
        "weights = np.random.random(num_tickers)\n",
        "weights /= np.sum(weights)\n",
        "weights"
      ],
      "execution_count": 37,
      "outputs": [
        {
          "output_type": "execute_result",
          "data": {
            "text/plain": [
              "array([0.20579509, 0.1664674 , 0.26317628, 0.29399107, 0.01345189,\n",
              "       0.05711827])"
            ]
          },
          "metadata": {
            "tags": []
          },
          "execution_count": 37
        }
      ]
    },
    {
      "cell_type": "code",
      "metadata": {
        "id": "1HfdLq1cvVkp",
        "colab": {
          "base_uri": "https://localhost:8080/"
        },
        "outputId": "5581a78a-f35c-45f7-cf27-e5752ebfe03b"
      },
      "source": [
        "weights[0] + weights[1] + weights[2] + weights[3] + weights[4]"
      ],
      "execution_count": 38,
      "outputs": [
        {
          "output_type": "execute_result",
          "data": {
            "text/plain": [
              "0.9428817276206489"
            ]
          },
          "metadata": {
            "tags": []
          },
          "execution_count": 38
        }
      ]
    },
    {
      "cell_type": "markdown",
      "metadata": {
        "id": "6B0pB1w-AvPk"
      },
      "source": [
        "# Retorno esperado do Portfólio"
      ]
    },
    {
      "cell_type": "code",
      "metadata": {
        "id": "D3Yx5MGOvVku",
        "colab": {
          "base_uri": "https://localhost:8080/",
          "height": 348
        },
        "outputId": "b95452ff-bf04-4e49-9359-685b52ada558"
      },
      "source": [
        "np.sum(weights * retorno.mean()) * 250"
      ],
      "execution_count": 39,
      "outputs": [
        {
          "output_type": "error",
          "ename": "ValueError",
          "evalue": "ignored",
          "traceback": [
            "\u001b[0;31m---------------------------------------------------------------------------\u001b[0m",
            "\u001b[0;31mValueError\u001b[0m                                Traceback (most recent call last)",
            "\u001b[0;32m<ipython-input-39-ea8d4750d301>\u001b[0m in \u001b[0;36m<module>\u001b[0;34m()\u001b[0m\n\u001b[0;32m----> 1\u001b[0;31m \u001b[0mnp\u001b[0m\u001b[0;34m.\u001b[0m\u001b[0msum\u001b[0m\u001b[0;34m(\u001b[0m\u001b[0mweights\u001b[0m \u001b[0;34m*\u001b[0m \u001b[0mretorno\u001b[0m\u001b[0;34m.\u001b[0m\u001b[0mmean\u001b[0m\u001b[0;34m(\u001b[0m\u001b[0;34m)\u001b[0m\u001b[0;34m)\u001b[0m \u001b[0;34m*\u001b[0m \u001b[0;36m250\u001b[0m\u001b[0;34m\u001b[0m\u001b[0;34m\u001b[0m\u001b[0m\n\u001b[0m",
            "\u001b[0;32m/usr/local/lib/python3.7/dist-packages/pandas/core/series.py\u001b[0m in \u001b[0;36m__array_ufunc__\u001b[0;34m(self, ufunc, method, *inputs, **kwargs)\u001b[0m\n\u001b[1;32m    681\u001b[0m         \u001b[0;31m# for binary ops, use our custom dunder methods\u001b[0m\u001b[0;34m\u001b[0m\u001b[0;34m\u001b[0m\u001b[0;34m\u001b[0m\u001b[0m\n\u001b[1;32m    682\u001b[0m         result = ops.maybe_dispatch_ufunc_to_dunder_op(\n\u001b[0;32m--> 683\u001b[0;31m             \u001b[0mself\u001b[0m\u001b[0;34m,\u001b[0m \u001b[0mufunc\u001b[0m\u001b[0;34m,\u001b[0m \u001b[0mmethod\u001b[0m\u001b[0;34m,\u001b[0m \u001b[0;34m*\u001b[0m\u001b[0minputs\u001b[0m\u001b[0;34m,\u001b[0m \u001b[0;34m**\u001b[0m\u001b[0mkwargs\u001b[0m\u001b[0;34m\u001b[0m\u001b[0;34m\u001b[0m\u001b[0m\n\u001b[0m\u001b[1;32m    684\u001b[0m         )\n\u001b[1;32m    685\u001b[0m         \u001b[0;32mif\u001b[0m \u001b[0mresult\u001b[0m \u001b[0;32mis\u001b[0m \u001b[0;32mnot\u001b[0m \u001b[0mNotImplemented\u001b[0m\u001b[0;34m:\u001b[0m\u001b[0;34m\u001b[0m\u001b[0;34m\u001b[0m\u001b[0m\n",
            "\u001b[0;32mpandas/_libs/ops_dispatch.pyx\u001b[0m in \u001b[0;36mpandas._libs.ops_dispatch.maybe_dispatch_ufunc_to_dunder_op\u001b[0;34m()\u001b[0m\n",
            "\u001b[0;32m/usr/local/lib/python3.7/dist-packages/pandas/core/ops/common.py\u001b[0m in \u001b[0;36mnew_method\u001b[0;34m(self, other)\u001b[0m\n\u001b[1;32m     63\u001b[0m         \u001b[0mother\u001b[0m \u001b[0;34m=\u001b[0m \u001b[0mitem_from_zerodim\u001b[0m\u001b[0;34m(\u001b[0m\u001b[0mother\u001b[0m\u001b[0;34m)\u001b[0m\u001b[0;34m\u001b[0m\u001b[0;34m\u001b[0m\u001b[0m\n\u001b[1;32m     64\u001b[0m \u001b[0;34m\u001b[0m\u001b[0m\n\u001b[0;32m---> 65\u001b[0;31m         \u001b[0;32mreturn\u001b[0m \u001b[0mmethod\u001b[0m\u001b[0;34m(\u001b[0m\u001b[0mself\u001b[0m\u001b[0;34m,\u001b[0m \u001b[0mother\u001b[0m\u001b[0;34m)\u001b[0m\u001b[0;34m\u001b[0m\u001b[0;34m\u001b[0m\u001b[0m\n\u001b[0m\u001b[1;32m     66\u001b[0m \u001b[0;34m\u001b[0m\u001b[0m\n\u001b[1;32m     67\u001b[0m     \u001b[0;32mreturn\u001b[0m \u001b[0mnew_method\u001b[0m\u001b[0;34m\u001b[0m\u001b[0;34m\u001b[0m\u001b[0m\n",
            "\u001b[0;32m/usr/local/lib/python3.7/dist-packages/pandas/core/ops/__init__.py\u001b[0m in \u001b[0;36mwrapper\u001b[0;34m(left, right)\u001b[0m\n\u001b[1;32m    341\u001b[0m         \u001b[0mlvalues\u001b[0m \u001b[0;34m=\u001b[0m \u001b[0mextract_array\u001b[0m\u001b[0;34m(\u001b[0m\u001b[0mleft\u001b[0m\u001b[0;34m,\u001b[0m \u001b[0mextract_numpy\u001b[0m\u001b[0;34m=\u001b[0m\u001b[0;32mTrue\u001b[0m\u001b[0;34m)\u001b[0m\u001b[0;34m\u001b[0m\u001b[0;34m\u001b[0m\u001b[0m\n\u001b[1;32m    342\u001b[0m         \u001b[0mrvalues\u001b[0m \u001b[0;34m=\u001b[0m \u001b[0mextract_array\u001b[0m\u001b[0;34m(\u001b[0m\u001b[0mright\u001b[0m\u001b[0;34m,\u001b[0m \u001b[0mextract_numpy\u001b[0m\u001b[0;34m=\u001b[0m\u001b[0;32mTrue\u001b[0m\u001b[0;34m)\u001b[0m\u001b[0;34m\u001b[0m\u001b[0;34m\u001b[0m\u001b[0m\n\u001b[0;32m--> 343\u001b[0;31m         \u001b[0mresult\u001b[0m \u001b[0;34m=\u001b[0m \u001b[0marithmetic_op\u001b[0m\u001b[0;34m(\u001b[0m\u001b[0mlvalues\u001b[0m\u001b[0;34m,\u001b[0m \u001b[0mrvalues\u001b[0m\u001b[0;34m,\u001b[0m \u001b[0mop\u001b[0m\u001b[0;34m)\u001b[0m\u001b[0;34m\u001b[0m\u001b[0;34m\u001b[0m\u001b[0m\n\u001b[0m\u001b[1;32m    344\u001b[0m \u001b[0;34m\u001b[0m\u001b[0m\n\u001b[1;32m    345\u001b[0m         \u001b[0;32mreturn\u001b[0m \u001b[0mleft\u001b[0m\u001b[0;34m.\u001b[0m\u001b[0m_construct_result\u001b[0m\u001b[0;34m(\u001b[0m\u001b[0mresult\u001b[0m\u001b[0;34m,\u001b[0m \u001b[0mname\u001b[0m\u001b[0;34m=\u001b[0m\u001b[0mres_name\u001b[0m\u001b[0;34m)\u001b[0m\u001b[0;34m\u001b[0m\u001b[0;34m\u001b[0m\u001b[0m\n",
            "\u001b[0;32m/usr/local/lib/python3.7/dist-packages/pandas/core/ops/array_ops.py\u001b[0m in \u001b[0;36marithmetic_op\u001b[0;34m(left, right, op)\u001b[0m\n\u001b[1;32m    188\u001b[0m     \u001b[0;32melse\u001b[0m\u001b[0;34m:\u001b[0m\u001b[0;34m\u001b[0m\u001b[0;34m\u001b[0m\u001b[0m\n\u001b[1;32m    189\u001b[0m         \u001b[0;32mwith\u001b[0m \u001b[0mnp\u001b[0m\u001b[0;34m.\u001b[0m\u001b[0merrstate\u001b[0m\u001b[0;34m(\u001b[0m\u001b[0mall\u001b[0m\u001b[0;34m=\u001b[0m\u001b[0;34m\"ignore\"\u001b[0m\u001b[0;34m)\u001b[0m\u001b[0;34m:\u001b[0m\u001b[0;34m\u001b[0m\u001b[0;34m\u001b[0m\u001b[0m\n\u001b[0;32m--> 190\u001b[0;31m             \u001b[0mres_values\u001b[0m \u001b[0;34m=\u001b[0m \u001b[0mna_arithmetic_op\u001b[0m\u001b[0;34m(\u001b[0m\u001b[0mlvalues\u001b[0m\u001b[0;34m,\u001b[0m \u001b[0mrvalues\u001b[0m\u001b[0;34m,\u001b[0m \u001b[0mop\u001b[0m\u001b[0;34m)\u001b[0m\u001b[0;34m\u001b[0m\u001b[0;34m\u001b[0m\u001b[0m\n\u001b[0m\u001b[1;32m    191\u001b[0m \u001b[0;34m\u001b[0m\u001b[0m\n\u001b[1;32m    192\u001b[0m     \u001b[0;32mreturn\u001b[0m \u001b[0mres_values\u001b[0m\u001b[0;34m\u001b[0m\u001b[0;34m\u001b[0m\u001b[0m\n",
            "\u001b[0;32m/usr/local/lib/python3.7/dist-packages/pandas/core/ops/array_ops.py\u001b[0m in \u001b[0;36mna_arithmetic_op\u001b[0;34m(left, right, op, is_cmp)\u001b[0m\n\u001b[1;32m    141\u001b[0m \u001b[0;34m\u001b[0m\u001b[0m\n\u001b[1;32m    142\u001b[0m     \u001b[0;32mtry\u001b[0m\u001b[0;34m:\u001b[0m\u001b[0;34m\u001b[0m\u001b[0;34m\u001b[0m\u001b[0m\n\u001b[0;32m--> 143\u001b[0;31m         \u001b[0mresult\u001b[0m \u001b[0;34m=\u001b[0m \u001b[0mexpressions\u001b[0m\u001b[0;34m.\u001b[0m\u001b[0mevaluate\u001b[0m\u001b[0;34m(\u001b[0m\u001b[0mop\u001b[0m\u001b[0;34m,\u001b[0m \u001b[0mleft\u001b[0m\u001b[0;34m,\u001b[0m \u001b[0mright\u001b[0m\u001b[0;34m)\u001b[0m\u001b[0;34m\u001b[0m\u001b[0;34m\u001b[0m\u001b[0m\n\u001b[0m\u001b[1;32m    144\u001b[0m     \u001b[0;32mexcept\u001b[0m \u001b[0mTypeError\u001b[0m\u001b[0;34m:\u001b[0m\u001b[0;34m\u001b[0m\u001b[0;34m\u001b[0m\u001b[0m\n\u001b[1;32m    145\u001b[0m         \u001b[0;32mif\u001b[0m \u001b[0mis_cmp\u001b[0m\u001b[0;34m:\u001b[0m\u001b[0;34m\u001b[0m\u001b[0;34m\u001b[0m\u001b[0m\n",
            "\u001b[0;32m/usr/local/lib/python3.7/dist-packages/pandas/core/computation/expressions.py\u001b[0m in \u001b[0;36mevaluate\u001b[0;34m(op, a, b, use_numexpr)\u001b[0m\n\u001b[1;32m    231\u001b[0m         \u001b[0muse_numexpr\u001b[0m \u001b[0;34m=\u001b[0m \u001b[0muse_numexpr\u001b[0m \u001b[0;32mand\u001b[0m \u001b[0m_bool_arith_check\u001b[0m\u001b[0;34m(\u001b[0m\u001b[0mop_str\u001b[0m\u001b[0;34m,\u001b[0m \u001b[0ma\u001b[0m\u001b[0;34m,\u001b[0m \u001b[0mb\u001b[0m\u001b[0;34m)\u001b[0m\u001b[0;34m\u001b[0m\u001b[0;34m\u001b[0m\u001b[0m\n\u001b[1;32m    232\u001b[0m         \u001b[0;32mif\u001b[0m \u001b[0muse_numexpr\u001b[0m\u001b[0;34m:\u001b[0m\u001b[0;34m\u001b[0m\u001b[0;34m\u001b[0m\u001b[0m\n\u001b[0;32m--> 233\u001b[0;31m             \u001b[0;32mreturn\u001b[0m \u001b[0m_evaluate\u001b[0m\u001b[0;34m(\u001b[0m\u001b[0mop\u001b[0m\u001b[0;34m,\u001b[0m \u001b[0mop_str\u001b[0m\u001b[0;34m,\u001b[0m \u001b[0ma\u001b[0m\u001b[0;34m,\u001b[0m \u001b[0mb\u001b[0m\u001b[0;34m)\u001b[0m  \u001b[0;31m# type: ignore\u001b[0m\u001b[0;34m\u001b[0m\u001b[0;34m\u001b[0m\u001b[0m\n\u001b[0m\u001b[1;32m    234\u001b[0m     \u001b[0;32mreturn\u001b[0m \u001b[0m_evaluate_standard\u001b[0m\u001b[0;34m(\u001b[0m\u001b[0mop\u001b[0m\u001b[0;34m,\u001b[0m \u001b[0mop_str\u001b[0m\u001b[0;34m,\u001b[0m \u001b[0ma\u001b[0m\u001b[0;34m,\u001b[0m \u001b[0mb\u001b[0m\u001b[0;34m)\u001b[0m\u001b[0;34m\u001b[0m\u001b[0;34m\u001b[0m\u001b[0m\n\u001b[1;32m    235\u001b[0m \u001b[0;34m\u001b[0m\u001b[0m\n",
            "\u001b[0;32m/usr/local/lib/python3.7/dist-packages/pandas/core/computation/expressions.py\u001b[0m in \u001b[0;36m_evaluate_numexpr\u001b[0;34m(op, op_str, a, b)\u001b[0m\n\u001b[1;32m    117\u001b[0m \u001b[0;34m\u001b[0m\u001b[0m\n\u001b[1;32m    118\u001b[0m     \u001b[0;32mif\u001b[0m \u001b[0mresult\u001b[0m \u001b[0;32mis\u001b[0m \u001b[0;32mNone\u001b[0m\u001b[0;34m:\u001b[0m\u001b[0;34m\u001b[0m\u001b[0;34m\u001b[0m\u001b[0m\n\u001b[0;32m--> 119\u001b[0;31m         \u001b[0mresult\u001b[0m \u001b[0;34m=\u001b[0m \u001b[0m_evaluate_standard\u001b[0m\u001b[0;34m(\u001b[0m\u001b[0mop\u001b[0m\u001b[0;34m,\u001b[0m \u001b[0mop_str\u001b[0m\u001b[0;34m,\u001b[0m \u001b[0ma\u001b[0m\u001b[0;34m,\u001b[0m \u001b[0mb\u001b[0m\u001b[0;34m)\u001b[0m\u001b[0;34m\u001b[0m\u001b[0;34m\u001b[0m\u001b[0m\n\u001b[0m\u001b[1;32m    120\u001b[0m \u001b[0;34m\u001b[0m\u001b[0m\n\u001b[1;32m    121\u001b[0m     \u001b[0;32mreturn\u001b[0m \u001b[0mresult\u001b[0m\u001b[0;34m\u001b[0m\u001b[0;34m\u001b[0m\u001b[0m\n",
            "\u001b[0;32m/usr/local/lib/python3.7/dist-packages/pandas/core/computation/expressions.py\u001b[0m in \u001b[0;36m_evaluate_standard\u001b[0;34m(op, op_str, a, b)\u001b[0m\n\u001b[1;32m     66\u001b[0m         \u001b[0m_store_test_result\u001b[0m\u001b[0;34m(\u001b[0m\u001b[0;32mFalse\u001b[0m\u001b[0;34m)\u001b[0m\u001b[0;34m\u001b[0m\u001b[0;34m\u001b[0m\u001b[0m\n\u001b[1;32m     67\u001b[0m     \u001b[0;32mwith\u001b[0m \u001b[0mnp\u001b[0m\u001b[0;34m.\u001b[0m\u001b[0merrstate\u001b[0m\u001b[0;34m(\u001b[0m\u001b[0mall\u001b[0m\u001b[0;34m=\u001b[0m\u001b[0;34m\"ignore\"\u001b[0m\u001b[0;34m)\u001b[0m\u001b[0;34m:\u001b[0m\u001b[0;34m\u001b[0m\u001b[0;34m\u001b[0m\u001b[0m\n\u001b[0;32m---> 68\u001b[0;31m         \u001b[0;32mreturn\u001b[0m \u001b[0mop\u001b[0m\u001b[0;34m(\u001b[0m\u001b[0ma\u001b[0m\u001b[0;34m,\u001b[0m \u001b[0mb\u001b[0m\u001b[0;34m)\u001b[0m\u001b[0;34m\u001b[0m\u001b[0;34m\u001b[0m\u001b[0m\n\u001b[0m\u001b[1;32m     69\u001b[0m \u001b[0;34m\u001b[0m\u001b[0m\n\u001b[1;32m     70\u001b[0m \u001b[0;34m\u001b[0m\u001b[0m\n",
            "\u001b[0;32m/usr/local/lib/python3.7/dist-packages/pandas/core/ops/roperator.py\u001b[0m in \u001b[0;36mrmul\u001b[0;34m(left, right)\u001b[0m\n\u001b[1;32m     15\u001b[0m \u001b[0;34m\u001b[0m\u001b[0m\n\u001b[1;32m     16\u001b[0m \u001b[0;32mdef\u001b[0m \u001b[0mrmul\u001b[0m\u001b[0;34m(\u001b[0m\u001b[0mleft\u001b[0m\u001b[0;34m,\u001b[0m \u001b[0mright\u001b[0m\u001b[0;34m)\u001b[0m\u001b[0;34m:\u001b[0m\u001b[0;34m\u001b[0m\u001b[0;34m\u001b[0m\u001b[0m\n\u001b[0;32m---> 17\u001b[0;31m     \u001b[0;32mreturn\u001b[0m \u001b[0mright\u001b[0m \u001b[0;34m*\u001b[0m \u001b[0mleft\u001b[0m\u001b[0;34m\u001b[0m\u001b[0;34m\u001b[0m\u001b[0m\n\u001b[0m\u001b[1;32m     18\u001b[0m \u001b[0;34m\u001b[0m\u001b[0m\n\u001b[1;32m     19\u001b[0m \u001b[0;34m\u001b[0m\u001b[0m\n",
            "\u001b[0;31mValueError\u001b[0m: operands could not be broadcast together with shapes (6,) (5,) "
          ]
        }
      ]
    },
    {
      "cell_type": "markdown",
      "metadata": {
        "id": "5YCIWcXoA5Z3"
      },
      "source": [
        "# Variância esperada do Portfólio"
      ]
    },
    {
      "cell_type": "code",
      "metadata": {
        "id": "mVDC7qCUvVkw"
      },
      "source": [
        "np.dot(weights.T, np.dot(retorno.cov() *250, weights))"
      ],
      "execution_count": null,
      "outputs": []
    },
    {
      "cell_type": "markdown",
      "metadata": {
        "id": "c2rt4XyFBUmE"
      },
      "source": [
        "# Volatilidade esperada do Portfólio"
      ]
    },
    {
      "cell_type": "code",
      "metadata": {
        "id": "1w738b1jBC8q"
      },
      "source": [
        "np.sqrt(np.dot(weights.T, np.dot(retorno.cov() *250, weights)))"
      ],
      "execution_count": null,
      "outputs": []
    },
    {
      "cell_type": "markdown",
      "metadata": {
        "id": "AFJBkxwABZ2H"
      },
      "source": [
        "# 1.000 combinações diferentes dos mesmos ativos"
      ]
    },
    {
      "cell_type": "code",
      "metadata": {
        "id": "aRCltcgXBDHJ"
      },
      "source": [
        "pfolio_returns = []\n",
        "pfolio_volatilities = []\n",
        "\n",
        "for x in range (10000):\n",
        "    weights = np.random.random(num_tickers)\n",
        "    weights /= np.sum(weights)\n",
        "    pfolio_returns.append(np.sum(weights * retorno.mean()) * 250)\n",
        "    pfolio_volatilities.append(np.sqrt(np.dot(weights.T, np.dot(retorno.cov() *250, weights))))\n",
        "\n",
        "pfolio_returns = np.array(pfolio_returns)\n",
        "pfolio_volatilities = np.array(pfolio_volatilities)\n",
        "\n",
        "pfolio_returns, pfolio_volatilities"
      ],
      "execution_count": null,
      "outputs": []
    },
    {
      "cell_type": "code",
      "metadata": {
        "id": "FTQ0LiWXBDP7"
      },
      "source": [
        "portfolios = pd.DataFrame({'Retorno': pfolio_returns, 'Volatilidade': pfolio_volatilities})\n",
        "portfolios.head()"
      ],
      "execution_count": null,
      "outputs": []
    },
    {
      "cell_type": "code",
      "metadata": {
        "id": "V2HwEubbBDYA"
      },
      "source": [
        "portfolios.plot(x='Volatilidade', y='Retorno', kind='scatter', figsize=(10,6))\n",
        "plt.xlabel('Volatilidade esperada')\n",
        "plt.ylabel('Retorno esperado')"
      ],
      "execution_count": null,
      "outputs": []
    },
    {
      "cell_type": "code",
      "metadata": {
        "id": "pjnBO4kpBDgT"
      },
      "source": [
        "(bolsas / bolsas.iloc[0] * 100).plot(figsize = (15, 6));\n",
        "plt.show"
      ],
      "execution_count": null,
      "outputs": []
    },
    {
      "cell_type": "code",
      "metadata": {
        "id": "-rfvscLIBDpp"
      },
      "source": [
        "bolsas.plot(figsize = (15, 6));\n",
        "plt.show"
      ],
      "execution_count": null,
      "outputs": []
    },
    {
      "cell_type": "markdown",
      "metadata": {
        "id": "V0j0pxUxB69U"
      },
      "source": [
        "# CAPM\n",
        "\n",
        "### Medindo o Beta\n",
        "### Mede o risco de mercado que não pode ser evitado através da diversificação.\n",
        "### Quanto mais volátil uma ação, maior seu beta. O beta varia entre -1 e 2.\n",
        "### B = 0 nenhuma relação; B < 1 defensiva; B > 1 agressiva\n",
        "### Ações defensivas perdem menos quando a economia está mal e ganham menos quando estão bem; agressivas são o oposto."
      ]
    },
    {
      "cell_type": "code",
      "metadata": {
        "id": "jyX6fVDgCMUi"
      },
      "source": [
        "tickers = ['PETR4.SA','BBDC4.SA','ABEV3.SA','WEGE3.SA','VALE3.SA','^BVSP']\n",
        "data = pd.DataFrame()\n",
        "for t in tickers:\n",
        "    data[t] = wb.DataReader(t, data_source='yahoo',start='2015-1-1')['Adj Close']"
      ],
      "execution_count": null,
      "outputs": []
    },
    {
      "cell_type": "code",
      "metadata": {
        "id": "JUQPAL2uCNiI"
      },
      "source": [
        "sec_returns = np.log( data / data.shift(1))"
      ],
      "execution_count": null,
      "outputs": []
    },
    {
      "cell_type": "code",
      "metadata": {
        "id": "6qphYOf1CNrY"
      },
      "source": [
        "cov = sec_returns.cov() * 250\n",
        "cov"
      ],
      "execution_count": null,
      "outputs": []
    },
    {
      "cell_type": "code",
      "metadata": {
        "id": "GoZNVeiqCNzD"
      },
      "source": [
        "# Covariação da primeira ação com o mercado.\n",
        "\n",
        "cov_with_market = cov.iloc[0,5]\n",
        "cov_with_market"
      ],
      "execution_count": null,
      "outputs": []
    },
    {
      "cell_type": "code",
      "metadata": {
        "id": "E_Zf8fLPCN6F"
      },
      "source": [
        "market_var = sec_returns['^BVSP'].var() * 250\n",
        "market_var"
      ],
      "execution_count": null,
      "outputs": []
    },
    {
      "cell_type": "code",
      "metadata": {
        "id": "N_-klIwICOAt"
      },
      "source": [
        "logn_beta = cov_with_market / market_var\n",
        "logn_beta"
      ],
      "execution_count": null,
      "outputs": []
    },
    {
      "cell_type": "code",
      "metadata": {
        "id": "6Z6CA12MCOIc"
      },
      "source": [
        "# Covariação da seegunda ação com o mercado.\n",
        "\n",
        "cov_with_market = cov.iloc[1,5]\n",
        "cov_with_market"
      ],
      "execution_count": null,
      "outputs": []
    },
    {
      "cell_type": "code",
      "metadata": {
        "id": "mQTUdaetCw35"
      },
      "source": [
        "market_var = sec_returns['^BVSP'].var() * 250\n",
        "market_var"
      ],
      "execution_count": null,
      "outputs": []
    },
    {
      "cell_type": "code",
      "metadata": {
        "id": "WH7wP7iRCxKe"
      },
      "source": [
        "vvar_beta = cov_with_market / market_var\n",
        "vvar_beta"
      ],
      "execution_count": null,
      "outputs": []
    },
    {
      "cell_type": "markdown",
      "metadata": {
        "id": "-ewAEW0EC7m1"
      },
      "source": [
        "# Modelo de Precificação de Ativos Financeiros (CAPM)\n",
        "\n",
        "### Ação livre de risco = retorno de 2,5%.\n",
        "### Beta\n",
        "### Prêmio de risco das ações = entre 4,5% e 5,5%\n",
        "### Retorno esperado para valer a pena investir na ação\n"
      ]
    },
    {
      "cell_type": "code",
      "metadata": {
        "id": "CDHsUVuqCxSK"
      },
      "source": [
        "logn_er = 0.025 + logn_beta * 0.05\n",
        "logn_er"
      ],
      "execution_count": null,
      "outputs": []
    },
    {
      "cell_type": "code",
      "metadata": {
        "id": "-539zpssCxWI"
      },
      "source": [
        "vvar_beta = 0.025 + vvar_beta * 0.05\n",
        "vvar_beta"
      ],
      "execution_count": null,
      "outputs": []
    },
    {
      "cell_type": "markdown",
      "metadata": {
        "id": "EYi7ifK8DLGB"
      },
      "source": [
        "### Se o retorno ficar abaixo do calculado, não vale a pena investir nessa ação."
      ]
    },
    {
      "cell_type": "markdown",
      "metadata": {
        "id": "mtjFXjh8DS2o"
      },
      "source": [
        "# Índice de Sharp\n",
        "## Decidir o melhor portfólio em termos de risco e retorno"
      ]
    },
    {
      "cell_type": "code",
      "metadata": {
        "id": "uipJIR7sCxb3"
      },
      "source": [
        "sharpe_logn = (logn_er - 0.025) / (sec_returns['PETR4.SA'].std() * 250 ** 0.5)\n",
        "sharpe_logn"
      ],
      "execution_count": null,
      "outputs": []
    },
    {
      "cell_type": "code",
      "metadata": {
        "id": "Q5BKTommCxei"
      },
      "source": [
        "sharpe_vvar = (logn_er - 0.025) / (sec_returns['BBDC4.SA'].std() * 250 ** 0.5)\n",
        "sharpe_vvar"
      ],
      "execution_count": null,
      "outputs": []
    },
    {
      "cell_type": "markdown",
      "metadata": {
        "id": "JVbGLywcDeBZ"
      },
      "source": [
        "# Simulações de Monte Carlo\n",
        "### Observar os possíveis diferentes resultados de um evento futuro\n",
        "### 1 - Prever o preço da ação"
      ]
    },
    {
      "cell_type": "code",
      "metadata": {
        "id": "_zp9DYqyCxhV"
      },
      "source": [
        "log_returns_1 = np.log(1 + data['BBDC4.SA'].pct_change())"
      ],
      "execution_count": null,
      "outputs": []
    },
    {
      "cell_type": "code",
      "metadata": {
        "id": "flX6Ez98CxkQ"
      },
      "source": [
        "log_returns_1.tail()"
      ],
      "execution_count": null,
      "outputs": []
    },
    {
      "cell_type": "code",
      "metadata": {
        "id": "KNymZLtOCxnF"
      },
      "source": [
        "data['BBDC4.SA'].plot(figsize=(10,6))"
      ],
      "execution_count": null,
      "outputs": []
    },
    {
      "cell_type": "code",
      "metadata": {
        "id": "zKKF9gi8Dtry"
      },
      "source": [
        "log_returns_1.plot(figsize=(10,6))"
      ],
      "execution_count": null,
      "outputs": []
    },
    {
      "cell_type": "code",
      "metadata": {
        "id": "9lAJxjhwDtuz"
      },
      "source": [
        "u = log_returns_1.mean()\n",
        "u"
      ],
      "execution_count": null,
      "outputs": []
    },
    {
      "cell_type": "code",
      "metadata": {
        "id": "8dKiaw4ODtxJ"
      },
      "source": [
        "var = log_returns_1.var()\n",
        "var"
      ],
      "execution_count": null,
      "outputs": []
    },
    {
      "cell_type": "code",
      "metadata": {
        "id": "qwJt1th7Dtz7"
      },
      "source": [
        "drift = u - (0.5 * var)\n",
        "drift"
      ],
      "execution_count": null,
      "outputs": []
    },
    {
      "cell_type": "code",
      "metadata": {
        "id": "T45VbYL1Dt3B"
      },
      "source": [
        "stdev = log_returns_1.std()\n",
        "stdev"
      ],
      "execution_count": null,
      "outputs": []
    },
    {
      "cell_type": "code",
      "metadata": {
        "id": "thJkZcP6Dt5e"
      },
      "source": [
        "type(drift)"
      ],
      "execution_count": null,
      "outputs": []
    },
    {
      "cell_type": "code",
      "metadata": {
        "id": "5Bc7-riUDt8B"
      },
      "source": [
        "type(stdev)"
      ],
      "execution_count": null,
      "outputs": []
    },
    {
      "cell_type": "code",
      "metadata": {
        "id": "tQYZb8AADt-a"
      },
      "source": [
        "np.array(drift)"
      ],
      "execution_count": null,
      "outputs": []
    },
    {
      "cell_type": "code",
      "metadata": {
        "id": "a4gZAfOcDuBB"
      },
      "source": [
        "np.array(stdev)"
      ],
      "execution_count": null,
      "outputs": []
    },
    {
      "cell_type": "code",
      "metadata": {
        "id": "2yQNHVxlDuEG"
      },
      "source": [
        "norm.ppf(0.95)"
      ],
      "execution_count": null,
      "outputs": []
    },
    {
      "cell_type": "code",
      "metadata": {
        "id": "evu84J8ADuGv"
      },
      "source": [
        "x = np.random.rand(10,2)\n",
        "x"
      ],
      "execution_count": null,
      "outputs": []
    },
    {
      "cell_type": "code",
      "metadata": {
        "id": "JZ2FQvS7EF7_"
      },
      "source": [
        "norm.ppf(x)"
      ],
      "execution_count": null,
      "outputs": []
    },
    {
      "cell_type": "code",
      "metadata": {
        "id": "aAHHSuzaEF-v"
      },
      "source": [
        "z = norm.ppf(np.random.rand(10,2))\n",
        "z"
      ],
      "execution_count": null,
      "outputs": []
    },
    {
      "cell_type": "code",
      "metadata": {
        "id": "soTfSQOsEGFB"
      },
      "source": [
        "t_intervals = 100\n",
        "iterations = 10"
      ],
      "execution_count": null,
      "outputs": []
    },
    {
      "cell_type": "code",
      "metadata": {
        "id": "J241choOEGK4"
      },
      "source": [
        "daily_returns = np.exp(np.array(drift) + np.array(stdev) * norm.ppf(np.random.rand(t_intervals, iterations)))\n",
        "daily_returns"
      ],
      "execution_count": null,
      "outputs": []
    },
    {
      "cell_type": "code",
      "metadata": {
        "id": "LtMkkBWLEGNs"
      },
      "source": [
        "s0 = data['BBDC4.SA'].iloc[-1]\n",
        "s0"
      ],
      "execution_count": null,
      "outputs": []
    },
    {
      "cell_type": "code",
      "metadata": {
        "id": "SsKzWTGbEGQp"
      },
      "source": [
        "price_list = np.zeros_like(daily_returns)\n",
        "price_list"
      ],
      "execution_count": null,
      "outputs": []
    },
    {
      "cell_type": "code",
      "metadata": {
        "id": "HUUL5_gtEGTd"
      },
      "source": [
        "price_list[0] = s0\n",
        "price_list"
      ],
      "execution_count": null,
      "outputs": []
    },
    {
      "cell_type": "code",
      "metadata": {
        "id": "wFtnUWfmEGV4"
      },
      "source": [
        "for t in range(1, t_intervals):\n",
        "    price_list[t] = price_list[t - 1] * daily_returns[t]"
      ],
      "execution_count": null,
      "outputs": []
    },
    {
      "cell_type": "code",
      "metadata": {
        "id": "lQnjhkUJEGYs"
      },
      "source": [
        "price_list"
      ],
      "execution_count": null,
      "outputs": []
    },
    {
      "cell_type": "code",
      "metadata": {
        "id": "9B7Vj-U-EGbi"
      },
      "source": [
        "plt.figure(figsize=(10,6))\n",
        "plt.plot(price_list)"
      ],
      "execution_count": null,
      "outputs": []
    },
    {
      "cell_type": "code",
      "metadata": {
        "id": "gPzmsvIjEGer"
      },
      "source": [
        ""
      ],
      "execution_count": null,
      "outputs": []
    },
    {
      "cell_type": "code",
      "metadata": {
        "id": "iptWzDpXEGhc"
      },
      "source": [
        ""
      ],
      "execution_count": null,
      "outputs": []
    },
    {
      "cell_type": "code",
      "metadata": {
        "id": "y1nxOmg0EGkI"
      },
      "source": [
        ""
      ],
      "execution_count": null,
      "outputs": []
    }
  ]
}