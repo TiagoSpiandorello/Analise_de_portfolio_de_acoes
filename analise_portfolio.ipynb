{
  "nbformat": 4,
  "nbformat_minor": 0,
  "metadata": {
    "language_info": {
      "codemirror_mode": {
        "name": "ipython",
        "version": 3
      },
      "file_extension": ".py",
      "mimetype": "text/x-python",
      "name": "python",
      "nbconvert_exporter": "python",
      "pygments_lexer": "ipython3",
      "version": "3.8.2-final"
    },
    "orig_nbformat": 2,
    "kernelspec": {
      "name": "python38264bit697db9e16c98461a9db76b9b03748f0d",
      "display_name": "Python 3.8.2 64-bit"
    },
    "colab": {
      "name": "analise_portfolio.ipynb",
      "provenance": [],
      "collapsed_sections": [
        "EYi7ifK8DLGB"
      ],
      "include_colab_link": true
    }
  },
  "cells": [
    {
      "cell_type": "markdown",
      "metadata": {
        "id": "view-in-github",
        "colab_type": "text"
      },
      "source": [
        "<a href=\"https://colab.research.google.com/github/TiagoSpiandorello/Analise_de_portfolio_de_acoes/blob/main/analise_portfolio.ipynb\" target=\"_parent\"><img src=\"https://colab.research.google.com/assets/colab-badge.svg\" alt=\"Open In Colab\"/></a>"
      ]
    },
    {
      "cell_type": "code",
      "metadata": {
        "id": "oTnah-bnvVhz"
      },
      "source": [
        "# Importação das bibliotecas necessárias para o projeto\n",
        "\n",
        "import numpy as np\n",
        "import pandas as pd\n",
        "import matplotlib.pyplot as plt\n",
        "from pandas_datareader import data as wb\n",
        "from scipy.stats import norm\n",
        "%matplotlib inline"
      ],
      "execution_count": 85,
      "outputs": []
    },
    {
      "cell_type": "code",
      "metadata": {
        "tags": [],
        "id": "RXR1l5OEvViB",
        "colab": {
          "base_uri": "https://localhost:8080/",
          "height": 394
        },
        "outputId": "38a56e1a-a544-4979-b8f0-3b4961675738"
      },
      "source": [
        "# Extração dos dados de um portfólio de ações do site Yahoo Finance\n",
        "\n",
        "# PETR4 = Petrobras\n",
        "# BBDC4 = Bradesco\n",
        "# ABEV3 = AMBEV\n",
        "# WEGE3 = Weg\n",
        "# VALE3 - Vale\n",
        "\n",
        "tickers = ['PETR4.SA','BBDC4.SA','ABEV3.SA','WEGE3.SA','VALE3.SA']\n",
        "bolsas = pd.DataFrame()\n",
        "for t in tickers:\n",
        "    bolsas[t] = wb.DataReader(t, data_source='yahoo',start='2010-1-1')['Adj Close']\n",
        "\n",
        "bolsas.tail(10)"
      ],
      "execution_count": 86,
      "outputs": [
        {
          "output_type": "execute_result",
          "data": {
            "text/html": [
              "<div>\n",
              "<style scoped>\n",
              "    .dataframe tbody tr th:only-of-type {\n",
              "        vertical-align: middle;\n",
              "    }\n",
              "\n",
              "    .dataframe tbody tr th {\n",
              "        vertical-align: top;\n",
              "    }\n",
              "\n",
              "    .dataframe thead th {\n",
              "        text-align: right;\n",
              "    }\n",
              "</style>\n",
              "<table border=\"1\" class=\"dataframe\">\n",
              "  <thead>\n",
              "    <tr style=\"text-align: right;\">\n",
              "      <th></th>\n",
              "      <th>PETR4.SA</th>\n",
              "      <th>BBDC4.SA</th>\n",
              "      <th>ABEV3.SA</th>\n",
              "      <th>WEGE3.SA</th>\n",
              "      <th>VALE3.SA</th>\n",
              "    </tr>\n",
              "    <tr>\n",
              "      <th>Date</th>\n",
              "      <th></th>\n",
              "      <th></th>\n",
              "      <th></th>\n",
              "      <th></th>\n",
              "      <th></th>\n",
              "    </tr>\n",
              "  </thead>\n",
              "  <tbody>\n",
              "    <tr>\n",
              "      <th>2021-06-09</th>\n",
              "      <td>28.660000</td>\n",
              "      <td>28.100000</td>\n",
              "      <td>19.309999</td>\n",
              "      <td>34.250000</td>\n",
              "      <td>112.199997</td>\n",
              "    </tr>\n",
              "    <tr>\n",
              "      <th>2021-06-10</th>\n",
              "      <td>28.680000</td>\n",
              "      <td>28.150000</td>\n",
              "      <td>19.320000</td>\n",
              "      <td>33.930000</td>\n",
              "      <td>111.830002</td>\n",
              "    </tr>\n",
              "    <tr>\n",
              "      <th>2021-06-11</th>\n",
              "      <td>28.570000</td>\n",
              "      <td>28.040001</td>\n",
              "      <td>18.940001</td>\n",
              "      <td>34.209999</td>\n",
              "      <td>114.339996</td>\n",
              "    </tr>\n",
              "    <tr>\n",
              "      <th>2021-06-14</th>\n",
              "      <td>28.750000</td>\n",
              "      <td>27.920000</td>\n",
              "      <td>19.480000</td>\n",
              "      <td>34.880001</td>\n",
              "      <td>113.720001</td>\n",
              "    </tr>\n",
              "    <tr>\n",
              "      <th>2021-06-15</th>\n",
              "      <td>29.030001</td>\n",
              "      <td>27.940001</td>\n",
              "      <td>19.129999</td>\n",
              "      <td>35.459999</td>\n",
              "      <td>111.500000</td>\n",
              "    </tr>\n",
              "    <tr>\n",
              "      <th>2021-06-16</th>\n",
              "      <td>29.139999</td>\n",
              "      <td>28.080000</td>\n",
              "      <td>19.090000</td>\n",
              "      <td>34.830002</td>\n",
              "      <td>108.150002</td>\n",
              "    </tr>\n",
              "    <tr>\n",
              "      <th>2021-06-17</th>\n",
              "      <td>28.129999</td>\n",
              "      <td>27.959999</td>\n",
              "      <td>19.010000</td>\n",
              "      <td>34.419998</td>\n",
              "      <td>105.900002</td>\n",
              "    </tr>\n",
              "    <tr>\n",
              "      <th>2021-06-18</th>\n",
              "      <td>28.320000</td>\n",
              "      <td>27.600000</td>\n",
              "      <td>18.760000</td>\n",
              "      <td>35.189999</td>\n",
              "      <td>109.089996</td>\n",
              "    </tr>\n",
              "    <tr>\n",
              "      <th>2021-06-21</th>\n",
              "      <td>28.950001</td>\n",
              "      <td>27.670000</td>\n",
              "      <td>18.730000</td>\n",
              "      <td>35.250000</td>\n",
              "      <td>110.110001</td>\n",
              "    </tr>\n",
              "    <tr>\n",
              "      <th>2021-06-22</th>\n",
              "      <td>28.950001</td>\n",
              "      <td>27.469999</td>\n",
              "      <td>18.559999</td>\n",
              "      <td>34.880001</td>\n",
              "      <td>110.480003</td>\n",
              "    </tr>\n",
              "  </tbody>\n",
              "</table>\n",
              "</div>"
            ],
            "text/plain": [
              "             PETR4.SA   BBDC4.SA   ABEV3.SA   WEGE3.SA    VALE3.SA\n",
              "Date                                                              \n",
              "2021-06-09  28.660000  28.100000  19.309999  34.250000  112.199997\n",
              "2021-06-10  28.680000  28.150000  19.320000  33.930000  111.830002\n",
              "2021-06-11  28.570000  28.040001  18.940001  34.209999  114.339996\n",
              "2021-06-14  28.750000  27.920000  19.480000  34.880001  113.720001\n",
              "2021-06-15  29.030001  27.940001  19.129999  35.459999  111.500000\n",
              "2021-06-16  29.139999  28.080000  19.090000  34.830002  108.150002\n",
              "2021-06-17  28.129999  27.959999  19.010000  34.419998  105.900002\n",
              "2021-06-18  28.320000  27.600000  18.760000  35.189999  109.089996\n",
              "2021-06-21  28.950001  27.670000  18.730000  35.250000  110.110001\n",
              "2021-06-22  28.950001  27.469999  18.559999  34.880001  110.480003"
            ]
          },
          "metadata": {
            "tags": []
          },
          "execution_count": 86
        }
      ]
    },
    {
      "cell_type": "markdown",
      "metadata": {
        "id": "6tbh3l0Tf-bL"
      },
      "source": [
        "## Normalização dos dados para base 100\n",
        "\n",
        "### (P1 / P0) * 100\n",
        "\n",
        "#### Essa manipulação permite comparar o comportamento das ações em uma situação hipotética em que todas iniciam com valor 100. "
      ]
    },
    {
      "cell_type": "code",
      "metadata": {
        "colab": {
          "base_uri": "https://localhost:8080/"
        },
        "id": "a9xKoN_sfljA",
        "outputId": "72868cb5-ebad-4279-dcb9-a1d8d36e3392"
      },
      "source": [
        "bolsas.iloc[0]"
      ],
      "execution_count": 87,
      "outputs": [
        {
          "output_type": "execute_result",
          "data": {
            "text/plain": [
              "PETR4.SA    28.142263\n",
              "BBDC4.SA    10.765183\n",
              "ABEV3.SA     4.187932\n",
              "WEGE3.SA     2.144630\n",
              "VALE3.SA    32.089706\n",
              "Name: 2010-01-04 00:00:00, dtype: float64"
            ]
          },
          "metadata": {
            "tags": []
          },
          "execution_count": 87
        }
      ]
    },
    {
      "cell_type": "code",
      "metadata": {
        "colab": {
          "base_uri": "https://localhost:8080/",
          "height": 384
        },
        "id": "QhG53gfZf8Zx",
        "outputId": "9ce654dd-dd76-40f0-bf41-59a416044bd4"
      },
      "source": [
        "(bolsas / bolsas.iloc[0] * 100).plot(figsize= (15,6));\n",
        "plt.show"
      ],
      "execution_count": 88,
      "outputs": [
        {
          "output_type": "execute_result",
          "data": {
            "text/plain": [
              "<function matplotlib.pyplot.show>"
            ]
          },
          "metadata": {
            "tags": []
          },
          "execution_count": 88
        },
        {
          "output_type": "display_data",
          "data": {
            "image/png": "[encoded data removed]",
            "text/plain": [
              "<Figure size 1080x432 with 1 Axes>"
            ]
          },
          "metadata": {
            "tags": [],
            "needs_background": "light"
          }
        }
      ]
    },
    {
      "cell_type": "markdown",
      "metadata": {
        "id": "qmBuyzkF7K9j"
      },
      "source": [
        "# Taxa de retorno das ações\n",
        "\n",
        "## Taxa de retorno simples = (preço final - preço inicial) / preço inicial\n"
      ]
    },
    {
      "cell_type": "code",
      "metadata": {
        "colab": {
          "base_uri": "https://localhost:8080/",
          "height": 238
        },
        "id": "5wHyxG2Df8la",
        "outputId": "f660af87-8259-4472-9876-c18a2497b26b"
      },
      "source": [
        "retorno_simples = (bolsas / bolsas.shift(1)) - 1\n",
        "retorno_simples.head()"
      ],
      "execution_count": 89,
      "outputs": [
        {
          "output_type": "execute_result",
          "data": {
            "text/html": [
              "<div>\n",
              "<style scoped>\n",
              "    .dataframe tbody tr th:only-of-type {\n",
              "        vertical-align: middle;\n",
              "    }\n",
              "\n",
              "    .dataframe tbody tr th {\n",
              "        vertical-align: top;\n",
              "    }\n",
              "\n",
              "    .dataframe thead th {\n",
              "        text-align: right;\n",
              "    }\n",
              "</style>\n",
              "<table border=\"1\" class=\"dataframe\">\n",
              "  <thead>\n",
              "    <tr style=\"text-align: right;\">\n",
              "      <th></th>\n",
              "      <th>PETR4.SA</th>\n",
              "      <th>BBDC4.SA</th>\n",
              "      <th>ABEV3.SA</th>\n",
              "      <th>WEGE3.SA</th>\n",
              "      <th>VALE3.SA</th>\n",
              "    </tr>\n",
              "    <tr>\n",
              "      <th>Date</th>\n",
              "      <th></th>\n",
              "      <th></th>\n",
              "      <th></th>\n",
              "      <th></th>\n",
              "      <th></th>\n",
              "    </tr>\n",
              "  </thead>\n",
              "  <tbody>\n",
              "    <tr>\n",
              "      <th>2010-01-04</th>\n",
              "      <td>NaN</td>\n",
              "      <td>NaN</td>\n",
              "      <td>NaN</td>\n",
              "      <td>NaN</td>\n",
              "      <td>NaN</td>\n",
              "    </tr>\n",
              "    <tr>\n",
              "      <th>2010-01-05</th>\n",
              "      <td>-0.008574</td>\n",
              "      <td>-0.004956</td>\n",
              "      <td>0.005882</td>\n",
              "      <td>-0.002182</td>\n",
              "      <td>0.009322</td>\n",
              "    </tr>\n",
              "    <tr>\n",
              "      <th>2010-01-06</th>\n",
              "      <td>0.013513</td>\n",
              "      <td>-0.008000</td>\n",
              "      <td>0.010202</td>\n",
              "      <td>0.005468</td>\n",
              "      <td>0.021166</td>\n",
              "    </tr>\n",
              "    <tr>\n",
              "      <th>2010-01-07</th>\n",
              "      <td>-0.009333</td>\n",
              "      <td>-0.002688</td>\n",
              "      <td>0.004695</td>\n",
              "      <td>0.016857</td>\n",
              "      <td>0.004145</td>\n",
              "    </tr>\n",
              "    <tr>\n",
              "      <th>2010-01-08</th>\n",
              "      <td>-0.005384</td>\n",
              "      <td>-0.001079</td>\n",
              "      <td>-0.001921</td>\n",
              "      <td>0.036363</td>\n",
              "      <td>0.009758</td>\n",
              "    </tr>\n",
              "  </tbody>\n",
              "</table>\n",
              "</div>"
            ],
            "text/plain": [
              "            PETR4.SA  BBDC4.SA  ABEV3.SA  WEGE3.SA  VALE3.SA\n",
              "Date                                                        \n",
              "2010-01-04       NaN       NaN       NaN       NaN       NaN\n",
              "2010-01-05 -0.008574 -0.004956  0.005882 -0.002182  0.009322\n",
              "2010-01-06  0.013513 -0.008000  0.010202  0.005468  0.021166\n",
              "2010-01-07 -0.009333 -0.002688  0.004695  0.016857  0.004145\n",
              "2010-01-08 -0.005384 -0.001079 -0.001921  0.036363  0.009758"
            ]
          },
          "metadata": {
            "tags": []
          },
          "execution_count": 89
        }
      ]
    },
    {
      "cell_type": "code",
      "metadata": {
        "colab": {
          "base_uri": "https://localhost:8080/"
        },
        "id": "jK6L76AJf8vz",
        "outputId": "d28f9e60-8fbf-47a3-9d6a-b923689e4d3c"
      },
      "source": [
        "# Peso é o percentual que cada ação representa no portfólio. \n",
        "\n",
        "# No primeiro cenário, as ações estão distribuídas igualmente, cada uma representando 20% do total de ações.\n",
        "\n",
        "pesos = np.array([0.2,0.2,0.2,0.2,0.2])\n",
        "np.dot(retorno_simples, pesos)"
      ],
      "execution_count": 90,
      "outputs": [
        {
          "output_type": "execute_result",
          "data": {
            "text/plain": [
              "array([        nan, -0.0001016 ,  0.00846972, ...,  0.00664427,\n",
              "        0.0068476 , -0.00468811])"
            ]
          },
          "metadata": {
            "tags": []
          },
          "execution_count": 90
        }
      ]
    },
    {
      "cell_type": "code",
      "metadata": {
        "colab": {
          "base_uri": "https://localhost:8080/"
        },
        "id": "vKmz5lrLf85B",
        "outputId": "baf6b016-29f4-4e6d-92ab-565c6f74bf96"
      },
      "source": [
        "# Retorno anual médio\n",
        "\n",
        "retorno_anual = retorno_simples.mean() * 250\n",
        "retorno_anual"
      ],
      "execution_count": 91,
      "outputs": [
        {
          "output_type": "execute_result",
          "data": {
            "text/plain": [
              "PETR4.SA    0.113781\n",
              "BBDC4.SA    0.141641\n",
              "ABEV3.SA    0.166008\n",
              "WEGE3.SA    0.295570\n",
              "VALE3.SA    0.197056\n",
              "dtype: float64"
            ]
          },
          "metadata": {
            "tags": []
          },
          "execution_count": 91
        }
      ]
    },
    {
      "cell_type": "code",
      "metadata": {
        "colab": {
          "base_uri": "https://localhost:8080/"
        },
        "id": "3OrMe-VkksXA",
        "outputId": "1b377b16-ca9b-42c7-e025-1c4737973c35"
      },
      "source": [
        "np.dot(retorno_anual, pesos)"
      ],
      "execution_count": 92,
      "outputs": [
        {
          "output_type": "execute_result",
          "data": {
            "text/plain": [
              "0.18281124697851642"
            ]
          },
          "metadata": {
            "tags": []
          },
          "execution_count": 92
        }
      ]
    },
    {
      "cell_type": "code",
      "metadata": {
        "colab": {
          "base_uri": "https://localhost:8080/"
        },
        "id": "KA6PI8KUkxdX",
        "outputId": "3bd6e211-fbe1-477b-8e96-8b81e20471c9"
      },
      "source": [
        "pfolio1 = str(round(np.dot(retorno_anual, pesos), 5) * 100) + ' %'\n",
        "print('Esta carteira de ações possui um retorno de ' + pfolio1)"
      ],
      "execution_count": 93,
      "outputs": [
        {
          "output_type": "stream",
          "text": [
            "Esta carteira de ações possui um retorno de 18.281 %\n"
          ],
          "name": "stdout"
        }
      ]
    },
    {
      "cell_type": "code",
      "metadata": {
        "colab": {
          "base_uri": "https://localhost:8080/"
        },
        "id": "4heZ5dr5mOQU",
        "outputId": "144b3040-0e3a-49ff-db8c-d352349d6d41"
      },
      "source": [
        "# No segundo cenário, as ações não estão distribuídas igualmente, de forma que a WEGE3 representa 40%, a PETR4 10% e as restantes 20% cada do total de ações.\n",
        " \n",
        "pesos2 = np.array([0.1,0.2,0.2,0.4,0.2])\n",
        "pfolio2 = str(round(np.dot(retorno_anual, pesos2), 5) * 100) + ' %'\n",
        "print('Esta carteira de ações possui um retorno de ' + pfolio2)"
      ],
      "execution_count": 94,
      "outputs": [
        {
          "output_type": "stream",
          "text": [
            "Esta carteira de ações possui um retorno de 23.055 %\n"
          ],
          "name": "stdout"
        }
      ]
    },
    {
      "cell_type": "code",
      "metadata": {
        "colab": {
          "base_uri": "https://localhost:8080/"
        },
        "id": "mIwaAlPImOmn",
        "outputId": "49775941-1222-4d09-82cd-531aa7c1be23"
      },
      "source": [
        "if (pfolio1 > pfolio2):\n",
        "  print('O primeiro portfólio possui rendimento superior ao segundo.')\n",
        "elif (pfolio1 < pfolio2):\n",
        "  print('O segundo portfólio possui rendimento superior ao primeiro.')\n",
        "else:\n",
        "  print('Ambos portfólios possuem o mesmo rendimento.')"
      ],
      "execution_count": 95,
      "outputs": [
        {
          "output_type": "stream",
          "text": [
            "O segundo portfólio possui rendimento superior ao primeiro.\n"
          ],
          "name": "stdout"
        }
      ]
    },
    {
      "cell_type": "code",
      "metadata": {
        "id": "77jP9NHJvViW",
        "colab": {
          "base_uri": "https://localhost:8080/",
          "height": 455
        },
        "outputId": "d270c168-c9e0-4426-f22a-376330b8abd6"
      },
      "source": [
        "# Cálculo da taxa de retorno logarítmica das ações\n",
        "\n",
        "retorno = np.log(bolsas / bolsas.shift(1))\n",
        "retorno"
      ],
      "execution_count": 96,
      "outputs": [
        {
          "output_type": "execute_result",
          "data": {
            "text/html": [
              "<div>\n",
              "<style scoped>\n",
              "    .dataframe tbody tr th:only-of-type {\n",
              "        vertical-align: middle;\n",
              "    }\n",
              "\n",
              "    .dataframe tbody tr th {\n",
              "        vertical-align: top;\n",
              "    }\n",
              "\n",
              "    .dataframe thead th {\n",
              "        text-align: right;\n",
              "    }\n",
              "</style>\n",
              "<table border=\"1\" class=\"dataframe\">\n",
              "  <thead>\n",
              "    <tr style=\"text-align: right;\">\n",
              "      <th></th>\n",
              "      <th>PETR4.SA</th>\n",
              "      <th>BBDC4.SA</th>\n",
              "      <th>ABEV3.SA</th>\n",
              "      <th>WEGE3.SA</th>\n",
              "      <th>VALE3.SA</th>\n",
              "    </tr>\n",
              "    <tr>\n",
              "      <th>Date</th>\n",
              "      <th></th>\n",
              "      <th></th>\n",
              "      <th></th>\n",
              "      <th></th>\n",
              "      <th></th>\n",
              "    </tr>\n",
              "  </thead>\n",
              "  <tbody>\n",
              "    <tr>\n",
              "      <th>2010-01-04</th>\n",
              "      <td>NaN</td>\n",
              "      <td>NaN</td>\n",
              "      <td>NaN</td>\n",
              "      <td>NaN</td>\n",
              "      <td>NaN</td>\n",
              "    </tr>\n",
              "    <tr>\n",
              "      <th>2010-01-05</th>\n",
              "      <td>-0.008611</td>\n",
              "      <td>-0.004968</td>\n",
              "      <td>0.005865</td>\n",
              "      <td>-0.002185</td>\n",
              "      <td>0.009279</td>\n",
              "    </tr>\n",
              "    <tr>\n",
              "      <th>2010-01-06</th>\n",
              "      <td>0.013423</td>\n",
              "      <td>-0.008032</td>\n",
              "      <td>0.010150</td>\n",
              "      <td>0.005453</td>\n",
              "      <td>0.020945</td>\n",
              "    </tr>\n",
              "    <tr>\n",
              "      <th>2010-01-07</th>\n",
              "      <td>-0.009377</td>\n",
              "      <td>-0.002691</td>\n",
              "      <td>0.004684</td>\n",
              "      <td>0.016717</td>\n",
              "      <td>0.004137</td>\n",
              "    </tr>\n",
              "    <tr>\n",
              "      <th>2010-01-08</th>\n",
              "      <td>-0.005398</td>\n",
              "      <td>-0.001079</td>\n",
              "      <td>-0.001923</td>\n",
              "      <td>0.035718</td>\n",
              "      <td>0.009711</td>\n",
              "    </tr>\n",
              "    <tr>\n",
              "      <th>...</th>\n",
              "      <td>...</td>\n",
              "      <td>...</td>\n",
              "      <td>...</td>\n",
              "      <td>...</td>\n",
              "      <td>...</td>\n",
              "    </tr>\n",
              "    <tr>\n",
              "      <th>2021-06-16</th>\n",
              "      <td>0.003782</td>\n",
              "      <td>0.004998</td>\n",
              "      <td>-0.002093</td>\n",
              "      <td>-0.017926</td>\n",
              "      <td>-0.030505</td>\n",
              "    </tr>\n",
              "    <tr>\n",
              "      <th>2021-06-17</th>\n",
              "      <td>-0.035275</td>\n",
              "      <td>-0.004283</td>\n",
              "      <td>-0.004199</td>\n",
              "      <td>-0.011841</td>\n",
              "      <td>-0.021024</td>\n",
              "    </tr>\n",
              "    <tr>\n",
              "      <th>2021-06-18</th>\n",
              "      <td>0.006732</td>\n",
              "      <td>-0.012959</td>\n",
              "      <td>-0.013238</td>\n",
              "      <td>0.022124</td>\n",
              "      <td>0.029678</td>\n",
              "    </tr>\n",
              "    <tr>\n",
              "      <th>2021-06-21</th>\n",
              "      <td>0.022002</td>\n",
              "      <td>0.002533</td>\n",
              "      <td>-0.001600</td>\n",
              "      <td>0.001704</td>\n",
              "      <td>0.009307</td>\n",
              "    </tr>\n",
              "    <tr>\n",
              "      <th>2021-06-22</th>\n",
              "      <td>0.000000</td>\n",
              "      <td>-0.007254</td>\n",
              "      <td>-0.009118</td>\n",
              "      <td>-0.010552</td>\n",
              "      <td>0.003355</td>\n",
              "    </tr>\n",
              "  </tbody>\n",
              "</table>\n",
              "<p>2840 rows × 5 columns</p>\n",
              "</div>"
            ],
            "text/plain": [
              "            PETR4.SA  BBDC4.SA  ABEV3.SA  WEGE3.SA  VALE3.SA\n",
              "Date                                                        \n",
              "2010-01-04       NaN       NaN       NaN       NaN       NaN\n",
              "2010-01-05 -0.008611 -0.004968  0.005865 -0.002185  0.009279\n",
              "2010-01-06  0.013423 -0.008032  0.010150  0.005453  0.020945\n",
              "2010-01-07 -0.009377 -0.002691  0.004684  0.016717  0.004137\n",
              "2010-01-08 -0.005398 -0.001079 -0.001923  0.035718  0.009711\n",
              "...              ...       ...       ...       ...       ...\n",
              "2021-06-16  0.003782  0.004998 -0.002093 -0.017926 -0.030505\n",
              "2021-06-17 -0.035275 -0.004283 -0.004199 -0.011841 -0.021024\n",
              "2021-06-18  0.006732 -0.012959 -0.013238  0.022124  0.029678\n",
              "2021-06-21  0.022002  0.002533 -0.001600  0.001704  0.009307\n",
              "2021-06-22  0.000000 -0.007254 -0.009118 -0.010552  0.003355\n",
              "\n",
              "[2840 rows x 5 columns]"
            ]
          },
          "metadata": {
            "tags": []
          },
          "execution_count": 96
        }
      ]
    },
    {
      "cell_type": "markdown",
      "metadata": {
        "id": "Ov7w9aEsjMuj"
      },
      "source": [
        "## Taxa de retorno logarítmica = log preço final / log preço inicial\n"
      ]
    },
    {
      "cell_type": "code",
      "metadata": {
        "id": "Q31RHe1-YeUP"
      },
      "source": [
        "acao1 = retorno.columns[0]\n",
        "acao2 = retorno.columns[1]\n",
        "acao3 = retorno.columns[2]\n",
        "acao4 = retorno.columns[3]\n",
        "acao5 = retorno.columns[4]"
      ],
      "execution_count": 97,
      "outputs": []
    },
    {
      "cell_type": "code",
      "metadata": {
        "id": "nQrEprs0vVid",
        "colab": {
          "base_uri": "https://localhost:8080/"
        },
        "outputId": "8071ab7e-4855-466a-c980-7f626796720b"
      },
      "source": [
        "media1 = retorno[acao1].mean()\n",
        "media2 = retorno[acao2].mean()\n",
        "media3 = retorno[acao3].mean()\n",
        "media4 = retorno[acao4].mean()\n",
        "media5 = retorno[acao5].mean()\n",
        "\n",
        "std1 = retorno[acao1].std()\n",
        "std2 = retorno[acao1].std()\n",
        "std3 = retorno[acao1].std()\n",
        "std4 = retorno[acao1].std()\n",
        "std5 = retorno[acao1].std()\n",
        "\n",
        "LOGN_var1 = retorno[acao1].var()\n",
        "LOGN_var2 = retorno[acao2].var()\n",
        "LOGN_var3 = retorno[acao2].var()\n",
        "LOGN_var4 = retorno[acao4].var()\n",
        "LOGN_var5 = retorno[acao5].var()\n",
        "\n",
        "print(str(acao1) + \"= Retorno Médio: \" + str(media1) + \" - Desvio Padrão: \" + str(std1) + \" - Variância: \" + str(LOGN_var1))\n",
        "print(str(acao2) + \"= Retorno Médio: \" + str(media2) + \" - Desvio Padrão: \" + str(std2) + \" - Variância: \" + str(LOGN_var2))\n",
        "print(str(acao3) + \"= Retorno Médio: \" + str(media3) + \" - Desvio Padrão: \" + str(std3) + \" - Variância: \" + str(LOGN_var3))\n",
        "print(str(acao4) + \"= Retorno Médio: \" + str(media4) + \" - Desvio Padrão: \" + str(std4) + \" - Variância: \" + str(LOGN_var4))\n",
        "print(str(acao5) + \"= Retorno Médio: \" + str(media5) + \" - Desvio Padrão: \" + str(std5) + \" - Variância: \" + str(LOGN_var5))"
      ],
      "execution_count": 98,
      "outputs": [
        {
          "output_type": "stream",
          "text": [
            "PETR4.SA= Retorno Médio: 9.967505435433668e-06 - Desvio Padrão: 0.02996861276627136 - Variância: 0.0008981177511347227\n",
            "BBDC4.SA= Retorno Médio: 0.0003299673487898763 - Desvio Padrão: 0.02996861276627136 - Variância: 0.0004735778976997714\n",
            "ABEV3.SA= Retorno Médio: 0.0005244106209862425 - Desvio Padrão: 0.02996861276627136 - Variância: 0.0004735778976997714\n",
            "WEGE3.SA= Retorno Médio: 0.0009823693579363512 - Desvio Padrão: 0.02996861276627136 - Variância: 0.0004000258715829324\n",
            "VALE3.SA= Retorno Médio: 0.0004354699658409852 - Desvio Padrão: 0.02996861276627136 - Variância: 0.0007066136172853382\n"
          ],
          "name": "stdout"
        }
      ]
    },
    {
      "cell_type": "markdown",
      "metadata": {
        "id": "Tynig1xrvKq6"
      },
      "source": [
        "# Índices de ações\n",
        "\n",
        "### São uma excelente base comparativa para entender como suas ações estão performando.\n",
        "\n",
        "### Indicam o que esperar se você investir em um portfólio diversificado"
      ]
    },
    {
      "cell_type": "code",
      "metadata": {
        "id": "inhoVlpVvsKy"
      },
      "source": [
        "# ^BVSP = IBOVESPA - Brasil\n",
        "# ^GSPC = S&P500 - EUA\n",
        "# ^IXIC = NASDAQ - EUA\n",
        "# ^GDAXI = DAX - Alemanha\n",
        "\n",
        "tickers = ['^GSPC','^IXIC','^GDAXI','^BVSP']\n",
        "ind_data = pd.DataFrame()\n",
        "for t in tickers:\n",
        "    ind_data[t] = wb.DataReader(t, data_source='yahoo',start='2015-1-1')['Adj Close']"
      ],
      "execution_count": 99,
      "outputs": []
    },
    {
      "cell_type": "code",
      "metadata": {
        "colab": {
          "base_uri": "https://localhost:8080/",
          "height": 238
        },
        "id": "hmU-Qt13vsVW",
        "outputId": "36adb7fa-1610-4cc7-ed81-72e9b09b119a"
      },
      "source": [
        "ind_data.head()"
      ],
      "execution_count": 100,
      "outputs": [
        {
          "output_type": "execute_result",
          "data": {
            "text/html": [
              "<div>\n",
              "<style scoped>\n",
              "    .dataframe tbody tr th:only-of-type {\n",
              "        vertical-align: middle;\n",
              "    }\n",
              "\n",
              "    .dataframe tbody tr th {\n",
              "        vertical-align: top;\n",
              "    }\n",
              "\n",
              "    .dataframe thead th {\n",
              "        text-align: right;\n",
              "    }\n",
              "</style>\n",
              "<table border=\"1\" class=\"dataframe\">\n",
              "  <thead>\n",
              "    <tr style=\"text-align: right;\">\n",
              "      <th></th>\n",
              "      <th>^GSPC</th>\n",
              "      <th>^IXIC</th>\n",
              "      <th>^GDAXI</th>\n",
              "      <th>^BVSP</th>\n",
              "    </tr>\n",
              "    <tr>\n",
              "      <th>Date</th>\n",
              "      <th></th>\n",
              "      <th></th>\n",
              "      <th></th>\n",
              "      <th></th>\n",
              "    </tr>\n",
              "  </thead>\n",
              "  <tbody>\n",
              "    <tr>\n",
              "      <th>2015-01-02</th>\n",
              "      <td>2058.199951</td>\n",
              "      <td>4726.810059</td>\n",
              "      <td>9764.730469</td>\n",
              "      <td>48512.0</td>\n",
              "    </tr>\n",
              "    <tr>\n",
              "      <th>2015-01-05</th>\n",
              "      <td>2020.579956</td>\n",
              "      <td>4652.569824</td>\n",
              "      <td>9473.160156</td>\n",
              "      <td>47517.0</td>\n",
              "    </tr>\n",
              "    <tr>\n",
              "      <th>2015-01-06</th>\n",
              "      <td>2002.609985</td>\n",
              "      <td>4592.740234</td>\n",
              "      <td>9469.660156</td>\n",
              "      <td>48001.0</td>\n",
              "    </tr>\n",
              "    <tr>\n",
              "      <th>2015-01-07</th>\n",
              "      <td>2025.900024</td>\n",
              "      <td>4650.470215</td>\n",
              "      <td>9518.179688</td>\n",
              "      <td>49463.0</td>\n",
              "    </tr>\n",
              "    <tr>\n",
              "      <th>2015-01-08</th>\n",
              "      <td>2062.139893</td>\n",
              "      <td>4736.189941</td>\n",
              "      <td>9837.610352</td>\n",
              "      <td>49943.0</td>\n",
              "    </tr>\n",
              "  </tbody>\n",
              "</table>\n",
              "</div>"
            ],
            "text/plain": [
              "                  ^GSPC        ^IXIC       ^GDAXI    ^BVSP\n",
              "Date                                                      \n",
              "2015-01-02  2058.199951  4726.810059  9764.730469  48512.0\n",
              "2015-01-05  2020.579956  4652.569824  9473.160156  47517.0\n",
              "2015-01-06  2002.609985  4592.740234  9469.660156  48001.0\n",
              "2015-01-07  2025.900024  4650.470215  9518.179688  49463.0\n",
              "2015-01-08  2062.139893  4736.189941  9837.610352  49943.0"
            ]
          },
          "metadata": {
            "tags": []
          },
          "execution_count": 100
        }
      ]
    },
    {
      "cell_type": "code",
      "metadata": {
        "colab": {
          "base_uri": "https://localhost:8080/",
          "height": 384
        },
        "id": "YoCgvY0QvsYh",
        "outputId": "bd4001d5-8766-4555-9e6a-16c2c592608d"
      },
      "source": [
        "# Normalização dos índices para base 100\n",
        "\n",
        "(ind_data / ind_data.iloc[0] * 100).plot(figsize=(15,6));\n",
        "plt.show"
      ],
      "execution_count": 101,
      "outputs": [
        {
          "output_type": "execute_result",
          "data": {
            "text/plain": [
              "<function matplotlib.pyplot.show>"
            ]
          },
          "metadata": {
            "tags": []
          },
          "execution_count": 101
        },
        {
          "output_type": "display_data",
          "data": {
            "image/png": "[encoded data removed]",
            "text/plain": [
              "<Figure size 1080x432 with 1 Axes>"
            ]
          },
          "metadata": {
            "tags": [],
            "needs_background": "light"
          }
        }
      ]
    },
    {
      "cell_type": "code",
      "metadata": {
        "colab": {
          "base_uri": "https://localhost:8080/",
          "height": 238
        },
        "id": "fnpeQC7ovsbS",
        "outputId": "dbb2c9fd-fd5e-4d3f-d4bd-3cd361030c07"
      },
      "source": [
        "# Retorno simples dos índices\n",
        "\n",
        "retorno_indices = (ind_data / ind_data.shift(1)) - 1\n",
        "retorno_indices.tail()"
      ],
      "execution_count": 102,
      "outputs": [
        {
          "output_type": "execute_result",
          "data": {
            "text/html": [
              "<div>\n",
              "<style scoped>\n",
              "    .dataframe tbody tr th:only-of-type {\n",
              "        vertical-align: middle;\n",
              "    }\n",
              "\n",
              "    .dataframe tbody tr th {\n",
              "        vertical-align: top;\n",
              "    }\n",
              "\n",
              "    .dataframe thead th {\n",
              "        text-align: right;\n",
              "    }\n",
              "</style>\n",
              "<table border=\"1\" class=\"dataframe\">\n",
              "  <thead>\n",
              "    <tr style=\"text-align: right;\">\n",
              "      <th></th>\n",
              "      <th>^GSPC</th>\n",
              "      <th>^IXIC</th>\n",
              "      <th>^GDAXI</th>\n",
              "      <th>^BVSP</th>\n",
              "    </tr>\n",
              "    <tr>\n",
              "      <th>Date</th>\n",
              "      <th></th>\n",
              "      <th></th>\n",
              "      <th></th>\n",
              "      <th></th>\n",
              "    </tr>\n",
              "  </thead>\n",
              "  <tbody>\n",
              "    <tr>\n",
              "      <th>2021-06-16</th>\n",
              "      <td>-0.005390</td>\n",
              "      <td>-0.002358</td>\n",
              "      <td>-0.001205</td>\n",
              "      <td>-0.006396</td>\n",
              "    </tr>\n",
              "    <tr>\n",
              "      <th>2021-06-17</th>\n",
              "      <td>-0.000436</td>\n",
              "      <td>0.008666</td>\n",
              "      <td>0.001088</td>\n",
              "      <td>-0.009299</td>\n",
              "    </tr>\n",
              "    <tr>\n",
              "      <th>2021-06-18</th>\n",
              "      <td>-0.013124</td>\n",
              "      <td>-0.009248</td>\n",
              "      <td>-0.017779</td>\n",
              "      <td>0.002718</td>\n",
              "    </tr>\n",
              "    <tr>\n",
              "      <th>2021-06-21</th>\n",
              "      <td>0.014002</td>\n",
              "      <td>0.007919</td>\n",
              "      <td>0.010047</td>\n",
              "      <td>0.006698</td>\n",
              "    </tr>\n",
              "    <tr>\n",
              "      <th>2021-06-22</th>\n",
              "      <td>-0.000672</td>\n",
              "      <td>0.001714</td>\n",
              "      <td>-0.000096</td>\n",
              "      <td>-0.006474</td>\n",
              "    </tr>\n",
              "  </tbody>\n",
              "</table>\n",
              "</div>"
            ],
            "text/plain": [
              "               ^GSPC     ^IXIC    ^GDAXI     ^BVSP\n",
              "Date                                              \n",
              "2021-06-16 -0.005390 -0.002358 -0.001205 -0.006396\n",
              "2021-06-17 -0.000436  0.008666  0.001088 -0.009299\n",
              "2021-06-18 -0.013124 -0.009248 -0.017779  0.002718\n",
              "2021-06-21  0.014002  0.007919  0.010047  0.006698\n",
              "2021-06-22 -0.000672  0.001714 -0.000096 -0.006474"
            ]
          },
          "metadata": {
            "tags": []
          },
          "execution_count": 102
        }
      ]
    },
    {
      "cell_type": "code",
      "metadata": {
        "colab": {
          "base_uri": "https://localhost:8080/"
        },
        "id": "2NqqiZzqvseE",
        "outputId": "48188007-06aa-4343-8fcb-9a8b74ead83d"
      },
      "source": [
        "# Retorno anual dos índices\n",
        "\n",
        "retorno_anual_ind = retorno_indices.mean() * 250\n",
        "retorno_anual_ind"
      ],
      "execution_count": 103,
      "outputs": [
        {
          "output_type": "execute_result",
          "data": {
            "text/plain": [
              "^GSPC     0.127168\n",
              "^IXIC     0.189969\n",
              "^GDAXI    0.088561\n",
              "^BVSP     0.180061\n",
              "dtype: float64"
            ]
          },
          "metadata": {
            "tags": []
          },
          "execution_count": 103
        }
      ]
    },
    {
      "cell_type": "markdown",
      "metadata": {
        "id": "xKtnn3jV0fjE"
      },
      "source": [
        "# Compara retorno das ações com índices"
      ]
    },
    {
      "cell_type": "code",
      "metadata": {
        "id": "38ZazHJDvsg1"
      },
      "source": [
        "tickers = ['PETR4.SA','BBDC4.SA','ABEV3.SA','WEGE3.SA','VALE3.SA','^BVSP']\n",
        "bolsas = pd.DataFrame()\n",
        "for t in tickers:\n",
        "    bolsas[t] = wb.DataReader(t, data_source='yahoo',start='2010-1-1')['Adj Close']"
      ],
      "execution_count": 104,
      "outputs": []
    },
    {
      "cell_type": "code",
      "metadata": {
        "colab": {
          "base_uri": "https://localhost:8080/",
          "height": 384
        },
        "id": "wZEEXrNlvsjy",
        "outputId": "0acc044c-77f0-43b8-b198-12e224e6f03e"
      },
      "source": [
        "(bolsas / bolsas.iloc[0] * 100).plot(figsize=(15,6));\n",
        "plt.show"
      ],
      "execution_count": 105,
      "outputs": [
        {
          "output_type": "execute_result",
          "data": {
            "text/plain": [
              "<function matplotlib.pyplot.show>"
            ]
          },
          "metadata": {
            "tags": []
          },
          "execution_count": 105
        },
        {
          "output_type": "display_data",
          "data": {
            "image/png": "[encoded data removed]",
            "text/plain": [
              "<Figure size 1080x432 with 1 Axes>"
            ]
          },
          "metadata": {
            "tags": [],
            "needs_background": "light"
          }
        }
      ]
    },
    {
      "cell_type": "markdown",
      "metadata": {
        "id": "EmeVFrFm1S04"
      },
      "source": [
        "# Cálculo do risco de um ativo\n",
        "\n",
        "### A volatilidade identifica a variabilidade dos rendimentos. Quanto menor a varição, mais estável e menos risco de perdas."
      ]
    },
    {
      "cell_type": "code",
      "metadata": {
        "colab": {
          "base_uri": "https://localhost:8080/",
          "height": 455
        },
        "id": "43_t4kwz1Yp1",
        "outputId": "64390301-c221-47c8-871e-39e87b9eb882"
      },
      "source": [
        "retorno_risco = np.log(bolsas / bolsas.shift(1))\n",
        "retorno_risco"
      ],
      "execution_count": 106,
      "outputs": [
        {
          "output_type": "execute_result",
          "data": {
            "text/html": [
              "<div>\n",
              "<style scoped>\n",
              "    .dataframe tbody tr th:only-of-type {\n",
              "        vertical-align: middle;\n",
              "    }\n",
              "\n",
              "    .dataframe tbody tr th {\n",
              "        vertical-align: top;\n",
              "    }\n",
              "\n",
              "    .dataframe thead th {\n",
              "        text-align: right;\n",
              "    }\n",
              "</style>\n",
              "<table border=\"1\" class=\"dataframe\">\n",
              "  <thead>\n",
              "    <tr style=\"text-align: right;\">\n",
              "      <th></th>\n",
              "      <th>PETR4.SA</th>\n",
              "      <th>BBDC4.SA</th>\n",
              "      <th>ABEV3.SA</th>\n",
              "      <th>WEGE3.SA</th>\n",
              "      <th>VALE3.SA</th>\n",
              "      <th>^BVSP</th>\n",
              "    </tr>\n",
              "    <tr>\n",
              "      <th>Date</th>\n",
              "      <th></th>\n",
              "      <th></th>\n",
              "      <th></th>\n",
              "      <th></th>\n",
              "      <th></th>\n",
              "      <th></th>\n",
              "    </tr>\n",
              "  </thead>\n",
              "  <tbody>\n",
              "    <tr>\n",
              "      <th>2010-01-04</th>\n",
              "      <td>NaN</td>\n",
              "      <td>NaN</td>\n",
              "      <td>NaN</td>\n",
              "      <td>NaN</td>\n",
              "      <td>NaN</td>\n",
              "      <td>NaN</td>\n",
              "    </tr>\n",
              "    <tr>\n",
              "      <th>2010-01-05</th>\n",
              "      <td>-0.008611</td>\n",
              "      <td>-0.004968</td>\n",
              "      <td>0.005865</td>\n",
              "      <td>-0.002185</td>\n",
              "      <td>0.009279</td>\n",
              "      <td>0.002780</td>\n",
              "    </tr>\n",
              "    <tr>\n",
              "      <th>2010-01-06</th>\n",
              "      <td>0.013423</td>\n",
              "      <td>-0.008032</td>\n",
              "      <td>0.010150</td>\n",
              "      <td>0.005453</td>\n",
              "      <td>0.020945</td>\n",
              "      <td>0.006938</td>\n",
              "    </tr>\n",
              "    <tr>\n",
              "      <th>2010-01-07</th>\n",
              "      <td>-0.009377</td>\n",
              "      <td>-0.002691</td>\n",
              "      <td>0.004684</td>\n",
              "      <td>0.016717</td>\n",
              "      <td>0.004137</td>\n",
              "      <td>-0.003938</td>\n",
              "    </tr>\n",
              "    <tr>\n",
              "      <th>2010-01-08</th>\n",
              "      <td>-0.005398</td>\n",
              "      <td>-0.001079</td>\n",
              "      <td>-0.001923</td>\n",
              "      <td>0.035718</td>\n",
              "      <td>0.009711</td>\n",
              "      <td>-0.002672</td>\n",
              "    </tr>\n",
              "    <tr>\n",
              "      <th>...</th>\n",
              "      <td>...</td>\n",
              "      <td>...</td>\n",
              "      <td>...</td>\n",
              "      <td>...</td>\n",
              "      <td>...</td>\n",
              "      <td>...</td>\n",
              "    </tr>\n",
              "    <tr>\n",
              "      <th>2021-06-16</th>\n",
              "      <td>0.003782</td>\n",
              "      <td>0.004998</td>\n",
              "      <td>-0.002093</td>\n",
              "      <td>-0.017926</td>\n",
              "      <td>-0.030505</td>\n",
              "      <td>-0.006416</td>\n",
              "    </tr>\n",
              "    <tr>\n",
              "      <th>2021-06-17</th>\n",
              "      <td>-0.035275</td>\n",
              "      <td>-0.004283</td>\n",
              "      <td>-0.004199</td>\n",
              "      <td>-0.011841</td>\n",
              "      <td>-0.021024</td>\n",
              "      <td>-0.009343</td>\n",
              "    </tr>\n",
              "    <tr>\n",
              "      <th>2021-06-18</th>\n",
              "      <td>0.006732</td>\n",
              "      <td>-0.012959</td>\n",
              "      <td>-0.013238</td>\n",
              "      <td>0.022124</td>\n",
              "      <td>0.029678</td>\n",
              "      <td>0.002714</td>\n",
              "    </tr>\n",
              "    <tr>\n",
              "      <th>2021-06-21</th>\n",
              "      <td>0.022002</td>\n",
              "      <td>0.002533</td>\n",
              "      <td>-0.001600</td>\n",
              "      <td>0.001704</td>\n",
              "      <td>0.009307</td>\n",
              "      <td>0.006675</td>\n",
              "    </tr>\n",
              "    <tr>\n",
              "      <th>2021-06-22</th>\n",
              "      <td>0.000345</td>\n",
              "      <td>-0.007618</td>\n",
              "      <td>-0.009657</td>\n",
              "      <td>-0.009979</td>\n",
              "      <td>0.003355</td>\n",
              "      <td>-0.006495</td>\n",
              "    </tr>\n",
              "  </tbody>\n",
              "</table>\n",
              "<p>2840 rows × 6 columns</p>\n",
              "</div>"
            ],
            "text/plain": [
              "            PETR4.SA  BBDC4.SA  ABEV3.SA  WEGE3.SA  VALE3.SA     ^BVSP\n",
              "Date                                                                  \n",
              "2010-01-04       NaN       NaN       NaN       NaN       NaN       NaN\n",
              "2010-01-05 -0.008611 -0.004968  0.005865 -0.002185  0.009279  0.002780\n",
              "2010-01-06  0.013423 -0.008032  0.010150  0.005453  0.020945  0.006938\n",
              "2010-01-07 -0.009377 -0.002691  0.004684  0.016717  0.004137 -0.003938\n",
              "2010-01-08 -0.005398 -0.001079 -0.001923  0.035718  0.009711 -0.002672\n",
              "...              ...       ...       ...       ...       ...       ...\n",
              "2021-06-16  0.003782  0.004998 -0.002093 -0.017926 -0.030505 -0.006416\n",
              "2021-06-17 -0.035275 -0.004283 -0.004199 -0.011841 -0.021024 -0.009343\n",
              "2021-06-18  0.006732 -0.012959 -0.013238  0.022124  0.029678  0.002714\n",
              "2021-06-21  0.022002  0.002533 -0.001600  0.001704  0.009307  0.006675\n",
              "2021-06-22  0.000345 -0.007618 -0.009657 -0.009979  0.003355 -0.006495\n",
              "\n",
              "[2840 rows x 6 columns]"
            ]
          },
          "metadata": {
            "tags": []
          },
          "execution_count": 106
        }
      ]
    },
    {
      "cell_type": "code",
      "metadata": {
        "id": "0wUFETkg2P3S"
      },
      "source": [
        "acao1 = retorno_risco.columns[0]\n",
        "acao2 = retorno_risco.columns[1]\n",
        "acao3 = retorno_risco.columns[2]\n",
        "acao4 = retorno_risco.columns[3]\n",
        "acao5 = retorno_risco.columns[4]"
      ],
      "execution_count": 107,
      "outputs": []
    },
    {
      "cell_type": "code",
      "metadata": {
        "colab": {
          "base_uri": "https://localhost:8080/"
        },
        "id": "k6Cb1tLW4uaB",
        "outputId": "22ff6ae5-675a-4a28-deee-caca02b47a2c"
      },
      "source": [
        "media = retorno_risco[[acao1,acao2,acao3,acao4,acao5]].mean() * 250\n",
        "print('Quanto maior a média de retorno anual, maior a lucratividade que a ação rendeu.')\n",
        "print('Média de retorno anual das ações:')\n",
        "media"
      ],
      "execution_count": 108,
      "outputs": [
        {
          "output_type": "stream",
          "text": [
            "Quanto maior a média de retorno anual, maior a lucratividade que a ação rendeu.\n",
            "Média de retorno anual das ações:\n"
          ],
          "name": "stdout"
        },
        {
          "output_type": "execute_result",
          "data": {
            "text/plain": [
              "PETR4.SA    0.002522\n",
              "BBDC4.SA    0.082460\n",
              "ABEV3.SA    0.131055\n",
              "WEGE3.SA    0.245643\n",
              "VALE3.SA    0.108867\n",
              "dtype: float64"
            ]
          },
          "metadata": {
            "tags": []
          },
          "execution_count": 108
        }
      ]
    },
    {
      "cell_type": "code",
      "metadata": {
        "colab": {
          "base_uri": "https://localhost:8080/"
        },
        "id": "FJWijySL4uc5",
        "outputId": "919545ad-37ca-46c8-c49c-c73444216c4e"
      },
      "source": [
        "desvio_padrao = retorno_risco[[acao1,acao2,acao3,acao4,acao5]].std() * 250 ** 0.5\n",
        "print('Quanto maior a volatilidade, maior a chance de ganhos e de perdas bruscas.')\n",
        "print('Média anual do desvio padrão (volatilidade) das ações:')\n",
        "desvio_padrao"
      ],
      "execution_count": 109,
      "outputs": [
        {
          "output_type": "stream",
          "text": [
            "Quanto maior a volatilidade, maior a chance de ganhos e de perdas bruscas.\n",
            "Média anual do desvio padrão (volatilidade) das ações:\n"
          ],
          "name": "stdout"
        },
        {
          "output_type": "execute_result",
          "data": {
            "text/plain": [
              "PETR4.SA    0.473845\n",
              "BBDC4.SA    0.344086\n",
              "ABEV3.SA    0.264343\n",
              "WEGE3.SA    0.316236\n",
              "VALE3.SA    0.420302\n",
              "dtype: float64"
            ]
          },
          "metadata": {
            "tags": []
          },
          "execution_count": 109
        }
      ]
    },
    {
      "cell_type": "markdown",
      "metadata": {
        "id": "LU23SRgeqvqv"
      },
      "source": [
        "# Diversificação - Relação entre o preço das ações de diversas empresas"
      ]
    },
    {
      "cell_type": "markdown",
      "metadata": {
        "id": "IFK29V1hvVjy"
      },
      "source": [
        "## Covariância\n",
        "\n",
        "cov > 0 => variáveis se movem na mesma direção\n",
        "\n",
        "cov < 0 => variáveis se movem em direções opostas\n",
        "\n",
        "cov = 0 => variáveis são independentes"
      ]
    },
    {
      "cell_type": "code",
      "metadata": {
        "id": "bRNhQ8LpvVj0",
        "colab": {
          "base_uri": "https://localhost:8080/",
          "height": 238
        },
        "outputId": "f499714f-3e90-4371-8490-28df6a6c6dcb"
      },
      "source": [
        "cov_matrix = retorno_risco.cov()\n",
        "cov_matrix.round(6)"
      ],
      "execution_count": 110,
      "outputs": [
        {
          "output_type": "execute_result",
          "data": {
            "text/html": [
              "<div>\n",
              "<style scoped>\n",
              "    .dataframe tbody tr th:only-of-type {\n",
              "        vertical-align: middle;\n",
              "    }\n",
              "\n",
              "    .dataframe tbody tr th {\n",
              "        vertical-align: top;\n",
              "    }\n",
              "\n",
              "    .dataframe thead th {\n",
              "        text-align: right;\n",
              "    }\n",
              "</style>\n",
              "<table border=\"1\" class=\"dataframe\">\n",
              "  <thead>\n",
              "    <tr style=\"text-align: right;\">\n",
              "      <th></th>\n",
              "      <th>PETR4.SA</th>\n",
              "      <th>BBDC4.SA</th>\n",
              "      <th>ABEV3.SA</th>\n",
              "      <th>WEGE3.SA</th>\n",
              "      <th>VALE3.SA</th>\n",
              "      <th>^BVSP</th>\n",
              "    </tr>\n",
              "  </thead>\n",
              "  <tbody>\n",
              "    <tr>\n",
              "      <th>PETR4.SA</th>\n",
              "      <td>0.000898</td>\n",
              "      <td>0.000380</td>\n",
              "      <td>0.000170</td>\n",
              "      <td>0.000181</td>\n",
              "      <td>0.000378</td>\n",
              "      <td>0.000360</td>\n",
              "    </tr>\n",
              "    <tr>\n",
              "      <th>BBDC4.SA</th>\n",
              "      <td>0.000380</td>\n",
              "      <td>0.000474</td>\n",
              "      <td>0.000159</td>\n",
              "      <td>0.000149</td>\n",
              "      <td>0.000227</td>\n",
              "      <td>0.000273</td>\n",
              "    </tr>\n",
              "    <tr>\n",
              "      <th>ABEV3.SA</th>\n",
              "      <td>0.000170</td>\n",
              "      <td>0.000159</td>\n",
              "      <td>0.000280</td>\n",
              "      <td>0.000112</td>\n",
              "      <td>0.000121</td>\n",
              "      <td>0.000143</td>\n",
              "    </tr>\n",
              "    <tr>\n",
              "      <th>WEGE3.SA</th>\n",
              "      <td>0.000181</td>\n",
              "      <td>0.000149</td>\n",
              "      <td>0.000112</td>\n",
              "      <td>0.000400</td>\n",
              "      <td>0.000128</td>\n",
              "      <td>0.000151</td>\n",
              "    </tr>\n",
              "    <tr>\n",
              "      <th>VALE3.SA</th>\n",
              "      <td>0.000378</td>\n",
              "      <td>0.000227</td>\n",
              "      <td>0.000121</td>\n",
              "      <td>0.000128</td>\n",
              "      <td>0.000707</td>\n",
              "      <td>0.000263</td>\n",
              "    </tr>\n",
              "    <tr>\n",
              "      <th>^BVSP</th>\n",
              "      <td>0.000360</td>\n",
              "      <td>0.000273</td>\n",
              "      <td>0.000143</td>\n",
              "      <td>0.000151</td>\n",
              "      <td>0.000263</td>\n",
              "      <td>0.000252</td>\n",
              "    </tr>\n",
              "  </tbody>\n",
              "</table>\n",
              "</div>"
            ],
            "text/plain": [
              "          PETR4.SA  BBDC4.SA  ABEV3.SA  WEGE3.SA  VALE3.SA     ^BVSP\n",
              "PETR4.SA  0.000898  0.000380  0.000170  0.000181  0.000378  0.000360\n",
              "BBDC4.SA  0.000380  0.000474  0.000159  0.000149  0.000227  0.000273\n",
              "ABEV3.SA  0.000170  0.000159  0.000280  0.000112  0.000121  0.000143\n",
              "WEGE3.SA  0.000181  0.000149  0.000112  0.000400  0.000128  0.000151\n",
              "VALE3.SA  0.000378  0.000227  0.000121  0.000128  0.000707  0.000263\n",
              "^BVSP     0.000360  0.000273  0.000143  0.000151  0.000263  0.000252"
            ]
          },
          "metadata": {
            "tags": []
          },
          "execution_count": 110
        }
      ]
    },
    {
      "cell_type": "code",
      "metadata": {
        "id": "fsh9iCwmvVj4",
        "colab": {
          "base_uri": "https://localhost:8080/",
          "height": 238
        },
        "outputId": "06635f03-83f2-44cf-d6a0-b95dac44d005"
      },
      "source": [
        "cov_matrix_anual = retorno_risco.cov() * 250\n",
        "cov_matrix_anual.round(3)"
      ],
      "execution_count": 111,
      "outputs": [
        {
          "output_type": "execute_result",
          "data": {
            "text/html": [
              "<div>\n",
              "<style scoped>\n",
              "    .dataframe tbody tr th:only-of-type {\n",
              "        vertical-align: middle;\n",
              "    }\n",
              "\n",
              "    .dataframe tbody tr th {\n",
              "        vertical-align: top;\n",
              "    }\n",
              "\n",
              "    .dataframe thead th {\n",
              "        text-align: right;\n",
              "    }\n",
              "</style>\n",
              "<table border=\"1\" class=\"dataframe\">\n",
              "  <thead>\n",
              "    <tr style=\"text-align: right;\">\n",
              "      <th></th>\n",
              "      <th>PETR4.SA</th>\n",
              "      <th>BBDC4.SA</th>\n",
              "      <th>ABEV3.SA</th>\n",
              "      <th>WEGE3.SA</th>\n",
              "      <th>VALE3.SA</th>\n",
              "      <th>^BVSP</th>\n",
              "    </tr>\n",
              "  </thead>\n",
              "  <tbody>\n",
              "    <tr>\n",
              "      <th>PETR4.SA</th>\n",
              "      <td>0.225</td>\n",
              "      <td>0.095</td>\n",
              "      <td>0.043</td>\n",
              "      <td>0.045</td>\n",
              "      <td>0.095</td>\n",
              "      <td>0.090</td>\n",
              "    </tr>\n",
              "    <tr>\n",
              "      <th>BBDC4.SA</th>\n",
              "      <td>0.095</td>\n",
              "      <td>0.118</td>\n",
              "      <td>0.040</td>\n",
              "      <td>0.037</td>\n",
              "      <td>0.057</td>\n",
              "      <td>0.068</td>\n",
              "    </tr>\n",
              "    <tr>\n",
              "      <th>ABEV3.SA</th>\n",
              "      <td>0.043</td>\n",
              "      <td>0.040</td>\n",
              "      <td>0.070</td>\n",
              "      <td>0.028</td>\n",
              "      <td>0.030</td>\n",
              "      <td>0.036</td>\n",
              "    </tr>\n",
              "    <tr>\n",
              "      <th>WEGE3.SA</th>\n",
              "      <td>0.045</td>\n",
              "      <td>0.037</td>\n",
              "      <td>0.028</td>\n",
              "      <td>0.100</td>\n",
              "      <td>0.032</td>\n",
              "      <td>0.038</td>\n",
              "    </tr>\n",
              "    <tr>\n",
              "      <th>VALE3.SA</th>\n",
              "      <td>0.095</td>\n",
              "      <td>0.057</td>\n",
              "      <td>0.030</td>\n",
              "      <td>0.032</td>\n",
              "      <td>0.177</td>\n",
              "      <td>0.066</td>\n",
              "    </tr>\n",
              "    <tr>\n",
              "      <th>^BVSP</th>\n",
              "      <td>0.090</td>\n",
              "      <td>0.068</td>\n",
              "      <td>0.036</td>\n",
              "      <td>0.038</td>\n",
              "      <td>0.066</td>\n",
              "      <td>0.063</td>\n",
              "    </tr>\n",
              "  </tbody>\n",
              "</table>\n",
              "</div>"
            ],
            "text/plain": [
              "          PETR4.SA  BBDC4.SA  ABEV3.SA  WEGE3.SA  VALE3.SA  ^BVSP\n",
              "PETR4.SA     0.225     0.095     0.043     0.045     0.095  0.090\n",
              "BBDC4.SA     0.095     0.118     0.040     0.037     0.057  0.068\n",
              "ABEV3.SA     0.043     0.040     0.070     0.028     0.030  0.036\n",
              "WEGE3.SA     0.045     0.037     0.028     0.100     0.032  0.038\n",
              "VALE3.SA     0.095     0.057     0.030     0.032     0.177  0.066\n",
              "^BVSP        0.090     0.068     0.036     0.038     0.066  0.063"
            ]
          },
          "metadata": {
            "tags": []
          },
          "execution_count": 111
        }
      ]
    },
    {
      "cell_type": "markdown",
      "metadata": {
        "id": "N9-J52EyvVj-"
      },
      "source": [
        "# Correlação\n",
        "\n",
        "corr = 1 => correlação perfeita\n",
        "\n",
        "corr > 0 => variáveis se movem na mesma direção\n",
        "\n",
        "corr = -1 => correlação perfeitamente negativa\n",
        "\n",
        "corr < 0 => variáveis se movem em direções opostas\n",
        "\n",
        "corr = 0 => variáveis absolutamente independentes"
      ]
    },
    {
      "cell_type": "code",
      "metadata": {
        "id": "FTSIhDLfvVj_",
        "colab": {
          "base_uri": "https://localhost:8080/",
          "height": 238
        },
        "outputId": "24432d2e-4ad7-4c71-c33a-48172d50d644"
      },
      "source": [
        "# Correlação entre o retorno das ações\n",
        "\n",
        "corr_matrix = retorno_risco.corr()\n",
        "corr_matrix.round(2)"
      ],
      "execution_count": 112,
      "outputs": [
        {
          "output_type": "execute_result",
          "data": {
            "text/html": [
              "<div>\n",
              "<style scoped>\n",
              "    .dataframe tbody tr th:only-of-type {\n",
              "        vertical-align: middle;\n",
              "    }\n",
              "\n",
              "    .dataframe tbody tr th {\n",
              "        vertical-align: top;\n",
              "    }\n",
              "\n",
              "    .dataframe thead th {\n",
              "        text-align: right;\n",
              "    }\n",
              "</style>\n",
              "<table border=\"1\" class=\"dataframe\">\n",
              "  <thead>\n",
              "    <tr style=\"text-align: right;\">\n",
              "      <th></th>\n",
              "      <th>PETR4.SA</th>\n",
              "      <th>BBDC4.SA</th>\n",
              "      <th>ABEV3.SA</th>\n",
              "      <th>WEGE3.SA</th>\n",
              "      <th>VALE3.SA</th>\n",
              "      <th>^BVSP</th>\n",
              "    </tr>\n",
              "  </thead>\n",
              "  <tbody>\n",
              "    <tr>\n",
              "      <th>PETR4.SA</th>\n",
              "      <td>1.00</td>\n",
              "      <td>0.58</td>\n",
              "      <td>0.34</td>\n",
              "      <td>0.30</td>\n",
              "      <td>0.47</td>\n",
              "      <td>0.75</td>\n",
              "    </tr>\n",
              "    <tr>\n",
              "      <th>BBDC4.SA</th>\n",
              "      <td>0.58</td>\n",
              "      <td>1.00</td>\n",
              "      <td>0.44</td>\n",
              "      <td>0.34</td>\n",
              "      <td>0.39</td>\n",
              "      <td>0.79</td>\n",
              "    </tr>\n",
              "    <tr>\n",
              "      <th>ABEV3.SA</th>\n",
              "      <td>0.34</td>\n",
              "      <td>0.44</td>\n",
              "      <td>1.00</td>\n",
              "      <td>0.33</td>\n",
              "      <td>0.27</td>\n",
              "      <td>0.54</td>\n",
              "    </tr>\n",
              "    <tr>\n",
              "      <th>WEGE3.SA</th>\n",
              "      <td>0.30</td>\n",
              "      <td>0.34</td>\n",
              "      <td>0.33</td>\n",
              "      <td>1.00</td>\n",
              "      <td>0.24</td>\n",
              "      <td>0.48</td>\n",
              "    </tr>\n",
              "    <tr>\n",
              "      <th>VALE3.SA</th>\n",
              "      <td>0.47</td>\n",
              "      <td>0.39</td>\n",
              "      <td>0.27</td>\n",
              "      <td>0.24</td>\n",
              "      <td>1.00</td>\n",
              "      <td>0.62</td>\n",
              "    </tr>\n",
              "    <tr>\n",
              "      <th>^BVSP</th>\n",
              "      <td>0.75</td>\n",
              "      <td>0.79</td>\n",
              "      <td>0.54</td>\n",
              "      <td>0.48</td>\n",
              "      <td>0.62</td>\n",
              "      <td>1.00</td>\n",
              "    </tr>\n",
              "  </tbody>\n",
              "</table>\n",
              "</div>"
            ],
            "text/plain": [
              "          PETR4.SA  BBDC4.SA  ABEV3.SA  WEGE3.SA  VALE3.SA  ^BVSP\n",
              "PETR4.SA      1.00      0.58      0.34      0.30      0.47   0.75\n",
              "BBDC4.SA      0.58      1.00      0.44      0.34      0.39   0.79\n",
              "ABEV3.SA      0.34      0.44      1.00      0.33      0.27   0.54\n",
              "WEGE3.SA      0.30      0.34      0.33      1.00      0.24   0.48\n",
              "VALE3.SA      0.47      0.39      0.27      0.24      1.00   0.62\n",
              "^BVSP         0.75      0.79      0.54      0.48      0.62   1.00"
            ]
          },
          "metadata": {
            "tags": []
          },
          "execution_count": 112
        }
      ]
    },
    {
      "cell_type": "code",
      "metadata": {
        "id": "Mv7jEGSzvVkF",
        "colab": {
          "base_uri": "https://localhost:8080/",
          "height": 384
        },
        "outputId": "55112916-916b-4a56-9808-e2d6d60043c1"
      },
      "source": [
        "retorno_risco.plot(figsize = (15, 6));\n",
        "plt.show"
      ],
      "execution_count": 113,
      "outputs": [
        {
          "output_type": "execute_result",
          "data": {
            "text/plain": [
              "<function matplotlib.pyplot.show>"
            ]
          },
          "metadata": {
            "tags": []
          },
          "execution_count": 113
        },
        {
          "output_type": "display_data",
          "data": {
            "image/png": "[encoded data removed]",
            "text/plain": [
              "<Figure size 1080x432 with 1 Axes>"
            ]
          },
          "metadata": {
            "tags": [],
            "needs_background": "light"
          }
        }
      ]
    },
    {
      "cell_type": "code",
      "metadata": {
        "id": "elcvL9qtvVkK",
        "colab": {
          "base_uri": "https://localhost:8080/",
          "height": 238
        },
        "outputId": "4a3fd679-b33e-41c3-c396-20717d437b8e"
      },
      "source": [
        "# Correlação entre o preço das ações\n",
        "\n",
        "corr_matrix = bolsas.corr()\n",
        "corr_matrix.round(2)"
      ],
      "execution_count": 114,
      "outputs": [
        {
          "output_type": "execute_result",
          "data": {
            "text/html": [
              "<div>\n",
              "<style scoped>\n",
              "    .dataframe tbody tr th:only-of-type {\n",
              "        vertical-align: middle;\n",
              "    }\n",
              "\n",
              "    .dataframe tbody tr th {\n",
              "        vertical-align: top;\n",
              "    }\n",
              "\n",
              "    .dataframe thead th {\n",
              "        text-align: right;\n",
              "    }\n",
              "</style>\n",
              "<table border=\"1\" class=\"dataframe\">\n",
              "  <thead>\n",
              "    <tr style=\"text-align: right;\">\n",
              "      <th></th>\n",
              "      <th>PETR4.SA</th>\n",
              "      <th>BBDC4.SA</th>\n",
              "      <th>ABEV3.SA</th>\n",
              "      <th>WEGE3.SA</th>\n",
              "      <th>VALE3.SA</th>\n",
              "      <th>^BVSP</th>\n",
              "    </tr>\n",
              "  </thead>\n",
              "  <tbody>\n",
              "    <tr>\n",
              "      <th>PETR4.SA</th>\n",
              "      <td>1.00</td>\n",
              "      <td>0.52</td>\n",
              "      <td>-0.19</td>\n",
              "      <td>0.40</td>\n",
              "      <td>0.70</td>\n",
              "      <td>0.78</td>\n",
              "    </tr>\n",
              "    <tr>\n",
              "      <th>BBDC4.SA</th>\n",
              "      <td>0.52</td>\n",
              "      <td>1.00</td>\n",
              "      <td>0.67</td>\n",
              "      <td>0.61</td>\n",
              "      <td>0.60</td>\n",
              "      <td>0.85</td>\n",
              "    </tr>\n",
              "    <tr>\n",
              "      <th>ABEV3.SA</th>\n",
              "      <td>-0.19</td>\n",
              "      <td>0.67</td>\n",
              "      <td>1.00</td>\n",
              "      <td>0.34</td>\n",
              "      <td>0.13</td>\n",
              "      <td>0.31</td>\n",
              "    </tr>\n",
              "    <tr>\n",
              "      <th>WEGE3.SA</th>\n",
              "      <td>0.40</td>\n",
              "      <td>0.61</td>\n",
              "      <td>0.34</td>\n",
              "      <td>1.00</td>\n",
              "      <td>0.82</td>\n",
              "      <td>0.78</td>\n",
              "    </tr>\n",
              "    <tr>\n",
              "      <th>VALE3.SA</th>\n",
              "      <td>0.70</td>\n",
              "      <td>0.60</td>\n",
              "      <td>0.13</td>\n",
              "      <td>0.82</td>\n",
              "      <td>1.00</td>\n",
              "      <td>0.88</td>\n",
              "    </tr>\n",
              "    <tr>\n",
              "      <th>^BVSP</th>\n",
              "      <td>0.78</td>\n",
              "      <td>0.85</td>\n",
              "      <td>0.31</td>\n",
              "      <td>0.78</td>\n",
              "      <td>0.88</td>\n",
              "      <td>1.00</td>\n",
              "    </tr>\n",
              "  </tbody>\n",
              "</table>\n",
              "</div>"
            ],
            "text/plain": [
              "          PETR4.SA  BBDC4.SA  ABEV3.SA  WEGE3.SA  VALE3.SA  ^BVSP\n",
              "PETR4.SA      1.00      0.52     -0.19      0.40      0.70   0.78\n",
              "BBDC4.SA      0.52      1.00      0.67      0.61      0.60   0.85\n",
              "ABEV3.SA     -0.19      0.67      1.00      0.34      0.13   0.31\n",
              "WEGE3.SA      0.40      0.61      0.34      1.00      0.82   0.78\n",
              "VALE3.SA      0.70      0.60      0.13      0.82      1.00   0.88\n",
              "^BVSP         0.78      0.85      0.31      0.78      0.88   1.00"
            ]
          },
          "metadata": {
            "tags": []
          },
          "execution_count": 114
        }
      ]
    },
    {
      "cell_type": "code",
      "metadata": {
        "id": "4NC0BDYKvVkP",
        "colab": {
          "base_uri": "https://localhost:8080/",
          "height": 384
        },
        "outputId": "c75c70c6-98db-4759-cb63-fa184236d748"
      },
      "source": [
        "(bolsas / bolsas.iloc[0] * 100).plot(figsize = (15, 6));\n",
        "plt.show"
      ],
      "execution_count": 115,
      "outputs": [
        {
          "output_type": "execute_result",
          "data": {
            "text/plain": [
              "<function matplotlib.pyplot.show>"
            ]
          },
          "metadata": {
            "tags": []
          },
          "execution_count": 115
        },
        {
          "output_type": "display_data",
          "data": {
            "image/png": "[encoded data removed]",
            "text/plain": [
              "<Figure size 1080x432 with 1 Axes>"
            ]
          },
          "metadata": {
            "tags": [],
            "needs_background": "light"
          }
        }
      ]
    },
    {
      "cell_type": "markdown",
      "metadata": {
        "id": "q43BR3w-y18q"
      },
      "source": [
        "# Risco do portfólio"
      ]
    },
    {
      "cell_type": "code",
      "metadata": {
        "id": "-XonyRUcy2bC"
      },
      "source": [
        "# Portfolio com ações de 5 empresas distribuídas igualmente, cada uma representando 20% do total.\n",
        "\n",
        "bolsas = bolsas[['PETR4.SA','BBDC4.SA','ABEV3.SA','WEGE3.SA','VALE3.SA']]\n",
        "retorno_risco = retorno_risco[['PETR4.SA','BBDC4.SA','ABEV3.SA','WEGE3.SA','VALE3.SA']]\n",
        "weights = np.array([0.2,0.2,0.2,0.2,0.2])"
      ],
      "execution_count": 116,
      "outputs": []
    },
    {
      "cell_type": "code",
      "metadata": {
        "colab": {
          "base_uri": "https://localhost:8080/"
        },
        "id": "lg-9eLwqzzoW",
        "outputId": "64967bda-88ba-4561-edee-b2daf9d31ee3"
      },
      "source": [
        "# Variância do portfólio\n",
        "\n",
        "pfolio_var = np.dot(weights.T, np.dot(retorno_risco.cov() * 250, weights))\n",
        "print('A variância do portfólio de ações é de: ' + str(pfolio_var.round(4)))"
      ],
      "execution_count": 117,
      "outputs": [
        {
          "output_type": "stream",
          "text": [
            "A variância do portfólio de ações é de: 0.0677\n"
          ],
          "name": "stdout"
        }
      ]
    },
    {
      "cell_type": "code",
      "metadata": {
        "colab": {
          "base_uri": "https://localhost:8080/"
        },
        "id": "_nzM5K7kzzyd",
        "outputId": "770cda89-c205-4619-8095-aa77df7c50c6"
      },
      "source": [
        "# Volatilidade do portfólio\n",
        "\n",
        "pfolio_vol = np.dot(weights.T, np.dot(retorno_risco.cov() * 250, weights)) ** 0.5\n",
        "print('A volatilidade do portfólio de ações é de: ' + str(pfolio_vol.round(4) * 100) + '%')"
      ],
      "execution_count": 118,
      "outputs": [
        {
          "output_type": "stream",
          "text": [
            "A volatilidade do portfólio de ações é de: 26.009999999999998%\n"
          ],
          "name": "stdout"
        }
      ]
    },
    {
      "cell_type": "markdown",
      "metadata": {
        "id": "XJ2sgxR64CAi"
      },
      "source": [
        "## Risco diversificável e não diversificável do portfólio\n",
        "\n",
        "### risco diversificável = variância do portfólio - variância anual ponderada\n"
      ]
    },
    {
      "cell_type": "code",
      "metadata": {
        "id": "BjEypAJwz0tQ"
      },
      "source": [
        "# Risco diversificável\n",
        "# Portfólio com 2 ações, distribuídas igualmente em 50% de cada.\n",
        "\n",
        "bolsas = bolsas[['PETR4.SA','BBDC4.SA']]\n",
        "retorno_risco = retorno_risco[['PETR4.SA','BBDC4.SA']]\n",
        "pfolio_var = np.dot(weights.T, np.dot(retorno_risco.cov() * 250, weights))\n",
        "weights = np.array([0.5,0.5])"
      ],
      "execution_count": 132,
      "outputs": []
    },
    {
      "cell_type": "code",
      "metadata": {
        "colab": {
          "base_uri": "https://localhost:8080/"
        },
        "id": "V-B7_W9f4QhV",
        "outputId": "ab262143-8040-4912-cb14-d9fb03a084bf"
      },
      "source": [
        "PETR_var_a = retorno_risco['PETR4.SA'].var() * 250\n",
        "BBDC_var_a = retorno_risco['BBDC4.SA'].var() * 250\n",
        "\n",
        "dr = pfolio_var - (weights[0] ** 2 * PETR_var_a) - (weights[1] ** 2 * BBDC_var_a)\n",
        "print('O risco diversificável do portfólio é de ' + str(round(dr * 100, 2)) + '%.')"
      ],
      "execution_count": 136,
      "outputs": [
        {
          "output_type": "stream",
          "text": [
            "O risco diversificável do portfólio é de 4.75%.\n"
          ],
          "name": "stdout"
        }
      ]
    },
    {
      "cell_type": "code",
      "metadata": {
        "colab": {
          "base_uri": "https://localhost:8080/"
        },
        "id": "qmMZzrTL4Qqd",
        "outputId": "d4dc50fc-a6c2-47c7-838e-62c012cf6691"
      },
      "source": [
        "# Risco não diversificável\n",
        "\n",
        "n_dr_1 = pfolio_var - dr\n",
        "n_dr_1"
      ],
      "execution_count": 137,
      "outputs": [
        {
          "output_type": "execute_result",
          "data": {
            "text/plain": [
              "0.08573110507471572"
            ]
          },
          "metadata": {
            "tags": []
          },
          "execution_count": 137
        }
      ]
    },
    {
      "cell_type": "markdown",
      "metadata": {
        "id": "Nf8KART_-vd_"
      },
      "source": [
        "# Análise de Regressão"
      ]
    },
    {
      "cell_type": "code",
      "metadata": {
        "id": "Y9RP6kFn4Qyv"
      },
      "source": [
        ""
      ],
      "execution_count": 120,
      "outputs": []
    },
    {
      "cell_type": "code",
      "metadata": {
        "id": "5rDmEnhq4RQ7"
      },
      "source": [
        ""
      ],
      "execution_count": 120,
      "outputs": []
    },
    {
      "cell_type": "code",
      "metadata": {
        "id": "FtuntI0X4Rap"
      },
      "source": [
        ""
      ],
      "execution_count": 120,
      "outputs": []
    },
    {
      "cell_type": "markdown",
      "metadata": {
        "id": "OurTVGW_AX_-"
      },
      "source": [
        "# Otimização de Portfólio de Markowitz"
      ]
    },
    {
      "cell_type": "code",
      "metadata": {
        "id": "Hxc7Qr4-vVkY",
        "colab": {
          "base_uri": "https://localhost:8080/"
        },
        "outputId": "837253da-924c-46cd-e0e0-ea519b660f5b"
      },
      "source": [
        "retorno.mean() * 250"
      ],
      "execution_count": 121,
      "outputs": [
        {
          "output_type": "execute_result",
          "data": {
            "text/plain": [
              "PETR4.SA    0.002492\n",
              "BBDC4.SA    0.082492\n",
              "ABEV3.SA    0.131103\n",
              "WEGE3.SA    0.245592\n",
              "VALE3.SA    0.108867\n",
              "dtype: float64"
            ]
          },
          "metadata": {
            "tags": []
          },
          "execution_count": 121
        }
      ]
    },
    {
      "cell_type": "code",
      "metadata": {
        "id": "C1PQ2tClvVkb",
        "colab": {
          "base_uri": "https://localhost:8080/",
          "height": 206
        },
        "outputId": "5b971c2a-4ac0-40d6-8f54-6bf7a1fb1c89"
      },
      "source": [
        "retorno.cov() * 250"
      ],
      "execution_count": 122,
      "outputs": [
        {
          "output_type": "execute_result",
          "data": {
            "text/html": [
              "<div>\n",
              "<style scoped>\n",
              "    .dataframe tbody tr th:only-of-type {\n",
              "        vertical-align: middle;\n",
              "    }\n",
              "\n",
              "    .dataframe tbody tr th {\n",
              "        vertical-align: top;\n",
              "    }\n",
              "\n",
              "    .dataframe thead th {\n",
              "        text-align: right;\n",
              "    }\n",
              "</style>\n",
              "<table border=\"1\" class=\"dataframe\">\n",
              "  <thead>\n",
              "    <tr style=\"text-align: right;\">\n",
              "      <th></th>\n",
              "      <th>PETR4.SA</th>\n",
              "      <th>BBDC4.SA</th>\n",
              "      <th>ABEV3.SA</th>\n",
              "      <th>WEGE3.SA</th>\n",
              "      <th>VALE3.SA</th>\n",
              "    </tr>\n",
              "  </thead>\n",
              "  <tbody>\n",
              "    <tr>\n",
              "      <th>PETR4.SA</th>\n",
              "      <td>0.224529</td>\n",
              "      <td>0.095028</td>\n",
              "      <td>0.042518</td>\n",
              "      <td>0.045314</td>\n",
              "      <td>0.094540</td>\n",
              "    </tr>\n",
              "    <tr>\n",
              "      <th>BBDC4.SA</th>\n",
              "      <td>0.095028</td>\n",
              "      <td>0.118394</td>\n",
              "      <td>0.039739</td>\n",
              "      <td>0.037336</td>\n",
              "      <td>0.056628</td>\n",
              "    </tr>\n",
              "    <tr>\n",
              "      <th>ABEV3.SA</th>\n",
              "      <td>0.042518</td>\n",
              "      <td>0.039739</td>\n",
              "      <td>0.069876</td>\n",
              "      <td>0.027974</td>\n",
              "      <td>0.030232</td>\n",
              "    </tr>\n",
              "    <tr>\n",
              "      <th>WEGE3.SA</th>\n",
              "      <td>0.045314</td>\n",
              "      <td>0.037336</td>\n",
              "      <td>0.027974</td>\n",
              "      <td>0.100006</td>\n",
              "      <td>0.031916</td>\n",
              "    </tr>\n",
              "    <tr>\n",
              "      <th>VALE3.SA</th>\n",
              "      <td>0.094540</td>\n",
              "      <td>0.056628</td>\n",
              "      <td>0.030232</td>\n",
              "      <td>0.031916</td>\n",
              "      <td>0.176653</td>\n",
              "    </tr>\n",
              "  </tbody>\n",
              "</table>\n",
              "</div>"
            ],
            "text/plain": [
              "          PETR4.SA  BBDC4.SA  ABEV3.SA  WEGE3.SA  VALE3.SA\n",
              "PETR4.SA  0.224529  0.095028  0.042518  0.045314  0.094540\n",
              "BBDC4.SA  0.095028  0.118394  0.039739  0.037336  0.056628\n",
              "ABEV3.SA  0.042518  0.039739  0.069876  0.027974  0.030232\n",
              "WEGE3.SA  0.045314  0.037336  0.027974  0.100006  0.031916\n",
              "VALE3.SA  0.094540  0.056628  0.030232  0.031916  0.176653"
            ]
          },
          "metadata": {
            "tags": []
          },
          "execution_count": 122
        }
      ]
    },
    {
      "cell_type": "code",
      "metadata": {
        "id": "nhTuXXywvVkf",
        "colab": {
          "base_uri": "https://localhost:8080/",
          "height": 206
        },
        "outputId": "9dcf232a-e462-4eef-f3a8-4c42ef1b2f40"
      },
      "source": [
        "retorno.corr()"
      ],
      "execution_count": 123,
      "outputs": [
        {
          "output_type": "execute_result",
          "data": {
            "text/html": [
              "<div>\n",
              "<style scoped>\n",
              "    .dataframe tbody tr th:only-of-type {\n",
              "        vertical-align: middle;\n",
              "    }\n",
              "\n",
              "    .dataframe tbody tr th {\n",
              "        vertical-align: top;\n",
              "    }\n",
              "\n",
              "    .dataframe thead th {\n",
              "        text-align: right;\n",
              "    }\n",
              "</style>\n",
              "<table border=\"1\" class=\"dataframe\">\n",
              "  <thead>\n",
              "    <tr style=\"text-align: right;\">\n",
              "      <th></th>\n",
              "      <th>PETR4.SA</th>\n",
              "      <th>BBDC4.SA</th>\n",
              "      <th>ABEV3.SA</th>\n",
              "      <th>WEGE3.SA</th>\n",
              "      <th>VALE3.SA</th>\n",
              "    </tr>\n",
              "  </thead>\n",
              "  <tbody>\n",
              "    <tr>\n",
              "      <th>PETR4.SA</th>\n",
              "      <td>1.000000</td>\n",
              "      <td>0.582840</td>\n",
              "      <td>0.339448</td>\n",
              "      <td>0.302398</td>\n",
              "      <td>0.474700</td>\n",
              "    </tr>\n",
              "    <tr>\n",
              "      <th>BBDC4.SA</th>\n",
              "      <td>0.582840</td>\n",
              "      <td>1.000000</td>\n",
              "      <td>0.436900</td>\n",
              "      <td>0.343121</td>\n",
              "      <td>0.391563</td>\n",
              "    </tr>\n",
              "    <tr>\n",
              "      <th>ABEV3.SA</th>\n",
              "      <td>0.339448</td>\n",
              "      <td>0.436900</td>\n",
              "      <td>1.000000</td>\n",
              "      <td>0.334640</td>\n",
              "      <td>0.272106</td>\n",
              "    </tr>\n",
              "    <tr>\n",
              "      <th>WEGE3.SA</th>\n",
              "      <td>0.302398</td>\n",
              "      <td>0.343121</td>\n",
              "      <td>0.334640</td>\n",
              "      <td>1.000000</td>\n",
              "      <td>0.240126</td>\n",
              "    </tr>\n",
              "    <tr>\n",
              "      <th>VALE3.SA</th>\n",
              "      <td>0.474700</td>\n",
              "      <td>0.391563</td>\n",
              "      <td>0.272106</td>\n",
              "      <td>0.240126</td>\n",
              "      <td>1.000000</td>\n",
              "    </tr>\n",
              "  </tbody>\n",
              "</table>\n",
              "</div>"
            ],
            "text/plain": [
              "          PETR4.SA  BBDC4.SA  ABEV3.SA  WEGE3.SA  VALE3.SA\n",
              "PETR4.SA  1.000000  0.582840  0.339448  0.302398  0.474700\n",
              "BBDC4.SA  0.582840  1.000000  0.436900  0.343121  0.391563\n",
              "ABEV3.SA  0.339448  0.436900  1.000000  0.334640  0.272106\n",
              "WEGE3.SA  0.302398  0.343121  0.334640  1.000000  0.240126\n",
              "VALE3.SA  0.474700  0.391563  0.272106  0.240126  1.000000"
            ]
          },
          "metadata": {
            "tags": []
          },
          "execution_count": 123
        }
      ]
    },
    {
      "cell_type": "code",
      "metadata": {
        "id": "H47tbI_zvVki",
        "colab": {
          "base_uri": "https://localhost:8080/"
        },
        "outputId": "48fa1008-41ea-41e1-910c-8a6e93c10de6"
      },
      "source": [
        "num_tickers = len(tickers)\n",
        "num_tickers"
      ],
      "execution_count": 124,
      "outputs": [
        {
          "output_type": "execute_result",
          "data": {
            "text/plain": [
              "6"
            ]
          },
          "metadata": {
            "tags": []
          },
          "execution_count": 124
        }
      ]
    },
    {
      "cell_type": "code",
      "metadata": {
        "id": "h0PkHqn9vVkm",
        "colab": {
          "base_uri": "https://localhost:8080/"
        },
        "outputId": "27ddfcdb-64ee-4839-fcc6-fca67806954f"
      },
      "source": [
        "weights = np.random.random(num_tickers)\n",
        "weights /= np.sum(weights)\n",
        "weights"
      ],
      "execution_count": 125,
      "outputs": [
        {
          "output_type": "execute_result",
          "data": {
            "text/plain": [
              "array([0.27380021, 0.20940565, 0.20825441, 0.03972739, 0.06498989,\n",
              "       0.20382245])"
            ]
          },
          "metadata": {
            "tags": []
          },
          "execution_count": 125
        }
      ]
    },
    {
      "cell_type": "code",
      "metadata": {
        "id": "1HfdLq1cvVkp",
        "colab": {
          "base_uri": "https://localhost:8080/"
        },
        "outputId": "96aed836-5f9b-4924-c73e-31f60f649e2c"
      },
      "source": [
        "weights[0] + weights[1] + weights[2] + weights[3] + weights[4]"
      ],
      "execution_count": 126,
      "outputs": [
        {
          "output_type": "execute_result",
          "data": {
            "text/plain": [
              "0.7961775500966308"
            ]
          },
          "metadata": {
            "tags": []
          },
          "execution_count": 126
        }
      ]
    },
    {
      "cell_type": "markdown",
      "metadata": {
        "id": "6B0pB1w-AvPk"
      },
      "source": [
        "# Retorno esperado do Portfólio"
      ]
    },
    {
      "cell_type": "code",
      "metadata": {
        "id": "D3Yx5MGOvVku",
        "colab": {
          "base_uri": "https://localhost:8080/",
          "height": 348
        },
        "outputId": "5bfa7ad6-717f-48ca-b03e-04a712a56038"
      },
      "source": [
        "np.sum(weights * retorno.mean()) * 250"
      ],
      "execution_count": 127,
      "outputs": [
        {
          "output_type": "error",
          "ename": "ValueError",
          "evalue": "ignored",
          "traceback": [
            "\u001b[0;31m---------------------------------------------------------------------------\u001b[0m",
            "\u001b[0;31mValueError\u001b[0m                                Traceback (most recent call last)",
            "\u001b[0;32m<ipython-input-127-ea8d4750d301>\u001b[0m in \u001b[0;36m<module>\u001b[0;34m()\u001b[0m\n\u001b[0;32m----> 1\u001b[0;31m \u001b[0mnp\u001b[0m\u001b[0;34m.\u001b[0m\u001b[0msum\u001b[0m\u001b[0;34m(\u001b[0m\u001b[0mweights\u001b[0m \u001b[0;34m*\u001b[0m \u001b[0mretorno\u001b[0m\u001b[0;34m.\u001b[0m\u001b[0mmean\u001b[0m\u001b[0;34m(\u001b[0m\u001b[0;34m)\u001b[0m\u001b[0;34m)\u001b[0m \u001b[0;34m*\u001b[0m \u001b[0;36m250\u001b[0m\u001b[0;34m\u001b[0m\u001b[0;34m\u001b[0m\u001b[0m\n\u001b[0m",
            "\u001b[0;32m/usr/local/lib/python3.7/dist-packages/pandas/core/series.py\u001b[0m in \u001b[0;36m__array_ufunc__\u001b[0;34m(self, ufunc, method, *inputs, **kwargs)\u001b[0m\n\u001b[1;32m    681\u001b[0m         \u001b[0;31m# for binary ops, use our custom dunder methods\u001b[0m\u001b[0;34m\u001b[0m\u001b[0;34m\u001b[0m\u001b[0;34m\u001b[0m\u001b[0m\n\u001b[1;32m    682\u001b[0m         result = ops.maybe_dispatch_ufunc_to_dunder_op(\n\u001b[0;32m--> 683\u001b[0;31m             \u001b[0mself\u001b[0m\u001b[0;34m,\u001b[0m \u001b[0mufunc\u001b[0m\u001b[0;34m,\u001b[0m \u001b[0mmethod\u001b[0m\u001b[0;34m,\u001b[0m \u001b[0;34m*\u001b[0m\u001b[0minputs\u001b[0m\u001b[0;34m,\u001b[0m \u001b[0;34m**\u001b[0m\u001b[0mkwargs\u001b[0m\u001b[0;34m\u001b[0m\u001b[0;34m\u001b[0m\u001b[0m\n\u001b[0m\u001b[1;32m    684\u001b[0m         )\n\u001b[1;32m    685\u001b[0m         \u001b[0;32mif\u001b[0m \u001b[0mresult\u001b[0m \u001b[0;32mis\u001b[0m \u001b[0;32mnot\u001b[0m \u001b[0mNotImplemented\u001b[0m\u001b[0;34m:\u001b[0m\u001b[0;34m\u001b[0m\u001b[0;34m\u001b[0m\u001b[0m\n",
            "\u001b[0;32mpandas/_libs/ops_dispatch.pyx\u001b[0m in \u001b[0;36mpandas._libs.ops_dispatch.maybe_dispatch_ufunc_to_dunder_op\u001b[0;34m()\u001b[0m\n",
            "\u001b[0;32m/usr/local/lib/python3.7/dist-packages/pandas/core/ops/common.py\u001b[0m in \u001b[0;36mnew_method\u001b[0;34m(self, other)\u001b[0m\n\u001b[1;32m     63\u001b[0m         \u001b[0mother\u001b[0m \u001b[0;34m=\u001b[0m \u001b[0mitem_from_zerodim\u001b[0m\u001b[0;34m(\u001b[0m\u001b[0mother\u001b[0m\u001b[0;34m)\u001b[0m\u001b[0;34m\u001b[0m\u001b[0;34m\u001b[0m\u001b[0m\n\u001b[1;32m     64\u001b[0m \u001b[0;34m\u001b[0m\u001b[0m\n\u001b[0;32m---> 65\u001b[0;31m         \u001b[0;32mreturn\u001b[0m \u001b[0mmethod\u001b[0m\u001b[0;34m(\u001b[0m\u001b[0mself\u001b[0m\u001b[0;34m,\u001b[0m \u001b[0mother\u001b[0m\u001b[0;34m)\u001b[0m\u001b[0;34m\u001b[0m\u001b[0;34m\u001b[0m\u001b[0m\n\u001b[0m\u001b[1;32m     66\u001b[0m \u001b[0;34m\u001b[0m\u001b[0m\n\u001b[1;32m     67\u001b[0m     \u001b[0;32mreturn\u001b[0m \u001b[0mnew_method\u001b[0m\u001b[0;34m\u001b[0m\u001b[0;34m\u001b[0m\u001b[0m\n",
            "\u001b[0;32m/usr/local/lib/python3.7/dist-packages/pandas/core/ops/__init__.py\u001b[0m in \u001b[0;36mwrapper\u001b[0;34m(left, right)\u001b[0m\n\u001b[1;32m    341\u001b[0m         \u001b[0mlvalues\u001b[0m \u001b[0;34m=\u001b[0m \u001b[0mextract_array\u001b[0m\u001b[0;34m(\u001b[0m\u001b[0mleft\u001b[0m\u001b[0;34m,\u001b[0m \u001b[0mextract_numpy\u001b[0m\u001b[0;34m=\u001b[0m\u001b[0;32mTrue\u001b[0m\u001b[0;34m)\u001b[0m\u001b[0;34m\u001b[0m\u001b[0;34m\u001b[0m\u001b[0m\n\u001b[1;32m    342\u001b[0m         \u001b[0mrvalues\u001b[0m \u001b[0;34m=\u001b[0m \u001b[0mextract_array\u001b[0m\u001b[0;34m(\u001b[0m\u001b[0mright\u001b[0m\u001b[0;34m,\u001b[0m \u001b[0mextract_numpy\u001b[0m\u001b[0;34m=\u001b[0m\u001b[0;32mTrue\u001b[0m\u001b[0;34m)\u001b[0m\u001b[0;34m\u001b[0m\u001b[0;34m\u001b[0m\u001b[0m\n\u001b[0;32m--> 343\u001b[0;31m         \u001b[0mresult\u001b[0m \u001b[0;34m=\u001b[0m \u001b[0marithmetic_op\u001b[0m\u001b[0;34m(\u001b[0m\u001b[0mlvalues\u001b[0m\u001b[0;34m,\u001b[0m \u001b[0mrvalues\u001b[0m\u001b[0;34m,\u001b[0m \u001b[0mop\u001b[0m\u001b[0;34m)\u001b[0m\u001b[0;34m\u001b[0m\u001b[0;34m\u001b[0m\u001b[0m\n\u001b[0m\u001b[1;32m    344\u001b[0m \u001b[0;34m\u001b[0m\u001b[0m\n\u001b[1;32m    345\u001b[0m         \u001b[0;32mreturn\u001b[0m \u001b[0mleft\u001b[0m\u001b[0;34m.\u001b[0m\u001b[0m_construct_result\u001b[0m\u001b[0;34m(\u001b[0m\u001b[0mresult\u001b[0m\u001b[0;34m,\u001b[0m \u001b[0mname\u001b[0m\u001b[0;34m=\u001b[0m\u001b[0mres_name\u001b[0m\u001b[0;34m)\u001b[0m\u001b[0;34m\u001b[0m\u001b[0;34m\u001b[0m\u001b[0m\n",
            "\u001b[0;32m/usr/local/lib/python3.7/dist-packages/pandas/core/ops/array_ops.py\u001b[0m in \u001b[0;36marithmetic_op\u001b[0;34m(left, right, op)\u001b[0m\n\u001b[1;32m    188\u001b[0m     \u001b[0;32melse\u001b[0m\u001b[0;34m:\u001b[0m\u001b[0;34m\u001b[0m\u001b[0;34m\u001b[0m\u001b[0m\n\u001b[1;32m    189\u001b[0m         \u001b[0;32mwith\u001b[0m \u001b[0mnp\u001b[0m\u001b[0;34m.\u001b[0m\u001b[0merrstate\u001b[0m\u001b[0;34m(\u001b[0m\u001b[0mall\u001b[0m\u001b[0;34m=\u001b[0m\u001b[0;34m\"ignore\"\u001b[0m\u001b[0;34m)\u001b[0m\u001b[0;34m:\u001b[0m\u001b[0;34m\u001b[0m\u001b[0;34m\u001b[0m\u001b[0m\n\u001b[0;32m--> 190\u001b[0;31m             \u001b[0mres_values\u001b[0m \u001b[0;34m=\u001b[0m \u001b[0mna_arithmetic_op\u001b[0m\u001b[0;34m(\u001b[0m\u001b[0mlvalues\u001b[0m\u001b[0;34m,\u001b[0m \u001b[0mrvalues\u001b[0m\u001b[0;34m,\u001b[0m \u001b[0mop\u001b[0m\u001b[0;34m)\u001b[0m\u001b[0;34m\u001b[0m\u001b[0;34m\u001b[0m\u001b[0m\n\u001b[0m\u001b[1;32m    191\u001b[0m \u001b[0;34m\u001b[0m\u001b[0m\n\u001b[1;32m    192\u001b[0m     \u001b[0;32mreturn\u001b[0m \u001b[0mres_values\u001b[0m\u001b[0;34m\u001b[0m\u001b[0;34m\u001b[0m\u001b[0m\n",
            "\u001b[0;32m/usr/local/lib/python3.7/dist-packages/pandas/core/ops/array_ops.py\u001b[0m in \u001b[0;36mna_arithmetic_op\u001b[0;34m(left, right, op, is_cmp)\u001b[0m\n\u001b[1;32m    141\u001b[0m \u001b[0;34m\u001b[0m\u001b[0m\n\u001b[1;32m    142\u001b[0m     \u001b[0;32mtry\u001b[0m\u001b[0;34m:\u001b[0m\u001b[0;34m\u001b[0m\u001b[0;34m\u001b[0m\u001b[0m\n\u001b[0;32m--> 143\u001b[0;31m         \u001b[0mresult\u001b[0m \u001b[0;34m=\u001b[0m \u001b[0mexpressions\u001b[0m\u001b[0;34m.\u001b[0m\u001b[0mevaluate\u001b[0m\u001b[0;34m(\u001b[0m\u001b[0mop\u001b[0m\u001b[0;34m,\u001b[0m \u001b[0mleft\u001b[0m\u001b[0;34m,\u001b[0m \u001b[0mright\u001b[0m\u001b[0;34m)\u001b[0m\u001b[0;34m\u001b[0m\u001b[0;34m\u001b[0m\u001b[0m\n\u001b[0m\u001b[1;32m    144\u001b[0m     \u001b[0;32mexcept\u001b[0m \u001b[0mTypeError\u001b[0m\u001b[0;34m:\u001b[0m\u001b[0;34m\u001b[0m\u001b[0;34m\u001b[0m\u001b[0m\n\u001b[1;32m    145\u001b[0m         \u001b[0;32mif\u001b[0m \u001b[0mis_cmp\u001b[0m\u001b[0;34m:\u001b[0m\u001b[0;34m\u001b[0m\u001b[0;34m\u001b[0m\u001b[0m\n",
            "\u001b[0;32m/usr/local/lib/python3.7/dist-packages/pandas/core/computation/expressions.py\u001b[0m in \u001b[0;36mevaluate\u001b[0;34m(op, a, b, use_numexpr)\u001b[0m\n\u001b[1;32m    231\u001b[0m         \u001b[0muse_numexpr\u001b[0m \u001b[0;34m=\u001b[0m \u001b[0muse_numexpr\u001b[0m \u001b[0;32mand\u001b[0m \u001b[0m_bool_arith_check\u001b[0m\u001b[0;34m(\u001b[0m\u001b[0mop_str\u001b[0m\u001b[0;34m,\u001b[0m \u001b[0ma\u001b[0m\u001b[0;34m,\u001b[0m \u001b[0mb\u001b[0m\u001b[0;34m)\u001b[0m\u001b[0;34m\u001b[0m\u001b[0;34m\u001b[0m\u001b[0m\n\u001b[1;32m    232\u001b[0m         \u001b[0;32mif\u001b[0m \u001b[0muse_numexpr\u001b[0m\u001b[0;34m:\u001b[0m\u001b[0;34m\u001b[0m\u001b[0;34m\u001b[0m\u001b[0m\n\u001b[0;32m--> 233\u001b[0;31m             \u001b[0;32mreturn\u001b[0m \u001b[0m_evaluate\u001b[0m\u001b[0;34m(\u001b[0m\u001b[0mop\u001b[0m\u001b[0;34m,\u001b[0m \u001b[0mop_str\u001b[0m\u001b[0;34m,\u001b[0m \u001b[0ma\u001b[0m\u001b[0;34m,\u001b[0m \u001b[0mb\u001b[0m\u001b[0;34m)\u001b[0m  \u001b[0;31m# type: ignore\u001b[0m\u001b[0;34m\u001b[0m\u001b[0;34m\u001b[0m\u001b[0m\n\u001b[0m\u001b[1;32m    234\u001b[0m     \u001b[0;32mreturn\u001b[0m \u001b[0m_evaluate_standard\u001b[0m\u001b[0;34m(\u001b[0m\u001b[0mop\u001b[0m\u001b[0;34m,\u001b[0m \u001b[0mop_str\u001b[0m\u001b[0;34m,\u001b[0m \u001b[0ma\u001b[0m\u001b[0;34m,\u001b[0m \u001b[0mb\u001b[0m\u001b[0;34m)\u001b[0m\u001b[0;34m\u001b[0m\u001b[0;34m\u001b[0m\u001b[0m\n\u001b[1;32m    235\u001b[0m \u001b[0;34m\u001b[0m\u001b[0m\n",
            "\u001b[0;32m/usr/local/lib/python3.7/dist-packages/pandas/core/computation/expressions.py\u001b[0m in \u001b[0;36m_evaluate_numexpr\u001b[0;34m(op, op_str, a, b)\u001b[0m\n\u001b[1;32m    117\u001b[0m \u001b[0;34m\u001b[0m\u001b[0m\n\u001b[1;32m    118\u001b[0m     \u001b[0;32mif\u001b[0m \u001b[0mresult\u001b[0m \u001b[0;32mis\u001b[0m \u001b[0;32mNone\u001b[0m\u001b[0;34m:\u001b[0m\u001b[0;34m\u001b[0m\u001b[0;34m\u001b[0m\u001b[0m\n\u001b[0;32m--> 119\u001b[0;31m         \u001b[0mresult\u001b[0m \u001b[0;34m=\u001b[0m \u001b[0m_evaluate_standard\u001b[0m\u001b[0;34m(\u001b[0m\u001b[0mop\u001b[0m\u001b[0;34m,\u001b[0m \u001b[0mop_str\u001b[0m\u001b[0;34m,\u001b[0m \u001b[0ma\u001b[0m\u001b[0;34m,\u001b[0m \u001b[0mb\u001b[0m\u001b[0;34m)\u001b[0m\u001b[0;34m\u001b[0m\u001b[0;34m\u001b[0m\u001b[0m\n\u001b[0m\u001b[1;32m    120\u001b[0m \u001b[0;34m\u001b[0m\u001b[0m\n\u001b[1;32m    121\u001b[0m     \u001b[0;32mreturn\u001b[0m \u001b[0mresult\u001b[0m\u001b[0;34m\u001b[0m\u001b[0;34m\u001b[0m\u001b[0m\n",
            "\u001b[0;32m/usr/local/lib/python3.7/dist-packages/pandas/core/computation/expressions.py\u001b[0m in \u001b[0;36m_evaluate_standard\u001b[0;34m(op, op_str, a, b)\u001b[0m\n\u001b[1;32m     66\u001b[0m         \u001b[0m_store_test_result\u001b[0m\u001b[0;34m(\u001b[0m\u001b[0;32mFalse\u001b[0m\u001b[0;34m)\u001b[0m\u001b[0;34m\u001b[0m\u001b[0;34m\u001b[0m\u001b[0m\n\u001b[1;32m     67\u001b[0m     \u001b[0;32mwith\u001b[0m \u001b[0mnp\u001b[0m\u001b[0;34m.\u001b[0m\u001b[0merrstate\u001b[0m\u001b[0;34m(\u001b[0m\u001b[0mall\u001b[0m\u001b[0;34m=\u001b[0m\u001b[0;34m\"ignore\"\u001b[0m\u001b[0;34m)\u001b[0m\u001b[0;34m:\u001b[0m\u001b[0;34m\u001b[0m\u001b[0;34m\u001b[0m\u001b[0m\n\u001b[0;32m---> 68\u001b[0;31m         \u001b[0;32mreturn\u001b[0m \u001b[0mop\u001b[0m\u001b[0;34m(\u001b[0m\u001b[0ma\u001b[0m\u001b[0;34m,\u001b[0m \u001b[0mb\u001b[0m\u001b[0;34m)\u001b[0m\u001b[0;34m\u001b[0m\u001b[0;34m\u001b[0m\u001b[0m\n\u001b[0m\u001b[1;32m     69\u001b[0m \u001b[0;34m\u001b[0m\u001b[0m\n\u001b[1;32m     70\u001b[0m \u001b[0;34m\u001b[0m\u001b[0m\n",
            "\u001b[0;32m/usr/local/lib/python3.7/dist-packages/pandas/core/ops/roperator.py\u001b[0m in \u001b[0;36mrmul\u001b[0;34m(left, right)\u001b[0m\n\u001b[1;32m     15\u001b[0m \u001b[0;34m\u001b[0m\u001b[0m\n\u001b[1;32m     16\u001b[0m \u001b[0;32mdef\u001b[0m \u001b[0mrmul\u001b[0m\u001b[0;34m(\u001b[0m\u001b[0mleft\u001b[0m\u001b[0;34m,\u001b[0m \u001b[0mright\u001b[0m\u001b[0;34m)\u001b[0m\u001b[0;34m:\u001b[0m\u001b[0;34m\u001b[0m\u001b[0;34m\u001b[0m\u001b[0m\n\u001b[0;32m---> 17\u001b[0;31m     \u001b[0;32mreturn\u001b[0m \u001b[0mright\u001b[0m \u001b[0;34m*\u001b[0m \u001b[0mleft\u001b[0m\u001b[0;34m\u001b[0m\u001b[0;34m\u001b[0m\u001b[0m\n\u001b[0m\u001b[1;32m     18\u001b[0m \u001b[0;34m\u001b[0m\u001b[0m\n\u001b[1;32m     19\u001b[0m \u001b[0;34m\u001b[0m\u001b[0m\n",
            "\u001b[0;31mValueError\u001b[0m: operands could not be broadcast together with shapes (6,) (5,) "
          ]
        }
      ]
    },
    {
      "cell_type": "markdown",
      "metadata": {
        "id": "5YCIWcXoA5Z3"
      },
      "source": [
        "# Variância esperada do Portfólio"
      ]
    },
    {
      "cell_type": "code",
      "metadata": {
        "id": "mVDC7qCUvVkw"
      },
      "source": [
        "np.dot(weights.T, np.dot(retorno.cov() *250, weights))"
      ],
      "execution_count": null,
      "outputs": []
    },
    {
      "cell_type": "markdown",
      "metadata": {
        "id": "c2rt4XyFBUmE"
      },
      "source": [
        "# Volatilidade esperada do Portfólio"
      ]
    },
    {
      "cell_type": "code",
      "metadata": {
        "id": "1w738b1jBC8q"
      },
      "source": [
        "np.sqrt(np.dot(weights.T, np.dot(retorno.cov() *250, weights)))"
      ],
      "execution_count": null,
      "outputs": []
    },
    {
      "cell_type": "markdown",
      "metadata": {
        "id": "AFJBkxwABZ2H"
      },
      "source": [
        "# 1.000 combinações diferentes dos mesmos ativos"
      ]
    },
    {
      "cell_type": "code",
      "metadata": {
        "id": "aRCltcgXBDHJ"
      },
      "source": [
        "pfolio_returns = []\n",
        "pfolio_volatilities = []\n",
        "\n",
        "for x in range (10000):\n",
        "    weights = np.random.random(num_tickers)\n",
        "    weights /= np.sum(weights)\n",
        "    pfolio_returns.append(np.sum(weights * retorno.mean()) * 250)\n",
        "    pfolio_volatilities.append(np.sqrt(np.dot(weights.T, np.dot(retorno.cov() *250, weights))))\n",
        "\n",
        "pfolio_returns = np.array(pfolio_returns)\n",
        "pfolio_volatilities = np.array(pfolio_volatilities)\n",
        "\n",
        "pfolio_returns, pfolio_volatilities"
      ],
      "execution_count": null,
      "outputs": []
    },
    {
      "cell_type": "code",
      "metadata": {
        "id": "FTQ0LiWXBDP7"
      },
      "source": [
        "portfolios = pd.DataFrame({'Retorno': pfolio_returns, 'Volatilidade': pfolio_volatilities})\n",
        "portfolios.head()"
      ],
      "execution_count": null,
      "outputs": []
    },
    {
      "cell_type": "code",
      "metadata": {
        "id": "V2HwEubbBDYA"
      },
      "source": [
        "portfolios.plot(x='Volatilidade', y='Retorno', kind='scatter', figsize=(10,6))\n",
        "plt.xlabel('Volatilidade esperada')\n",
        "plt.ylabel('Retorno esperado')"
      ],
      "execution_count": null,
      "outputs": []
    },
    {
      "cell_type": "code",
      "metadata": {
        "id": "pjnBO4kpBDgT"
      },
      "source": [
        "(bolsas / bolsas.iloc[0] * 100).plot(figsize = (15, 6));\n",
        "plt.show"
      ],
      "execution_count": null,
      "outputs": []
    },
    {
      "cell_type": "code",
      "metadata": {
        "id": "-rfvscLIBDpp"
      },
      "source": [
        "bolsas.plot(figsize = (15, 6));\n",
        "plt.show"
      ],
      "execution_count": null,
      "outputs": []
    },
    {
      "cell_type": "markdown",
      "metadata": {
        "id": "V0j0pxUxB69U"
      },
      "source": [
        "# CAPM\n",
        "\n",
        "### Medindo o Beta\n",
        "### Mede o risco de mercado que não pode ser evitado através da diversificação.\n",
        "### Quanto mais volátil uma ação, maior seu beta. O beta varia entre -1 e 2.\n",
        "### B = 0 nenhuma relação; B < 1 defensiva; B > 1 agressiva\n",
        "### Ações defensivas perdem menos quando a economia está mal e ganham menos quando estão bem; agressivas são o oposto."
      ]
    },
    {
      "cell_type": "code",
      "metadata": {
        "id": "jyX6fVDgCMUi"
      },
      "source": [
        "tickers = ['PETR4.SA','BBDC4.SA','ABEV3.SA','WEGE3.SA','VALE3.SA','^BVSP']\n",
        "data = pd.DataFrame()\n",
        "for t in tickers:\n",
        "    data[t] = wb.DataReader(t, data_source='yahoo',start='2015-1-1')['Adj Close']"
      ],
      "execution_count": null,
      "outputs": []
    },
    {
      "cell_type": "code",
      "metadata": {
        "id": "JUQPAL2uCNiI"
      },
      "source": [
        "sec_returns = np.log( data / data.shift(1))"
      ],
      "execution_count": null,
      "outputs": []
    },
    {
      "cell_type": "code",
      "metadata": {
        "id": "6qphYOf1CNrY"
      },
      "source": [
        "cov = sec_returns.cov() * 250\n",
        "cov"
      ],
      "execution_count": null,
      "outputs": []
    },
    {
      "cell_type": "code",
      "metadata": {
        "id": "GoZNVeiqCNzD"
      },
      "source": [
        "# Covariação da primeira ação com o mercado.\n",
        "\n",
        "cov_with_market = cov.iloc[0,5]\n",
        "cov_with_market"
      ],
      "execution_count": null,
      "outputs": []
    },
    {
      "cell_type": "code",
      "metadata": {
        "id": "E_Zf8fLPCN6F"
      },
      "source": [
        "market_var = sec_returns['^BVSP'].var() * 250\n",
        "market_var"
      ],
      "execution_count": null,
      "outputs": []
    },
    {
      "cell_type": "code",
      "metadata": {
        "id": "N_-klIwICOAt"
      },
      "source": [
        "logn_beta = cov_with_market / market_var\n",
        "logn_beta"
      ],
      "execution_count": null,
      "outputs": []
    },
    {
      "cell_type": "code",
      "metadata": {
        "id": "6Z6CA12MCOIc"
      },
      "source": [
        "# Covariação da seegunda ação com o mercado.\n",
        "\n",
        "cov_with_market = cov.iloc[1,5]\n",
        "cov_with_market"
      ],
      "execution_count": null,
      "outputs": []
    },
    {
      "cell_type": "code",
      "metadata": {
        "id": "mQTUdaetCw35"
      },
      "source": [
        "market_var = sec_returns['^BVSP'].var() * 250\n",
        "market_var"
      ],
      "execution_count": null,
      "outputs": []
    },
    {
      "cell_type": "code",
      "metadata": {
        "id": "WH7wP7iRCxKe"
      },
      "source": [
        "vvar_beta = cov_with_market / market_var\n",
        "vvar_beta"
      ],
      "execution_count": null,
      "outputs": []
    },
    {
      "cell_type": "markdown",
      "metadata": {
        "id": "-ewAEW0EC7m1"
      },
      "source": [
        "# Modelo de Precificação de Ativos Financeiros (CAPM)\n",
        "\n",
        "### Ação livre de risco = retorno de 2,5%.\n",
        "### Beta\n",
        "### Prêmio de risco das ações = entre 4,5% e 5,5%\n",
        "### Retorno esperado para valer a pena investir na ação\n"
      ]
    },
    {
      "cell_type": "code",
      "metadata": {
        "id": "CDHsUVuqCxSK"
      },
      "source": [
        "logn_er = 0.025 + logn_beta * 0.05\n",
        "logn_er"
      ],
      "execution_count": null,
      "outputs": []
    },
    {
      "cell_type": "code",
      "metadata": {
        "id": "-539zpssCxWI"
      },
      "source": [
        "vvar_beta = 0.025 + vvar_beta * 0.05\n",
        "vvar_beta"
      ],
      "execution_count": null,
      "outputs": []
    },
    {
      "cell_type": "markdown",
      "metadata": {
        "id": "EYi7ifK8DLGB"
      },
      "source": [
        "### Se o retorno ficar abaixo do calculado, não vale a pena investir nessa ação."
      ]
    },
    {
      "cell_type": "markdown",
      "metadata": {
        "id": "mtjFXjh8DS2o"
      },
      "source": [
        "# Índice de Sharp\n",
        "## Decidir o melhor portfólio em termos de risco e retorno"
      ]
    },
    {
      "cell_type": "code",
      "metadata": {
        "id": "uipJIR7sCxb3"
      },
      "source": [
        "sharpe_logn = (logn_er - 0.025) / (sec_returns['PETR4.SA'].std() * 250 ** 0.5)\n",
        "sharpe_logn"
      ],
      "execution_count": null,
      "outputs": []
    },
    {
      "cell_type": "code",
      "metadata": {
        "id": "Q5BKTommCxei"
      },
      "source": [
        "sharpe_vvar = (logn_er - 0.025) / (sec_returns['BBDC4.SA'].std() * 250 ** 0.5)\n",
        "sharpe_vvar"
      ],
      "execution_count": null,
      "outputs": []
    },
    {
      "cell_type": "markdown",
      "metadata": {
        "id": "JVbGLywcDeBZ"
      },
      "source": [
        "# Simulações de Monte Carlo\n",
        "### Observar os possíveis diferentes resultados de um evento futuro\n",
        "### 1 - Prever o preço da ação"
      ]
    },
    {
      "cell_type": "code",
      "metadata": {
        "id": "_zp9DYqyCxhV"
      },
      "source": [
        "log_returns_1 = np.log(1 + data['BBDC4.SA'].pct_change())"
      ],
      "execution_count": null,
      "outputs": []
    },
    {
      "cell_type": "code",
      "metadata": {
        "id": "flX6Ez98CxkQ"
      },
      "source": [
        "log_returns_1.tail()"
      ],
      "execution_count": null,
      "outputs": []
    },
    {
      "cell_type": "code",
      "metadata": {
        "id": "KNymZLtOCxnF"
      },
      "source": [
        "data['BBDC4.SA'].plot(figsize=(10,6))"
      ],
      "execution_count": null,
      "outputs": []
    },
    {
      "cell_type": "code",
      "metadata": {
        "id": "zKKF9gi8Dtry"
      },
      "source": [
        "log_returns_1.plot(figsize=(10,6))"
      ],
      "execution_count": null,
      "outputs": []
    },
    {
      "cell_type": "code",
      "metadata": {
        "id": "9lAJxjhwDtuz"
      },
      "source": [
        "u = log_returns_1.mean()\n",
        "u"
      ],
      "execution_count": null,
      "outputs": []
    },
    {
      "cell_type": "code",
      "metadata": {
        "id": "8dKiaw4ODtxJ"
      },
      "source": [
        "var = log_returns_1.var()\n",
        "var"
      ],
      "execution_count": null,
      "outputs": []
    },
    {
      "cell_type": "code",
      "metadata": {
        "id": "qwJt1th7Dtz7"
      },
      "source": [
        "drift = u - (0.5 * var)\n",
        "drift"
      ],
      "execution_count": null,
      "outputs": []
    },
    {
      "cell_type": "code",
      "metadata": {
        "id": "T45VbYL1Dt3B"
      },
      "source": [
        "stdev = log_returns_1.std()\n",
        "stdev"
      ],
      "execution_count": null,
      "outputs": []
    },
    {
      "cell_type": "code",
      "metadata": {
        "id": "thJkZcP6Dt5e"
      },
      "source": [
        "type(drift)"
      ],
      "execution_count": null,
      "outputs": []
    },
    {
      "cell_type": "code",
      "metadata": {
        "id": "5Bc7-riUDt8B"
      },
      "source": [
        "type(stdev)"
      ],
      "execution_count": null,
      "outputs": []
    },
    {
      "cell_type": "code",
      "metadata": {
        "id": "tQYZb8AADt-a"
      },
      "source": [
        "np.array(drift)"
      ],
      "execution_count": null,
      "outputs": []
    },
    {
      "cell_type": "code",
      "metadata": {
        "id": "a4gZAfOcDuBB"
      },
      "source": [
        "np.array(stdev)"
      ],
      "execution_count": null,
      "outputs": []
    },
    {
      "cell_type": "code",
      "metadata": {
        "id": "2yQNHVxlDuEG"
      },
      "source": [
        "norm.ppf(0.95)"
      ],
      "execution_count": null,
      "outputs": []
    },
    {
      "cell_type": "code",
      "metadata": {
        "id": "evu84J8ADuGv"
      },
      "source": [
        "x = np.random.rand(10,2)\n",
        "x"
      ],
      "execution_count": null,
      "outputs": []
    },
    {
      "cell_type": "code",
      "metadata": {
        "id": "JZ2FQvS7EF7_"
      },
      "source": [
        "norm.ppf(x)"
      ],
      "execution_count": null,
      "outputs": []
    },
    {
      "cell_type": "code",
      "metadata": {
        "id": "aAHHSuzaEF-v"
      },
      "source": [
        "z = norm.ppf(np.random.rand(10,2))\n",
        "z"
      ],
      "execution_count": null,
      "outputs": []
    },
    {
      "cell_type": "code",
      "metadata": {
        "id": "soTfSQOsEGFB"
      },
      "source": [
        "t_intervals = 100\n",
        "iterations = 10"
      ],
      "execution_count": null,
      "outputs": []
    },
    {
      "cell_type": "code",
      "metadata": {
        "id": "J241choOEGK4"
      },
      "source": [
        "daily_returns = np.exp(np.array(drift) + np.array(stdev) * norm.ppf(np.random.rand(t_intervals, iterations)))\n",
        "daily_returns"
      ],
      "execution_count": null,
      "outputs": []
    },
    {
      "cell_type": "code",
      "metadata": {
        "id": "LtMkkBWLEGNs"
      },
      "source": [
        "s0 = data['BBDC4.SA'].iloc[-1]\n",
        "s0"
      ],
      "execution_count": null,
      "outputs": []
    },
    {
      "cell_type": "code",
      "metadata": {
        "id": "SsKzWTGbEGQp"
      },
      "source": [
        "price_list = np.zeros_like(daily_returns)\n",
        "price_list"
      ],
      "execution_count": null,
      "outputs": []
    },
    {
      "cell_type": "code",
      "metadata": {
        "id": "HUUL5_gtEGTd"
      },
      "source": [
        "price_list[0] = s0\n",
        "price_list"
      ],
      "execution_count": null,
      "outputs": []
    },
    {
      "cell_type": "code",
      "metadata": {
        "id": "wFtnUWfmEGV4"
      },
      "source": [
        "for t in range(1, t_intervals):\n",
        "    price_list[t] = price_list[t - 1] * daily_returns[t]"
      ],
      "execution_count": null,
      "outputs": []
    },
    {
      "cell_type": "code",
      "metadata": {
        "id": "lQnjhkUJEGYs"
      },
      "source": [
        "price_list"
      ],
      "execution_count": null,
      "outputs": []
    },
    {
      "cell_type": "code",
      "metadata": {
        "id": "9B7Vj-U-EGbi"
      },
      "source": [
        "plt.figure(figsize=(10,6))\n",
        "plt.plot(price_list)"
      ],
      "execution_count": null,
      "outputs": []
    },
    {
      "cell_type": "code",
      "metadata": {
        "id": "gPzmsvIjEGer"
      },
      "source": [
        ""
      ],
      "execution_count": null,
      "outputs": []
    },
    {
      "cell_type": "code",
      "metadata": {
        "id": "iptWzDpXEGhc"
      },
      "source": [
        ""
      ],
      "execution_count": null,
      "outputs": []
    },
    {
      "cell_type": "code",
      "metadata": {
        "id": "y1nxOmg0EGkI"
      },
      "source": [
        ""
      ],
      "execution_count": null,
      "outputs": []
    }
  ]
}