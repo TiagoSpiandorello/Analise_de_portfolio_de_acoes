{
  "nbformat": 4,
  "nbformat_minor": 0,
  "metadata": {
    "language_info": {
      "codemirror_mode": {
        "name": "ipython",
        "version": 3
      },
      "file_extension": ".py",
      "mimetype": "text/x-python",
      "name": "python",
      "nbconvert_exporter": "python",
      "pygments_lexer": "ipython3",
      "version": "3.8.2-final"
    },
    "orig_nbformat": 2,
    "kernelspec": {
      "name": "python38264bit697db9e16c98461a9db76b9b03748f0d",
      "display_name": "Python 3.8.2 64-bit"
    },
    "colab": {
      "name": "analise_portfolio.ipynb",
      "provenance": [],
      "collapsed_sections": [
        "IFK29V1hvVjy",
        "EYi7ifK8DLGB"
      ],
      "include_colab_link": true
    }
  },
  "cells": [
    {
      "cell_type": "markdown",
      "metadata": {
        "id": "view-in-github",
        "colab_type": "text"
      },
      "source": [
        "<a href=\"https://colab.research.google.com/github/TiagoSpiandorello/Analise_de_portfolio_de_acoes/blob/main/analise_portfolio.ipynb\" target=\"_parent\"><img src=\"https://colab.research.google.com/assets/colab-badge.svg\" alt=\"Open In Colab\"/></a>"
      ]
    },
    {
      "cell_type": "code",
      "metadata": {
        "id": "oTnah-bnvVhz"
      },
      "source": [
        "# Importação das bibliotecas necessárias para o projeto\n",
        "\n",
        "import numpy as np\n",
        "import pandas as pd\n",
        "import matplotlib.pyplot as plt\n",
        "from pandas_datareader import data as wb\n",
        "from scipy.stats import norm\n",
        "%matplotlib inline"
      ],
      "execution_count": 226,
      "outputs": []
    },
    {
      "cell_type": "code",
      "metadata": {
        "tags": [],
        "id": "RXR1l5OEvViB",
        "colab": {
          "base_uri": "https://localhost:8080/",
          "height": 394
        },
        "outputId": "b43ec55e-d04f-427c-d141-8e9234af83ed"
      },
      "source": [
        "# Extração dos dados de um portfólio de ações do site Yahoo Finance\n",
        "\n",
        "# PETR4 = Petrobras\n",
        "# BBDC4 = Bradesco\n",
        "# ABEV3 = AMBEV\n",
        "# WEGE3 = Weg\n",
        "# VALE3 - Vale\n",
        "\n",
        "tickers = ['PETR4.SA','BBDC4.SA','ABEV3.SA','WEGE3.SA','VALE3.SA']\n",
        "bolsas = pd.DataFrame()\n",
        "for t in tickers:\n",
        "    bolsas[t] = wb.DataReader(t, data_source='yahoo',start='2010-1-1')['Adj Close']\n",
        "\n",
        "bolsas.tail(10)"
      ],
      "execution_count": 227,
      "outputs": [
        {
          "output_type": "execute_result",
          "data": {
            "text/html": [
              "<div>\n",
              "<style scoped>\n",
              "    .dataframe tbody tr th:only-of-type {\n",
              "        vertical-align: middle;\n",
              "    }\n",
              "\n",
              "    .dataframe tbody tr th {\n",
              "        vertical-align: top;\n",
              "    }\n",
              "\n",
              "    .dataframe thead th {\n",
              "        text-align: right;\n",
              "    }\n",
              "</style>\n",
              "<table border=\"1\" class=\"dataframe\">\n",
              "  <thead>\n",
              "    <tr style=\"text-align: right;\">\n",
              "      <th></th>\n",
              "      <th>PETR4.SA</th>\n",
              "      <th>BBDC4.SA</th>\n",
              "      <th>ABEV3.SA</th>\n",
              "      <th>WEGE3.SA</th>\n",
              "      <th>VALE3.SA</th>\n",
              "    </tr>\n",
              "    <tr>\n",
              "      <th>Date</th>\n",
              "      <th></th>\n",
              "      <th></th>\n",
              "      <th></th>\n",
              "      <th></th>\n",
              "      <th></th>\n",
              "    </tr>\n",
              "  </thead>\n",
              "  <tbody>\n",
              "    <tr>\n",
              "      <th>2021-06-08</th>\n",
              "      <td>28.660000</td>\n",
              "      <td>28.240000</td>\n",
              "      <td>19.590000</td>\n",
              "      <td>34.020000</td>\n",
              "      <td>109.919998</td>\n",
              "    </tr>\n",
              "    <tr>\n",
              "      <th>2021-06-09</th>\n",
              "      <td>28.660000</td>\n",
              "      <td>28.100000</td>\n",
              "      <td>19.309999</td>\n",
              "      <td>34.250000</td>\n",
              "      <td>112.199997</td>\n",
              "    </tr>\n",
              "    <tr>\n",
              "      <th>2021-06-10</th>\n",
              "      <td>28.680000</td>\n",
              "      <td>28.150000</td>\n",
              "      <td>19.320000</td>\n",
              "      <td>33.930000</td>\n",
              "      <td>111.830002</td>\n",
              "    </tr>\n",
              "    <tr>\n",
              "      <th>2021-06-11</th>\n",
              "      <td>28.570000</td>\n",
              "      <td>28.040001</td>\n",
              "      <td>18.940001</td>\n",
              "      <td>34.209999</td>\n",
              "      <td>114.339996</td>\n",
              "    </tr>\n",
              "    <tr>\n",
              "      <th>2021-06-14</th>\n",
              "      <td>28.750000</td>\n",
              "      <td>27.920000</td>\n",
              "      <td>19.480000</td>\n",
              "      <td>34.880001</td>\n",
              "      <td>113.720001</td>\n",
              "    </tr>\n",
              "    <tr>\n",
              "      <th>2021-06-15</th>\n",
              "      <td>29.030001</td>\n",
              "      <td>27.940001</td>\n",
              "      <td>19.129999</td>\n",
              "      <td>35.459999</td>\n",
              "      <td>111.500000</td>\n",
              "    </tr>\n",
              "    <tr>\n",
              "      <th>2021-06-16</th>\n",
              "      <td>29.139999</td>\n",
              "      <td>28.080000</td>\n",
              "      <td>19.090000</td>\n",
              "      <td>34.830002</td>\n",
              "      <td>108.150002</td>\n",
              "    </tr>\n",
              "    <tr>\n",
              "      <th>2021-06-17</th>\n",
              "      <td>28.129999</td>\n",
              "      <td>27.959999</td>\n",
              "      <td>19.010000</td>\n",
              "      <td>34.419998</td>\n",
              "      <td>105.900002</td>\n",
              "    </tr>\n",
              "    <tr>\n",
              "      <th>2021-06-18</th>\n",
              "      <td>28.190001</td>\n",
              "      <td>27.450001</td>\n",
              "      <td>18.760000</td>\n",
              "      <td>35.080002</td>\n",
              "      <td>108.730003</td>\n",
              "    </tr>\n",
              "    <tr>\n",
              "      <th>2021-06-21</th>\n",
              "      <td>28.950001</td>\n",
              "      <td>27.670000</td>\n",
              "      <td>18.730000</td>\n",
              "      <td>35.250000</td>\n",
              "      <td>110.110001</td>\n",
              "    </tr>\n",
              "  </tbody>\n",
              "</table>\n",
              "</div>"
            ],
            "text/plain": [
              "             PETR4.SA   BBDC4.SA   ABEV3.SA   WEGE3.SA    VALE3.SA\n",
              "Date                                                              \n",
              "2021-06-08  28.660000  28.240000  19.590000  34.020000  109.919998\n",
              "2021-06-09  28.660000  28.100000  19.309999  34.250000  112.199997\n",
              "2021-06-10  28.680000  28.150000  19.320000  33.930000  111.830002\n",
              "2021-06-11  28.570000  28.040001  18.940001  34.209999  114.339996\n",
              "2021-06-14  28.750000  27.920000  19.480000  34.880001  113.720001\n",
              "2021-06-15  29.030001  27.940001  19.129999  35.459999  111.500000\n",
              "2021-06-16  29.139999  28.080000  19.090000  34.830002  108.150002\n",
              "2021-06-17  28.129999  27.959999  19.010000  34.419998  105.900002\n",
              "2021-06-18  28.190001  27.450001  18.760000  35.080002  108.730003\n",
              "2021-06-21  28.950001  27.670000  18.730000  35.250000  110.110001"
            ]
          },
          "metadata": {
            "tags": []
          },
          "execution_count": 227
        }
      ]
    },
    {
      "cell_type": "markdown",
      "metadata": {
        "id": "qmBuyzkF7K9j"
      },
      "source": [
        "# Taxa de retorno das ações\n",
        "\n",
        "## taxa de retorno simples = (preço final - preço inicial) / preço inicial\n",
        "\n",
        "## taxa de retorno logarítmica = log preço final / log preço inicial"
      ]
    },
    {
      "cell_type": "markdown",
      "metadata": {
        "id": "WOfCIy1OUsfE"
      },
      "source": [
        ""
      ]
    },
    {
      "cell_type": "code",
      "metadata": {
        "id": "77jP9NHJvViW",
        "colab": {
          "base_uri": "https://localhost:8080/",
          "height": 455
        },
        "outputId": "c2dcf943-ab85-430f-c1a0-bac0173b795e"
      },
      "source": [
        "# Cálculo da taxa de retorno logarítmica das ações\n",
        "\n",
        "retorno = np.log(bolsas / bolsas.shift(1))\n",
        "retorno"
      ],
      "execution_count": 228,
      "outputs": [
        {
          "output_type": "execute_result",
          "data": {
            "text/html": [
              "<div>\n",
              "<style scoped>\n",
              "    .dataframe tbody tr th:only-of-type {\n",
              "        vertical-align: middle;\n",
              "    }\n",
              "\n",
              "    .dataframe tbody tr th {\n",
              "        vertical-align: top;\n",
              "    }\n",
              "\n",
              "    .dataframe thead th {\n",
              "        text-align: right;\n",
              "    }\n",
              "</style>\n",
              "<table border=\"1\" class=\"dataframe\">\n",
              "  <thead>\n",
              "    <tr style=\"text-align: right;\">\n",
              "      <th></th>\n",
              "      <th>PETR4.SA</th>\n",
              "      <th>BBDC4.SA</th>\n",
              "      <th>ABEV3.SA</th>\n",
              "      <th>WEGE3.SA</th>\n",
              "      <th>VALE3.SA</th>\n",
              "    </tr>\n",
              "    <tr>\n",
              "      <th>Date</th>\n",
              "      <th></th>\n",
              "      <th></th>\n",
              "      <th></th>\n",
              "      <th></th>\n",
              "      <th></th>\n",
              "    </tr>\n",
              "  </thead>\n",
              "  <tbody>\n",
              "    <tr>\n",
              "      <th>2010-01-04</th>\n",
              "      <td>NaN</td>\n",
              "      <td>NaN</td>\n",
              "      <td>NaN</td>\n",
              "      <td>NaN</td>\n",
              "      <td>NaN</td>\n",
              "    </tr>\n",
              "    <tr>\n",
              "      <th>2010-01-05</th>\n",
              "      <td>-0.008611</td>\n",
              "      <td>-0.004968</td>\n",
              "      <td>0.005865</td>\n",
              "      <td>-0.002185</td>\n",
              "      <td>0.009279</td>\n",
              "    </tr>\n",
              "    <tr>\n",
              "      <th>2010-01-06</th>\n",
              "      <td>0.013423</td>\n",
              "      <td>-0.008032</td>\n",
              "      <td>0.010150</td>\n",
              "      <td>0.005453</td>\n",
              "      <td>0.020945</td>\n",
              "    </tr>\n",
              "    <tr>\n",
              "      <th>2010-01-07</th>\n",
              "      <td>-0.009377</td>\n",
              "      <td>-0.002691</td>\n",
              "      <td>0.004684</td>\n",
              "      <td>0.016717</td>\n",
              "      <td>0.004137</td>\n",
              "    </tr>\n",
              "    <tr>\n",
              "      <th>2010-01-08</th>\n",
              "      <td>-0.005398</td>\n",
              "      <td>-0.001079</td>\n",
              "      <td>-0.001923</td>\n",
              "      <td>0.035718</td>\n",
              "      <td>0.009711</td>\n",
              "    </tr>\n",
              "    <tr>\n",
              "      <th>...</th>\n",
              "      <td>...</td>\n",
              "      <td>...</td>\n",
              "      <td>...</td>\n",
              "      <td>...</td>\n",
              "      <td>...</td>\n",
              "    </tr>\n",
              "    <tr>\n",
              "      <th>2021-06-15</th>\n",
              "      <td>0.009692</td>\n",
              "      <td>0.000716</td>\n",
              "      <td>-0.018131</td>\n",
              "      <td>0.016492</td>\n",
              "      <td>-0.019715</td>\n",
              "    </tr>\n",
              "    <tr>\n",
              "      <th>2021-06-16</th>\n",
              "      <td>0.003782</td>\n",
              "      <td>0.004998</td>\n",
              "      <td>-0.002093</td>\n",
              "      <td>-0.017926</td>\n",
              "      <td>-0.030505</td>\n",
              "    </tr>\n",
              "    <tr>\n",
              "      <th>2021-06-17</th>\n",
              "      <td>-0.035275</td>\n",
              "      <td>-0.004283</td>\n",
              "      <td>-0.004199</td>\n",
              "      <td>-0.011841</td>\n",
              "      <td>-0.021024</td>\n",
              "    </tr>\n",
              "    <tr>\n",
              "      <th>2021-06-18</th>\n",
              "      <td>0.002131</td>\n",
              "      <td>-0.018409</td>\n",
              "      <td>-0.013238</td>\n",
              "      <td>0.018993</td>\n",
              "      <td>0.026373</td>\n",
              "    </tr>\n",
              "    <tr>\n",
              "      <th>2021-06-21</th>\n",
              "      <td>0.026603</td>\n",
              "      <td>0.007983</td>\n",
              "      <td>-0.001600</td>\n",
              "      <td>0.004834</td>\n",
              "      <td>0.012612</td>\n",
              "    </tr>\n",
              "  </tbody>\n",
              "</table>\n",
              "<p>2839 rows × 5 columns</p>\n",
              "</div>"
            ],
            "text/plain": [
              "            PETR4.SA  BBDC4.SA  ABEV3.SA  WEGE3.SA  VALE3.SA\n",
              "Date                                                        \n",
              "2010-01-04       NaN       NaN       NaN       NaN       NaN\n",
              "2010-01-05 -0.008611 -0.004968  0.005865 -0.002185  0.009279\n",
              "2010-01-06  0.013423 -0.008032  0.010150  0.005453  0.020945\n",
              "2010-01-07 -0.009377 -0.002691  0.004684  0.016717  0.004137\n",
              "2010-01-08 -0.005398 -0.001079 -0.001923  0.035718  0.009711\n",
              "...              ...       ...       ...       ...       ...\n",
              "2021-06-15  0.009692  0.000716 -0.018131  0.016492 -0.019715\n",
              "2021-06-16  0.003782  0.004998 -0.002093 -0.017926 -0.030505\n",
              "2021-06-17 -0.035275 -0.004283 -0.004199 -0.011841 -0.021024\n",
              "2021-06-18  0.002131 -0.018409 -0.013238  0.018993  0.026373\n",
              "2021-06-21  0.026603  0.007983 -0.001600  0.004834  0.012612\n",
              "\n",
              "[2839 rows x 5 columns]"
            ]
          },
          "metadata": {
            "tags": []
          },
          "execution_count": 228
        }
      ]
    },
    {
      "cell_type": "code",
      "metadata": {
        "id": "nQrEprs0vVid",
        "colab": {
          "base_uri": "https://localhost:8080/"
        },
        "outputId": "f5f32cf0-f627-48b5-fa56-eee4aed6d6b0"
      },
      "source": [
        "retorno['PETR4.SA'].mean()"
      ],
      "execution_count": 229,
      "outputs": [
        {
          "output_type": "execute_result",
          "data": {
            "text/plain": [
              "9.971017593797104e-06"
            ]
          },
          "metadata": {
            "tags": []
          },
          "execution_count": 229
        }
      ]
    },
    {
      "cell_type": "code",
      "metadata": {
        "id": "WVvPx2QJvVil",
        "colab": {
          "base_uri": "https://localhost:8080/"
        },
        "outputId": "8f12691b-ec1f-49ec-8dde-51881293c656"
      },
      "source": [
        "retorno['BBDC4.SA'].mean()"
      ],
      "execution_count": 230,
      "outputs": [
        {
          "output_type": "execute_result",
          "data": {
            "text/plain": [
              "0.00033263975498928395"
            ]
          },
          "metadata": {
            "tags": []
          },
          "execution_count": 230
        }
      ]
    },
    {
      "cell_type": "code",
      "metadata": {
        "id": "cjZsHPyYvVis",
        "colab": {
          "base_uri": "https://localhost:8080/"
        },
        "outputId": "21afdd26-f150-4b15-e3be-b9980925af83"
      },
      "source": [
        "retorno['ABEV3.SA'].mean()"
      ],
      "execution_count": 231,
      "outputs": [
        {
          "output_type": "execute_result",
          "data": {
            "text/plain": [
              "0.0005278081558887982"
            ]
          },
          "metadata": {
            "tags": []
          },
          "execution_count": 231
        }
      ]
    },
    {
      "cell_type": "code",
      "metadata": {
        "id": "NjI6ALtbvVix",
        "colab": {
          "base_uri": "https://localhost:8080/"
        },
        "outputId": "1c5b104f-5812-49c7-fe09-9d83cc31216d"
      },
      "source": [
        "retorno['WEGE3.SA'].mean()"
      ],
      "execution_count": 232,
      "outputs": [
        {
          "output_type": "execute_result",
          "data": {
            "text/plain": [
              "0.000986433582373584"
            ]
          },
          "metadata": {
            "tags": []
          },
          "execution_count": 232
        }
      ]
    },
    {
      "cell_type": "code",
      "metadata": {
        "id": "vNkpAOUdvVi3",
        "colab": {
          "base_uri": "https://localhost:8080/"
        },
        "outputId": "0d112001-e3f5-4102-c94a-8e6bca7e7721"
      },
      "source": [
        "retorno['VALE3.SA'].mean()"
      ],
      "execution_count": 233,
      "outputs": [
        {
          "output_type": "execute_result",
          "data": {
            "text/plain": [
              "0.00043444135489962595"
            ]
          },
          "metadata": {
            "tags": []
          },
          "execution_count": 233
        }
      ]
    },
    {
      "cell_type": "code",
      "metadata": {
        "id": "BgSMIVzyvVi9",
        "colab": {
          "base_uri": "https://localhost:8080/"
        },
        "outputId": "93ca865e-da4e-4be7-c714-34168bb53dcd"
      },
      "source": [
        "retorno['PETR4.SA'].std()"
      ],
      "execution_count": 234,
      "outputs": [
        {
          "output_type": "execute_result",
          "data": {
            "text/plain": [
              "0.029974969173161572"
            ]
          },
          "metadata": {
            "tags": []
          },
          "execution_count": 234
        }
      ]
    },
    {
      "cell_type": "code",
      "metadata": {
        "id": "T45VlnE6vVjD",
        "colab": {
          "base_uri": "https://localhost:8080/"
        },
        "outputId": "05e07814-b1f4-4b79-c72b-ea1628861aa0"
      },
      "source": [
        "retorno['BBDC4.SA'].std()"
      ],
      "execution_count": 235,
      "outputs": [
        {
          "output_type": "execute_result",
          "data": {
            "text/plain": [
              "0.021767062227298354"
            ]
          },
          "metadata": {
            "tags": []
          },
          "execution_count": 235
        }
      ]
    },
    {
      "cell_type": "code",
      "metadata": {
        "id": "SqDcT5x-vVjJ",
        "colab": {
          "base_uri": "https://localhost:8080/"
        },
        "outputId": "ec6e5489-8327-4845-f37e-b6cb85613e1a"
      },
      "source": [
        "retorno['ABEV3.SA'].std()"
      ],
      "execution_count": 236,
      "outputs": [
        {
          "output_type": "execute_result",
          "data": {
            "text/plain": [
              "0.01672039180640203"
            ]
          },
          "metadata": {
            "tags": []
          },
          "execution_count": 236
        }
      ]
    },
    {
      "cell_type": "code",
      "metadata": {
        "id": "fZbYds7YvVjP",
        "colab": {
          "base_uri": "https://localhost:8080/"
        },
        "outputId": "ddf964eb-c4b1-404a-fa13-fa968cb007a3"
      },
      "source": [
        "retorno['WEGE3.SA'].std()"
      ],
      "execution_count": 237,
      "outputs": [
        {
          "output_type": "execute_result",
          "data": {
            "text/plain": [
              "0.02000204500302843"
            ]
          },
          "metadata": {
            "tags": []
          },
          "execution_count": 237
        }
      ]
    },
    {
      "cell_type": "code",
      "metadata": {
        "id": "K6txPiw9vVjW",
        "colab": {
          "base_uri": "https://localhost:8080/"
        },
        "outputId": "8e898b56-db1f-47fc-862d-cf346e29226e"
      },
      "source": [
        "retorno['VALE3.SA'].std()"
      ],
      "execution_count": 238,
      "outputs": [
        {
          "output_type": "execute_result",
          "data": {
            "text/plain": [
              "0.026586085006656907"
            ]
          },
          "metadata": {
            "tags": []
          },
          "execution_count": 238
        }
      ]
    },
    {
      "cell_type": "code",
      "metadata": {
        "id": "ie-FU_SwvVjb",
        "colab": {
          "base_uri": "https://localhost:8080/"
        },
        "outputId": "1b7b264f-c573-4d66-d184-0b73601cba0d"
      },
      "source": [
        "LOGN_var = retorno['PETR4.SA'].var()\n",
        "LOGN_var"
      ],
      "execution_count": 239,
      "outputs": [
        {
          "output_type": "execute_result",
          "data": {
            "text/plain": [
              "0.0008984987769319866"
            ]
          },
          "metadata": {
            "tags": []
          },
          "execution_count": 239
        }
      ]
    },
    {
      "cell_type": "code",
      "metadata": {
        "id": "hJR6DQF1vVjh",
        "colab": {
          "base_uri": "https://localhost:8080/"
        },
        "outputId": "cdf0dbeb-89f9-4bc2-d7b4-1edc54c9a1b4"
      },
      "source": [
        "VVAR_var = retorno['BBDC4.SA'].var()\n",
        "VVAR_var"
      ],
      "execution_count": 240,
      "outputs": [
        {
          "output_type": "execute_result",
          "data": {
            "text/plain": [
              "0.0004738049980070788"
            ]
          },
          "metadata": {
            "tags": []
          },
          "execution_count": 240
        }
      ]
    },
    {
      "cell_type": "code",
      "metadata": {
        "id": "aqB9VVupvVjm",
        "colab": {
          "base_uri": "https://localhost:8080/"
        },
        "outputId": "aed166e8-e1c4-4a43-9d00-f5fa4da0ae8f"
      },
      "source": [
        "LOGG_var = retorno['ABEV3.SA'].var()\n",
        "LOGG_var"
      ],
      "execution_count": 241,
      "outputs": [
        {
          "output_type": "execute_result",
          "data": {
            "text/plain": [
              "0.00027957150215959613"
            ]
          },
          "metadata": {
            "tags": []
          },
          "execution_count": 241
        }
      ]
    },
    {
      "cell_type": "code",
      "metadata": {
        "id": "lo_L-nYvvVjq",
        "colab": {
          "base_uri": "https://localhost:8080/"
        },
        "outputId": "8f6746e4-0e34-4b3c-d10b-7dded87b6848"
      },
      "source": [
        "MRFG_var = retorno['WEGE3.SA'].var()\n",
        "MRFG_var"
      ],
      "execution_count": 242,
      "outputs": [
        {
          "output_type": "execute_result",
          "data": {
            "text/plain": [
              "0.0004000818043031747"
            ]
          },
          "metadata": {
            "tags": []
          },
          "execution_count": 242
        }
      ]
    },
    {
      "cell_type": "code",
      "metadata": {
        "id": "topNlYN8vVjv",
        "colab": {
          "base_uri": "https://localhost:8080/"
        },
        "outputId": "05f4a2de-f64a-41bd-d696-d653052c9f50"
      },
      "source": [
        "TRIS_var = retorno['VALE3.SA'].var()\n",
        "TRIS_var"
      ],
      "execution_count": 243,
      "outputs": [
        {
          "output_type": "execute_result",
          "data": {
            "text/plain": [
              "0.0007068199159811871"
            ]
          },
          "metadata": {
            "tags": []
          },
          "execution_count": 243
        }
      ]
    },
    {
      "cell_type": "markdown",
      "metadata": {
        "id": "IFK29V1hvVjy"
      },
      "source": [
        "## Covariância\n",
        "\n",
        "cov > 0 => variáveis se movem na mesma direção\n",
        "\n",
        "cov < 0 => variáveis se movem em direções opostas\n",
        "\n",
        "cov = 0 => variáveis são independentes"
      ]
    },
    {
      "cell_type": "code",
      "metadata": {
        "id": "bRNhQ8LpvVj0",
        "colab": {
          "base_uri": "https://localhost:8080/",
          "height": 0
        },
        "outputId": "b4056082-847b-4329-9739-833635bc9a1c"
      },
      "source": [
        "cov_matrix = bolsas.cov()\n",
        "cov_matrix"
      ],
      "execution_count": 244,
      "outputs": [
        {
          "output_type": "execute_result",
          "data": {
            "text/html": [
              "<div>\n",
              "<style scoped>\n",
              "    .dataframe tbody tr th:only-of-type {\n",
              "        vertical-align: middle;\n",
              "    }\n",
              "\n",
              "    .dataframe tbody tr th {\n",
              "        vertical-align: top;\n",
              "    }\n",
              "\n",
              "    .dataframe thead th {\n",
              "        text-align: right;\n",
              "    }\n",
              "</style>\n",
              "<table border=\"1\" class=\"dataframe\">\n",
              "  <thead>\n",
              "    <tr style=\"text-align: right;\">\n",
              "      <th></th>\n",
              "      <th>PETR4.SA</th>\n",
              "      <th>BBDC4.SA</th>\n",
              "      <th>ABEV3.SA</th>\n",
              "      <th>WEGE3.SA</th>\n",
              "      <th>VALE3.SA</th>\n",
              "    </tr>\n",
              "  </thead>\n",
              "  <tbody>\n",
              "    <tr>\n",
              "      <th>PETR4.SA</th>\n",
              "      <td>33.649399</td>\n",
              "      <td>20.605497</td>\n",
              "      <td>-4.965914</td>\n",
              "      <td>21.814552</td>\n",
              "      <td>75.714303</td>\n",
              "    </tr>\n",
              "    <tr>\n",
              "      <th>BBDC4.SA</th>\n",
              "      <td>20.605497</td>\n",
              "      <td>46.562959</td>\n",
              "      <td>20.642447</td>\n",
              "      <td>39.145635</td>\n",
              "      <td>76.645354</td>\n",
              "    </tr>\n",
              "    <tr>\n",
              "      <th>ABEV3.SA</th>\n",
              "      <td>-4.965914</td>\n",
              "      <td>20.642447</td>\n",
              "      <td>20.377221</td>\n",
              "      <td>14.311558</td>\n",
              "      <td>10.695243</td>\n",
              "    </tr>\n",
              "    <tr>\n",
              "      <th>WEGE3.SA</th>\n",
              "      <td>21.814552</td>\n",
              "      <td>39.145635</td>\n",
              "      <td>14.311558</td>\n",
              "      <td>87.850691</td>\n",
              "      <td>142.802025</td>\n",
              "    </tr>\n",
              "    <tr>\n",
              "      <th>VALE3.SA</th>\n",
              "      <td>75.714303</td>\n",
              "      <td>76.645354</td>\n",
              "      <td>10.695243</td>\n",
              "      <td>142.802025</td>\n",
              "      <td>348.003576</td>\n",
              "    </tr>\n",
              "  </tbody>\n",
              "</table>\n",
              "</div>"
            ],
            "text/plain": [
              "           PETR4.SA   BBDC4.SA   ABEV3.SA    WEGE3.SA    VALE3.SA\n",
              "PETR4.SA  33.649399  20.605497  -4.965914   21.814552   75.714303\n",
              "BBDC4.SA  20.605497  46.562959  20.642447   39.145635   76.645354\n",
              "ABEV3.SA  -4.965914  20.642447  20.377221   14.311558   10.695243\n",
              "WEGE3.SA  21.814552  39.145635  14.311558   87.850691  142.802025\n",
              "VALE3.SA  75.714303  76.645354  10.695243  142.802025  348.003576"
            ]
          },
          "metadata": {
            "tags": []
          },
          "execution_count": 244
        }
      ]
    },
    {
      "cell_type": "code",
      "metadata": {
        "id": "fsh9iCwmvVj4",
        "colab": {
          "base_uri": "https://localhost:8080/",
          "height": 0
        },
        "outputId": "5f7df39e-4439-4733-e619-bd6f898acf86"
      },
      "source": [
        "cov_matrix = retorno.cov()\n",
        "cov_matrix"
      ],
      "execution_count": 245,
      "outputs": [
        {
          "output_type": "execute_result",
          "data": {
            "text/html": [
              "<div>\n",
              "<style scoped>\n",
              "    .dataframe tbody tr th:only-of-type {\n",
              "        vertical-align: middle;\n",
              "    }\n",
              "\n",
              "    .dataframe tbody tr th {\n",
              "        vertical-align: top;\n",
              "    }\n",
              "\n",
              "    .dataframe thead th {\n",
              "        text-align: right;\n",
              "    }\n",
              "</style>\n",
              "<table border=\"1\" class=\"dataframe\">\n",
              "  <thead>\n",
              "    <tr style=\"text-align: right;\">\n",
              "      <th></th>\n",
              "      <th>PETR4.SA</th>\n",
              "      <th>BBDC4.SA</th>\n",
              "      <th>ABEV3.SA</th>\n",
              "      <th>WEGE3.SA</th>\n",
              "      <th>VALE3.SA</th>\n",
              "    </tr>\n",
              "  </thead>\n",
              "  <tbody>\n",
              "    <tr>\n",
              "      <th>PETR4.SA</th>\n",
              "      <td>0.000898</td>\n",
              "      <td>0.000380</td>\n",
              "      <td>0.000170</td>\n",
              "      <td>0.000181</td>\n",
              "      <td>0.000378</td>\n",
              "    </tr>\n",
              "    <tr>\n",
              "      <th>BBDC4.SA</th>\n",
              "      <td>0.000380</td>\n",
              "      <td>0.000474</td>\n",
              "      <td>0.000159</td>\n",
              "      <td>0.000149</td>\n",
              "      <td>0.000227</td>\n",
              "    </tr>\n",
              "    <tr>\n",
              "      <th>ABEV3.SA</th>\n",
              "      <td>0.000170</td>\n",
              "      <td>0.000159</td>\n",
              "      <td>0.000280</td>\n",
              "      <td>0.000112</td>\n",
              "      <td>0.000121</td>\n",
              "    </tr>\n",
              "    <tr>\n",
              "      <th>WEGE3.SA</th>\n",
              "      <td>0.000181</td>\n",
              "      <td>0.000149</td>\n",
              "      <td>0.000112</td>\n",
              "      <td>0.000400</td>\n",
              "      <td>0.000128</td>\n",
              "    </tr>\n",
              "    <tr>\n",
              "      <th>VALE3.SA</th>\n",
              "      <td>0.000378</td>\n",
              "      <td>0.000227</td>\n",
              "      <td>0.000121</td>\n",
              "      <td>0.000128</td>\n",
              "      <td>0.000707</td>\n",
              "    </tr>\n",
              "  </tbody>\n",
              "</table>\n",
              "</div>"
            ],
            "text/plain": [
              "          PETR4.SA  BBDC4.SA  ABEV3.SA  WEGE3.SA  VALE3.SA\n",
              "PETR4.SA  0.000898  0.000380  0.000170  0.000181  0.000378\n",
              "BBDC4.SA  0.000380  0.000474  0.000159  0.000149  0.000227\n",
              "ABEV3.SA  0.000170  0.000159  0.000280  0.000112  0.000121\n",
              "WEGE3.SA  0.000181  0.000149  0.000112  0.000400  0.000128\n",
              "VALE3.SA  0.000378  0.000227  0.000121  0.000128  0.000707"
            ]
          },
          "metadata": {
            "tags": []
          },
          "execution_count": 245
        }
      ]
    },
    {
      "cell_type": "markdown",
      "metadata": {
        "id": "N9-J52EyvVj-"
      },
      "source": [
        "## Correlação\n",
        "\n",
        "corr = 1 => correlação perfeita\n",
        "\n",
        "corr > 0 => variáveis se movem na mesma direção\n",
        "\n",
        "corr = -1 => correlação perfeitamente negativa\n",
        "\n",
        "corr < 0 => variáveis se movem em direções opostas\n",
        "\n",
        "corr = 0 => variáveis absolutamente independentes"
      ]
    },
    {
      "cell_type": "code",
      "metadata": {
        "id": "FTSIhDLfvVj_",
        "colab": {
          "base_uri": "https://localhost:8080/",
          "height": 206
        },
        "outputId": "9b9f20a4-0789-4b1a-c2d2-b73272a6a951"
      },
      "source": [
        "corr_matrix = retorno.corr()\n",
        "corr_matrix"
      ],
      "execution_count": 246,
      "outputs": [
        {
          "output_type": "execute_result",
          "data": {
            "text/html": [
              "<div>\n",
              "<style scoped>\n",
              "    .dataframe tbody tr th:only-of-type {\n",
              "        vertical-align: middle;\n",
              "    }\n",
              "\n",
              "    .dataframe tbody tr th {\n",
              "        vertical-align: top;\n",
              "    }\n",
              "\n",
              "    .dataframe thead th {\n",
              "        text-align: right;\n",
              "    }\n",
              "</style>\n",
              "<table border=\"1\" class=\"dataframe\">\n",
              "  <thead>\n",
              "    <tr style=\"text-align: right;\">\n",
              "      <th></th>\n",
              "      <th>PETR4.SA</th>\n",
              "      <th>BBDC4.SA</th>\n",
              "      <th>ABEV3.SA</th>\n",
              "      <th>WEGE3.SA</th>\n",
              "      <th>VALE3.SA</th>\n",
              "    </tr>\n",
              "  </thead>\n",
              "  <tbody>\n",
              "    <tr>\n",
              "      <th>PETR4.SA</th>\n",
              "      <td>1.000000</td>\n",
              "      <td>0.582892</td>\n",
              "      <td>0.339493</td>\n",
              "      <td>0.302409</td>\n",
              "      <td>0.474692</td>\n",
              "    </tr>\n",
              "    <tr>\n",
              "      <th>BBDC4.SA</th>\n",
              "      <td>0.582892</td>\n",
              "      <td>1.000000</td>\n",
              "      <td>0.436888</td>\n",
              "      <td>0.343042</td>\n",
              "      <td>0.391549</td>\n",
              "    </tr>\n",
              "    <tr>\n",
              "      <th>ABEV3.SA</th>\n",
              "      <td>0.339493</td>\n",
              "      <td>0.436888</td>\n",
              "      <td>1.000000</td>\n",
              "      <td>0.334617</td>\n",
              "      <td>0.272183</td>\n",
              "    </tr>\n",
              "    <tr>\n",
              "      <th>WEGE3.SA</th>\n",
              "      <td>0.302409</td>\n",
              "      <td>0.343042</td>\n",
              "      <td>0.334617</td>\n",
              "      <td>1.000000</td>\n",
              "      <td>0.240107</td>\n",
              "    </tr>\n",
              "    <tr>\n",
              "      <th>VALE3.SA</th>\n",
              "      <td>0.474692</td>\n",
              "      <td>0.391549</td>\n",
              "      <td>0.272183</td>\n",
              "      <td>0.240107</td>\n",
              "      <td>1.000000</td>\n",
              "    </tr>\n",
              "  </tbody>\n",
              "</table>\n",
              "</div>"
            ],
            "text/plain": [
              "          PETR4.SA  BBDC4.SA  ABEV3.SA  WEGE3.SA  VALE3.SA\n",
              "PETR4.SA  1.000000  0.582892  0.339493  0.302409  0.474692\n",
              "BBDC4.SA  0.582892  1.000000  0.436888  0.343042  0.391549\n",
              "ABEV3.SA  0.339493  0.436888  1.000000  0.334617  0.272183\n",
              "WEGE3.SA  0.302409  0.343042  0.334617  1.000000  0.240107\n",
              "VALE3.SA  0.474692  0.391549  0.272183  0.240107  1.000000"
            ]
          },
          "metadata": {
            "tags": []
          },
          "execution_count": 246
        }
      ]
    },
    {
      "cell_type": "code",
      "metadata": {
        "id": "Mv7jEGSzvVkF",
        "colab": {
          "base_uri": "https://localhost:8080/",
          "height": 384
        },
        "outputId": "cc5c034f-e88e-4bab-f311-af00c6a37ad0"
      },
      "source": [
        "retorno.plot(figsize = (15, 6));\n",
        "plt.show"
      ],
      "execution_count": 247,
      "outputs": [
        {
          "output_type": "execute_result",
          "data": {
            "text/plain": [
              "<function matplotlib.pyplot.show>"
            ]
          },
          "metadata": {
            "tags": []
          },
          "execution_count": 247
        },
        {
          "output_type": "display_data",
          "data": {
            "image/png": "[encoded data removed]",
            "text/plain": [
              "<Figure size 1080x432 with 1 Axes>"
            ]
          },
          "metadata": {
            "tags": [],
            "needs_background": "light"
          }
        }
      ]
    },
    {
      "cell_type": "code",
      "metadata": {
        "id": "elcvL9qtvVkK",
        "colab": {
          "base_uri": "https://localhost:8080/",
          "height": 206
        },
        "outputId": "20e8551a-21e7-4574-cafa-016f84910e84"
      },
      "source": [
        "corr_matrix = bolsas.corr()\n",
        "corr_matrix"
      ],
      "execution_count": 248,
      "outputs": [
        {
          "output_type": "execute_result",
          "data": {
            "text/html": [
              "<div>\n",
              "<style scoped>\n",
              "    .dataframe tbody tr th:only-of-type {\n",
              "        vertical-align: middle;\n",
              "    }\n",
              "\n",
              "    .dataframe tbody tr th {\n",
              "        vertical-align: top;\n",
              "    }\n",
              "\n",
              "    .dataframe thead th {\n",
              "        text-align: right;\n",
              "    }\n",
              "</style>\n",
              "<table border=\"1\" class=\"dataframe\">\n",
              "  <thead>\n",
              "    <tr style=\"text-align: right;\">\n",
              "      <th></th>\n",
              "      <th>PETR4.SA</th>\n",
              "      <th>BBDC4.SA</th>\n",
              "      <th>ABEV3.SA</th>\n",
              "      <th>WEGE3.SA</th>\n",
              "      <th>VALE3.SA</th>\n",
              "    </tr>\n",
              "  </thead>\n",
              "  <tbody>\n",
              "    <tr>\n",
              "      <th>PETR4.SA</th>\n",
              "      <td>1.000000</td>\n",
              "      <td>0.520564</td>\n",
              "      <td>-0.189644</td>\n",
              "      <td>0.401222</td>\n",
              "      <td>0.699677</td>\n",
              "    </tr>\n",
              "    <tr>\n",
              "      <th>BBDC4.SA</th>\n",
              "      <td>0.520564</td>\n",
              "      <td>1.000000</td>\n",
              "      <td>0.670144</td>\n",
              "      <td>0.612055</td>\n",
              "      <td>0.602107</td>\n",
              "    </tr>\n",
              "    <tr>\n",
              "      <th>ABEV3.SA</th>\n",
              "      <td>-0.189644</td>\n",
              "      <td>0.670144</td>\n",
              "      <td>1.000000</td>\n",
              "      <td>0.338253</td>\n",
              "      <td>0.127007</td>\n",
              "    </tr>\n",
              "    <tr>\n",
              "      <th>WEGE3.SA</th>\n",
              "      <td>0.401222</td>\n",
              "      <td>0.612055</td>\n",
              "      <td>0.338253</td>\n",
              "      <td>1.000000</td>\n",
              "      <td>0.816714</td>\n",
              "    </tr>\n",
              "    <tr>\n",
              "      <th>VALE3.SA</th>\n",
              "      <td>0.699677</td>\n",
              "      <td>0.602107</td>\n",
              "      <td>0.127007</td>\n",
              "      <td>0.816714</td>\n",
              "      <td>1.000000</td>\n",
              "    </tr>\n",
              "  </tbody>\n",
              "</table>\n",
              "</div>"
            ],
            "text/plain": [
              "          PETR4.SA  BBDC4.SA  ABEV3.SA  WEGE3.SA  VALE3.SA\n",
              "PETR4.SA  1.000000  0.520564 -0.189644  0.401222  0.699677\n",
              "BBDC4.SA  0.520564  1.000000  0.670144  0.612055  0.602107\n",
              "ABEV3.SA -0.189644  0.670144  1.000000  0.338253  0.127007\n",
              "WEGE3.SA  0.401222  0.612055  0.338253  1.000000  0.816714\n",
              "VALE3.SA  0.699677  0.602107  0.127007  0.816714  1.000000"
            ]
          },
          "metadata": {
            "tags": []
          },
          "execution_count": 248
        }
      ]
    },
    {
      "cell_type": "code",
      "metadata": {
        "id": "4NC0BDYKvVkP",
        "colab": {
          "base_uri": "https://localhost:8080/",
          "height": 384
        },
        "outputId": "2d7c4915-2f28-4576-b76f-786008b8339b"
      },
      "source": [
        "(bolsas / bolsas.iloc[0] * 100).plot(figsize = (15, 6));\n",
        "plt.show"
      ],
      "execution_count": 249,
      "outputs": [
        {
          "output_type": "execute_result",
          "data": {
            "text/plain": [
              "<function matplotlib.pyplot.show>"
            ]
          },
          "metadata": {
            "tags": []
          },
          "execution_count": 249
        },
        {
          "output_type": "display_data",
          "data": {
            "image/png": "[encoded data removed]",
            "text/plain": [
              "<Figure size 1080x432 with 1 Axes>"
            ]
          },
          "metadata": {
            "tags": [],
            "needs_background": "light"
          }
        }
      ]
    },
    {
      "cell_type": "markdown",
      "metadata": {
        "id": "OurTVGW_AX_-"
      },
      "source": [
        "# Otimização de Portfólio de Markowitz"
      ]
    },
    {
      "cell_type": "code",
      "metadata": {
        "id": "Hxc7Qr4-vVkY",
        "colab": {
          "base_uri": "https://localhost:8080/"
        },
        "outputId": "3c9c8b7d-6fa2-4e04-bc6d-5d8a4859fa0e"
      },
      "source": [
        "retorno.mean() * 250"
      ],
      "execution_count": 250,
      "outputs": [
        {
          "output_type": "execute_result",
          "data": {
            "text/plain": [
              "PETR4.SA    0.002493\n",
              "BBDC4.SA    0.083160\n",
              "ABEV3.SA    0.131952\n",
              "WEGE3.SA    0.246608\n",
              "VALE3.SA    0.108610\n",
              "dtype: float64"
            ]
          },
          "metadata": {
            "tags": []
          },
          "execution_count": 250
        }
      ]
    },
    {
      "cell_type": "code",
      "metadata": {
        "id": "C1PQ2tClvVkb",
        "colab": {
          "base_uri": "https://localhost:8080/",
          "height": 206
        },
        "outputId": "8441eef8-fc88-4bf3-d453-54d31e5d9623"
      },
      "source": [
        "retorno.cov() * 250"
      ],
      "execution_count": 251,
      "outputs": [
        {
          "output_type": "execute_result",
          "data": {
            "text/html": [
              "<div>\n",
              "<style scoped>\n",
              "    .dataframe tbody tr th:only-of-type {\n",
              "        vertical-align: middle;\n",
              "    }\n",
              "\n",
              "    .dataframe tbody tr th {\n",
              "        vertical-align: top;\n",
              "    }\n",
              "\n",
              "    .dataframe thead th {\n",
              "        text-align: right;\n",
              "    }\n",
              "</style>\n",
              "<table border=\"1\" class=\"dataframe\">\n",
              "  <thead>\n",
              "    <tr style=\"text-align: right;\">\n",
              "      <th></th>\n",
              "      <th>PETR4.SA</th>\n",
              "      <th>BBDC4.SA</th>\n",
              "      <th>ABEV3.SA</th>\n",
              "      <th>WEGE3.SA</th>\n",
              "      <th>VALE3.SA</th>\n",
              "    </tr>\n",
              "  </thead>\n",
              "  <tbody>\n",
              "    <tr>\n",
              "      <th>PETR4.SA</th>\n",
              "      <td>0.224625</td>\n",
              "      <td>0.095080</td>\n",
              "      <td>0.042538</td>\n",
              "      <td>0.045328</td>\n",
              "      <td>0.094573</td>\n",
              "    </tr>\n",
              "    <tr>\n",
              "      <th>BBDC4.SA</th>\n",
              "      <td>0.095080</td>\n",
              "      <td>0.118451</td>\n",
              "      <td>0.039752</td>\n",
              "      <td>0.037339</td>\n",
              "      <td>0.056647</td>\n",
              "    </tr>\n",
              "    <tr>\n",
              "      <th>ABEV3.SA</th>\n",
              "      <td>0.042538</td>\n",
              "      <td>0.039752</td>\n",
              "      <td>0.069893</td>\n",
              "      <td>0.027977</td>\n",
              "      <td>0.030248</td>\n",
              "    </tr>\n",
              "    <tr>\n",
              "      <th>WEGE3.SA</th>\n",
              "      <td>0.045328</td>\n",
              "      <td>0.037339</td>\n",
              "      <td>0.027977</td>\n",
              "      <td>0.100020</td>\n",
              "      <td>0.031921</td>\n",
              "    </tr>\n",
              "    <tr>\n",
              "      <th>VALE3.SA</th>\n",
              "      <td>0.094573</td>\n",
              "      <td>0.056647</td>\n",
              "      <td>0.030248</td>\n",
              "      <td>0.031921</td>\n",
              "      <td>0.176705</td>\n",
              "    </tr>\n",
              "  </tbody>\n",
              "</table>\n",
              "</div>"
            ],
            "text/plain": [
              "          PETR4.SA  BBDC4.SA  ABEV3.SA  WEGE3.SA  VALE3.SA\n",
              "PETR4.SA  0.224625  0.095080  0.042538  0.045328  0.094573\n",
              "BBDC4.SA  0.095080  0.118451  0.039752  0.037339  0.056647\n",
              "ABEV3.SA  0.042538  0.039752  0.069893  0.027977  0.030248\n",
              "WEGE3.SA  0.045328  0.037339  0.027977  0.100020  0.031921\n",
              "VALE3.SA  0.094573  0.056647  0.030248  0.031921  0.176705"
            ]
          },
          "metadata": {
            "tags": []
          },
          "execution_count": 251
        }
      ]
    },
    {
      "cell_type": "code",
      "metadata": {
        "id": "nhTuXXywvVkf",
        "colab": {
          "base_uri": "https://localhost:8080/",
          "height": 206
        },
        "outputId": "63fedc89-4f9f-4580-a453-43347c3408f0"
      },
      "source": [
        "retorno.corr()"
      ],
      "execution_count": 252,
      "outputs": [
        {
          "output_type": "execute_result",
          "data": {
            "text/html": [
              "<div>\n",
              "<style scoped>\n",
              "    .dataframe tbody tr th:only-of-type {\n",
              "        vertical-align: middle;\n",
              "    }\n",
              "\n",
              "    .dataframe tbody tr th {\n",
              "        vertical-align: top;\n",
              "    }\n",
              "\n",
              "    .dataframe thead th {\n",
              "        text-align: right;\n",
              "    }\n",
              "</style>\n",
              "<table border=\"1\" class=\"dataframe\">\n",
              "  <thead>\n",
              "    <tr style=\"text-align: right;\">\n",
              "      <th></th>\n",
              "      <th>PETR4.SA</th>\n",
              "      <th>BBDC4.SA</th>\n",
              "      <th>ABEV3.SA</th>\n",
              "      <th>WEGE3.SA</th>\n",
              "      <th>VALE3.SA</th>\n",
              "    </tr>\n",
              "  </thead>\n",
              "  <tbody>\n",
              "    <tr>\n",
              "      <th>PETR4.SA</th>\n",
              "      <td>1.000000</td>\n",
              "      <td>0.582892</td>\n",
              "      <td>0.339493</td>\n",
              "      <td>0.302409</td>\n",
              "      <td>0.474692</td>\n",
              "    </tr>\n",
              "    <tr>\n",
              "      <th>BBDC4.SA</th>\n",
              "      <td>0.582892</td>\n",
              "      <td>1.000000</td>\n",
              "      <td>0.436888</td>\n",
              "      <td>0.343042</td>\n",
              "      <td>0.391549</td>\n",
              "    </tr>\n",
              "    <tr>\n",
              "      <th>ABEV3.SA</th>\n",
              "      <td>0.339493</td>\n",
              "      <td>0.436888</td>\n",
              "      <td>1.000000</td>\n",
              "      <td>0.334617</td>\n",
              "      <td>0.272183</td>\n",
              "    </tr>\n",
              "    <tr>\n",
              "      <th>WEGE3.SA</th>\n",
              "      <td>0.302409</td>\n",
              "      <td>0.343042</td>\n",
              "      <td>0.334617</td>\n",
              "      <td>1.000000</td>\n",
              "      <td>0.240107</td>\n",
              "    </tr>\n",
              "    <tr>\n",
              "      <th>VALE3.SA</th>\n",
              "      <td>0.474692</td>\n",
              "      <td>0.391549</td>\n",
              "      <td>0.272183</td>\n",
              "      <td>0.240107</td>\n",
              "      <td>1.000000</td>\n",
              "    </tr>\n",
              "  </tbody>\n",
              "</table>\n",
              "</div>"
            ],
            "text/plain": [
              "          PETR4.SA  BBDC4.SA  ABEV3.SA  WEGE3.SA  VALE3.SA\n",
              "PETR4.SA  1.000000  0.582892  0.339493  0.302409  0.474692\n",
              "BBDC4.SA  0.582892  1.000000  0.436888  0.343042  0.391549\n",
              "ABEV3.SA  0.339493  0.436888  1.000000  0.334617  0.272183\n",
              "WEGE3.SA  0.302409  0.343042  0.334617  1.000000  0.240107\n",
              "VALE3.SA  0.474692  0.391549  0.272183  0.240107  1.000000"
            ]
          },
          "metadata": {
            "tags": []
          },
          "execution_count": 252
        }
      ]
    },
    {
      "cell_type": "code",
      "metadata": {
        "id": "H47tbI_zvVki",
        "colab": {
          "base_uri": "https://localhost:8080/"
        },
        "outputId": "48ef86b2-e17a-40bf-ad0e-3448a91494af"
      },
      "source": [
        "num_tickers = len(tickers)\n",
        "num_tickers"
      ],
      "execution_count": 253,
      "outputs": [
        {
          "output_type": "execute_result",
          "data": {
            "text/plain": [
              "5"
            ]
          },
          "metadata": {
            "tags": []
          },
          "execution_count": 253
        }
      ]
    },
    {
      "cell_type": "code",
      "metadata": {
        "id": "h0PkHqn9vVkm",
        "colab": {
          "base_uri": "https://localhost:8080/"
        },
        "outputId": "24b4b2be-8d5c-4665-80a4-378b64959e2f"
      },
      "source": [
        "weights = np.random.random(num_tickers)\n",
        "weights /= np.sum(weights)\n",
        "weights"
      ],
      "execution_count": 254,
      "outputs": [
        {
          "output_type": "execute_result",
          "data": {
            "text/plain": [
              "array([0.38716457, 0.04749701, 0.31300753, 0.08989715, 0.16243375])"
            ]
          },
          "metadata": {
            "tags": []
          },
          "execution_count": 254
        }
      ]
    },
    {
      "cell_type": "code",
      "metadata": {
        "id": "1HfdLq1cvVkp",
        "colab": {
          "base_uri": "https://localhost:8080/"
        },
        "outputId": "ed8b4073-c227-404a-ff65-00f005d719e9"
      },
      "source": [
        "weights[0] + weights[1] + weights[2] + weights[3] + weights[4]"
      ],
      "execution_count": 255,
      "outputs": [
        {
          "output_type": "execute_result",
          "data": {
            "text/plain": [
              "1.0"
            ]
          },
          "metadata": {
            "tags": []
          },
          "execution_count": 255
        }
      ]
    },
    {
      "cell_type": "markdown",
      "metadata": {
        "id": "6B0pB1w-AvPk"
      },
      "source": [
        "# Retorno esperado do Portfólio"
      ]
    },
    {
      "cell_type": "code",
      "metadata": {
        "id": "D3Yx5MGOvVku",
        "colab": {
          "base_uri": "https://localhost:8080/"
        },
        "outputId": "c44fd765-6275-48e7-8e33-c084183c8b82"
      },
      "source": [
        "np.sum(weights * retorno.mean()) * 250"
      ],
      "execution_count": 256,
      "outputs": [
        {
          "output_type": "execute_result",
          "data": {
            "text/plain": [
              "0.08602831177364657"
            ]
          },
          "metadata": {
            "tags": []
          },
          "execution_count": 256
        }
      ]
    },
    {
      "cell_type": "markdown",
      "metadata": {
        "id": "5YCIWcXoA5Z3"
      },
      "source": [
        "# Variância esperada do Portfólio"
      ]
    },
    {
      "cell_type": "code",
      "metadata": {
        "id": "mVDC7qCUvVkw",
        "colab": {
          "base_uri": "https://localhost:8080/"
        },
        "outputId": "52a91433-5262-41cf-c061-35aa755b6721"
      },
      "source": [
        "np.dot(weights.T, np.dot(retorno.cov() *250, weights))"
      ],
      "execution_count": 257,
      "outputs": [
        {
          "output_type": "execute_result",
          "data": {
            "text/plain": [
              "0.0830706045830674"
            ]
          },
          "metadata": {
            "tags": []
          },
          "execution_count": 257
        }
      ]
    },
    {
      "cell_type": "markdown",
      "metadata": {
        "id": "c2rt4XyFBUmE"
      },
      "source": [
        "# Volatilidade esperada do Portfólio"
      ]
    },
    {
      "cell_type": "code",
      "metadata": {
        "colab": {
          "base_uri": "https://localhost:8080/"
        },
        "id": "1w738b1jBC8q",
        "outputId": "0ff1789f-cf4d-4f07-fac5-0b76ef4ddd4b"
      },
      "source": [
        "np.sqrt(np.dot(weights.T, np.dot(retorno.cov() *250, weights)))"
      ],
      "execution_count": 258,
      "outputs": [
        {
          "output_type": "execute_result",
          "data": {
            "text/plain": [
              "0.28821971581255057"
            ]
          },
          "metadata": {
            "tags": []
          },
          "execution_count": 258
        }
      ]
    },
    {
      "cell_type": "markdown",
      "metadata": {
        "id": "AFJBkxwABZ2H"
      },
      "source": [
        "# 1.000 combinações diferentes dos mesmos ativos"
      ]
    },
    {
      "cell_type": "code",
      "metadata": {
        "colab": {
          "base_uri": "https://localhost:8080/"
        },
        "id": "aRCltcgXBDHJ",
        "outputId": "1275c9c8-1ddb-4b56-e618-a5a55de22b96"
      },
      "source": [
        "pfolio_returns = []\n",
        "pfolio_volatilities = []\n",
        "\n",
        "for x in range (10000):\n",
        "    weights = np.random.random(num_tickers)\n",
        "    weights /= np.sum(weights)\n",
        "    pfolio_returns.append(np.sum(weights * retorno.mean()) * 250)\n",
        "    pfolio_volatilities.append(np.sqrt(np.dot(weights.T, np.dot(retorno.cov() *250, weights))))\n",
        "\n",
        "pfolio_returns = np.array(pfolio_returns)\n",
        "pfolio_volatilities = np.array(pfolio_volatilities)\n",
        "\n",
        "pfolio_returns, pfolio_volatilities"
      ],
      "execution_count": 259,
      "outputs": [
        {
          "output_type": "execute_result",
          "data": {
            "text/plain": [
              "(array([0.13905657, 0.13513028, 0.10085834, ..., 0.07915838, 0.14725445,\n",
              "        0.14840151]),\n",
              " array([0.26792787, 0.24695499, 0.25961954, ..., 0.31761467, 0.23662055,\n",
              "        0.24103989]))"
            ]
          },
          "metadata": {
            "tags": []
          },
          "execution_count": 259
        }
      ]
    },
    {
      "cell_type": "code",
      "metadata": {
        "colab": {
          "base_uri": "https://localhost:8080/",
          "height": 206
        },
        "id": "FTQ0LiWXBDP7",
        "outputId": "ef127d24-d879-4a25-8d37-b503b6ba8e87"
      },
      "source": [
        "portfolios = pd.DataFrame({'Retorno': pfolio_returns, 'Volatilidade': pfolio_volatilities})\n",
        "portfolios.head()"
      ],
      "execution_count": 260,
      "outputs": [
        {
          "output_type": "execute_result",
          "data": {
            "text/html": [
              "<div>\n",
              "<style scoped>\n",
              "    .dataframe tbody tr th:only-of-type {\n",
              "        vertical-align: middle;\n",
              "    }\n",
              "\n",
              "    .dataframe tbody tr th {\n",
              "        vertical-align: top;\n",
              "    }\n",
              "\n",
              "    .dataframe thead th {\n",
              "        text-align: right;\n",
              "    }\n",
              "</style>\n",
              "<table border=\"1\" class=\"dataframe\">\n",
              "  <thead>\n",
              "    <tr style=\"text-align: right;\">\n",
              "      <th></th>\n",
              "      <th>Retorno</th>\n",
              "      <th>Volatilidade</th>\n",
              "    </tr>\n",
              "  </thead>\n",
              "  <tbody>\n",
              "    <tr>\n",
              "      <th>0</th>\n",
              "      <td>0.139057</td>\n",
              "      <td>0.267928</td>\n",
              "    </tr>\n",
              "    <tr>\n",
              "      <th>1</th>\n",
              "      <td>0.135130</td>\n",
              "      <td>0.246955</td>\n",
              "    </tr>\n",
              "    <tr>\n",
              "      <th>2</th>\n",
              "      <td>0.100858</td>\n",
              "      <td>0.259620</td>\n",
              "    </tr>\n",
              "    <tr>\n",
              "      <th>3</th>\n",
              "      <td>0.101031</td>\n",
              "      <td>0.272652</td>\n",
              "    </tr>\n",
              "    <tr>\n",
              "      <th>4</th>\n",
              "      <td>0.120866</td>\n",
              "      <td>0.247141</td>\n",
              "    </tr>\n",
              "  </tbody>\n",
              "</table>\n",
              "</div>"
            ],
            "text/plain": [
              "    Retorno  Volatilidade\n",
              "0  0.139057      0.267928\n",
              "1  0.135130      0.246955\n",
              "2  0.100858      0.259620\n",
              "3  0.101031      0.272652\n",
              "4  0.120866      0.247141"
            ]
          },
          "metadata": {
            "tags": []
          },
          "execution_count": 260
        }
      ]
    },
    {
      "cell_type": "code",
      "metadata": {
        "colab": {
          "base_uri": "https://localhost:8080/",
          "height": 405
        },
        "id": "V2HwEubbBDYA",
        "outputId": "26f4f22d-6770-42c1-b0b9-c22ae3669683"
      },
      "source": [
        "portfolios.plot(x='Volatilidade', y='Retorno', kind='scatter', figsize=(10,6))\n",
        "plt.xlabel('Volatilidade esperada')\n",
        "plt.ylabel('Retorno esperado')"
      ],
      "execution_count": 261,
      "outputs": [
        {
          "output_type": "execute_result",
          "data": {
            "text/plain": [
              "Text(0, 0.5, 'Retorno esperado')"
            ]
          },
          "metadata": {
            "tags": []
          },
          "execution_count": 261
        },
        {
          "output_type": "display_data",
          "data": {
            "image/png": "[encoded data removed]",
            "text/plain": [
              "<Figure size 720x432 with 1 Axes>"
            ]
          },
          "metadata": {
            "tags": [],
            "needs_background": "light"
          }
        }
      ]
    },
    {
      "cell_type": "code",
      "metadata": {
        "colab": {
          "base_uri": "https://localhost:8080/",
          "height": 384
        },
        "id": "pjnBO4kpBDgT",
        "outputId": "84f1dfc5-955d-426d-a98c-2687c034e7bb"
      },
      "source": [
        "(bolsas / bolsas.iloc[0] * 100).plot(figsize = (15, 6));\n",
        "plt.show"
      ],
      "execution_count": 262,
      "outputs": [
        {
          "output_type": "execute_result",
          "data": {
            "text/plain": [
              "<function matplotlib.pyplot.show>"
            ]
          },
          "metadata": {
            "tags": []
          },
          "execution_count": 262
        },
        {
          "output_type": "display_data",
          "data": {
            "image/png": "[encoded data removed]",
            "text/plain": [
              "<Figure size 1080x432 with 1 Axes>"
            ]
          },
          "metadata": {
            "tags": [],
            "needs_background": "light"
          }
        }
      ]
    },
    {
      "cell_type": "code",
      "metadata": {
        "colab": {
          "base_uri": "https://localhost:8080/",
          "height": 384
        },
        "id": "-rfvscLIBDpp",
        "outputId": "7744bcff-7529-4737-81c9-52e417353035"
      },
      "source": [
        "bolsas.plot(figsize = (15, 6));\n",
        "plt.show"
      ],
      "execution_count": 263,
      "outputs": [
        {
          "output_type": "execute_result",
          "data": {
            "text/plain": [
              "<function matplotlib.pyplot.show>"
            ]
          },
          "metadata": {
            "tags": []
          },
          "execution_count": 263
        },
        {
          "output_type": "display_data",
          "data": {
            "image/png": "[encoded data removed]",
            "text/plain": [
              "<Figure size 1080x432 with 1 Axes>"
            ]
          },
          "metadata": {
            "tags": [],
            "needs_background": "light"
          }
        }
      ]
    },
    {
      "cell_type": "markdown",
      "metadata": {
        "id": "V0j0pxUxB69U"
      },
      "source": [
        "# CAPM\n",
        "\n",
        "### Medindo o Beta\n",
        "### Mede o risco de mercado que não pode ser evitado através da diversificação.\n",
        "### Quanto mais volátil uma ação, maior seu beta. O beta varia entre -1 e 2.\n",
        "### B = 0 nenhuma relação; B < 1 defensiva; B > 1 agressiva\n",
        "### Ações defensivas perdem menos quando a economia está mal e ganham menos quando estão bem; agressivas são o oposto."
      ]
    },
    {
      "cell_type": "code",
      "metadata": {
        "id": "jyX6fVDgCMUi"
      },
      "source": [
        "tickers = ['PETR4.SA','BBDC4.SA','ABEV3.SA','WEGE3.SA','VALE3.SA','^BVSP']\n",
        "data = pd.DataFrame()\n",
        "for t in tickers:\n",
        "    data[t] = wb.DataReader(t, data_source='yahoo',start='2015-1-1')['Adj Close']"
      ],
      "execution_count": 264,
      "outputs": []
    },
    {
      "cell_type": "code",
      "metadata": {
        "id": "JUQPAL2uCNiI"
      },
      "source": [
        "sec_returns = np.log( data / data.shift(1))"
      ],
      "execution_count": 265,
      "outputs": []
    },
    {
      "cell_type": "code",
      "metadata": {
        "colab": {
          "base_uri": "https://localhost:8080/",
          "height": 238
        },
        "id": "6qphYOf1CNrY",
        "outputId": "195d8d16-3616-40b0-9d55-bb4d0f03e4c0"
      },
      "source": [
        "cov = sec_returns.cov() * 250\n",
        "cov"
      ],
      "execution_count": 266,
      "outputs": [
        {
          "output_type": "execute_result",
          "data": {
            "text/html": [
              "<div>\n",
              "<style scoped>\n",
              "    .dataframe tbody tr th:only-of-type {\n",
              "        vertical-align: middle;\n",
              "    }\n",
              "\n",
              "    .dataframe tbody tr th {\n",
              "        vertical-align: top;\n",
              "    }\n",
              "\n",
              "    .dataframe thead th {\n",
              "        text-align: right;\n",
              "    }\n",
              "</style>\n",
              "<table border=\"1\" class=\"dataframe\">\n",
              "  <thead>\n",
              "    <tr style=\"text-align: right;\">\n",
              "      <th></th>\n",
              "      <th>PETR4.SA</th>\n",
              "      <th>BBDC4.SA</th>\n",
              "      <th>ABEV3.SA</th>\n",
              "      <th>WEGE3.SA</th>\n",
              "      <th>VALE3.SA</th>\n",
              "      <th>^BVSP</th>\n",
              "    </tr>\n",
              "  </thead>\n",
              "  <tbody>\n",
              "    <tr>\n",
              "      <th>PETR4.SA</th>\n",
              "      <td>0.290645</td>\n",
              "      <td>0.127447</td>\n",
              "      <td>0.059380</td>\n",
              "      <td>0.069724</td>\n",
              "      <td>0.128778</td>\n",
              "      <td>0.115639</td>\n",
              "    </tr>\n",
              "    <tr>\n",
              "      <th>BBDC4.SA</th>\n",
              "      <td>0.127447</td>\n",
              "      <td>0.144017</td>\n",
              "      <td>0.052306</td>\n",
              "      <td>0.051400</td>\n",
              "      <td>0.072504</td>\n",
              "      <td>0.086321</td>\n",
              "    </tr>\n",
              "    <tr>\n",
              "      <th>ABEV3.SA</th>\n",
              "      <td>0.059380</td>\n",
              "      <td>0.052306</td>\n",
              "      <td>0.078153</td>\n",
              "      <td>0.040230</td>\n",
              "      <td>0.037345</td>\n",
              "      <td>0.045963</td>\n",
              "    </tr>\n",
              "    <tr>\n",
              "      <th>WEGE3.SA</th>\n",
              "      <td>0.069724</td>\n",
              "      <td>0.051400</td>\n",
              "      <td>0.040230</td>\n",
              "      <td>0.125119</td>\n",
              "      <td>0.042079</td>\n",
              "      <td>0.052815</td>\n",
              "    </tr>\n",
              "    <tr>\n",
              "      <th>VALE3.SA</th>\n",
              "      <td>0.128778</td>\n",
              "      <td>0.072504</td>\n",
              "      <td>0.037345</td>\n",
              "      <td>0.042079</td>\n",
              "      <td>0.241928</td>\n",
              "      <td>0.079755</td>\n",
              "    </tr>\n",
              "    <tr>\n",
              "      <th>^BVSP</th>\n",
              "      <td>0.115639</td>\n",
              "      <td>0.086321</td>\n",
              "      <td>0.045963</td>\n",
              "      <td>0.052815</td>\n",
              "      <td>0.079755</td>\n",
              "      <td>0.072849</td>\n",
              "    </tr>\n",
              "  </tbody>\n",
              "</table>\n",
              "</div>"
            ],
            "text/plain": [
              "          PETR4.SA  BBDC4.SA  ABEV3.SA  WEGE3.SA  VALE3.SA     ^BVSP\n",
              "PETR4.SA  0.290645  0.127447  0.059380  0.069724  0.128778  0.115639\n",
              "BBDC4.SA  0.127447  0.144017  0.052306  0.051400  0.072504  0.086321\n",
              "ABEV3.SA  0.059380  0.052306  0.078153  0.040230  0.037345  0.045963\n",
              "WEGE3.SA  0.069724  0.051400  0.040230  0.125119  0.042079  0.052815\n",
              "VALE3.SA  0.128778  0.072504  0.037345  0.042079  0.241928  0.079755\n",
              "^BVSP     0.115639  0.086321  0.045963  0.052815  0.079755  0.072849"
            ]
          },
          "metadata": {
            "tags": []
          },
          "execution_count": 266
        }
      ]
    },
    {
      "cell_type": "code",
      "metadata": {
        "colab": {
          "base_uri": "https://localhost:8080/"
        },
        "id": "GoZNVeiqCNzD",
        "outputId": "e78d5ea6-4bc3-4774-805f-d53b42c37ef2"
      },
      "source": [
        "# Covariação da primeira ação com o mercado.\n",
        "\n",
        "cov_with_market = cov.iloc[0,5]\n",
        "cov_with_market"
      ],
      "execution_count": 267,
      "outputs": [
        {
          "output_type": "execute_result",
          "data": {
            "text/plain": [
              "0.1156390057792526"
            ]
          },
          "metadata": {
            "tags": []
          },
          "execution_count": 267
        }
      ]
    },
    {
      "cell_type": "code",
      "metadata": {
        "colab": {
          "base_uri": "https://localhost:8080/"
        },
        "id": "E_Zf8fLPCN6F",
        "outputId": "de77014d-21f6-47a2-c97b-f309e4183151"
      },
      "source": [
        "market_var = sec_returns['^BVSP'].var() * 250\n",
        "market_var"
      ],
      "execution_count": 268,
      "outputs": [
        {
          "output_type": "execute_result",
          "data": {
            "text/plain": [
              "0.07284938427602719"
            ]
          },
          "metadata": {
            "tags": []
          },
          "execution_count": 268
        }
      ]
    },
    {
      "cell_type": "code",
      "metadata": {
        "colab": {
          "base_uri": "https://localhost:8080/"
        },
        "id": "N_-klIwICOAt",
        "outputId": "830bf39f-a63b-4742-ffee-cd97f68db547"
      },
      "source": [
        "logn_beta = cov_with_market / market_var\n",
        "logn_beta"
      ],
      "execution_count": 269,
      "outputs": [
        {
          "output_type": "execute_result",
          "data": {
            "text/plain": [
              "1.5873710797759801"
            ]
          },
          "metadata": {
            "tags": []
          },
          "execution_count": 269
        }
      ]
    },
    {
      "cell_type": "code",
      "metadata": {
        "colab": {
          "base_uri": "https://localhost:8080/"
        },
        "id": "6Z6CA12MCOIc",
        "outputId": "3d09700f-074f-405d-a0ef-dcde88664107"
      },
      "source": [
        "# Covariação da seegunda ação com o mercado.\n",
        "\n",
        "cov_with_market = cov.iloc[1,5]\n",
        "cov_with_market"
      ],
      "execution_count": 270,
      "outputs": [
        {
          "output_type": "execute_result",
          "data": {
            "text/plain": [
              "0.08632052682638632"
            ]
          },
          "metadata": {
            "tags": []
          },
          "execution_count": 270
        }
      ]
    },
    {
      "cell_type": "code",
      "metadata": {
        "colab": {
          "base_uri": "https://localhost:8080/"
        },
        "id": "mQTUdaetCw35",
        "outputId": "7a255f9a-aefa-42f9-d4db-8e1257ba2fb0"
      },
      "source": [
        "market_var = sec_returns['^BVSP'].var() * 250\n",
        "market_var"
      ],
      "execution_count": 271,
      "outputs": [
        {
          "output_type": "execute_result",
          "data": {
            "text/plain": [
              "0.07284938427602719"
            ]
          },
          "metadata": {
            "tags": []
          },
          "execution_count": 271
        }
      ]
    },
    {
      "cell_type": "code",
      "metadata": {
        "colab": {
          "base_uri": "https://localhost:8080/"
        },
        "id": "WH7wP7iRCxKe",
        "outputId": "74f55605-d855-4880-c1ce-1eaefdda6408"
      },
      "source": [
        "vvar_beta = cov_with_market / market_var\n",
        "vvar_beta"
      ],
      "execution_count": 272,
      "outputs": [
        {
          "output_type": "execute_result",
          "data": {
            "text/plain": [
              "1.1849177269545177"
            ]
          },
          "metadata": {
            "tags": []
          },
          "execution_count": 272
        }
      ]
    },
    {
      "cell_type": "markdown",
      "metadata": {
        "id": "-ewAEW0EC7m1"
      },
      "source": [
        "# Modelo de Precificação de Ativos Financeiros (CAPM)\n",
        "\n",
        "### Ação livre de risco = retorno de 2,5%.\n",
        "### Beta\n",
        "### Prêmio de risco das ações = entre 4,5% e 5,5%\n",
        "### Retorno esperado para valer a pena investir na ação\n"
      ]
    },
    {
      "cell_type": "code",
      "metadata": {
        "colab": {
          "base_uri": "https://localhost:8080/"
        },
        "id": "CDHsUVuqCxSK",
        "outputId": "ec78618d-da5f-458c-d232-10ca472aefe8"
      },
      "source": [
        "logn_er = 0.025 + logn_beta * 0.05\n",
        "logn_er"
      ],
      "execution_count": 273,
      "outputs": [
        {
          "output_type": "execute_result",
          "data": {
            "text/plain": [
              "0.10436855398879902"
            ]
          },
          "metadata": {
            "tags": []
          },
          "execution_count": 273
        }
      ]
    },
    {
      "cell_type": "code",
      "metadata": {
        "colab": {
          "base_uri": "https://localhost:8080/"
        },
        "id": "-539zpssCxWI",
        "outputId": "dc826bca-b14e-4c50-cc35-4f3e8d5666de"
      },
      "source": [
        "vvar_beta = 0.025 + vvar_beta * 0.05\n",
        "vvar_beta"
      ],
      "execution_count": 274,
      "outputs": [
        {
          "output_type": "execute_result",
          "data": {
            "text/plain": [
              "0.0842458863477259"
            ]
          },
          "metadata": {
            "tags": []
          },
          "execution_count": 274
        }
      ]
    },
    {
      "cell_type": "markdown",
      "metadata": {
        "id": "EYi7ifK8DLGB"
      },
      "source": [
        "### Se o retorno ficar abaixo do calculado, não vale a pena investir nessa ação."
      ]
    },
    {
      "cell_type": "markdown",
      "metadata": {
        "id": "mtjFXjh8DS2o"
      },
      "source": [
        "# Índice de Sharp\n",
        "## Decidir o melhor portfólio em termos de risco e retorno"
      ]
    },
    {
      "cell_type": "code",
      "metadata": {
        "colab": {
          "base_uri": "https://localhost:8080/"
        },
        "id": "uipJIR7sCxb3",
        "outputId": "dfc49a96-45d8-4cd9-ee0a-edabd9da9ee9"
      },
      "source": [
        "sharpe_logn = (logn_er - 0.025) / (sec_returns['PETR4.SA'].std() * 250 ** 0.5)\n",
        "sharpe_logn"
      ],
      "execution_count": 275,
      "outputs": [
        {
          "output_type": "execute_result",
          "data": {
            "text/plain": [
              "0.14721997763904335"
            ]
          },
          "metadata": {
            "tags": []
          },
          "execution_count": 275
        }
      ]
    },
    {
      "cell_type": "code",
      "metadata": {
        "colab": {
          "base_uri": "https://localhost:8080/"
        },
        "id": "Q5BKTommCxei",
        "outputId": "19be6465-5760-4244-e74a-c721a8277194"
      },
      "source": [
        "sharpe_vvar = (logn_er - 0.025) / (sec_returns['BBDC4.SA'].std() * 250 ** 0.5)\n",
        "sharpe_vvar"
      ],
      "execution_count": 276,
      "outputs": [
        {
          "output_type": "execute_result",
          "data": {
            "text/plain": [
              "0.20914221587425225"
            ]
          },
          "metadata": {
            "tags": []
          },
          "execution_count": 276
        }
      ]
    },
    {
      "cell_type": "markdown",
      "metadata": {
        "id": "JVbGLywcDeBZ"
      },
      "source": [
        "# Simulações de Monte Carlo\n",
        "### Observar os possíveis diferentes resultados de um evento futuro\n",
        "### 1 - Prever o preço da ação"
      ]
    },
    {
      "cell_type": "code",
      "metadata": {
        "id": "_zp9DYqyCxhV"
      },
      "source": [
        "log_returns_1 = np.log(1 + data['BBDC4.SA'].pct_change())"
      ],
      "execution_count": 277,
      "outputs": []
    },
    {
      "cell_type": "code",
      "metadata": {
        "colab": {
          "base_uri": "https://localhost:8080/"
        },
        "id": "flX6Ez98CxkQ",
        "outputId": "783f9c47-af26-4230-d894-e69ba0e7142a"
      },
      "source": [
        "log_returns_1.tail()"
      ],
      "execution_count": 278,
      "outputs": [
        {
          "output_type": "execute_result",
          "data": {
            "text/plain": [
              "Date\n",
              "2021-06-15    0.000716\n",
              "2021-06-16    0.004998\n",
              "2021-06-17   -0.004283\n",
              "2021-06-18   -0.018409\n",
              "2021-06-21    0.007983\n",
              "Name: BBDC4.SA, dtype: float64"
            ]
          },
          "metadata": {
            "tags": []
          },
          "execution_count": 278
        }
      ]
    },
    {
      "cell_type": "code",
      "metadata": {
        "colab": {
          "base_uri": "https://localhost:8080/",
          "height": 384
        },
        "id": "KNymZLtOCxnF",
        "outputId": "67188f04-3aa7-49ba-f070-659451354b0b"
      },
      "source": [
        "data['BBDC4.SA'].plot(figsize=(10,6))"
      ],
      "execution_count": 279,
      "outputs": [
        {
          "output_type": "execute_result",
          "data": {
            "text/plain": [
              "<matplotlib.axes._subplots.AxesSubplot at 0x7f8553bda350>"
            ]
          },
          "metadata": {
            "tags": []
          },
          "execution_count": 279
        },
        {
          "output_type": "display_data",
          "data": {
            "image/png": "[encoded data removed]",
            "text/plain": [
              "<Figure size 720x432 with 1 Axes>"
            ]
          },
          "metadata": {
            "tags": [],
            "needs_background": "light"
          }
        }
      ]
    },
    {
      "cell_type": "code",
      "metadata": {
        "colab": {
          "base_uri": "https://localhost:8080/",
          "height": 384
        },
        "id": "zKKF9gi8Dtry",
        "outputId": "a0360769-7820-4716-f80d-9a28b242e5f0"
      },
      "source": [
        "log_returns_1.plot(figsize=(10,6))"
      ],
      "execution_count": 280,
      "outputs": [
        {
          "output_type": "execute_result",
          "data": {
            "text/plain": [
              "<matplotlib.axes._subplots.AxesSubplot at 0x7f8553b23790>"
            ]
          },
          "metadata": {
            "tags": []
          },
          "execution_count": 280
        },
        {
          "output_type": "display_data",
          "data": {
            "image/png": "[encoded data removed]",
            "text/plain": [
              "<Figure size 720x432 with 1 Axes>"
            ]
          },
          "metadata": {
            "tags": [],
            "needs_background": "light"
          }
        }
      ]
    },
    {
      "cell_type": "code",
      "metadata": {
        "colab": {
          "base_uri": "https://localhost:8080/"
        },
        "id": "9lAJxjhwDtuz",
        "outputId": "d946890c-df89-4ec9-8109-f8303b44f82a"
      },
      "source": [
        "u = log_returns_1.mean()\n",
        "u"
      ],
      "execution_count": 281,
      "outputs": [
        {
          "output_type": "execute_result",
          "data": {
            "text/plain": [
              "0.0004971367925859643"
            ]
          },
          "metadata": {
            "tags": []
          },
          "execution_count": 281
        }
      ]
    },
    {
      "cell_type": "code",
      "metadata": {
        "colab": {
          "base_uri": "https://localhost:8080/"
        },
        "id": "8dKiaw4ODtxJ",
        "outputId": "0efd2b68-9f09-4fc3-9470-f73c1224eab3"
      },
      "source": [
        "var = log_returns_1.var()\n",
        "var"
      ],
      "execution_count": 282,
      "outputs": [
        {
          "output_type": "execute_result",
          "data": {
            "text/plain": [
              "0.0005760676894398897"
            ]
          },
          "metadata": {
            "tags": []
          },
          "execution_count": 282
        }
      ]
    },
    {
      "cell_type": "code",
      "metadata": {
        "colab": {
          "base_uri": "https://localhost:8080/"
        },
        "id": "qwJt1th7Dtz7",
        "outputId": "2b16dc6d-5d9b-4501-ed36-acfb74734221"
      },
      "source": [
        "drift = u - (0.5 * var)\n",
        "drift"
      ],
      "execution_count": 283,
      "outputs": [
        {
          "output_type": "execute_result",
          "data": {
            "text/plain": [
              "0.00020910294786601947"
            ]
          },
          "metadata": {
            "tags": []
          },
          "execution_count": 283
        }
      ]
    },
    {
      "cell_type": "code",
      "metadata": {
        "colab": {
          "base_uri": "https://localhost:8080/"
        },
        "id": "T45VbYL1Dt3B",
        "outputId": "e1f3723b-670c-4971-b534-8e78fe1e47e5"
      },
      "source": [
        "stdev = log_returns_1.std()\n",
        "stdev"
      ],
      "execution_count": 284,
      "outputs": [
        {
          "output_type": "execute_result",
          "data": {
            "text/plain": [
              "0.024001410155236498"
            ]
          },
          "metadata": {
            "tags": []
          },
          "execution_count": 284
        }
      ]
    },
    {
      "cell_type": "code",
      "metadata": {
        "colab": {
          "base_uri": "https://localhost:8080/"
        },
        "id": "thJkZcP6Dt5e",
        "outputId": "d76857af-7253-4567-8ded-b359469ea0e1"
      },
      "source": [
        "type(drift)"
      ],
      "execution_count": 285,
      "outputs": [
        {
          "output_type": "execute_result",
          "data": {
            "text/plain": [
              "float"
            ]
          },
          "metadata": {
            "tags": []
          },
          "execution_count": 285
        }
      ]
    },
    {
      "cell_type": "code",
      "metadata": {
        "colab": {
          "base_uri": "https://localhost:8080/"
        },
        "id": "5Bc7-riUDt8B",
        "outputId": "4086d866-bcc8-4091-9e0c-76500ca8ff31"
      },
      "source": [
        "type(stdev)"
      ],
      "execution_count": 286,
      "outputs": [
        {
          "output_type": "execute_result",
          "data": {
            "text/plain": [
              "float"
            ]
          },
          "metadata": {
            "tags": []
          },
          "execution_count": 286
        }
      ]
    },
    {
      "cell_type": "code",
      "metadata": {
        "colab": {
          "base_uri": "https://localhost:8080/"
        },
        "id": "tQYZb8AADt-a",
        "outputId": "b61c8b2b-47c5-4b4d-9f36-986d13b3db67"
      },
      "source": [
        "np.array(drift)"
      ],
      "execution_count": 287,
      "outputs": [
        {
          "output_type": "execute_result",
          "data": {
            "text/plain": [
              "array(0.0002091)"
            ]
          },
          "metadata": {
            "tags": []
          },
          "execution_count": 287
        }
      ]
    },
    {
      "cell_type": "code",
      "metadata": {
        "colab": {
          "base_uri": "https://localhost:8080/"
        },
        "id": "a4gZAfOcDuBB",
        "outputId": "5692cb94-630f-48f0-9e79-9b708bd09750"
      },
      "source": [
        "np.array(stdev)"
      ],
      "execution_count": 288,
      "outputs": [
        {
          "output_type": "execute_result",
          "data": {
            "text/plain": [
              "array(0.02400141)"
            ]
          },
          "metadata": {
            "tags": []
          },
          "execution_count": 288
        }
      ]
    },
    {
      "cell_type": "code",
      "metadata": {
        "colab": {
          "base_uri": "https://localhost:8080/"
        },
        "id": "2yQNHVxlDuEG",
        "outputId": "f251c5bf-cd85-40e6-c563-a166a624471b"
      },
      "source": [
        "norm.ppf(0.95)"
      ],
      "execution_count": 289,
      "outputs": [
        {
          "output_type": "execute_result",
          "data": {
            "text/plain": [
              "1.6448536269514722"
            ]
          },
          "metadata": {
            "tags": []
          },
          "execution_count": 289
        }
      ]
    },
    {
      "cell_type": "code",
      "metadata": {
        "colab": {
          "base_uri": "https://localhost:8080/"
        },
        "id": "evu84J8ADuGv",
        "outputId": "0b76b46d-f853-42ee-ead8-624d9639d63f"
      },
      "source": [
        "x = np.random.rand(10,2)\n",
        "x"
      ],
      "execution_count": 290,
      "outputs": [
        {
          "output_type": "execute_result",
          "data": {
            "text/plain": [
              "array([[0.53070458, 0.37530409],\n",
              "       [0.30975414, 0.56541606],\n",
              "       [0.06152612, 0.05587578],\n",
              "       [0.17746478, 0.42752269],\n",
              "       [0.02351769, 0.45698819],\n",
              "       [0.06297463, 0.90119615],\n",
              "       [0.49489044, 0.53933735],\n",
              "       [0.86865006, 0.00602697],\n",
              "       [0.14069971, 0.39543389],\n",
              "       [0.31714628, 0.51860811]])"
            ]
          },
          "metadata": {
            "tags": []
          },
          "execution_count": 290
        }
      ]
    },
    {
      "cell_type": "code",
      "metadata": {
        "colab": {
          "base_uri": "https://localhost:8080/"
        },
        "id": "JZ2FQvS7EF7_",
        "outputId": "330a8f70-c00c-4c82-9e76-04a1a908315d"
      },
      "source": [
        "norm.ppf(x)"
      ],
      "execution_count": 291,
      "outputs": [
        {
          "output_type": "execute_result",
          "data": {
            "text/plain": [
              "array([[ 0.07704112, -0.31783754],\n",
              "       [-0.49654735,  0.16471555],\n",
              "       [-1.54208785, -1.59036945],\n",
              "       [-0.92506987, -0.18268476],\n",
              "       [-1.98598153, -0.10802434],\n",
              "       [-1.5302726 ,  1.2883973 ],\n",
              "       [-0.01280812,  0.09876445],\n",
              "       [ 1.12003258, -2.51056113],\n",
              "       [-1.07718098, -0.26518392],\n",
              "       [-0.47569378,  0.04666053]])"
            ]
          },
          "metadata": {
            "tags": []
          },
          "execution_count": 291
        }
      ]
    },
    {
      "cell_type": "code",
      "metadata": {
        "colab": {
          "base_uri": "https://localhost:8080/"
        },
        "id": "aAHHSuzaEF-v",
        "outputId": "62cc1c24-c1e5-4550-ad43-12e9847a8fc0"
      },
      "source": [
        "z = norm.ppf(np.random.rand(10,2))\n",
        "z"
      ],
      "execution_count": 292,
      "outputs": [
        {
          "output_type": "execute_result",
          "data": {
            "text/plain": [
              "array([[-1.54248985, -0.51826794],\n",
              "       [-0.45995275,  0.96041241],\n",
              "       [ 0.83321055,  0.19307088],\n",
              "       [ 0.33164998,  0.22972898],\n",
              "       [ 0.97747002, -0.98618939],\n",
              "       [-0.04330297, -0.37775244],\n",
              "       [ 1.11962516,  0.06768987],\n",
              "       [-1.35600158,  0.89992046],\n",
              "       [-0.36094892, -0.06442894],\n",
              "       [ 0.51254173, -0.33718085]])"
            ]
          },
          "metadata": {
            "tags": []
          },
          "execution_count": 292
        }
      ]
    },
    {
      "cell_type": "code",
      "metadata": {
        "id": "soTfSQOsEGFB"
      },
      "source": [
        "t_intervals = 100\n",
        "iterations = 10"
      ],
      "execution_count": 293,
      "outputs": []
    },
    {
      "cell_type": "code",
      "metadata": {
        "colab": {
          "base_uri": "https://localhost:8080/"
        },
        "id": "J241choOEGK4",
        "outputId": "22d066b9-e44d-42a8-dc45-01c2232054a0"
      },
      "source": [
        "daily_returns = np.exp(np.array(drift) + np.array(stdev) * norm.ppf(np.random.rand(t_intervals, iterations)))\n",
        "daily_returns"
      ],
      "execution_count": 294,
      "outputs": [
        {
          "output_type": "execute_result",
          "data": {
            "text/plain": [
              "array([[1.00464559, 1.03338707, 0.99277306, 1.03219642, 1.03202125,\n",
              "        1.00278252, 1.00307565, 1.00566529, 1.02648195, 0.9912156 ],\n",
              "       [1.03225088, 1.02307994, 1.01464603, 0.99219462, 1.02325355,\n",
              "        0.96575686, 1.01744891, 0.99381284, 1.00866449, 1.00039786],\n",
              "       [1.00596498, 0.99693568, 1.00844571, 1.00542415, 1.04402667,\n",
              "        0.97828034, 0.9704325 , 1.02560607, 1.02680894, 1.00316003],\n",
              "       [0.99440663, 1.00585306, 1.02528591, 1.00805569, 0.99780526,\n",
              "        1.01751151, 0.99806734, 1.02301769, 0.99382215, 0.99598667],\n",
              "       [1.02461733, 1.00047372, 1.05093591, 1.03547583, 0.99123614,\n",
              "        1.0062417 , 1.0433108 , 0.95616351, 1.03304489, 0.96490638],\n",
              "       [0.98068334, 1.01333161, 1.00896711, 1.03759791, 1.03619473,\n",
              "        1.00034786, 0.97901791, 0.99957494, 1.00102351, 0.98900753],\n",
              "       [0.99273755, 1.00080237, 0.98400596, 1.04917089, 1.00366364,\n",
              "        1.01228116, 1.0186503 , 0.99191873, 1.03222507, 1.02519821],\n",
              "       [0.98443034, 0.9765368 , 0.97662167, 1.02177208, 1.0243698 ,\n",
              "        1.02362819, 1.00291204, 1.03942399, 1.00939916, 1.00551003],\n",
              "       [0.97873078, 1.00585821, 1.01166146, 1.00773171, 0.98180134,\n",
              "        0.9718044 , 0.97352902, 0.99822409, 0.99265185, 0.9623395 ],\n",
              "       [0.92749975, 0.98913381, 1.00711493, 0.95898659, 1.03225791,\n",
              "        1.0197329 , 0.96388072, 1.04097082, 0.97999317, 0.94027042],\n",
              "       [0.97220923, 0.99944715, 1.014121  , 0.99732282, 1.04060273,\n",
              "        1.01445255, 1.01129383, 1.01510993, 1.01279066, 1.00735776],\n",
              "       [0.97720591, 1.01040247, 0.94805204, 0.98854937, 1.01039627,\n",
              "        0.95498787, 1.02115719, 1.01269182, 0.99804659, 0.99958747],\n",
              "       [1.00038419, 1.04742991, 0.97541101, 1.03479551, 0.98460673,\n",
              "        1.00724555, 0.99321892, 1.01249037, 0.98406575, 1.02058313],\n",
              "       [0.97334428, 0.98644364, 0.99051698, 1.0804453 , 0.99826201,\n",
              "        0.98594502, 1.01347158, 1.00740828, 1.00060461, 0.96646959],\n",
              "       [0.98943647, 0.95610268, 1.02925779, 0.96824255, 0.99014752,\n",
              "        0.99215289, 0.99557754, 0.99295523, 0.98195507, 0.96867581],\n",
              "       [0.97471055, 0.99776832, 0.97460264, 1.01575465, 0.97056056,\n",
              "        0.97482841, 1.0217583 , 0.98973564, 1.00214428, 1.01506508],\n",
              "       [1.03363804, 0.96987673, 1.01044215, 0.98524121, 1.01049778,\n",
              "        0.99708075, 1.0246362 , 1.0179018 , 0.98526629, 0.99037156],\n",
              "       [0.97903389, 0.97365578, 0.9866077 , 1.03118932, 0.96463807,\n",
              "        1.01155557, 0.98740341, 0.96774116, 1.04168327, 1.01185858],\n",
              "       [0.99877458, 0.99399806, 0.99584997, 0.94432789, 1.00096178,\n",
              "        1.00703047, 0.99104506, 0.97998272, 0.99110908, 0.9979642 ],\n",
              "       [0.99383222, 0.98567083, 1.04687863, 0.99171429, 1.02495211,\n",
              "        1.00117176, 1.00694091, 1.01784151, 0.99116896, 0.98264913],\n",
              "       [1.00298314, 0.98569269, 1.0323976 , 0.96472097, 1.02754343,\n",
              "        0.98662616, 1.00303123, 0.98842453, 0.98213727, 0.97266519],\n",
              "       [0.99626654, 1.00676565, 0.99333616, 0.99319075, 1.00067367,\n",
              "        1.02348996, 1.00471782, 1.03417831, 1.01673545, 0.98032674],\n",
              "       [0.97253627, 0.98680428, 1.02034965, 1.01711737, 1.02828154,\n",
              "        0.98859225, 1.01518951, 1.00032839, 0.99084391, 1.0313712 ],\n",
              "       [0.96040172, 1.02948665, 1.00941122, 1.0151052 , 1.0189989 ,\n",
              "        1.02602975, 0.95454368, 0.99587783, 0.99261784, 0.99114953],\n",
              "       [1.00330685, 0.97906336, 1.00688346, 1.00176277, 1.03572882,\n",
              "        1.03941722, 0.99758073, 0.94930921, 1.01700434, 1.00561988],\n",
              "       [0.97177819, 1.04865488, 1.03265901, 1.00041367, 1.00127882,\n",
              "        1.01003774, 0.97447879, 1.01478305, 1.00148791, 1.01837858],\n",
              "       [0.9951804 , 1.0207422 , 1.01209254, 1.04964753, 1.01565615,\n",
              "        1.00832087, 1.03461938, 0.99248191, 1.01403114, 0.97681259],\n",
              "       [0.96646623, 0.95989196, 1.05011705, 1.00405314, 0.99424424,\n",
              "        1.01767514, 0.98975139, 0.98327324, 1.04742734, 0.99453182],\n",
              "       [1.05419904, 1.01005532, 0.95817747, 1.04517373, 1.02815254,\n",
              "        1.02759957, 1.01979549, 1.01245504, 1.02957152, 1.03666994],\n",
              "       [1.04342204, 1.01142366, 0.99140011, 1.00885669, 1.02669212,\n",
              "        0.98443981, 1.03023223, 0.96014883, 0.96999196, 1.0118171 ],\n",
              "       [0.98959172, 1.05417491, 0.94223976, 1.01986921, 0.98550848,\n",
              "        1.02429817, 1.03722829, 1.01058818, 1.02095391, 0.92580592],\n",
              "       [0.96760084, 1.03537763, 1.06660824, 1.00604625, 1.012398  ,\n",
              "        0.97670941, 0.99824246, 0.9923016 , 0.99191688, 0.95654616],\n",
              "       [1.00605021, 1.02309111, 1.01744302, 1.00623307, 1.02707941,\n",
              "        1.02027231, 1.00835662, 0.96810569, 1.02642213, 0.98114859],\n",
              "       [0.97543002, 0.98006645, 1.00625246, 0.99086364, 1.02867241,\n",
              "        0.99065428, 0.98049194, 1.0160293 , 1.00862315, 1.0275067 ],\n",
              "       [1.00947745, 0.99562204, 0.97883058, 1.0040811 , 1.02024227,\n",
              "        0.96133311, 0.99875266, 0.95407562, 0.98319442, 0.99678917],\n",
              "       [0.98118274, 0.97928849, 1.0431884 , 1.02509115, 0.95903929,\n",
              "        1.02421551, 0.99016865, 0.98379602, 0.94848721, 1.01306055],\n",
              "       [1.01925746, 1.04190387, 0.99535196, 0.9563513 , 0.96687879,\n",
              "        0.97848013, 1.01934637, 0.98254015, 1.01424065, 1.00149278],\n",
              "       [0.93757932, 1.00157643, 1.02049178, 0.96216297, 1.00626494,\n",
              "        0.99237297, 0.990384  , 0.98885253, 1.02490807, 0.97260194],\n",
              "       [0.99021243, 1.01663589, 1.03459441, 0.9973336 , 1.04596428,\n",
              "        0.9730053 , 0.98077107, 1.01803831, 0.97251137, 0.99855347],\n",
              "       [0.99770778, 1.00126804, 0.96230238, 0.98549085, 1.03173166,\n",
              "        0.98963727, 1.03953613, 0.96630491, 0.96717411, 0.94928921],\n",
              "       [1.00856982, 1.03394982, 1.01708669, 0.97952294, 1.0175873 ,\n",
              "        0.97809306, 1.01264066, 0.99104033, 0.96658853, 1.02451772],\n",
              "       [1.03340933, 1.03702342, 0.99783251, 1.02358682, 0.99115642,\n",
              "        1.04577063, 1.00929754, 0.97506913, 0.99626703, 0.97999872],\n",
              "       [1.03514615, 0.97994839, 0.99892432, 1.02047031, 1.00998368,\n",
              "        0.99225594, 0.99087774, 1.02412505, 1.01390271, 0.97988166],\n",
              "       [1.01636681, 0.98368202, 0.99062037, 1.00092641, 0.98291167,\n",
              "        1.0233216 , 1.00125624, 0.96053222, 1.03051812, 1.03268527],\n",
              "       [0.97486707, 0.98059732, 0.98819471, 1.00530906, 0.98569961,\n",
              "        1.00102545, 1.01521719, 0.9747076 , 0.99624244, 1.00168429],\n",
              "       [1.03109921, 1.03116347, 0.9948721 , 0.97792383, 1.04821168,\n",
              "        0.97717057, 1.03477841, 1.02875463, 1.02755713, 0.9768989 ],\n",
              "       [0.963619  , 0.99007524, 1.00880436, 1.01132635, 1.01262826,\n",
              "        0.98665999, 1.01658349, 0.99307653, 0.97580399, 1.0244548 ],\n",
              "       [1.00919675, 1.02094422, 1.02128672, 1.00311265, 1.01823179,\n",
              "        0.97998123, 0.97792118, 0.97139029, 0.99909987, 1.05832647],\n",
              "       [1.01102174, 0.98600002, 1.00322584, 0.9753449 , 0.93578492,\n",
              "        0.99058343, 0.98699233, 0.97507659, 0.98400941, 0.98670979],\n",
              "       [0.96320479, 1.05410399, 0.9997247 , 0.99918643, 0.95604673,\n",
              "        1.01542042, 0.98285955, 0.99936283, 1.01309776, 1.00805899],\n",
              "       [1.023136  , 1.0200957 , 0.97857325, 0.98499792, 0.96554343,\n",
              "        1.07804787, 1.01187893, 0.99149911, 0.98173406, 0.99999222],\n",
              "       [0.98269909, 0.97270126, 0.97908329, 0.97562393, 1.03986182,\n",
              "        1.00777932, 1.03800403, 1.0150816 , 1.01839103, 1.03739958],\n",
              "       [0.99880678, 1.01710011, 0.97930657, 0.9874007 , 1.03586988,\n",
              "        0.98643632, 1.00214796, 0.99633642, 1.04455645, 0.98687971],\n",
              "       [1.03121468, 0.9977926 , 0.98622488, 1.0366895 , 0.96903556,\n",
              "        0.98907319, 1.04802236, 1.01797498, 0.93160909, 0.97062959],\n",
              "       [0.98628203, 0.98768536, 1.00242306, 1.0441353 , 1.01283192,\n",
              "        1.00272901, 1.03125121, 1.01410096, 1.05927507, 0.9835696 ],\n",
              "       [1.0079104 , 0.9817057 , 1.01134823, 1.00631716, 1.00950974,\n",
              "        1.01568368, 0.99902347, 1.01890004, 0.95314983, 1.02266235],\n",
              "       [0.97872475, 1.0053361 , 0.95391569, 1.00187841, 0.97067643,\n",
              "        0.98475463, 0.9531518 , 1.0279085 , 1.00231708, 0.9814247 ],\n",
              "       [1.00221262, 1.05060668, 0.99272051, 1.00246204, 0.99411832,\n",
              "        1.03402854, 0.99601898, 1.01140505, 0.99474414, 0.981923  ],\n",
              "       [1.01998009, 0.99803941, 0.99639987, 0.98568507, 1.03572827,\n",
              "        1.01620536, 1.01973313, 0.95095039, 1.01200244, 0.95980763],\n",
              "       [1.00964698, 1.0185401 , 1.0159559 , 0.95303765, 1.03204188,\n",
              "        0.9678641 , 0.99960081, 0.9969275 , 1.02490196, 1.03750419],\n",
              "       [0.97316514, 0.98927951, 0.99447522, 1.03255057, 0.99943369,\n",
              "        0.97302365, 0.9773767 , 1.0094558 , 0.99092132, 0.96966093],\n",
              "       [0.98660107, 1.00641561, 1.06030633, 0.97691511, 1.01084504,\n",
              "        1.01176235, 1.02936279, 1.04171345, 0.96217277, 0.98979235],\n",
              "       [1.02660808, 1.01927289, 0.99149109, 0.98131244, 0.98255158,\n",
              "        1.02682963, 0.99141547, 1.0042665 , 1.00419822, 0.96928945],\n",
              "       [1.05013876, 0.99868468, 0.98292301, 0.9477185 , 0.9848244 ,\n",
              "        1.00475324, 1.00390094, 1.03047817, 1.0070799 , 0.99473735],\n",
              "       [0.98735399, 1.04277916, 0.98763694, 1.01470682, 0.99801808,\n",
              "        0.99010269, 0.97340721, 0.98591157, 1.02642638, 0.99310857],\n",
              "       [0.99518568, 0.99368053, 0.97333814, 1.02901913, 1.02225019,\n",
              "        1.04996435, 1.02784151, 1.0190677 , 1.00142994, 1.02865594],\n",
              "       [1.02743863, 1.01112997, 1.02436419, 0.97992507, 0.9606205 ,\n",
              "        1.01590195, 0.99838846, 1.02708335, 0.9985516 , 1.01992176],\n",
              "       [0.97955472, 0.94895928, 0.99632687, 1.03140072, 0.98790853,\n",
              "        0.96913119, 1.00622801, 0.97343826, 1.00901428, 0.98657038],\n",
              "       [0.9985234 , 1.03505938, 1.03522314, 0.9574829 , 1.01637425,\n",
              "        0.99922157, 1.04491975, 1.00900692, 0.97909584, 1.00553037],\n",
              "       [0.99935826, 0.98396556, 1.0032168 , 0.99496878, 0.96724042,\n",
              "        0.98907493, 0.95690823, 1.00829228, 1.00203609, 0.99599424],\n",
              "       [0.97285749, 1.00311435, 1.03039291, 1.01366023, 0.98048479,\n",
              "        0.98177195, 1.03751959, 1.03178669, 0.96346395, 0.9994148 ],\n",
              "       [0.97300321, 0.97235173, 1.05716595, 1.03949234, 0.95772486,\n",
              "        1.01135984, 0.93485227, 0.98751337, 0.99754538, 0.98440651],\n",
              "       [1.0117107 , 0.96055626, 0.97380161, 0.9745129 , 0.99125497,\n",
              "        1.0653845 , 0.95181912, 0.98466121, 1.0022036 , 1.0365081 ],\n",
              "       [1.02695715, 0.99951816, 1.0109215 , 1.01303427, 0.96508884,\n",
              "        0.96568198, 1.00966648, 0.96331635, 1.00114758, 0.98527341],\n",
              "       [0.99116331, 1.00075327, 1.03946234, 0.99823783, 0.96684004,\n",
              "        1.01419911, 0.94250794, 0.98789151, 0.99094326, 0.9878069 ],\n",
              "       [0.9783959 , 1.0454985 , 0.99619103, 0.99910281, 0.98285076,\n",
              "        0.95003742, 1.01430448, 1.01120562, 1.00479863, 0.9931827 ],\n",
              "       [1.00379166, 1.00404254, 0.99751136, 0.98528167, 1.06148073,\n",
              "        1.00126771, 0.98102618, 1.04274718, 1.05315686, 1.04738362],\n",
              "       [0.99622355, 0.96933301, 0.9687891 , 1.03086632, 0.97833694,\n",
              "        0.97525564, 0.99674111, 0.98719317, 0.99986964, 1.00733704],\n",
              "       [1.01818064, 0.99496774, 1.00562107, 0.99900805, 1.03752808,\n",
              "        1.00405809, 0.92875182, 0.98180283, 0.99754456, 1.0047804 ],\n",
              "       [0.98086922, 0.98585328, 1.00476387, 1.05451647, 0.96697568,\n",
              "        1.06027376, 0.99220714, 1.00084494, 0.9754365 , 1.00723298],\n",
              "       [1.01825097, 1.05247443, 0.99502985, 1.02410487, 1.02831446,\n",
              "        1.00054386, 1.00280255, 1.02014217, 0.97816743, 1.02107434],\n",
              "       [1.02121095, 1.04373206, 0.98104287, 1.00285416, 0.97539471,\n",
              "        1.00641867, 1.01827352, 0.97815502, 1.02800304, 1.03519432],\n",
              "       [1.02565537, 0.98618223, 0.97374508, 1.00390517, 0.98272505,\n",
              "        0.96673194, 0.96932883, 0.99802135, 0.99747158, 1.00400123],\n",
              "       [0.96700227, 1.02467697, 0.96840819, 0.97233639, 0.96578129,\n",
              "        1.00750814, 1.01375344, 1.03424729, 1.00709296, 1.00344965],\n",
              "       [0.9779913 , 1.02172383, 1.02492252, 0.98673125, 0.99553099,\n",
              "        0.960973  , 1.0382108 , 1.01732202, 1.00018363, 0.95964518],\n",
              "       [0.98697919, 0.97930269, 1.00099208, 1.00516111, 1.0201961 ,\n",
              "        0.95518927, 1.04262262, 0.99330095, 1.00099106, 1.01348951],\n",
              "       [0.97910548, 0.97417847, 1.0201601 , 1.01859264, 0.97029883,\n",
              "        1.01124751, 1.01519051, 0.98974422, 1.00683017, 1.00161702],\n",
              "       [0.98870248, 0.97596768, 0.98512165, 0.99425184, 1.00048153,\n",
              "        1.04715142, 1.00016015, 0.9863347 , 1.00142026, 0.99190807],\n",
              "       [1.02629038, 1.00781096, 0.95554123, 1.01698443, 1.01493016,\n",
              "        1.00848551, 1.0556173 , 0.96378083, 1.00550255, 0.99980186],\n",
              "       [1.00311385, 1.00135317, 0.99357126, 1.02572436, 0.99661013,\n",
              "        1.04652721, 1.01950519, 1.05066474, 0.98751432, 0.95318666],\n",
              "       [1.01195139, 0.97782644, 0.96439298, 0.99224342, 1.02456901,\n",
              "        1.00545139, 0.98577971, 0.99464651, 1.00711218, 0.99765631],\n",
              "       [0.98301784, 1.01294772, 0.97914031, 1.00300713, 0.98423038,\n",
              "        0.99623726, 1.01356294, 1.02605106, 0.9956807 , 1.0190174 ],\n",
              "       [0.99619053, 1.01515913, 1.05502882, 0.97454264, 0.99128419,\n",
              "        1.01603328, 0.96579709, 1.01958999, 0.9793848 , 1.00293266],\n",
              "       [1.00783324, 0.99979295, 0.98968297, 1.01491129, 0.97429207,\n",
              "        0.99698946, 0.9768618 , 0.99080724, 0.96491173, 1.03835619],\n",
              "       [1.05367442, 1.00611392, 1.01339718, 1.00503564, 0.9646118 ,\n",
              "        0.97749472, 1.03423529, 0.98777553, 1.04912736, 0.97393549],\n",
              "       [1.00990345, 1.00397863, 0.97299512, 0.99093486, 1.05076802,\n",
              "        1.00244342, 1.00878493, 1.01402246, 1.01533056, 0.97981579],\n",
              "       [1.00488407, 1.00975567, 0.99368482, 1.02381659, 1.03186043,\n",
              "        1.00083845, 0.99113205, 1.00142935, 1.02708409, 1.02062438],\n",
              "       [0.99264026, 0.96999192, 0.9675947 , 1.0399719 , 1.01577856,\n",
              "        0.99445655, 1.04333259, 1.00838825, 1.01987216, 1.02344444],\n",
              "       [1.0371324 , 0.99461971, 1.02985458, 0.98610701, 0.99337061,\n",
              "        1.01048644, 1.01049303, 0.98230156, 1.00874115, 1.00130494],\n",
              "       [0.99521011, 0.98794444, 0.99968934, 1.02155746, 0.93213046,\n",
              "        1.01855179, 0.99911965, 1.02679076, 1.01723678, 1.00995393]])"
            ]
          },
          "metadata": {
            "tags": []
          },
          "execution_count": 294
        }
      ]
    },
    {
      "cell_type": "code",
      "metadata": {
        "colab": {
          "base_uri": "https://localhost:8080/"
        },
        "id": "LtMkkBWLEGNs",
        "outputId": "b4c65ef7-7235-4f94-bf20-cbf94cc926bb"
      },
      "source": [
        "s0 = data['BBDC4.SA'].iloc[-1]\n",
        "s0"
      ],
      "execution_count": 295,
      "outputs": [
        {
          "output_type": "execute_result",
          "data": {
            "text/plain": [
              "27.670000076293945"
            ]
          },
          "metadata": {
            "tags": []
          },
          "execution_count": 295
        }
      ]
    },
    {
      "cell_type": "code",
      "metadata": {
        "colab": {
          "base_uri": "https://localhost:8080/"
        },
        "id": "SsKzWTGbEGQp",
        "outputId": "e8bafad2-a3a1-408f-fcc1-4424e11ea9c3"
      },
      "source": [
        "price_list = np.zeros_like(daily_returns)\n",
        "price_list"
      ],
      "execution_count": 296,
      "outputs": [
        {
          "output_type": "execute_result",
          "data": {
            "text/plain": [
              "array([[0., 0., 0., 0., 0., 0., 0., 0., 0., 0.],\n",
              "       [0., 0., 0., 0., 0., 0., 0., 0., 0., 0.],\n",
              "       [0., 0., 0., 0., 0., 0., 0., 0., 0., 0.],\n",
              "       [0., 0., 0., 0., 0., 0., 0., 0., 0., 0.],\n",
              "       [0., 0., 0., 0., 0., 0., 0., 0., 0., 0.],\n",
              "       [0., 0., 0., 0., 0., 0., 0., 0., 0., 0.],\n",
              "       [0., 0., 0., 0., 0., 0., 0., 0., 0., 0.],\n",
              "       [0., 0., 0., 0., 0., 0., 0., 0., 0., 0.],\n",
              "       [0., 0., 0., 0., 0., 0., 0., 0., 0., 0.],\n",
              "       [0., 0., 0., 0., 0., 0., 0., 0., 0., 0.],\n",
              "       [0., 0., 0., 0., 0., 0., 0., 0., 0., 0.],\n",
              "       [0., 0., 0., 0., 0., 0., 0., 0., 0., 0.],\n",
              "       [0., 0., 0., 0., 0., 0., 0., 0., 0., 0.],\n",
              "       [0., 0., 0., 0., 0., 0., 0., 0., 0., 0.],\n",
              "       [0., 0., 0., 0., 0., 0., 0., 0., 0., 0.],\n",
              "       [0., 0., 0., 0., 0., 0., 0., 0., 0., 0.],\n",
              "       [0., 0., 0., 0., 0., 0., 0., 0., 0., 0.],\n",
              "       [0., 0., 0., 0., 0., 0., 0., 0., 0., 0.],\n",
              "       [0., 0., 0., 0., 0., 0., 0., 0., 0., 0.],\n",
              "       [0., 0., 0., 0., 0., 0., 0., 0., 0., 0.],\n",
              "       [0., 0., 0., 0., 0., 0., 0., 0., 0., 0.],\n",
              "       [0., 0., 0., 0., 0., 0., 0., 0., 0., 0.],\n",
              "       [0., 0., 0., 0., 0., 0., 0., 0., 0., 0.],\n",
              "       [0., 0., 0., 0., 0., 0., 0., 0., 0., 0.],\n",
              "       [0., 0., 0., 0., 0., 0., 0., 0., 0., 0.],\n",
              "       [0., 0., 0., 0., 0., 0., 0., 0., 0., 0.],\n",
              "       [0., 0., 0., 0., 0., 0., 0., 0., 0., 0.],\n",
              "       [0., 0., 0., 0., 0., 0., 0., 0., 0., 0.],\n",
              "       [0., 0., 0., 0., 0., 0., 0., 0., 0., 0.],\n",
              "       [0., 0., 0., 0., 0., 0., 0., 0., 0., 0.],\n",
              "       [0., 0., 0., 0., 0., 0., 0., 0., 0., 0.],\n",
              "       [0., 0., 0., 0., 0., 0., 0., 0., 0., 0.],\n",
              "       [0., 0., 0., 0., 0., 0., 0., 0., 0., 0.],\n",
              "       [0., 0., 0., 0., 0., 0., 0., 0., 0., 0.],\n",
              "       [0., 0., 0., 0., 0., 0., 0., 0., 0., 0.],\n",
              "       [0., 0., 0., 0., 0., 0., 0., 0., 0., 0.],\n",
              "       [0., 0., 0., 0., 0., 0., 0., 0., 0., 0.],\n",
              "       [0., 0., 0., 0., 0., 0., 0., 0., 0., 0.],\n",
              "       [0., 0., 0., 0., 0., 0., 0., 0., 0., 0.],\n",
              "       [0., 0., 0., 0., 0., 0., 0., 0., 0., 0.],\n",
              "       [0., 0., 0., 0., 0., 0., 0., 0., 0., 0.],\n",
              "       [0., 0., 0., 0., 0., 0., 0., 0., 0., 0.],\n",
              "       [0., 0., 0., 0., 0., 0., 0., 0., 0., 0.],\n",
              "       [0., 0., 0., 0., 0., 0., 0., 0., 0., 0.],\n",
              "       [0., 0., 0., 0., 0., 0., 0., 0., 0., 0.],\n",
              "       [0., 0., 0., 0., 0., 0., 0., 0., 0., 0.],\n",
              "       [0., 0., 0., 0., 0., 0., 0., 0., 0., 0.],\n",
              "       [0., 0., 0., 0., 0., 0., 0., 0., 0., 0.],\n",
              "       [0., 0., 0., 0., 0., 0., 0., 0., 0., 0.],\n",
              "       [0., 0., 0., 0., 0., 0., 0., 0., 0., 0.],\n",
              "       [0., 0., 0., 0., 0., 0., 0., 0., 0., 0.],\n",
              "       [0., 0., 0., 0., 0., 0., 0., 0., 0., 0.],\n",
              "       [0., 0., 0., 0., 0., 0., 0., 0., 0., 0.],\n",
              "       [0., 0., 0., 0., 0., 0., 0., 0., 0., 0.],\n",
              "       [0., 0., 0., 0., 0., 0., 0., 0., 0., 0.],\n",
              "       [0., 0., 0., 0., 0., 0., 0., 0., 0., 0.],\n",
              "       [0., 0., 0., 0., 0., 0., 0., 0., 0., 0.],\n",
              "       [0., 0., 0., 0., 0., 0., 0., 0., 0., 0.],\n",
              "       [0., 0., 0., 0., 0., 0., 0., 0., 0., 0.],\n",
              "       [0., 0., 0., 0., 0., 0., 0., 0., 0., 0.],\n",
              "       [0., 0., 0., 0., 0., 0., 0., 0., 0., 0.],\n",
              "       [0., 0., 0., 0., 0., 0., 0., 0., 0., 0.],\n",
              "       [0., 0., 0., 0., 0., 0., 0., 0., 0., 0.],\n",
              "       [0., 0., 0., 0., 0., 0., 0., 0., 0., 0.],\n",
              "       [0., 0., 0., 0., 0., 0., 0., 0., 0., 0.],\n",
              "       [0., 0., 0., 0., 0., 0., 0., 0., 0., 0.],\n",
              "       [0., 0., 0., 0., 0., 0., 0., 0., 0., 0.],\n",
              "       [0., 0., 0., 0., 0., 0., 0., 0., 0., 0.],\n",
              "       [0., 0., 0., 0., 0., 0., 0., 0., 0., 0.],\n",
              "       [0., 0., 0., 0., 0., 0., 0., 0., 0., 0.],\n",
              "       [0., 0., 0., 0., 0., 0., 0., 0., 0., 0.],\n",
              "       [0., 0., 0., 0., 0., 0., 0., 0., 0., 0.],\n",
              "       [0., 0., 0., 0., 0., 0., 0., 0., 0., 0.],\n",
              "       [0., 0., 0., 0., 0., 0., 0., 0., 0., 0.],\n",
              "       [0., 0., 0., 0., 0., 0., 0., 0., 0., 0.],\n",
              "       [0., 0., 0., 0., 0., 0., 0., 0., 0., 0.],\n",
              "       [0., 0., 0., 0., 0., 0., 0., 0., 0., 0.],\n",
              "       [0., 0., 0., 0., 0., 0., 0., 0., 0., 0.],\n",
              "       [0., 0., 0., 0., 0., 0., 0., 0., 0., 0.],\n",
              "       [0., 0., 0., 0., 0., 0., 0., 0., 0., 0.],\n",
              "       [0., 0., 0., 0., 0., 0., 0., 0., 0., 0.],\n",
              "       [0., 0., 0., 0., 0., 0., 0., 0., 0., 0.],\n",
              "       [0., 0., 0., 0., 0., 0., 0., 0., 0., 0.],\n",
              "       [0., 0., 0., 0., 0., 0., 0., 0., 0., 0.],\n",
              "       [0., 0., 0., 0., 0., 0., 0., 0., 0., 0.],\n",
              "       [0., 0., 0., 0., 0., 0., 0., 0., 0., 0.],\n",
              "       [0., 0., 0., 0., 0., 0., 0., 0., 0., 0.],\n",
              "       [0., 0., 0., 0., 0., 0., 0., 0., 0., 0.],\n",
              "       [0., 0., 0., 0., 0., 0., 0., 0., 0., 0.],\n",
              "       [0., 0., 0., 0., 0., 0., 0., 0., 0., 0.],\n",
              "       [0., 0., 0., 0., 0., 0., 0., 0., 0., 0.],\n",
              "       [0., 0., 0., 0., 0., 0., 0., 0., 0., 0.],\n",
              "       [0., 0., 0., 0., 0., 0., 0., 0., 0., 0.],\n",
              "       [0., 0., 0., 0., 0., 0., 0., 0., 0., 0.],\n",
              "       [0., 0., 0., 0., 0., 0., 0., 0., 0., 0.],\n",
              "       [0., 0., 0., 0., 0., 0., 0., 0., 0., 0.],\n",
              "       [0., 0., 0., 0., 0., 0., 0., 0., 0., 0.],\n",
              "       [0., 0., 0., 0., 0., 0., 0., 0., 0., 0.],\n",
              "       [0., 0., 0., 0., 0., 0., 0., 0., 0., 0.],\n",
              "       [0., 0., 0., 0., 0., 0., 0., 0., 0., 0.]])"
            ]
          },
          "metadata": {
            "tags": []
          },
          "execution_count": 296
        }
      ]
    },
    {
      "cell_type": "code",
      "metadata": {
        "colab": {
          "base_uri": "https://localhost:8080/"
        },
        "id": "HUUL5_gtEGTd",
        "outputId": "92a19de3-f29a-4c57-88ce-7cae1feaf016"
      },
      "source": [
        "price_list[0] = s0\n",
        "price_list"
      ],
      "execution_count": 297,
      "outputs": [
        {
          "output_type": "execute_result",
          "data": {
            "text/plain": [
              "array([[27.67000008, 27.67000008, 27.67000008, 27.67000008, 27.67000008,\n",
              "        27.67000008, 27.67000008, 27.67000008, 27.67000008, 27.67000008],\n",
              "       [ 0.        ,  0.        ,  0.        ,  0.        ,  0.        ,\n",
              "         0.        ,  0.        ,  0.        ,  0.        ,  0.        ],\n",
              "       [ 0.        ,  0.        ,  0.        ,  0.        ,  0.        ,\n",
              "         0.        ,  0.        ,  0.        ,  0.        ,  0.        ],\n",
              "       [ 0.        ,  0.        ,  0.        ,  0.        ,  0.        ,\n",
              "         0.        ,  0.        ,  0.        ,  0.        ,  0.        ],\n",
              "       [ 0.        ,  0.        ,  0.        ,  0.        ,  0.        ,\n",
              "         0.        ,  0.        ,  0.        ,  0.        ,  0.        ],\n",
              "       [ 0.        ,  0.        ,  0.        ,  0.        ,  0.        ,\n",
              "         0.        ,  0.        ,  0.        ,  0.        ,  0.        ],\n",
              "       [ 0.        ,  0.        ,  0.        ,  0.        ,  0.        ,\n",
              "         0.        ,  0.        ,  0.        ,  0.        ,  0.        ],\n",
              "       [ 0.        ,  0.        ,  0.        ,  0.        ,  0.        ,\n",
              "         0.        ,  0.        ,  0.        ,  0.        ,  0.        ],\n",
              "       [ 0.        ,  0.        ,  0.        ,  0.        ,  0.        ,\n",
              "         0.        ,  0.        ,  0.        ,  0.        ,  0.        ],\n",
              "       [ 0.        ,  0.        ,  0.        ,  0.        ,  0.        ,\n",
              "         0.        ,  0.        ,  0.        ,  0.        ,  0.        ],\n",
              "       [ 0.        ,  0.        ,  0.        ,  0.        ,  0.        ,\n",
              "         0.        ,  0.        ,  0.        ,  0.        ,  0.        ],\n",
              "       [ 0.        ,  0.        ,  0.        ,  0.        ,  0.        ,\n",
              "         0.        ,  0.        ,  0.        ,  0.        ,  0.        ],\n",
              "       [ 0.        ,  0.        ,  0.        ,  0.        ,  0.        ,\n",
              "         0.        ,  0.        ,  0.        ,  0.        ,  0.        ],\n",
              "       [ 0.        ,  0.        ,  0.        ,  0.        ,  0.        ,\n",
              "         0.        ,  0.        ,  0.        ,  0.        ,  0.        ],\n",
              "       [ 0.        ,  0.        ,  0.        ,  0.        ,  0.        ,\n",
              "         0.        ,  0.        ,  0.        ,  0.        ,  0.        ],\n",
              "       [ 0.        ,  0.        ,  0.        ,  0.        ,  0.        ,\n",
              "         0.        ,  0.        ,  0.        ,  0.        ,  0.        ],\n",
              "       [ 0.        ,  0.        ,  0.        ,  0.        ,  0.        ,\n",
              "         0.        ,  0.        ,  0.        ,  0.        ,  0.        ],\n",
              "       [ 0.        ,  0.        ,  0.        ,  0.        ,  0.        ,\n",
              "         0.        ,  0.        ,  0.        ,  0.        ,  0.        ],\n",
              "       [ 0.        ,  0.        ,  0.        ,  0.        ,  0.        ,\n",
              "         0.        ,  0.        ,  0.        ,  0.        ,  0.        ],\n",
              "       [ 0.        ,  0.        ,  0.        ,  0.        ,  0.        ,\n",
              "         0.        ,  0.        ,  0.        ,  0.        ,  0.        ],\n",
              "       [ 0.        ,  0.        ,  0.        ,  0.        ,  0.        ,\n",
              "         0.        ,  0.        ,  0.        ,  0.        ,  0.        ],\n",
              "       [ 0.        ,  0.        ,  0.        ,  0.        ,  0.        ,\n",
              "         0.        ,  0.        ,  0.        ,  0.        ,  0.        ],\n",
              "       [ 0.        ,  0.        ,  0.        ,  0.        ,  0.        ,\n",
              "         0.        ,  0.        ,  0.        ,  0.        ,  0.        ],\n",
              "       [ 0.        ,  0.        ,  0.        ,  0.        ,  0.        ,\n",
              "         0.        ,  0.        ,  0.        ,  0.        ,  0.        ],\n",
              "       [ 0.        ,  0.        ,  0.        ,  0.        ,  0.        ,\n",
              "         0.        ,  0.        ,  0.        ,  0.        ,  0.        ],\n",
              "       [ 0.        ,  0.        ,  0.        ,  0.        ,  0.        ,\n",
              "         0.        ,  0.        ,  0.        ,  0.        ,  0.        ],\n",
              "       [ 0.        ,  0.        ,  0.        ,  0.        ,  0.        ,\n",
              "         0.        ,  0.        ,  0.        ,  0.        ,  0.        ],\n",
              "       [ 0.        ,  0.        ,  0.        ,  0.        ,  0.        ,\n",
              "         0.        ,  0.        ,  0.        ,  0.        ,  0.        ],\n",
              "       [ 0.        ,  0.        ,  0.        ,  0.        ,  0.        ,\n",
              "         0.        ,  0.        ,  0.        ,  0.        ,  0.        ],\n",
              "       [ 0.        ,  0.        ,  0.        ,  0.        ,  0.        ,\n",
              "         0.        ,  0.        ,  0.        ,  0.        ,  0.        ],\n",
              "       [ 0.        ,  0.        ,  0.        ,  0.        ,  0.        ,\n",
              "         0.        ,  0.        ,  0.        ,  0.        ,  0.        ],\n",
              "       [ 0.        ,  0.        ,  0.        ,  0.        ,  0.        ,\n",
              "         0.        ,  0.        ,  0.        ,  0.        ,  0.        ],\n",
              "       [ 0.        ,  0.        ,  0.        ,  0.        ,  0.        ,\n",
              "         0.        ,  0.        ,  0.        ,  0.        ,  0.        ],\n",
              "       [ 0.        ,  0.        ,  0.        ,  0.        ,  0.        ,\n",
              "         0.        ,  0.        ,  0.        ,  0.        ,  0.        ],\n",
              "       [ 0.        ,  0.        ,  0.        ,  0.        ,  0.        ,\n",
              "         0.        ,  0.        ,  0.        ,  0.        ,  0.        ],\n",
              "       [ 0.        ,  0.        ,  0.        ,  0.        ,  0.        ,\n",
              "         0.        ,  0.        ,  0.        ,  0.        ,  0.        ],\n",
              "       [ 0.        ,  0.        ,  0.        ,  0.        ,  0.        ,\n",
              "         0.        ,  0.        ,  0.        ,  0.        ,  0.        ],\n",
              "       [ 0.        ,  0.        ,  0.        ,  0.        ,  0.        ,\n",
              "         0.        ,  0.        ,  0.        ,  0.        ,  0.        ],\n",
              "       [ 0.        ,  0.        ,  0.        ,  0.        ,  0.        ,\n",
              "         0.        ,  0.        ,  0.        ,  0.        ,  0.        ],\n",
              "       [ 0.        ,  0.        ,  0.        ,  0.        ,  0.        ,\n",
              "         0.        ,  0.        ,  0.        ,  0.        ,  0.        ],\n",
              "       [ 0.        ,  0.        ,  0.        ,  0.        ,  0.        ,\n",
              "         0.        ,  0.        ,  0.        ,  0.        ,  0.        ],\n",
              "       [ 0.        ,  0.        ,  0.        ,  0.        ,  0.        ,\n",
              "         0.        ,  0.        ,  0.        ,  0.        ,  0.        ],\n",
              "       [ 0.        ,  0.        ,  0.        ,  0.        ,  0.        ,\n",
              "         0.        ,  0.        ,  0.        ,  0.        ,  0.        ],\n",
              "       [ 0.        ,  0.        ,  0.        ,  0.        ,  0.        ,\n",
              "         0.        ,  0.        ,  0.        ,  0.        ,  0.        ],\n",
              "       [ 0.        ,  0.        ,  0.        ,  0.        ,  0.        ,\n",
              "         0.        ,  0.        ,  0.        ,  0.        ,  0.        ],\n",
              "       [ 0.        ,  0.        ,  0.        ,  0.        ,  0.        ,\n",
              "         0.        ,  0.        ,  0.        ,  0.        ,  0.        ],\n",
              "       [ 0.        ,  0.        ,  0.        ,  0.        ,  0.        ,\n",
              "         0.        ,  0.        ,  0.        ,  0.        ,  0.        ],\n",
              "       [ 0.        ,  0.        ,  0.        ,  0.        ,  0.        ,\n",
              "         0.        ,  0.        ,  0.        ,  0.        ,  0.        ],\n",
              "       [ 0.        ,  0.        ,  0.        ,  0.        ,  0.        ,\n",
              "         0.        ,  0.        ,  0.        ,  0.        ,  0.        ],\n",
              "       [ 0.        ,  0.        ,  0.        ,  0.        ,  0.        ,\n",
              "         0.        ,  0.        ,  0.        ,  0.        ,  0.        ],\n",
              "       [ 0.        ,  0.        ,  0.        ,  0.        ,  0.        ,\n",
              "         0.        ,  0.        ,  0.        ,  0.        ,  0.        ],\n",
              "       [ 0.        ,  0.        ,  0.        ,  0.        ,  0.        ,\n",
              "         0.        ,  0.        ,  0.        ,  0.        ,  0.        ],\n",
              "       [ 0.        ,  0.        ,  0.        ,  0.        ,  0.        ,\n",
              "         0.        ,  0.        ,  0.        ,  0.        ,  0.        ],\n",
              "       [ 0.        ,  0.        ,  0.        ,  0.        ,  0.        ,\n",
              "         0.        ,  0.        ,  0.        ,  0.        ,  0.        ],\n",
              "       [ 0.        ,  0.        ,  0.        ,  0.        ,  0.        ,\n",
              "         0.        ,  0.        ,  0.        ,  0.        ,  0.        ],\n",
              "       [ 0.        ,  0.        ,  0.        ,  0.        ,  0.        ,\n",
              "         0.        ,  0.        ,  0.        ,  0.        ,  0.        ],\n",
              "       [ 0.        ,  0.        ,  0.        ,  0.        ,  0.        ,\n",
              "         0.        ,  0.        ,  0.        ,  0.        ,  0.        ],\n",
              "       [ 0.        ,  0.        ,  0.        ,  0.        ,  0.        ,\n",
              "         0.        ,  0.        ,  0.        ,  0.        ,  0.        ],\n",
              "       [ 0.        ,  0.        ,  0.        ,  0.        ,  0.        ,\n",
              "         0.        ,  0.        ,  0.        ,  0.        ,  0.        ],\n",
              "       [ 0.        ,  0.        ,  0.        ,  0.        ,  0.        ,\n",
              "         0.        ,  0.        ,  0.        ,  0.        ,  0.        ],\n",
              "       [ 0.        ,  0.        ,  0.        ,  0.        ,  0.        ,\n",
              "         0.        ,  0.        ,  0.        ,  0.        ,  0.        ],\n",
              "       [ 0.        ,  0.        ,  0.        ,  0.        ,  0.        ,\n",
              "         0.        ,  0.        ,  0.        ,  0.        ,  0.        ],\n",
              "       [ 0.        ,  0.        ,  0.        ,  0.        ,  0.        ,\n",
              "         0.        ,  0.        ,  0.        ,  0.        ,  0.        ],\n",
              "       [ 0.        ,  0.        ,  0.        ,  0.        ,  0.        ,\n",
              "         0.        ,  0.        ,  0.        ,  0.        ,  0.        ],\n",
              "       [ 0.        ,  0.        ,  0.        ,  0.        ,  0.        ,\n",
              "         0.        ,  0.        ,  0.        ,  0.        ,  0.        ],\n",
              "       [ 0.        ,  0.        ,  0.        ,  0.        ,  0.        ,\n",
              "         0.        ,  0.        ,  0.        ,  0.        ,  0.        ],\n",
              "       [ 0.        ,  0.        ,  0.        ,  0.        ,  0.        ,\n",
              "         0.        ,  0.        ,  0.        ,  0.        ,  0.        ],\n",
              "       [ 0.        ,  0.        ,  0.        ,  0.        ,  0.        ,\n",
              "         0.        ,  0.        ,  0.        ,  0.        ,  0.        ],\n",
              "       [ 0.        ,  0.        ,  0.        ,  0.        ,  0.        ,\n",
              "         0.        ,  0.        ,  0.        ,  0.        ,  0.        ],\n",
              "       [ 0.        ,  0.        ,  0.        ,  0.        ,  0.        ,\n",
              "         0.        ,  0.        ,  0.        ,  0.        ,  0.        ],\n",
              "       [ 0.        ,  0.        ,  0.        ,  0.        ,  0.        ,\n",
              "         0.        ,  0.        ,  0.        ,  0.        ,  0.        ],\n",
              "       [ 0.        ,  0.        ,  0.        ,  0.        ,  0.        ,\n",
              "         0.        ,  0.        ,  0.        ,  0.        ,  0.        ],\n",
              "       [ 0.        ,  0.        ,  0.        ,  0.        ,  0.        ,\n",
              "         0.        ,  0.        ,  0.        ,  0.        ,  0.        ],\n",
              "       [ 0.        ,  0.        ,  0.        ,  0.        ,  0.        ,\n",
              "         0.        ,  0.        ,  0.        ,  0.        ,  0.        ],\n",
              "       [ 0.        ,  0.        ,  0.        ,  0.        ,  0.        ,\n",
              "         0.        ,  0.        ,  0.        ,  0.        ,  0.        ],\n",
              "       [ 0.        ,  0.        ,  0.        ,  0.        ,  0.        ,\n",
              "         0.        ,  0.        ,  0.        ,  0.        ,  0.        ],\n",
              "       [ 0.        ,  0.        ,  0.        ,  0.        ,  0.        ,\n",
              "         0.        ,  0.        ,  0.        ,  0.        ,  0.        ],\n",
              "       [ 0.        ,  0.        ,  0.        ,  0.        ,  0.        ,\n",
              "         0.        ,  0.        ,  0.        ,  0.        ,  0.        ],\n",
              "       [ 0.        ,  0.        ,  0.        ,  0.        ,  0.        ,\n",
              "         0.        ,  0.        ,  0.        ,  0.        ,  0.        ],\n",
              "       [ 0.        ,  0.        ,  0.        ,  0.        ,  0.        ,\n",
              "         0.        ,  0.        ,  0.        ,  0.        ,  0.        ],\n",
              "       [ 0.        ,  0.        ,  0.        ,  0.        ,  0.        ,\n",
              "         0.        ,  0.        ,  0.        ,  0.        ,  0.        ],\n",
              "       [ 0.        ,  0.        ,  0.        ,  0.        ,  0.        ,\n",
              "         0.        ,  0.        ,  0.        ,  0.        ,  0.        ],\n",
              "       [ 0.        ,  0.        ,  0.        ,  0.        ,  0.        ,\n",
              "         0.        ,  0.        ,  0.        ,  0.        ,  0.        ],\n",
              "       [ 0.        ,  0.        ,  0.        ,  0.        ,  0.        ,\n",
              "         0.        ,  0.        ,  0.        ,  0.        ,  0.        ],\n",
              "       [ 0.        ,  0.        ,  0.        ,  0.        ,  0.        ,\n",
              "         0.        ,  0.        ,  0.        ,  0.        ,  0.        ],\n",
              "       [ 0.        ,  0.        ,  0.        ,  0.        ,  0.        ,\n",
              "         0.        ,  0.        ,  0.        ,  0.        ,  0.        ],\n",
              "       [ 0.        ,  0.        ,  0.        ,  0.        ,  0.        ,\n",
              "         0.        ,  0.        ,  0.        ,  0.        ,  0.        ],\n",
              "       [ 0.        ,  0.        ,  0.        ,  0.        ,  0.        ,\n",
              "         0.        ,  0.        ,  0.        ,  0.        ,  0.        ],\n",
              "       [ 0.        ,  0.        ,  0.        ,  0.        ,  0.        ,\n",
              "         0.        ,  0.        ,  0.        ,  0.        ,  0.        ],\n",
              "       [ 0.        ,  0.        ,  0.        ,  0.        ,  0.        ,\n",
              "         0.        ,  0.        ,  0.        ,  0.        ,  0.        ],\n",
              "       [ 0.        ,  0.        ,  0.        ,  0.        ,  0.        ,\n",
              "         0.        ,  0.        ,  0.        ,  0.        ,  0.        ],\n",
              "       [ 0.        ,  0.        ,  0.        ,  0.        ,  0.        ,\n",
              "         0.        ,  0.        ,  0.        ,  0.        ,  0.        ],\n",
              "       [ 0.        ,  0.        ,  0.        ,  0.        ,  0.        ,\n",
              "         0.        ,  0.        ,  0.        ,  0.        ,  0.        ],\n",
              "       [ 0.        ,  0.        ,  0.        ,  0.        ,  0.        ,\n",
              "         0.        ,  0.        ,  0.        ,  0.        ,  0.        ],\n",
              "       [ 0.        ,  0.        ,  0.        ,  0.        ,  0.        ,\n",
              "         0.        ,  0.        ,  0.        ,  0.        ,  0.        ],\n",
              "       [ 0.        ,  0.        ,  0.        ,  0.        ,  0.        ,\n",
              "         0.        ,  0.        ,  0.        ,  0.        ,  0.        ],\n",
              "       [ 0.        ,  0.        ,  0.        ,  0.        ,  0.        ,\n",
              "         0.        ,  0.        ,  0.        ,  0.        ,  0.        ],\n",
              "       [ 0.        ,  0.        ,  0.        ,  0.        ,  0.        ,\n",
              "         0.        ,  0.        ,  0.        ,  0.        ,  0.        ],\n",
              "       [ 0.        ,  0.        ,  0.        ,  0.        ,  0.        ,\n",
              "         0.        ,  0.        ,  0.        ,  0.        ,  0.        ],\n",
              "       [ 0.        ,  0.        ,  0.        ,  0.        ,  0.        ,\n",
              "         0.        ,  0.        ,  0.        ,  0.        ,  0.        ]])"
            ]
          },
          "metadata": {
            "tags": []
          },
          "execution_count": 297
        }
      ]
    },
    {
      "cell_type": "code",
      "metadata": {
        "id": "wFtnUWfmEGV4"
      },
      "source": [
        "for t in range(1, t_intervals):\n",
        "    price_list[t] = price_list[t - 1] * daily_returns[t]"
      ],
      "execution_count": 298,
      "outputs": []
    },
    {
      "cell_type": "code",
      "metadata": {
        "colab": {
          "base_uri": "https://localhost:8080/"
        },
        "id": "lQnjhkUJEGYs",
        "outputId": "b585a9b0-e955-470d-abc8-fda02fbcf262"
      },
      "source": [
        "price_list"
      ],
      "execution_count": 299,
      "outputs": [
        {
          "output_type": "execute_result",
          "data": {
            "text/plain": [
              "array([[27.67000008, 27.67000008, 27.67000008, 27.67000008, 27.67000008,\n",
              "        27.67000008, 27.67000008, 27.67000008, 27.67000008, 27.67000008],\n",
              "       [28.56238191, 28.30862215, 28.0752557 , 27.4540253 , 28.31342582,\n",
              "        26.72249227, 28.15281135, 27.49880122, 27.9097464 , 27.68100883],\n",
              "       [28.73275605, 28.22187541, 28.31237125, 27.60294009, 29.55997181,\n",
              "        26.14208873, 27.32040306, 28.20293755, 28.65797709, 27.76848171],\n",
              "       [28.57204301, 28.38705961, 29.02827534, 27.82530069, 29.4950954 ,\n",
              "        26.59987622, 27.26760199, 28.852104  , 28.48093233, 27.6570376 ],\n",
              "       [29.27541038, 28.40050722, 30.50685707, 28.81242636, 29.23660446,\n",
              "        26.76590477, 28.44858357, 27.58732904, 29.42208173, 26.68645205],\n",
              "       [28.70990735, 28.77913172, 30.78041549, 29.89571336, 30.29481544,\n",
              "        26.77521548, 27.85167284, 27.57560264, 29.4521954 , 26.39310197],\n",
              "       [28.50140321, 28.80222323, 30.28811219, 31.36571221, 30.40580479,\n",
              "        27.10404606, 28.37111477, 27.35275679, 30.40129456, 27.05816083],\n",
              "       [28.05764593, 28.12643098, 29.58002683, 32.04860892, 31.14678822,\n",
              "        27.74446557, 28.45373249, 28.43111162, 30.68704107, 27.20725204],\n",
              "       [27.46088164, 28.2912015 , 29.92497321, 32.29639944, 30.57995827,\n",
              "        26.96219376, 27.70053435, 28.38062063, 30.46154805, 26.1826133 ],\n",
              "       [25.4699608 , 27.98378387, 30.13788742, 30.97181406, 31.56640385,\n",
              "        27.49423596, 26.700011  , 29.54339789, 29.85210913, 24.61873685],\n",
              "       [24.76213099, 27.96831291, 30.56346442, 30.8888968 , 32.84808595,\n",
              "        27.89159788, 27.00155629, 29.98979664, 30.23393738, 24.79987564],\n",
              "       [24.19770083, 28.25925254, 28.97575477, 30.53519934, 33.18958363,\n",
              "        26.63613771, 27.57283344, 30.37042173, 30.17487816, 24.78964506],\n",
              "       [24.20699732, 29.59958641, 28.26327026, 31.5976873 , 32.6786873 ,\n",
              "        26.82913109, 27.38585979, 30.74975954, 29.69406399, 25.29989357],\n",
              "       [23.56174226, 29.19832365, 27.9952491 , 34.13957289, 32.62189202,\n",
              "        26.45204829, 27.75479058, 30.97756222, 29.71201739, 24.45157768],\n",
              "       [23.31284697, 27.91659536, 28.81432825, 33.05538695, 32.30048539,\n",
              "        26.24447603, 27.63204621, 30.75933233, 29.17586611, 23.68565175],\n",
              "       [22.72327795, 27.85429452, 28.08252027, 33.57616296, 31.3495771 ,\n",
              "        25.58386085, 28.23327246, 30.44360744, 29.23842726, 24.04247795],\n",
              "       [23.48764456, 27.01523215, 28.37576209, 33.08061941, 31.67867821,\n",
              "        25.50917527, 28.92883304, 30.98860267, 28.80763681, 23.8109863 ],\n",
              "       [22.9952    , 26.30353684, 27.99574546, 34.11238142, 30.55845889,\n",
              "        25.80394834, 28.56442845, 29.98894619, 30.00843328, 24.0933508 ],\n",
              "       [22.96702129, 26.14566459, 27.87956235, 32.21327326, 30.58784934,\n",
              "        25.98536232, 28.30863571, 29.38864901, 29.74163079, 24.04430167],\n",
              "       [22.82536579, 25.77101881, 29.18651807, 31.94636337, 31.35108082,\n",
              "        26.01581098, 28.50512338, 29.91298677, 29.47898119, 23.62711204],\n",
              "       [22.89345713, 25.40230486, 30.13209128, 30.81932673, 32.21459723,\n",
              "        25.6678796 , 28.59152901, 29.56672998, 28.9524061 , 22.98126942],\n",
              "       [22.80798539, 25.57416803, 29.93129578, 30.60947032, 32.23629931,\n",
              "        26.27081698, 28.72641869, 30.5772708 , 29.43693765, 22.52915291],\n",
              "       [22.18159314, 25.23669838, 30.54038709, 31.13342388, 33.14799138,\n",
              "        25.97112607, 29.162759  , 30.58731207, 29.16741039, 23.23591957],\n",
              "       [21.30324023, 25.98084416, 30.82780928, 31.60370062, 33.77776672,\n",
              "        26.64714796, 27.83712735, 30.46122606, 28.952092  , 23.03027069],\n",
              "       [21.37368694, 25.43689245, 31.04001123, 31.65941075, 34.98460657,\n",
              "        27.69750438, 27.76978184, 28.91712243, 29.44440328, 23.15969804],\n",
              "       [20.77048278, 26.67452136, 32.05374741, 31.67250738, 35.02934559,\n",
              "        27.97552464, 27.0610633 , 29.34460577, 29.48821386, 23.58534042],\n",
              "       [20.67037734, 27.22780953, 32.4413587 , 33.24496924, 35.57777043,\n",
              "        28.20830542, 27.99790067, 29.12399033, 29.90196713, 23.03845757],\n",
              "       [19.97722157, 26.13575554, 34.06722404, 33.37971591, 35.3729933 ,\n",
              "        28.70689123, 27.71096117, 28.63684031, 31.3201379 , 22.9124792 ],\n",
              "       [21.05996786, 26.39855899, 32.64244669, 34.88760201, 36.36883279,\n",
              "        29.49918922, 28.25951332, 28.99351338, 32.24632198, 23.75267835],\n",
              "       [21.97443456, 26.70012711, 32.36172524, 35.19659081, 37.33959396,\n",
              "        29.04017623, 29.11386136, 27.83808782, 31.27867291, 24.03336604],\n",
              "       [21.74571845, 28.14660416, 30.49250435, 35.8959192 , 36.79848647,\n",
              "        29.74579944, 30.19772063, 28.13284257, 31.93408336, 22.25023264],\n",
              "       [21.04117539, 29.14236422, 32.52355625, 36.11295477, 37.25471414,\n",
              "        29.05300232, 30.14464688, 27.91626466, 31.67595631, 21.28337454],\n",
              "       [21.16847898, 29.81529375, 33.09086543, 36.33804946, 38.26354978,\n",
              "        29.64197374, 30.39655428, 27.02589453, 32.51290258, 20.88215286],\n",
              "       [20.64836986, 29.22096909, 33.29776487, 36.00605211, 39.36065806,\n",
              "        29.36494822, 29.80357658, 27.4591006 , 32.79326625, 21.45655193],\n",
              "       [20.84406367, 29.09304093, 32.59287036, 36.15299649, 40.15740693,\n",
              "        28.22949693, 29.76640145, 26.19805834, 32.24215628, 21.38765848],\n",
              "       [20.45183545, 28.49048006, 34.00050444, 37.06011692, 38.51253116,\n",
              "        28.91308851, 29.47375754, 25.77354544, 30.58127289, 21.6669931 ],\n",
              "       [20.8456858 , 29.68434156, 33.84246875, 35.44249097, 37.23694969,\n",
              "        28.29088251, 30.04396761, 25.32354328, 31.01676998, 21.6993372 ],\n",
              "       [19.54448384, 29.73113671, 34.53596105, 34.10145239, 37.47023705,\n",
              "        28.07510701, 29.75506486, 25.04124995, 31.78933793, 21.10481742],\n",
              "       [19.35319074, 30.22574057, 35.73071219, 34.01052434, 39.19252961,\n",
              "        27.31722795, 29.18290692, 25.49295189, 30.9154926 , 21.07428857],\n",
              "       [19.30882896, 30.26406799, 34.38374936, 33.51706064, 40.43617359,\n",
              "        27.03414699, 30.33668623, 24.63396463, 29.90066414, 20.00559473],\n",
              "       [19.47430221, 31.29152776, 34.97125392, 32.83072986, 41.1473368 ,\n",
              "        26.44191153, 30.72016209, 24.41325242, 28.90163894, 20.49608636],\n",
              "       [20.12492552, 32.45004724, 34.89545393, 33.60510225, 40.78344713,\n",
              "        27.65217444, 31.00578404, 23.8046088 , 28.79374994, 20.08613846],\n",
              "       [20.83223919, 31.79937159, 34.8579176 , 34.29300912, 41.19061584,\n",
              "        27.43803443, 30.72294136, 24.37889625, 29.19406117, 19.68203863],\n",
              "       [21.17319647, 31.28046993, 34.53096334, 34.32477836, 40.4867369 ,\n",
              "        28.07793323, 30.7615369 , 23.4167154 , 30.08500895, 20.32535138],\n",
              "       [20.64105198, 30.67354484, 34.12331516, 34.50701079, 39.90776075,\n",
              "        28.10672575, 31.22964117, 22.82445035, 29.97196286, 20.35958521],\n",
              "       [21.28297242, 31.62943888, 33.94833418, 33.74522824, 41.83178089,\n",
              "        27.46506529, 32.3157585 , 23.480759  , 30.79790413, 19.88925646],\n",
              "       [20.50867657, 31.31552429, 34.24722759, 34.12743857, 42.36004339,\n",
              "        27.09868107, 32.85166655, 23.31819067, 30.05271777, 20.37564417],\n",
              "       [20.69728973, 31.97140367, 34.9762389 , 34.23366518, 43.13234273,\n",
              "        26.55619886, 32.12634053, 22.65106395, 30.02566648, 21.56408357],\n",
              "       [20.92540984, 31.52380451, 35.08906653, 33.38963062, 40.36259599,\n",
              "        26.30613059, 31.70845177, 22.08652212, 29.54553829, 21.27749234],\n",
              "       [20.15545491, 33.229368  , 35.07940653, 33.36246566, 38.58852792,\n",
              "        26.71178215, 31.16495464, 22.07244924, 29.93251852, 21.44896739],\n",
              "       [20.62177152, 33.89713548, 34.32776891, 32.86195934, 37.25889968,\n",
              "        28.79657996, 31.53516109, 21.8848138 , 29.3857728 , 21.44880043],\n",
              "       [20.26499616, 32.97178649, 33.60974505, 32.06091396, 38.74410709,\n",
              "        29.02059783, 32.73362415, 22.21487181, 29.92620754, 22.25097656],\n",
              "       [20.24081557, 33.53560751, 32.91424427, 31.65696875, 40.13385338,\n",
              "        28.62697164, 32.80393454, 22.13348581, 31.25961311, 21.95903739],\n",
              "       [20.87262612, 33.46158095, 32.46084644, 32.81844702, 38.89113111,\n",
              "        28.31417004, 34.37925694, 22.53133487, 29.12173978, 21.31409154],\n",
              "       [20.58629605, 33.04951358, 32.53950108, 34.26689899, 39.39017894,\n",
              "        28.39143957, 35.45365047, 22.84904838, 30.84793298, 20.96389245],\n",
              "       [20.74914191, 32.44489581, 32.90876688, 34.48336838, 39.76476927,\n",
              "        28.83672195, 35.41902875, 23.28089626, 29.40270211, 21.43898345],\n",
              "       [20.30769874, 32.61802506, 31.39218917, 34.5481423 , 38.59872443,\n",
              "        28.39709553, 33.75971093, 23.93063126, 29.47083051, 21.04074782],\n",
              "       [20.35263191, 34.268715  , 31.16367002, 34.63320104, 38.37169904,\n",
              "        29.36340713, 33.62531277, 24.20356141, 29.31593604, 20.6603942 ],\n",
              "       [20.7592794 , 34.20152802, 31.05147668, 34.13742909, 39.74265345,\n",
              "        29.83925162, 34.28884536, 23.01638608, 29.66779892, 19.83000408],\n",
              "       [20.95954384, 34.83562776, 31.54693095, 32.53425535, 41.0160829 ,\n",
              "        28.88034042, 34.27515769, 22.9456683 , 30.40658521, 20.57371233],\n",
              "       [20.39709745, 34.46217274, 31.37264107, 33.59326399, 40.99285507,\n",
              "        28.10125437, 33.49974036, 23.16263804, 30.13053358, 19.94952503],\n",
              "       [20.12379809, 34.68326861, 33.26460987, 32.8177671 , 41.43742431,\n",
              "        28.43179114, 34.48338606, 24.12883162, 28.99077889, 19.74588734],\n",
              "       [20.65925366, 35.35171533, 32.98156423, 32.20448312, 40.71440694,\n",
              "        29.1946057 , 34.18736248, 24.23177718, 29.1124887 , 19.13948034],\n",
              "       [21.69508309, 35.30521651, 32.41833822, 30.52078455, 40.09654122,\n",
              "        29.33337457, 34.32072535, 24.97031752, 29.31860208, 19.03875598],\n",
              "       [21.42072677, 36.81554384, 32.0175483 , 30.96964836, 40.01707292,\n",
              "        29.04305296, 33.40804146, 24.61852486, 30.09338669, 18.90755175],\n",
              "       [21.3176006 , 36.58288927, 31.16390077, 31.86836076, 40.90746051,\n",
              "        30.49417018, 34.33817174, 25.08794347, 30.13641853, 19.44936544],\n",
              "       [21.90252643, 36.99005572, 31.92318411, 31.2286055 , 39.29654498,\n",
              "        30.97908692, 34.28283432, 25.76740915, 30.09276907, 19.836831  ],\n",
              "       [21.4547232 , 35.1020566 , 31.80592608, 32.20920616, 38.82139216,\n",
              "        30.02279941, 34.49634807, 25.08298181, 30.36403367, 19.57042989],\n",
              "       [21.42304307, 36.3327128 , 32.9262306 , 30.83976405, 39.45706321,\n",
              "        29.99942867, 36.04591542, 25.30890219, 29.72929901, 19.67866162],\n",
              "       [21.40929511, 35.75013815, 33.03214767, 30.68460227, 38.16446646,\n",
              "        29.67168273, 34.49263317, 25.51877068, 29.7898305 , 19.59983362],\n",
              "       [20.82819305, 35.86147667, 34.03609077, 31.10376103, 37.41967894,\n",
              "        29.13082568, 35.78678257, 26.32992794, 28.70142777, 19.58836378],\n",
              "       [20.2658987 , 34.86996871, 35.98179617, 32.33212126, 35.83775677,\n",
              "        29.46174727, 33.45535485, 26.00115587, 28.6309768 , 19.28291286],\n",
              "       [20.50322656, 33.49456684, 35.03913106, 31.50806936, 35.52435446,\n",
              "        31.38808895, 31.84344644, 25.60232947, 28.69406792, 19.98689537],\n",
              "       [21.05593508, 33.47842786, 35.42181094, 31.91875411, 34.28415787,\n",
              "        30.31091204, 32.15126047, 24.6631427 , 28.72699676, 19.69255659],\n",
              "       [20.86987021, 33.50364621, 36.81963863, 31.86250783, 33.14729651,\n",
              "        30.74130009, 30.30281824, 24.36450917, 28.46682392, 19.45244323],\n",
              "       [20.4189955 , 35.02801173, 36.67939361, 31.83392127, 32.57884551,\n",
              "        29.20538539, 30.73628437, 24.63752866, 28.60342567, 19.31983013],\n",
              "       [20.49641729, 35.16961395, 36.58811171, 31.36537899, 34.58181663,\n",
              "        29.24240937, 30.15309966, 25.69071354, 30.12389385, 20.23527372],\n",
              "       [20.41901356, 34.09106774, 35.4461637 , 32.33351269, 33.83266873,\n",
              "        28.51882465, 30.05483399, 25.36169683, 30.11996686, 20.38374067],\n",
              "       [20.79024426, 33.91951276, 35.64540894, 32.30143941, 35.10234391,\n",
              "        28.63455653, 27.91348166, 24.90018576, 30.04600896, 20.48118306],\n",
              "       [20.39251076, 33.43966293, 35.81521893, 34.06239983, 33.94311296,\n",
              "        30.36046904, 27.69595591, 24.92122505, 29.30797375, 20.6293231 ],\n",
              "       [20.7646939 , 35.19439025, 35.63721206, 34.88346965, 34.90419381,\n",
              "        30.37698093, 27.77357508, 25.42319253, 28.66810547, 21.06407248],\n",
              "       [21.20513271, 36.73351354, 34.96163285, 34.98303248, 34.04536596,\n",
              "        30.57196076, 28.28109614, 24.86782337, 29.47089952, 21.80540811],\n",
              "       [21.74915826, 36.22593837, 34.04371808, 35.11964715, 33.45723412,\n",
              "        29.55489083, 27.41368186, 24.81861872, 29.39638474, 21.89265649],\n",
              "       [21.03148551, 37.11988482, 32.96821525, 34.14811108, 32.31237084,\n",
              "        29.77679299, 27.79071416, 25.66858906, 29.60489225, 21.96817849],\n",
              "       [20.56860989, 37.92627078, 33.78986625, 33.69500833, 32.16796643,\n",
              "        28.61469419, 28.85261968, 26.11322088, 29.61032857, 21.08165667],\n",
              "       [20.30078991, 37.1412991 , 33.82338866, 33.86891212, 32.81763385,\n",
              "        27.33244885, 30.0823939 , 25.9382871 , 29.6396741 , 21.36603797],\n",
              "       [19.87661463, 36.18225411, 34.50527151, 34.49862456, 31.84291186,\n",
              "        27.63987071, 30.53936092, 25.67226965, 29.84211818, 21.40058725],\n",
              "       [19.65205815, 35.31271067, 33.99188996, 34.30032109, 31.85824526,\n",
              "        28.94312983, 30.54425172, 25.32145048, 29.88450165, 21.2274151 ],\n",
              "       [20.16871831, 35.58853702, 32.48065221, 34.88289251, 32.33389409,\n",
              "        29.18872701, 32.24304047, 24.40432864, 30.04894262, 21.22320915],\n",
              "       [20.23152058, 35.63669422, 32.27184243, 35.78023271, 32.22428631,\n",
              "        30.54679707, 32.87194701, 25.6407677 , 29.67376111, 20.22967976],\n",
              "       [20.47331545, 34.84650193, 31.12273827, 35.50270057, 33.01600515,\n",
              "        30.71331963, 32.40449839, 25.50350016, 29.88480617, 20.18226762],\n",
              "       [20.12563442, 35.29768485, 30.47352764, 35.60946186, 32.4953553 ,\n",
              "        30.59775352, 32.84399863, 26.16789333, 29.75572467, 20.56608178],\n",
              "       [20.04896637, 35.83276704, 32.15044985, 34.702939  , 32.21213201,\n",
              "        31.08833587, 31.72063816, 26.68052213, 29.14230431, 20.62639503],\n",
              "       [20.20601466, 35.82534803, 31.81875277, 35.22040471, 31.38402472,\n",
              "        30.99474321, 30.98667974, 26.43525439, 28.11975139, 21.41754492],\n",
              "       [21.29056084, 36.04438143, 32.24503439, 35.39776195, 30.27340066,\n",
              "        30.29719773, 32.04751775, 26.11209755, 29.50120067, 20.85930706],\n",
              "       [21.50141088, 36.18778859, 31.37426115, 35.07687629, 31.8103213 ,\n",
              "        30.37122649, 32.32905289, 26.47825346, 29.95347059, 20.43827847],\n",
              "       [21.60642532, 36.54082454, 31.17612707, 35.9122877 , 32.82381173,\n",
              "        30.39669124, 32.04236046, 26.51610008, 30.76473312, 20.85980529],\n",
              "       [21.44740771, 35.44430458, 30.16585546, 37.34776998, 33.34172417,\n",
              "        30.22818873, 33.43083879, 26.73852373, 31.37609467, 21.34885176],\n",
              "       [22.24380135, 35.25360385, 31.06644454, 36.82889776, 33.1206888 ,\n",
              "        30.54517491, 33.78162947, 26.2652936 , 31.65035792, 21.37671066],\n",
              "       [22.13725588, 34.82860175, 31.05679349, 37.62283521, 30.87280283,\n",
              "        31.11184259, 33.75188975, 26.96896088, 32.19590828, 21.58949286]])"
            ]
          },
          "metadata": {
            "tags": []
          },
          "execution_count": 299
        }
      ]
    },
    {
      "cell_type": "code",
      "metadata": {
        "colab": {
          "base_uri": "https://localhost:8080/",
          "height": 548
        },
        "id": "9B7Vj-U-EGbi",
        "outputId": "775a1ba7-223c-4beb-c212-8873b28867d3"
      },
      "source": [
        "plt.figure(figsize=(10,6))\n",
        "plt.plot(price_list)"
      ],
      "execution_count": 300,
      "outputs": [
        {
          "output_type": "execute_result",
          "data": {
            "text/plain": [
              "[<matplotlib.lines.Line2D at 0x7f8553e3f4d0>,\n",
              " <matplotlib.lines.Line2D at 0x7f8553c472d0>,\n",
              " <matplotlib.lines.Line2D at 0x7f8553c47790>,\n",
              " <matplotlib.lines.Line2D at 0x7f8553c7e250>,\n",
              " <matplotlib.lines.Line2D at 0x7f8553c7e150>,\n",
              " <matplotlib.lines.Line2D at 0x7f8553c7ead0>,\n",
              " <matplotlib.lines.Line2D at 0x7f8553c76350>,\n",
              " <matplotlib.lines.Line2D at 0x7f855a1c6950>,\n",
              " <matplotlib.lines.Line2D at 0x7f8553c7e3d0>,\n",
              " <matplotlib.lines.Line2D at 0x7f8553c7e650>]"
            ]
          },
          "metadata": {
            "tags": []
          },
          "execution_count": 300
        },
        {
          "output_type": "display_data",
          "data": {
            "image/png": "[encoded data removed]",
            "text/plain": [
              "<Figure size 720x432 with 1 Axes>"
            ]
          },
          "metadata": {
            "tags": [],
            "needs_background": "light"
          }
        }
      ]
    },
    {
      "cell_type": "code",
      "metadata": {
        "id": "gPzmsvIjEGer"
      },
      "source": [
        ""
      ],
      "execution_count": 300,
      "outputs": []
    },
    {
      "cell_type": "code",
      "metadata": {
        "id": "iptWzDpXEGhc"
      },
      "source": [
        ""
      ],
      "execution_count": 300,
      "outputs": []
    },
    {
      "cell_type": "code",
      "metadata": {
        "id": "y1nxOmg0EGkI"
      },
      "source": [
        ""
      ],
      "execution_count": 300,
      "outputs": []
    }
  ]
}